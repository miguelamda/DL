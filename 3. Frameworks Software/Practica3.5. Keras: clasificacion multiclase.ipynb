{
  "nbformat": 4,
  "nbformat_minor": 0,
  "metadata": {
    "kernelspec": {
      "display_name": "Python 3",
      "language": "python",
      "name": "python3"
    },
    "language_info": {
      "codemirror_mode": {
        "name": "ipython",
        "version": 3
      },
      "file_extension": ".py",
      "mimetype": "text/x-python",
      "name": "python",
      "nbconvert_exporter": "python",
      "pygments_lexer": "ipython3",
      "version": "3.7.3"
    },
    "colab": {
      "name": "Practica3.5. Keras: clasificacion multiclase.ipynb",
      "provenance": [],
      "toc_visible": true,
      "include_colab_link": true
    }
  },
  "cells": [
    {
      "cell_type": "markdown",
      "metadata": {
        "id": "view-in-github",
        "colab_type": "text"
      },
      "source": [
        "<a href=\"https://colab.research.google.com/github/miguelamda/DL/blob/master/3.%20Frameworks%20Software/Practica3.5.%20Keras%3A%20clasificacion%20multiclase.ipynb\" target=\"_parent\"><img src=\"https://colab.research.google.com/assets/colab-badge.svg\" alt=\"Open In Colab\"/></a>"
      ]
    },
    {
      "cell_type": "markdown",
      "metadata": {
        "id": "Vx00wuB0g3ZM"
      },
      "source": [
        "# Práctica 3.5. Clasificación Multiclase"
      ]
    },
    {
      "cell_type": "code",
      "metadata": {
        "colab": {
          "base_uri": "https://localhost:8080/",
          "height": 35
        },
        "id": "X_8IK64sg3ZM",
        "outputId": "35d70628-6abb-4066-84b0-f6aee85e264c"
      },
      "source": [
        "from tensorflow import keras\n",
        "keras.__version__"
      ],
      "execution_count": 1,
      "outputs": [
        {
          "output_type": "execute_result",
          "data": {
            "application/vnd.google.colaboratory.intrinsic+json": {
              "type": "string"
            },
            "text/plain": [
              "'2.4.0'"
            ]
          },
          "metadata": {
            "tags": []
          },
          "execution_count": 1
        }
      ]
    },
    {
      "cell_type": "markdown",
      "metadata": {
        "id": "Cjy55_5Hg3ZN"
      },
      "source": [
        "En este ejemplo vamos a construir una red para clasificar las noticias de Reuters según una clasificación que contiene 46 temas (topics) disjuntos. Por ello, estamos ante un problema de **Clasificación Multi-Clase** (concretamente, de etiqueta única, porque cada ejemplo solo puede ser asignado a una de las clases, tal y como vimos con MNIST).\n",
        "\n",
        "El problema analizado es muy similar al que ya hemos visto de opiniones de IMDB, por lo que profundizaremos únicamente en aquellas fases que lo diferencian."
      ]
    },
    {
      "cell_type": "markdown",
      "metadata": {
        "id": "UhJqKK3Kg3ZN"
      },
      "source": [
        "## 1. El dataset de Reuters\n",
        "\n",
        "Vamos a trabajar sobre el *dataset de Reuters*, un conjunto de noticias cortas clasificadas por temática (topics), que publicó la empresa de noticias Reuters en 1986 y que se ha usado ampliamente como ejemplo en problemas de clasificación. Este dataset hace uso de 46 temas (topics) distintos, algunos con más representación que otros, pero en el que, al menos, cada topic etiqueta 10 noticias del conjunto de entrenamiento.\n",
        "\n",
        "Este datset también viene empaquetado en Keras y su carga es directa y similar a las que hemos realizado en los ejemplos anteriores:"
      ]
    },
    {
      "cell_type": "code",
      "metadata": {
        "id": "j-IbjzCog3ZN"
      },
      "source": [
        "from keras.datasets import reuters\n",
        "\n",
        "(train_data, train_labels), (test_data, test_labels) = reuters.load_data(num_words=10000)"
      ],
      "execution_count": 2,
      "outputs": []
    },
    {
      "cell_type": "markdown",
      "metadata": {
        "id": "CM9v3qefg3ZN"
      },
      "source": [
        "\n",
        "Tenemos 8.982 ejemplos de entrenamiento y 2.246 ejemplos de test:\n"
      ]
    },
    {
      "cell_type": "code",
      "metadata": {
        "colab": {
          "base_uri": "https://localhost:8080/"
        },
        "id": "LsYAkd9Qg3ZN",
        "outputId": "57b24af7-f452-4b96-9063-1cd569fcb855"
      },
      "source": [
        "len(train_data)"
      ],
      "execution_count": 3,
      "outputs": [
        {
          "output_type": "execute_result",
          "data": {
            "text/plain": [
              "8982"
            ]
          },
          "metadata": {
            "tags": []
          },
          "execution_count": 3
        }
      ]
    },
    {
      "cell_type": "code",
      "metadata": {
        "colab": {
          "base_uri": "https://localhost:8080/"
        },
        "id": "DWB17OqDg3ZN",
        "outputId": "f753020c-1225-4e4e-d073-ad7ed035e30f"
      },
      "source": [
        "len(test_data)"
      ],
      "execution_count": 4,
      "outputs": [
        {
          "output_type": "execute_result",
          "data": {
            "text/plain": [
              "2246"
            ]
          },
          "metadata": {
            "tags": []
          },
          "execution_count": 4
        }
      ]
    },
    {
      "cell_type": "markdown",
      "metadata": {
        "id": "cSATj1Iqg3ZO"
      },
      "source": [
        "Al igual que en el caso de IMDB, los ejemplos son listas de enteros que representan índices de palabras de un diccionario:\n"
      ]
    },
    {
      "cell_type": "code",
      "metadata": {
        "colab": {
          "base_uri": "https://localhost:8080/"
        },
        "id": "XjbxPd0cg3ZO",
        "outputId": "22120d1d-b9da-4471-a213-61ca0f4ec89d"
      },
      "source": [
        "train_data[10]"
      ],
      "execution_count": 5,
      "outputs": [
        {
          "output_type": "execute_result",
          "data": {
            "text/plain": [
              "[1,\n",
              " 245,\n",
              " 273,\n",
              " 207,\n",
              " 156,\n",
              " 53,\n",
              " 74,\n",
              " 160,\n",
              " 26,\n",
              " 14,\n",
              " 46,\n",
              " 296,\n",
              " 26,\n",
              " 39,\n",
              " 74,\n",
              " 2979,\n",
              " 3554,\n",
              " 14,\n",
              " 46,\n",
              " 4689,\n",
              " 4329,\n",
              " 86,\n",
              " 61,\n",
              " 3499,\n",
              " 4795,\n",
              " 14,\n",
              " 61,\n",
              " 451,\n",
              " 4329,\n",
              " 17,\n",
              " 12]"
            ]
          },
          "metadata": {
            "tags": []
          },
          "execution_count": 5
        }
      ]
    },
    {
      "cell_type": "markdown",
      "metadata": {
        "id": "C1VAdZnYg3ZO"
      },
      "source": [
        "Que podemos decodificar de forma completamente análoga a como lo hicimos con IMDB:\n"
      ]
    },
    {
      "cell_type": "code",
      "metadata": {
        "id": "AqQ5If09g3ZO"
      },
      "source": [
        "word_index = reuters.get_word_index()\n",
        "reverse_word_index = dict([(value, key) for (key, value) in word_index.items()])\n",
        "# Observa que nuestros índices tienen un offset de 3\n",
        "# porque 0, 1 y 2 son índices reservados para \"padding\", \"start of sequence\", y \"unknown\".\n",
        "decoded_newswire = ' '.join([reverse_word_index.get(i - 3, '?') for i in train_data[0]])"
      ],
      "execution_count": 6,
      "outputs": []
    },
    {
      "cell_type": "code",
      "metadata": {
        "colab": {
          "base_uri": "https://localhost:8080/",
          "height": 52
        },
        "id": "-ueE5m7bg3ZO",
        "outputId": "8219e0c5-0c45-48d3-90c5-6a821560f7eb"
      },
      "source": [
        "decoded_newswire"
      ],
      "execution_count": 7,
      "outputs": [
        {
          "output_type": "execute_result",
          "data": {
            "application/vnd.google.colaboratory.intrinsic+json": {
              "type": "string"
            },
            "text/plain": [
              "'? ? ? said as a result of its december acquisition of space co it expects earnings per share in 1987 of 1 15 to 1 30 dlrs per share up from 70 cts in 1986 the company said pretax net should rise to nine to 10 mln dlrs from six mln dlrs in 1986 and rental operation revenues to 19 to 22 mln dlrs from 12 5 mln dlrs it said cash flow per share this year should be 2 50 to three dlrs reuter 3'"
            ]
          },
          "metadata": {
            "tags": []
          },
          "execution_count": 7
        }
      ]
    },
    {
      "cell_type": "markdown",
      "metadata": {
        "id": "GV9HwT8hg3ZO"
      },
      "source": [
        "La etiqueta asociada a una noticia es un entero entre 0 y 45, que representa el índice de un topic.\n"
      ]
    },
    {
      "cell_type": "code",
      "metadata": {
        "colab": {
          "base_uri": "https://localhost:8080/"
        },
        "id": "Xpn8GOgyg3ZO",
        "outputId": "a34a42d1-9dc8-429c-9e7b-18a44d312655"
      },
      "source": [
        "train_labels[10]"
      ],
      "execution_count": 8,
      "outputs": [
        {
          "output_type": "execute_result",
          "data": {
            "text/plain": [
              "3"
            ]
          },
          "metadata": {
            "tags": []
          },
          "execution_count": 8
        }
      ]
    },
    {
      "cell_type": "markdown",
      "metadata": {
        "id": "JsJ8Wartg3ZO"
      },
      "source": [
        "## 2. Preparando los datos\n",
        "\n",
        "Usamos exactamente las mismas funciones para vectorizar los datos como en la práctica con IMBD, y prepararlos así como entrada a la red neuronal:"
      ]
    },
    {
      "cell_type": "code",
      "metadata": {
        "id": "x7DQfl-rg3ZO"
      },
      "source": [
        "import numpy as np\n",
        "\n",
        "def vectorize_sequences(sequences, dimension=10000):\n",
        "    results = np.zeros((len(sequences), dimension))\n",
        "    for i, sequence in enumerate(sequences):\n",
        "        results[i, sequence] = 1.\n",
        "    return results\n",
        "\n",
        "# vectorizamos training data\n",
        "x_train = vectorize_sequences(train_data)\n",
        "# vectorizamos test data\n",
        "x_test = vectorize_sequences(test_data)"
      ],
      "execution_count": 9,
      "outputs": []
    },
    {
      "cell_type": "markdown",
      "metadata": {
        "id": "mUaQyGpsg3ZO"
      },
      "source": [
        "\n",
        "La diferencia principal ahora es que antes estas etiquetas eran binarias y ahora son números enteros. Podríamos tratarlas como enteros (tensores escalares) o bien hacer una codificación _one-hot_ tal y como hicimos antes, que será la opción que tomemos siguiendo un patrón similar al realizado para las vectorizaciones anteriores (aunque, en este caso, como cada noticia solo puede tener asociado un tema, los vectores tendrán solo un 1 y todo lo demás 0s):\n"
      ]
    },
    {
      "cell_type": "code",
      "metadata": {
        "id": "4Mo4lqs5g3ZO"
      },
      "source": [
        "def to_one_hot(labels, dimension=46):\n",
        "    results = np.zeros((len(labels), dimension))\n",
        "    for i, label in enumerate(labels):\n",
        "        results[i, label] = 1.\n",
        "    return results\n",
        "\n",
        "# vectorizamos training labels\n",
        "one_hot_train_labels = to_one_hot(train_labels)\n",
        "# vectorizamos test labels\n",
        "one_hot_test_labels = to_one_hot(test_labels)"
      ],
      "execution_count": 10,
      "outputs": []
    },
    {
      "cell_type": "markdown",
      "metadata": {
        "id": "Wr80JWRog3ZO"
      },
      "source": [
        "Esta tarea es tan común que hay una función de Keras que realiza ya esta labor, y que vimos en el primer ejemplo que estudiamos de MNIST. Su resultado es exactamente el mismo que el de la función anterior:\n"
      ]
    },
    {
      "cell_type": "code",
      "metadata": {
        "id": "nAvv8iPog3ZO"
      },
      "source": [
        "from keras.utils.np_utils import to_categorical\n",
        "\n",
        "one_hot_train_labels = to_categorical(train_labels)\n",
        "one_hot_test_labels = to_categorical(test_labels)"
      ],
      "execution_count": 11,
      "outputs": []
    },
    {
      "cell_type": "markdown",
      "metadata": {
        "id": "a1jg5Umag3ZO"
      },
      "source": [
        "## 3. Construyendo la red\n",
        "\n",
        "Como ahora la salida debe tener 46 unidades, no tiene sentido comprimir las capas anteriores a 16 unidades, ya que estaríamos creando un cuello de botella en esa parte de la red, así que trabajaremos con 2 capas densas de 64 unidades, y una capa densa de salida con 46 unidades (una por cada posible topic) pero de activación `softmax`:"
      ]
    },
    {
      "cell_type": "code",
      "metadata": {
        "colab": {
          "base_uri": "https://localhost:8080/",
          "height": 422
        },
        "id": "8D00Ulzng3ZO",
        "outputId": "b2be5db6-d06e-46b8-bd95-b689c490a613"
      },
      "source": [
        "from keras import models\n",
        "from keras import layers\n",
        "from keras.utils.vis_utils import plot_model\n",
        "\n",
        "red = models.Sequential()\n",
        "red.add(layers.Dense(64, activation='relu', input_shape=(10000,)))\n",
        "red.add(layers.Dense(64, activation='relu'))\n",
        "red.add(layers.Dense(46, activation='softmax'))\n",
        "\n",
        "plot_model(red, to_file='ReutersModel_plot.png', show_shapes=True, show_layer_names=True)"
      ],
      "execution_count": 12,
      "outputs": [
        {
          "output_type": "execute_result",
          "data": {
            "image/png": "[encoded data removed]",
            "text/plain": [
              "<IPython.core.display.Image object>"
            ]
          },
          "metadata": {
            "tags": []
          },
          "execution_count": 12
        }
      ]
    },
    {
      "cell_type": "markdown",
      "metadata": {
        "id": "CTSYNcmxg3ZO"
      },
      "source": [
        "En caso de que no consigas visualizar la red, aquí tienes el resultado esperado:\n",
        "\n",
        "![](https://github.com/miguelamda/DL/blob/master/3.%20Frameworks%20Software/imgs/ReutersModel_plot.png?raw=1)\n",
        "\n",
        "Destaquemos las diferencias que podemos encontrar respecto al caso anterior:\n",
        "\n",
        "* La red acaba con una capa densa de 46 unidades, de forma que la salida será un vector de tamaño 46, uno por cada posible clase de salida.\n",
        "\n",
        "* La última capa usa activación `softmax`, lo que significa que la salida se podrá interpretar como una *distribución de probabilidad* sobre las diferentes clases de salida (un vector positivo de tamaño 46 y que suma 1).\n",
        "\n",
        "Siguiendo un razonamiento similar al caso del IMDB, la función de pérdida adecuada en este caso es `categorical_crossentropy` (similar, pero para el caso no binario/multi-clase):"
      ]
    },
    {
      "cell_type": "code",
      "metadata": {
        "id": "6YtoX9Psg3ZO"
      },
      "source": [
        "red.compile(optimizer='rmsprop',\n",
        "              loss='categorical_crossentropy',\n",
        "              metrics=['accuracy'])"
      ],
      "execution_count": 13,
      "outputs": []
    },
    {
      "cell_type": "markdown",
      "metadata": {
        "id": "SA7atPgng3ZO"
      },
      "source": [
        "## 4. Validando el modelo\n",
        "\n",
        "Al igual que antes, vamos a separar 1.000 muestras del conjunto de entrenamiento para formar un conjunto de validación que nos servirá para evaluar cómo funciona el modelo a medida que va aprendiendo (y controlar, por ejemplo, el *overfitting*):"
      ]
    },
    {
      "cell_type": "code",
      "metadata": {
        "id": "VlzFk_Ofg3ZO"
      },
      "source": [
        "x_val = x_train[:1000]\n",
        "partial_x_train = x_train[1000:]\n",
        "\n",
        "y_val = one_hot_train_labels[:1000]\n",
        "partial_y_train = one_hot_train_labels[1000:]"
      ],
      "execution_count": 14,
      "outputs": []
    },
    {
      "cell_type": "markdown",
      "metadata": {
        "id": "QYA4sUk_g3ZO"
      },
      "source": [
        "Ahora entrenemos el modelo con 20 epochs, usando el conjunto de validación para tener información adicional de cómo evoluciona:\n"
      ]
    },
    {
      "cell_type": "code",
      "metadata": {
        "colab": {
          "base_uri": "https://localhost:8080/"
        },
        "id": "ioYEhcZJg3ZO",
        "outputId": "d7f3eddf-51f3-43a9-ae5f-9d3dd022f0fd"
      },
      "source": [
        "entrenamiento = red.fit(partial_x_train,\n",
        "                    partial_y_train,\n",
        "                    epochs=20,\n",
        "                    batch_size=512,\n",
        "                    validation_data=(x_val, y_val))"
      ],
      "execution_count": 15,
      "outputs": [
        {
          "output_type": "stream",
          "text": [
            "Epoch 1/20\n",
            "16/16 [==============================] - 1s 54ms/step - loss: 2.6594 - accuracy: 0.5099 - val_loss: 1.7222 - val_accuracy: 0.6290\n",
            "Epoch 2/20\n",
            "16/16 [==============================] - 1s 44ms/step - loss: 1.4048 - accuracy: 0.7048 - val_loss: 1.2767 - val_accuracy: 0.7160\n",
            "Epoch 3/20\n",
            "16/16 [==============================] - 1s 43ms/step - loss: 1.0221 - accuracy: 0.7825 - val_loss: 1.0964 - val_accuracy: 0.7630\n",
            "Epoch 4/20\n",
            "16/16 [==============================] - 1s 43ms/step - loss: 0.8010 - accuracy: 0.8260 - val_loss: 0.9985 - val_accuracy: 0.7880\n",
            "Epoch 5/20\n",
            "16/16 [==============================] - 1s 43ms/step - loss: 0.6301 - accuracy: 0.8672 - val_loss: 0.9493 - val_accuracy: 0.8040\n",
            "Epoch 6/20\n",
            "16/16 [==============================] - 1s 43ms/step - loss: 0.5032 - accuracy: 0.8971 - val_loss: 0.8905 - val_accuracy: 0.8110\n",
            "Epoch 7/20\n",
            "16/16 [==============================] - 1s 43ms/step - loss: 0.4118 - accuracy: 0.9126 - val_loss: 0.8836 - val_accuracy: 0.8110\n",
            "Epoch 8/20\n",
            "16/16 [==============================] - 1s 42ms/step - loss: 0.3325 - accuracy: 0.9302 - val_loss: 0.8770 - val_accuracy: 0.8180\n",
            "Epoch 9/20\n",
            "16/16 [==============================] - 1s 43ms/step - loss: 0.2772 - accuracy: 0.9387 - val_loss: 0.8816 - val_accuracy: 0.8200\n",
            "Epoch 10/20\n",
            "16/16 [==============================] - 1s 43ms/step - loss: 0.2343 - accuracy: 0.9460 - val_loss: 0.8880 - val_accuracy: 0.8110\n",
            "Epoch 11/20\n",
            "16/16 [==============================] - 1s 43ms/step - loss: 0.2036 - accuracy: 0.9481 - val_loss: 0.9169 - val_accuracy: 0.8120\n",
            "Epoch 12/20\n",
            "16/16 [==============================] - 1s 42ms/step - loss: 0.1805 - accuracy: 0.9524 - val_loss: 0.9196 - val_accuracy: 0.8120\n",
            "Epoch 13/20\n",
            "16/16 [==============================] - 1s 42ms/step - loss: 0.1617 - accuracy: 0.9533 - val_loss: 0.9477 - val_accuracy: 0.8070\n",
            "Epoch 14/20\n",
            "16/16 [==============================] - 1s 45ms/step - loss: 0.1504 - accuracy: 0.9558 - val_loss: 0.9500 - val_accuracy: 0.8200\n",
            "Epoch 15/20\n",
            "16/16 [==============================] - 1s 42ms/step - loss: 0.1386 - accuracy: 0.9553 - val_loss: 0.9677 - val_accuracy: 0.8160\n",
            "Epoch 16/20\n",
            "16/16 [==============================] - 1s 43ms/step - loss: 0.1310 - accuracy: 0.9575 - val_loss: 0.9694 - val_accuracy: 0.8150\n",
            "Epoch 17/20\n",
            "16/16 [==============================] - 1s 43ms/step - loss: 0.1294 - accuracy: 0.9546 - val_loss: 0.9984 - val_accuracy: 0.8050\n",
            "Epoch 18/20\n",
            "16/16 [==============================] - 1s 44ms/step - loss: 0.1211 - accuracy: 0.9565 - val_loss: 0.9893 - val_accuracy: 0.8140\n",
            "Epoch 19/20\n",
            "16/16 [==============================] - 1s 43ms/step - loss: 0.1139 - accuracy: 0.9570 - val_loss: 1.0308 - val_accuracy: 0.8070\n",
            "Epoch 20/20\n",
            "16/16 [==============================] - 1s 42ms/step - loss: 0.1118 - accuracy: 0.9580 - val_loss: 1.0752 - val_accuracy: 0.7990\n"
          ],
          "name": "stdout"
        }
      ]
    },
    {
      "cell_type": "markdown",
      "metadata": {
        "id": "OduU28Rjg3ZO"
      },
      "source": [
        "Podemos mostrar las curvas de pérdida y accuracy en los datos de entrenamiento y validación::\n"
      ]
    },
    {
      "cell_type": "code",
      "metadata": {
        "colab": {
          "base_uri": "https://localhost:8080/",
          "height": 295
        },
        "id": "nNxd1ejsg3ZO",
        "outputId": "d2fa8b6a-d76f-4292-e413-c0a62414ea81"
      },
      "source": [
        "import matplotlib.pyplot as plt\n",
        "\n",
        "ent_loss = entrenamiento.history['loss']\n",
        "val_loss = entrenamiento.history['val_loss']\n",
        "\n",
        "epochs = range(1, len(ent_loss) + 1)\n",
        "\n",
        "plt.plot(epochs, ent_loss, 'bo', label='Entrenamiento')\n",
        "plt.plot(epochs, val_loss, 'b', label='Validación')\n",
        "plt.title('Pérdida en Entrenamiento y Validación')\n",
        "plt.xlabel('Epochs')\n",
        "plt.ylabel('Pérdida')\n",
        "plt.legend()\n",
        "\n",
        "plt.show()"
      ],
      "execution_count": 16,
      "outputs": [
        {
          "output_type": "display_data",
          "data": {
            "image/png": "[encoded data removed]",
            "text/plain": [
              "<Figure size 432x288 with 1 Axes>"
            ]
          },
          "metadata": {
            "tags": [],
            "needs_background": "light"
          }
        }
      ]
    },
    {
      "cell_type": "code",
      "metadata": {
        "colab": {
          "base_uri": "https://localhost:8080/",
          "height": 295
        },
        "id": "0H2v4UYFg3ZO",
        "outputId": "0eb90b23-c079-4b65-fde7-54d686feafa6"
      },
      "source": [
        "plt.clf()   # limpia la figura\n",
        "\n",
        "ent_acc = entrenamiento.history['accuracy']\n",
        "val_acc = entrenamiento.history['val_accuracy']\n",
        "\n",
        "plt.plot(epochs, ent_acc, 'bo', label='Entrenamiento')\n",
        "plt.plot(epochs, val_acc, 'b', label='Validación')\n",
        "plt.title('Accuracy en Entrenamiento y Validación')\n",
        "plt.xlabel('Epochs')\n",
        "plt.ylabel('Accuracy')\n",
        "plt.legend()\n",
        "\n",
        "plt.show()"
      ],
      "execution_count": 17,
      "outputs": [
        {
          "output_type": "display_data",
          "data": {
            "image/png": "[encoded data removed]",
            "text/plain": [
              "<Figure size 432x288 with 1 Axes>"
            ]
          },
          "metadata": {
            "tags": [],
            "needs_background": "light"
          }
        }
      ]
    },
    {
      "cell_type": "markdown",
      "metadata": {
        "id": "AZ_-ulYVg3ZO"
      },
      "source": [
        "Que nos muestran que el modelo comienza a sobreajustar a partir de la 9ª epoch, por lo que entrenaremos un modelo limpio solo durante 9 epochs, y mediremos su rendimiento con los datos de test:\n"
      ]
    },
    {
      "cell_type": "code",
      "metadata": {
        "colab": {
          "base_uri": "https://localhost:8080/"
        },
        "id": "AcFKNAoHg3ZO",
        "outputId": "286f83bb-e292-406b-a5eb-eab821c16e81"
      },
      "source": [
        "red2 = models.Sequential()\n",
        "red2.add(layers.Dense(64, activation='relu', input_shape=(10000,)))\n",
        "red2.add(layers.Dense(64, activation='relu'))\n",
        "red2.add(layers.Dense(46, activation='softmax'))\n",
        "\n",
        "red2.compile(optimizer='rmsprop',\n",
        "              loss='categorical_crossentropy',\n",
        "              metrics=['accuracy'])\n",
        "red2.fit(partial_x_train,\n",
        "          partial_y_train,\n",
        "          epochs=8,\n",
        "          batch_size=512,\n",
        "          validation_data=(x_val, y_val))\n",
        "results = red2.evaluate(x_test, one_hot_test_labels)"
      ],
      "execution_count": 18,
      "outputs": [
        {
          "output_type": "stream",
          "text": [
            "Epoch 1/8\n",
            "16/16 [==============================] - 1s 52ms/step - loss: 2.6115 - accuracy: 0.5407 - val_loss: 1.7378 - val_accuracy: 0.6550\n",
            "Epoch 2/8\n",
            "16/16 [==============================] - 1s 44ms/step - loss: 1.4445 - accuracy: 0.7100 - val_loss: 1.3118 - val_accuracy: 0.7180\n",
            "Epoch 3/8\n",
            "16/16 [==============================] - 1s 43ms/step - loss: 1.0744 - accuracy: 0.7745 - val_loss: 1.1554 - val_accuracy: 0.7510\n",
            "Epoch 4/8\n",
            "16/16 [==============================] - 1s 44ms/step - loss: 0.8493 - accuracy: 0.8197 - val_loss: 1.0515 - val_accuracy: 0.7770\n",
            "Epoch 5/8\n",
            "16/16 [==============================] - 1s 42ms/step - loss: 0.6803 - accuracy: 0.8552 - val_loss: 1.0076 - val_accuracy: 0.7720\n",
            "Epoch 6/8\n",
            "16/16 [==============================] - 1s 44ms/step - loss: 0.5487 - accuracy: 0.8869 - val_loss: 0.9547 - val_accuracy: 0.8020\n",
            "Epoch 7/8\n",
            "16/16 [==============================] - 1s 43ms/step - loss: 0.4383 - accuracy: 0.9100 - val_loss: 0.9240 - val_accuracy: 0.8120\n",
            "Epoch 8/8\n",
            "16/16 [==============================] - 1s 43ms/step - loss: 0.3588 - accuracy: 0.9251 - val_loss: 0.9284 - val_accuracy: 0.8130\n",
            "71/71 [==============================] - 0s 2ms/step - loss: 1.0248 - accuracy: 0.7707\n"
          ],
          "name": "stdout"
        }
      ]
    },
    {
      "cell_type": "code",
      "metadata": {
        "colab": {
          "base_uri": "https://localhost:8080/"
        },
        "id": "X7SX16vng3ZO",
        "outputId": "ef65de46-407e-4228-bd05-6aedab3b0f5d"
      },
      "source": [
        "results"
      ],
      "execution_count": 19,
      "outputs": [
        {
          "output_type": "execute_result",
          "data": {
            "text/plain": [
              "[1.0248438119888306, 0.7707034945487976]"
            ]
          },
          "metadata": {
            "tags": []
          },
          "execution_count": 19
        }
      ]
    },
    {
      "cell_type": "markdown",
      "metadata": {
        "id": "QOgfj02ig3ZP"
      },
      "source": [
        "\n",
        "El modelo obtenido consigue una accuracy de ~77%. Si la clasificación fuera binaria y estuviera balanceada, un calsificador aleatorio alcanzaría un 50%, pero al ser multi-clase en este caso uno aleatorio esperaría no más del 19%, por lo no lo hace nada mal:\n"
      ]
    },
    {
      "cell_type": "code",
      "metadata": {
        "colab": {
          "base_uri": "https://localhost:8080/"
        },
        "id": "CJphaAsjg3ZP",
        "outputId": "6ff04ad3-4a33-407d-c344-0a0f857b1f20"
      },
      "source": [
        "import copy\n",
        "\n",
        "# probamos cómo lo haría un clasificador completamente aleatorio\n",
        "test_labels_copy = copy.copy(test_labels)\n",
        "np.random.shuffle(test_labels_copy)\n",
        "float(np.sum(np.array(test_labels) == np.array(test_labels_copy))) / len(test_labels)"
      ],
      "execution_count": 20,
      "outputs": [
        {
          "output_type": "execute_result",
          "data": {
            "text/plain": [
              "0.19545859305431879"
            ]
          },
          "metadata": {
            "tags": []
          },
          "execution_count": 20
        }
      ]
    },
    {
      "cell_type": "markdown",
      "metadata": {
        "id": "XM691YXRg3ZP"
      },
      "source": [
        "## 5. Predicciones en nuevos datos\n",
        "\n",
        "Usando el método `predict` podemos ver cómo nuestro modelo funciona sobre datos no vistos. Por ejemplo, si trabajamos sobre los datos de test:"
      ]
    },
    {
      "cell_type": "code",
      "metadata": {
        "id": "Jk8lCTljg3ZP"
      },
      "source": [
        "predictions = red2.predict(x_test)"
      ],
      "execution_count": 21,
      "outputs": []
    },
    {
      "cell_type": "markdown",
      "metadata": {
        "id": "ErApEWVfg3ZP"
      },
      "source": [
        "Podemos comprobar que cada entrada de `predictions` es un vector de longitud 46:\n"
      ]
    },
    {
      "cell_type": "code",
      "metadata": {
        "colab": {
          "base_uri": "https://localhost:8080/"
        },
        "id": "vzAMJnFag3ZP",
        "outputId": "ba834361-4d09-4885-a6a4-5cb57b96a143"
      },
      "source": [
        "predictions[0].shape"
      ],
      "execution_count": 22,
      "outputs": [
        {
          "output_type": "execute_result",
          "data": {
            "text/plain": [
              "(46,)"
            ]
          },
          "metadata": {
            "tags": []
          },
          "execution_count": 22
        }
      ]
    },
    {
      "cell_type": "markdown",
      "metadata": {
        "id": "lWAs9XEqg3ZP"
      },
      "source": [
        "Cuyos coeficientes suman 1:\n"
      ]
    },
    {
      "cell_type": "code",
      "metadata": {
        "colab": {
          "base_uri": "https://localhost:8080/"
        },
        "id": "L2W-8c4ag3ZP",
        "outputId": "92774a87-442a-4ba1-a04f-c440fde5cb15"
      },
      "source": [
        "np.sum(predictions[0])"
      ],
      "execution_count": 23,
      "outputs": [
        {
          "output_type": "execute_result",
          "data": {
            "text/plain": [
              "1.0"
            ]
          },
          "metadata": {
            "tags": []
          },
          "execution_count": 23
        }
      ]
    },
    {
      "cell_type": "markdown",
      "metadata": {
        "id": "JQzbHDlCg3ZP"
      },
      "source": [
        "Y donde el mayor valor indica la predicción del modelo (la mayor probabilidad):\n"
      ]
    },
    {
      "cell_type": "code",
      "metadata": {
        "colab": {
          "base_uri": "https://localhost:8080/"
        },
        "id": "zErzdptxg3ZP",
        "outputId": "d55ee99a-d1ae-40a3-c5da-2dd628d8c80e"
      },
      "source": [
        "np.argmax(predictions[0])"
      ],
      "execution_count": 24,
      "outputs": [
        {
          "output_type": "execute_result",
          "data": {
            "text/plain": [
              "3"
            ]
          },
          "metadata": {
            "tags": []
          },
          "execution_count": 24
        }
      ]
    },
    {
      "cell_type": "markdown",
      "metadata": {
        "id": "A_wgaegdg3ZP"
      },
      "source": [
        "## 6. Salidas Categóricas Discretas\n",
        "\n",
        "Si hubiéramos decidido manejar las etiquetas directamente como valores enteros, entonces hubiera sido conveniente cambiar de función de pérdida de `categorical_crossentropy` a `sparse_categorical_crossentropy`. Esta función de pérdida está preparada para medir errores cuando las salidas son categóricas (no en one-hot encoding):"
      ]
    },
    {
      "cell_type": "code",
      "metadata": {
        "colab": {
          "base_uri": "https://localhost:8080/"
        },
        "id": "2eJrnHOXg3ZP",
        "outputId": "7634a618-a956-427e-a2dc-4027aa255c88"
      },
      "source": [
        "y_train = np.array(train_labels)\n",
        "y_test = np.array(test_labels)\n",
        "y_train[:10]"
      ],
      "execution_count": 25,
      "outputs": [
        {
          "output_type": "execute_result",
          "data": {
            "text/plain": [
              "array([ 3,  4,  3,  4,  4,  4,  4,  3,  3, 16])"
            ]
          },
          "metadata": {
            "tags": []
          },
          "execution_count": 25
        }
      ]
    },
    {
      "cell_type": "code",
      "metadata": {
        "id": "XRpINgK8g3ZP"
      },
      "source": [
        "red2.compile(optimizer='rmsprop', loss='sparse_categorical_crossentropy', metrics=['acc'])"
      ],
      "execution_count": 26,
      "outputs": []
    },
    {
      "cell_type": "markdown",
      "metadata": {
        "id": "xSY9XhYTg3ZP"
      },
      "source": [
        "En realidad, es la misma función que antes, pero con transformaciones internas para manejar valores enteros.\n"
      ]
    },
    {
      "cell_type": "markdown",
      "metadata": {
        "id": "jU1l_3cQg3ZP"
      },
      "source": [
        "## 7. Tamaño de las capas intermedias\n",
        "\n",
        "Podemos hacer el experimento de ver qué pasaría si trabajáramos con capas intermedias que producen cuellos de botella a la información que se transmite a lo largo de la red. Por ejemplo, si la segunda capa la cambiamos a 4 unidades:"
      ]
    },
    {
      "cell_type": "code",
      "metadata": {
        "colab": {
          "base_uri": "https://localhost:8080/"
        },
        "id": "0LLLMHcPg3ZP",
        "outputId": "4ef0d42e-db16-430d-9ec4-76e51a5b2749"
      },
      "source": [
        "red3 = models.Sequential()\n",
        "red3.add(layers.Dense(64, activation='relu', input_shape=(10000,)))\n",
        "red3.add(layers.Dense(4, activation='relu'))\n",
        "red3.add(layers.Dense(46, activation='softmax'))\n",
        "\n",
        "red3.compile(optimizer='rmsprop',\n",
        "              loss='categorical_crossentropy',\n",
        "              metrics=['accuracy'])\n",
        "red3.fit(partial_x_train,\n",
        "          partial_y_train,\n",
        "          epochs=20,\n",
        "          batch_size=128,\n",
        "          validation_data=(x_val, y_val))"
      ],
      "execution_count": 27,
      "outputs": [
        {
          "output_type": "stream",
          "text": [
            "Epoch 1/20\n",
            "63/63 [==============================] - 1s 18ms/step - loss: 2.7324 - accuracy: 0.2335 - val_loss: 1.9759 - val_accuracy: 0.4530\n",
            "Epoch 2/20\n",
            "63/63 [==============================] - 1s 16ms/step - loss: 1.6907 - accuracy: 0.5588 - val_loss: 1.5745 - val_accuracy: 0.5900\n",
            "Epoch 3/20\n",
            "63/63 [==============================] - 1s 16ms/step - loss: 1.3751 - accuracy: 0.6431 - val_loss: 1.4444 - val_accuracy: 0.6510\n",
            "Epoch 4/20\n",
            "63/63 [==============================] - 1s 16ms/step - loss: 1.1917 - accuracy: 0.6878 - val_loss: 1.3500 - val_accuracy: 0.6630\n",
            "Epoch 5/20\n",
            "63/63 [==============================] - 1s 16ms/step - loss: 1.0565 - accuracy: 0.7161 - val_loss: 1.3155 - val_accuracy: 0.6950\n",
            "Epoch 6/20\n",
            "63/63 [==============================] - 1s 16ms/step - loss: 0.9494 - accuracy: 0.7616 - val_loss: 1.3052 - val_accuracy: 0.6980\n",
            "Epoch 7/20\n",
            "63/63 [==============================] - 1s 16ms/step - loss: 0.8626 - accuracy: 0.7786 - val_loss: 1.3308 - val_accuracy: 0.6990\n",
            "Epoch 8/20\n",
            "63/63 [==============================] - 1s 16ms/step - loss: 0.7915 - accuracy: 0.7907 - val_loss: 1.3002 - val_accuracy: 0.6990\n",
            "Epoch 9/20\n",
            "63/63 [==============================] - 1s 16ms/step - loss: 0.7331 - accuracy: 0.7987 - val_loss: 1.3359 - val_accuracy: 0.7080\n",
            "Epoch 10/20\n",
            "63/63 [==============================] - 1s 16ms/step - loss: 0.6822 - accuracy: 0.8128 - val_loss: 1.3467 - val_accuracy: 0.7110\n",
            "Epoch 11/20\n",
            "63/63 [==============================] - 1s 16ms/step - loss: 0.6395 - accuracy: 0.8224 - val_loss: 1.4061 - val_accuracy: 0.7120\n",
            "Epoch 12/20\n",
            "63/63 [==============================] - 1s 16ms/step - loss: 0.6008 - accuracy: 0.8275 - val_loss: 1.4137 - val_accuracy: 0.7030\n",
            "Epoch 13/20\n",
            "63/63 [==============================] - 1s 16ms/step - loss: 0.5678 - accuracy: 0.8319 - val_loss: 1.4731 - val_accuracy: 0.7060\n",
            "Epoch 14/20\n",
            "63/63 [==============================] - 1s 16ms/step - loss: 0.5417 - accuracy: 0.8366 - val_loss: 1.5234 - val_accuracy: 0.7100\n",
            "Epoch 15/20\n",
            "63/63 [==============================] - 1s 16ms/step - loss: 0.5153 - accuracy: 0.8464 - val_loss: 1.5698 - val_accuracy: 0.7100\n",
            "Epoch 16/20\n",
            "63/63 [==============================] - 1s 16ms/step - loss: 0.4930 - accuracy: 0.8543 - val_loss: 1.5701 - val_accuracy: 0.7090\n",
            "Epoch 17/20\n",
            "63/63 [==============================] - 1s 16ms/step - loss: 0.4708 - accuracy: 0.8606 - val_loss: 1.6620 - val_accuracy: 0.7120\n",
            "Epoch 18/20\n",
            "63/63 [==============================] - 1s 16ms/step - loss: 0.4537 - accuracy: 0.8654 - val_loss: 1.6788 - val_accuracy: 0.7080\n",
            "Epoch 19/20\n",
            "63/63 [==============================] - 1s 16ms/step - loss: 0.4356 - accuracy: 0.8672 - val_loss: 1.7410 - val_accuracy: 0.7050\n",
            "Epoch 20/20\n",
            "63/63 [==============================] - 1s 17ms/step - loss: 0.4187 - accuracy: 0.8720 - val_loss: 1.7937 - val_accuracy: 0.7000\n"
          ],
          "name": "stdout"
        },
        {
          "output_type": "execute_result",
          "data": {
            "text/plain": [
              "<tensorflow.python.keras.callbacks.History at 0x7fc9fa8dedd8>"
            ]
          },
          "metadata": {
            "tags": []
          },
          "execution_count": 27
        }
      ]
    },
    {
      "cell_type": "markdown",
      "metadata": {
        "id": "LxrlUJ9Qg3ZP"
      },
      "source": [
        "\n",
        "Podemos observar que el rendimiento del modelo cae al ~70% de accuracy, un 9% de caida respecto a la aproximación anterior, debido al hecho de que ahora la red intenta comprimir toda la información de las 64 neuronas anteriores en 4 neuronas para volver a descomprimirlo en 46 neuronas de salida, y aunque es capaz de mantener mucha información en esas pocas neuronas, pierde mucha estructura de la información original en ese proceso.\n"
      ]
    },
    {
      "cell_type": "markdown",
      "metadata": {
        "id": "42rf74bFg3ZP"
      },
      "source": [
        "## 8. Trabajo Opcional Propuesto\n",
        "\n",
        "* Intenta usar otro tamaño en las capas, ampliando o reduciendo: 32, 128,...\n",
        "* Intenta usar más o menos cantidad de capas ocultas.\n",
        "* Cambia la medida de rendimiento a categorical_accuracy, ¿observas diferencia?\n",
        "* Usa otro optimizador distinto a RMSProp, qué diferencias observas en las gráficas obtenidas en el entrenamiento."
      ]
    },
    {
      "cell_type": "markdown",
      "metadata": {
        "id": "oGOmwd_bg3ZP"
      },
      "source": [
        "## 9. Conclusiones\n",
        "\n",
        "Algunas conclusiones que podemos ir apuntando de este ejemplo:\n",
        "\n",
        "* Si quieres clasificar entre $N$ clases, tu red debe acabar en una capa densa de tamaño $N$.\n",
        "* Si la clasificación es disjunta, la última capa debe usar activación `softmax`, de esa forma obtendrás una distribución de probabilidad sobre las N clases de salida.\n",
        "* Casi con toda seguridad tendrás que usar *Categorical crossentropy* como función de pérdida.\n",
        "* Hay dos formas de manejar las etiquetas en un problema de clasificación multi-clase:\n",
        "    * Por _Codificación Categórica_ (\"one-hot encoding\") y usando `categorical_crossentropy` como función de pérdida.\n",
        "    * Codificando las etiquetas como enteros, y usando `sparse_categorical_crossentropy` como función de pérdida.\n",
        "* Si el número de categorías es muy alto, evita los cuellos de botella con capas intermedias demasiado pequeñas."
      ]
    }
  ]
}
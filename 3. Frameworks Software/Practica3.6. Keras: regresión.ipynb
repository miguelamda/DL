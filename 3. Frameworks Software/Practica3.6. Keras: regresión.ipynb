{
  "nbformat": 4,
  "nbformat_minor": 0,
  "metadata": {
    "kernelspec": {
      "display_name": "Python 3",
      "language": "python",
      "name": "python3"
    },
    "language_info": {
      "codemirror_mode": {
        "name": "ipython",
        "version": 3
      },
      "file_extension": ".py",
      "mimetype": "text/x-python",
      "name": "python",
      "nbconvert_exporter": "python",
      "pygments_lexer": "ipython3",
      "version": "3.7.3"
    },
    "colab": {
      "name": "Practica3.6. Keras: regresión.ipynb",
      "provenance": [],
      "toc_visible": true,
      "include_colab_link": true
    }
  },
  "cells": [
    {
      "cell_type": "markdown",
      "metadata": {
        "id": "view-in-github",
        "colab_type": "text"
      },
      "source": [
        "<a href=\"https://colab.research.google.com/github/miguelamda/DL/blob/master/3.%20Frameworks%20Software/Practica3.6.%20Keras%3A%20regresi%C3%B3n.ipynb\" target=\"_parent\"><img src=\"https://colab.research.google.com/assets/colab-badge.svg\" alt=\"Open In Colab\"/></a>"
      ]
    },
    {
      "cell_type": "markdown",
      "metadata": {
        "id": "wj5m2laQmQmI"
      },
      "source": [
        "# Práctica 3.6. Regresión y K-validación"
      ]
    },
    {
      "cell_type": "code",
      "metadata": {
        "colab": {
          "base_uri": "https://localhost:8080/",
          "height": 35
        },
        "id": "xNfWBMttmQmJ",
        "outputId": "3496d9aa-4a47-4563-82de-be8cbc88f429"
      },
      "source": [
        "from tensorflow import keras\n",
        "keras.__version__"
      ],
      "execution_count": 1,
      "outputs": [
        {
          "output_type": "execute_result",
          "data": {
            "application/vnd.google.colaboratory.intrinsic+json": {
              "type": "string"
            },
            "text/plain": [
              "'2.4.0'"
            ]
          },
          "metadata": {
            "tags": []
          },
          "execution_count": 1
        }
      ]
    },
    {
      "cell_type": "markdown",
      "metadata": {
        "id": "qrJZLqPJmQmK"
      },
      "source": [
        "Pasamos de estudiar dos ejemplos de clasificación a un ejemplo de regresión, intentando predecir un valor continuo en vez de una etiqueta discreta.\n"
      ]
    },
    {
      "cell_type": "markdown",
      "metadata": {
        "id": "WxXamJfumQmK"
      },
      "source": [
        "## 1. El Dataset de Precios de Casas de Boston\n",
        "\n",
        "Intentaremos predecir el precio medio de casas de un barrio de Boston (a partir de datos de los años 70). Para ello, usaremos alguna información asociada a algunas de las casas de ese barrio: tasa de crimen, impuestos locales, etc.\n",
        "\n",
        "A diferencia de los datasets vistos en los ejemplos anteriores, éste es realmente pequeño, apenas 506 anotaciones, que están divididas en 404/102 en entrenamiento/test. Además, cada una de las características de los datos de entrada usa una escala diferente, por ejemlo, algunos valores son proporciones (continuos en $[0,1]$), otros toman valores discretos entre 1 y 12, otros entre 0 y 100, etc.\n",
        "\n",
        "Podemos echar un vistazo a los datos (recuerda que es posible que la primera vez que ejecutes estas instrucciones se descargue el dataset):"
      ]
    },
    {
      "cell_type": "code",
      "metadata": {
        "id": "TijTC-ozmQmK"
      },
      "source": [
        "from keras.datasets import boston_housing\n",
        "\n",
        "(train_data, train_targets), (test_data, test_targets) =  boston_housing.load_data()"
      ],
      "execution_count": 2,
      "outputs": []
    },
    {
      "cell_type": "code",
      "metadata": {
        "colab": {
          "base_uri": "https://localhost:8080/"
        },
        "id": "Y5_2WcOAmQmK",
        "outputId": "309bc930-25f9-476b-d190-733e413e50fe"
      },
      "source": [
        "train_data.shape"
      ],
      "execution_count": 3,
      "outputs": [
        {
          "output_type": "execute_result",
          "data": {
            "text/plain": [
              "(404, 13)"
            ]
          },
          "metadata": {
            "tags": []
          },
          "execution_count": 3
        }
      ]
    },
    {
      "cell_type": "code",
      "metadata": {
        "colab": {
          "base_uri": "https://localhost:8080/"
        },
        "id": "xKZKHjuNmQmK",
        "outputId": "d630bb6c-0722-4601-fe9e-32812abd5a55"
      },
      "source": [
        "test_data.shape"
      ],
      "execution_count": 4,
      "outputs": [
        {
          "output_type": "execute_result",
          "data": {
            "text/plain": [
              "(102, 13)"
            ]
          },
          "metadata": {
            "tags": []
          },
          "execution_count": 4
        }
      ]
    },
    {
      "cell_type": "markdown",
      "metadata": {
        "id": "X3UTT7ozmQmK"
      },
      "source": [
        "\n",
        "Como se puede observar, cada dato tiene 13 características, que esperamos permitan obtener una relación funcional para predecir su precio, como por ejemplo:\n",
        "\n",
        "1. Ratio de crimen per cápita.\n",
        "2. Proporción de área residencial en lotes de 25.000 pies cuadrado.\n",
        "3. ...\n",
        "\n",
        "El objetivo es el valor medio de las casas, en miles de dólares:"
      ]
    },
    {
      "cell_type": "code",
      "metadata": {
        "colab": {
          "base_uri": "https://localhost:8080/"
        },
        "id": "r8QLBY9QmQmK",
        "outputId": "adec9569-3049-4dde-e875-d68a206c8bdf"
      },
      "source": [
        "train_targets"
      ],
      "execution_count": 5,
      "outputs": [
        {
          "output_type": "execute_result",
          "data": {
            "text/plain": [
              "array([15.2, 42.3, 50. , 21.1, 17.7, 18.5, 11.3, 15.6, 15.6, 14.4, 12.1,\n",
              "       17.9, 23.1, 19.9, 15.7,  8.8, 50. , 22.5, 24.1, 27.5, 10.9, 30.8,\n",
              "       32.9, 24. , 18.5, 13.3, 22.9, 34.7, 16.6, 17.5, 22.3, 16.1, 14.9,\n",
              "       23.1, 34.9, 25. , 13.9, 13.1, 20.4, 20. , 15.2, 24.7, 22.2, 16.7,\n",
              "       12.7, 15.6, 18.4, 21. , 30.1, 15.1, 18.7,  9.6, 31.5, 24.8, 19.1,\n",
              "       22. , 14.5, 11. , 32. , 29.4, 20.3, 24.4, 14.6, 19.5, 14.1, 14.3,\n",
              "       15.6, 10.5,  6.3, 19.3, 19.3, 13.4, 36.4, 17.8, 13.5, 16.5,  8.3,\n",
              "       14.3, 16. , 13.4, 28.6, 43.5, 20.2, 22. , 23. , 20.7, 12.5, 48.5,\n",
              "       14.6, 13.4, 23.7, 50. , 21.7, 39.8, 38.7, 22.2, 34.9, 22.5, 31.1,\n",
              "       28.7, 46. , 41.7, 21. , 26.6, 15. , 24.4, 13.3, 21.2, 11.7, 21.7,\n",
              "       19.4, 50. , 22.8, 19.7, 24.7, 36.2, 14.2, 18.9, 18.3, 20.6, 24.6,\n",
              "       18.2,  8.7, 44. , 10.4, 13.2, 21.2, 37. , 30.7, 22.9, 20. , 19.3,\n",
              "       31.7, 32. , 23.1, 18.8, 10.9, 50. , 19.6,  5. , 14.4, 19.8, 13.8,\n",
              "       19.6, 23.9, 24.5, 25. , 19.9, 17.2, 24.6, 13.5, 26.6, 21.4, 11.9,\n",
              "       22.6, 19.6,  8.5, 23.7, 23.1, 22.4, 20.5, 23.6, 18.4, 35.2, 23.1,\n",
              "       27.9, 20.6, 23.7, 28. , 13.6, 27.1, 23.6, 20.6, 18.2, 21.7, 17.1,\n",
              "        8.4, 25.3, 13.8, 22.2, 18.4, 20.7, 31.6, 30.5, 20.3,  8.8, 19.2,\n",
              "       19.4, 23.1, 23. , 14.8, 48.8, 22.6, 33.4, 21.1, 13.6, 32.2, 13.1,\n",
              "       23.4, 18.9, 23.9, 11.8, 23.3, 22.8, 19.6, 16.7, 13.4, 22.2, 20.4,\n",
              "       21.8, 26.4, 14.9, 24.1, 23.8, 12.3, 29.1, 21. , 19.5, 23.3, 23.8,\n",
              "       17.8, 11.5, 21.7, 19.9, 25. , 33.4, 28.5, 21.4, 24.3, 27.5, 33.1,\n",
              "       16.2, 23.3, 48.3, 22.9, 22.8, 13.1, 12.7, 22.6, 15. , 15.3, 10.5,\n",
              "       24. , 18.5, 21.7, 19.5, 33.2, 23.2,  5. , 19.1, 12.7, 22.3, 10.2,\n",
              "       13.9, 16.3, 17. , 20.1, 29.9, 17.2, 37.3, 45.4, 17.8, 23.2, 29. ,\n",
              "       22. , 18. , 17.4, 34.6, 20.1, 25. , 15.6, 24.8, 28.2, 21.2, 21.4,\n",
              "       23.8, 31. , 26.2, 17.4, 37.9, 17.5, 20. ,  8.3, 23.9,  8.4, 13.8,\n",
              "        7.2, 11.7, 17.1, 21.6, 50. , 16.1, 20.4, 20.6, 21.4, 20.6, 36.5,\n",
              "        8.5, 24.8, 10.8, 21.9, 17.3, 18.9, 36.2, 14.9, 18.2, 33.3, 21.8,\n",
              "       19.7, 31.6, 24.8, 19.4, 22.8,  7.5, 44.8, 16.8, 18.7, 50. , 50. ,\n",
              "       19.5, 20.1, 50. , 17.2, 20.8, 19.3, 41.3, 20.4, 20.5, 13.8, 16.5,\n",
              "       23.9, 20.6, 31.5, 23.3, 16.8, 14. , 33.8, 36.1, 12.8, 18.3, 18.7,\n",
              "       19.1, 29. , 30.1, 50. , 50. , 22. , 11.9, 37.6, 50. , 22.7, 20.8,\n",
              "       23.5, 27.9, 50. , 19.3, 23.9, 22.6, 15.2, 21.7, 19.2, 43.8, 20.3,\n",
              "       33.2, 19.9, 22.5, 32.7, 22. , 17.1, 19. , 15. , 16.1, 25.1, 23.7,\n",
              "       28.7, 37.2, 22.6, 16.4, 25. , 29.8, 22.1, 17.4, 18.1, 30.3, 17.5,\n",
              "       24.7, 12.6, 26.5, 28.7, 13.3, 10.4, 24.4, 23. , 20. , 17.8,  7. ,\n",
              "       11.8, 24.4, 13.8, 19.4, 25.2, 19.4, 19.4, 29.1])"
            ]
          },
          "metadata": {
            "tags": []
          },
          "execution_count": 5
        }
      ]
    },
    {
      "cell_type": "markdown",
      "metadata": {
        "id": "-KpnQ4p4mQmK"
      },
      "source": [
        "\n",
        "Los precios están, aproximadamente, entre 10.000\\$ y 50.000\\$ (precios de los años 70, claro).\n"
      ]
    },
    {
      "cell_type": "markdown",
      "metadata": {
        "id": "xkS4FIvZmQmK"
      },
      "source": [
        "## 2. Preparando los datos\n",
        "\n",
        "Sería problemático alimentar la red neuronal con los datos en bruto que proporciona el dataset, que hace uso de rangos tan diferentes para cada característica. Si fuera así, la red debería aprender, además de la relación funcional, a adaptar automáticamente la heterogeneidad de los datos, lo que haría que el aprendizaje fuera más complicado. Por ello, una buena práctica de preprocesamiento consiste en hacer una normalización de cada característica: para cada una de ellas (una columna) se extrae la media de sus valores y se divide por su desviación estándar, de esta forma la nueva características estará centrada en 0 y con desviación estándar 1:"
      ]
    },
    {
      "cell_type": "code",
      "metadata": {
        "id": "AXkNfL_emQmK"
      },
      "source": [
        "# calculamos la media del conjunto de train\n",
        "mean = train_data.mean(axis=0)\n",
        "train_data -= mean\n",
        "# calculamos la desviación estándar del conjunto de train\n",
        "std = train_data.std(axis=0)\n",
        "train_data /= std\n",
        "\n",
        "# normalizamos el conjunto de test con la media y std del conjunto de train\n",
        "test_data -= mean\n",
        "test_data /= std"
      ],
      "execution_count": 6,
      "outputs": []
    },
    {
      "cell_type": "markdown",
      "metadata": {
        "id": "V0XhRlcVmQmK"
      },
      "source": [
        "\n",
        "Observa que las medias y desviaciones se calculan solo en los datos de entrenamiento, ya que no debemos hacer uso de la información de test para nada, aunque la renormalización se realiza a los datos de ambos conjuntos.\n"
      ]
    },
    {
      "cell_type": "markdown",
      "metadata": {
        "id": "kJmYDR8WmQmK"
      },
      "source": [
        "## 3. Construyendo la red\n",
        "\n",
        "Debido a que hay pocas muestras para el entrenamiento, vamos a usar una red muy pequeña, con solo 2 capas ocultas, cada una de 64 unidades. En general, cuantos menos datos tengamos de entrenamiento, mayor será el sobreajuste, así que usar una red pequeña puede mitigar este efecto porque el número de parámetros en toda la red es más bajo."
      ]
    },
    {
      "cell_type": "code",
      "metadata": {
        "id": "exoaX5ZlmQmK"
      },
      "source": [
        "from keras import models\n",
        "from keras import layers\n",
        "\n",
        "def build_model():\n",
        "    # Dado que necesitaremos instanciar el mismo modelo multiples veces,\n",
        "    # vamos a definir una función para construirlo.\n",
        "    red = models.Sequential()\n",
        "    red.add(layers.Dense(64, activation='relu',\n",
        "                           input_shape=(train_data.shape[1],)))\n",
        "    red.add(layers.Dense(64, activation='relu'))\n",
        "    red.add(layers.Dense(1))\n",
        "    red.compile(optimizer='rmsprop', loss='mse', metrics=['mae'])\n",
        "    return red"
      ],
      "execution_count": 7,
      "outputs": []
    },
    {
      "cell_type": "markdown",
      "metadata": {
        "id": "T0MH_7ZtmQmK"
      },
      "source": [
        "Esta vez hemos creado una función que construye el modelo, en vez de hacerlo directamente. La razón es porque en el procedimiento de validación que veremos más adelante tendremos que construir varios modelos similares.\n",
        "\n",
        "Observa que la red acaba en una capa con una sola unidad y sin activación (es lo que se llama una capa lineal). Esta configuración es habitual cuando se hace regresión escalar (de un solo valor), ya que las funciones de activación restringen el rango de la salida; por ejemplo, una `sigmoid` aprende a predecir valores en $[0,1]$ y una `ReLU` pone a 0 los valores negativos, pero una activación lineal puede aprender cualquier valor.\n",
        "\n",
        "Observa también que se usa `mse` como función de pérdida, habitual en el caso de problemas de regresión. Para monitorizar el entrenamiento usamos `mae`, *Mean Absolute Error*, que es el valor absoluto de la diferencia entre las predicciones y los objetivos. Por ejemplo, un MAE de 0,5 en este problema significa que nuestras predicciones difieren en unos 500\\$ de media."
      ]
    },
    {
      "cell_type": "markdown",
      "metadata": {
        "id": "t9vKX38ymQmK"
      },
      "source": [
        "## 4. K-validación cruzada\n",
        "\n",
        "En esta práctica, además de hacer regresión, vamos a aplicar una técnica clásica en ML. Para evaluar la red mientras ajustamos los hiperparámetros (como el número de epochs a usar), podríamos dividir simplemente el conjunto de entrenamiento en entrenamiento y validación, tal y como hicimos en ejemplos anteriores. Sin embargo, debido a que hay muy pocas muestras, el conjunto de validación acabaría siendo muy pequeño (unas 100 muestras), por lo que las métricas de validación podrían depender excesivamente de qué muestras concretas han terminado en cada conjunto, mostrando, posiblemente, una gran varianza.\n",
        "\n",
        "La mejor práctica en este tipo de situaciones es usar una **K-validación cruzada**, que consiste em dividir los datos disponibles en $K$ particiones (normalmente, entre 4 y 5), después instanciar $K$ modelos exactos, y entonces entrenar cada uno de los modelos usando $K-1$ de las particiones anteriores y evaluar sobre la restante. La métrica de evaluación será la media de las $K$ métricas obtenidas sobre las validaciones de cada modelo."
      ]
    },
    {
      "cell_type": "code",
      "metadata": {
        "colab": {
          "base_uri": "https://localhost:8080/"
        },
        "id": "mRzVi872mQmK",
        "outputId": "a35344e2-db01-4bd6-ea83-6ced206aa2ae"
      },
      "source": [
        "import numpy as np\n",
        "\n",
        "k = 4\n",
        "num_val_samples = len(train_data) // k\n",
        "num_epochs = 100\n",
        "all_scores = []\n",
        "for i in range(k):\n",
        "    print('Procesando el fold #', i)\n",
        "    # Prepara los datos de validación: los datos de la partición k\n",
        "    val_data = train_data[i * num_val_samples: (i + 1) * num_val_samples]\n",
        "    val_targets = train_targets[i * num_val_samples: (i + 1) * num_val_samples]\n",
        "\n",
        "    # Prepara los datos de entrenamiento: los datos del resto de particiones\n",
        "    partial_train_data = np.concatenate(\n",
        "        [train_data[:i * num_val_samples],\n",
        "         train_data[(i + 1) * num_val_samples:]],\n",
        "        axis=0)\n",
        "    partial_train_targets = np.concatenate(\n",
        "        [train_targets[:i * num_val_samples],\n",
        "         train_targets[(i + 1) * num_val_samples:]],\n",
        "        axis=0)\n",
        "\n",
        "    # Construye el modelo de keras (ya compilado), usando la función anterior\n",
        "    red = build_model()\n",
        "    # Entrena el modelo (en modo silencio, verbose=0)\n",
        "    red.fit(partial_train_data, partial_train_targets,\n",
        "              epochs=num_epochs, batch_size=1, verbose=0)\n",
        "    # Evalúa el modelo sobre los datos de validación\n",
        "    val_mse, val_mae = red.evaluate(val_data, val_targets, verbose=0)\n",
        "    all_scores.append(val_mae)"
      ],
      "execution_count": 8,
      "outputs": [
        {
          "output_type": "stream",
          "text": [
            "Procesando el fold # 0\n",
            "Procesando el fold # 1\n",
            "Procesando el fold # 2\n",
            "Procesando el fold # 3\n"
          ],
          "name": "stdout"
        }
      ]
    },
    {
      "cell_type": "code",
      "metadata": {
        "colab": {
          "base_uri": "https://localhost:8080/"
        },
        "id": "WKa1cYf5mQmK",
        "outputId": "75be1035-8da1-4f75-fdd7-82e8aa6b8478"
      },
      "source": [
        "all_scores"
      ],
      "execution_count": 9,
      "outputs": [
        {
          "output_type": "execute_result",
          "data": {
            "text/plain": [
              "[1.942669153213501, 2.1277592182159424, 2.53509521484375, 2.4518420696258545]"
            ]
          },
          "metadata": {
            "tags": []
          },
          "execution_count": 9
        }
      ]
    },
    {
      "cell_type": "code",
      "metadata": {
        "colab": {
          "base_uri": "https://localhost:8080/"
        },
        "id": "y4F8NauumQmK",
        "outputId": "5d4cdabd-0d39-4cf2-956c-cf351bfaccf4"
      },
      "source": [
        "np.mean(all_scores)"
      ],
      "execution_count": 10,
      "outputs": [
        {
          "output_type": "execute_result",
          "data": {
            "text/plain": [
              "2.264341413974762"
            ]
          },
          "metadata": {
            "tags": []
          },
          "execution_count": 10
        }
      ]
    },
    {
      "cell_type": "markdown",
      "metadata": {
        "id": "iIcq4W7WmQmK"
      },
      "source": [
        "\n",
        "Como puedes observar, las posibles métricas de validación varían mucho (dependiendo de la ejecución, de 1,9 a 2,5, puede depender de la ejecución concreta), por lo que la media (2,26) es mucho más fiable que cada una de las otras valoraciones por separado... este es precisamente el valor de la K-validacion cruzada. Todavía estamos con un error significativo de unos 2.300\\$ en precios que están en un rango de entre 10.000\\$ y 50.000\\$, así que intentemos entrenar la red durante un poco más de tiempo: 200 epochs. Con el fin de guardar un registro de cómo de bien funciona el modelo en cada epoch, vamos a modificar el bucle de entrenamiento para almacenar el score de validación en cada epoch. Esto puede tardar unos minutos:\n"
      ]
    },
    {
      "cell_type": "code",
      "metadata": {
        "id": "m246sCHkmQmK"
      },
      "source": [
        "from keras import backend as K\n",
        "\n",
        "# Limpieza de memoria para volver a empezar\n",
        "K.clear_session()"
      ],
      "execution_count": 11,
      "outputs": []
    },
    {
      "cell_type": "code",
      "metadata": {
        "colab": {
          "base_uri": "https://localhost:8080/"
        },
        "id": "vYsTP_jzmQmL",
        "outputId": "be17fb72-132e-4f47-944d-0cf91c634756"
      },
      "source": [
        "num_epochs = 500\n",
        "all_mae_entrenamientos = []\n",
        "for i in range(k):\n",
        "    print('procesando el fold #', i)\n",
        "    # Prepara los datos de validación: los datos de la partición k\n",
        "    val_data = train_data[i * num_val_samples: (i + 1) * num_val_samples]\n",
        "    val_targets = train_targets[i * num_val_samples: (i + 1) * num_val_samples]\n",
        "\n",
        "    # Prepara los datos de entrenamiento: los datos del resto de particiones\n",
        "    partial_train_data = np.concatenate(\n",
        "        [train_data[:i * num_val_samples],\n",
        "         train_data[(i + 1) * num_val_samples:]],\n",
        "        axis=0)\n",
        "    partial_train_targets = np.concatenate(\n",
        "        [train_targets[:i * num_val_samples],\n",
        "         train_targets[(i + 1) * num_val_samples:]],\n",
        "        axis=0)\n",
        "\n",
        "    # Construye el modelo de keras (ya compilado), usando la función anterior\n",
        "    red = build_model()\n",
        "    # Entrena el modelo (en modo silencio, verbose=0)\n",
        "    entrenamiento = red.fit(partial_train_data, partial_train_targets,\n",
        "                        validation_data=(val_data, val_targets),\n",
        "                        epochs=num_epochs, batch_size=1, verbose=0)\n",
        "    mae_entrenamiento = entrenamiento.history['val_mae']\n",
        "    all_mae_entrenamientos.append(mae_entrenamiento)"
      ],
      "execution_count": 13,
      "outputs": [
        {
          "output_type": "stream",
          "text": [
            "procesando el fold # 0\n",
            "procesando el fold # 1\n",
            "procesando el fold # 2\n",
            "procesando el fold # 3\n"
          ],
          "name": "stdout"
        }
      ]
    },
    {
      "cell_type": "markdown",
      "metadata": {
        "id": "pYoCzD_HmQmL"
      },
      "source": [
        "Ahora podemos calcular la media de los valores MAE en cada epoch:\n"
      ]
    },
    {
      "cell_type": "code",
      "metadata": {
        "id": "ZJvb5qQWmQmL"
      },
      "source": [
        "average_mae_entrenamiento = [\n",
        "    np.mean([x[i] for x in all_mae_entrenamientos]) for i in range(num_epochs)]"
      ],
      "execution_count": 14,
      "outputs": []
    },
    {
      "cell_type": "markdown",
      "metadata": {
        "id": "Qs-UH7bNmQmL"
      },
      "source": [
        "Y representarlo:\n"
      ]
    },
    {
      "cell_type": "code",
      "metadata": {
        "colab": {
          "base_uri": "https://localhost:8080/",
          "height": 279
        },
        "id": "8cSo-yjumQmL",
        "outputId": "e41e9cfc-e12a-49ad-f07c-ae3c1abfd8fd"
      },
      "source": [
        "import matplotlib.pyplot as plt\n",
        "\n",
        "plt.plot(range(1, len(average_mae_entrenamiento) + 1), average_mae_entrenamiento)\n",
        "plt.xlabel('Epochs')\n",
        "plt.ylabel('Validación MAE')\n",
        "plt.show()"
      ],
      "execution_count": 15,
      "outputs": [
        {
          "output_type": "display_data",
          "data": {
            "image/png": "[encoded data removed]",
            "text/plain": [
              "<Figure size 432x288 with 1 Axes>"
            ]
          },
          "metadata": {
            "tags": [],
            "needs_background": "light"
          }
        }
      ]
    },
    {
      "cell_type": "markdown",
      "metadata": {
        "id": "0ve6nrFnmQmL"
      },
      "source": [
        "\n",
        "Puede ser un poco difícil extraer conocimiento de esta gráfica debido a los problemas de escala que presenta y a la alta varianza, así que podemos hacer lo siguiente:\n",
        "\n",
        "* Omitir los primeros 10 puntos de los datos, que parecen mostrar una escala distinta al resto de la curva.\n",
        "* Reemplazar cada punto con una media exponencial de los puntos anteriores, con el fin de obtener una curva más suave.\n",
        "\n",
        "Probemos esta última opción:"
      ]
    },
    {
      "cell_type": "code",
      "metadata": {
        "colab": {
          "base_uri": "https://localhost:8080/",
          "height": 279
        },
        "id": "urFWwmc5mQmL",
        "outputId": "1e41074f-6cdc-4b01-e510-26c97051bf71"
      },
      "source": [
        "def smooth_curve(points, factor=0.9):\n",
        "  smoothed_points = []\n",
        "  for point in points:\n",
        "    if smoothed_points:\n",
        "      previous = smoothed_points[-1]\n",
        "      smoothed_points.append(previous * factor + point * (1 - factor))\n",
        "    else:\n",
        "      smoothed_points.append(point)\n",
        "  return smoothed_points\n",
        "\n",
        "smooth_mae_entrenamiento = smooth_curve(average_mae_entrenamiento[10:])\n",
        "\n",
        "plt.plot(range(1, len(smooth_mae_entrenamiento) + 1), smooth_mae_entrenamiento)\n",
        "plt.xlabel('Epochs')\n",
        "plt.ylabel('Validación MAE')\n",
        "plt.show()"
      ],
      "execution_count": 16,
      "outputs": [
        {
          "output_type": "display_data",
          "data": {
            "image/png": "[encoded data removed]",
            "text/plain": [
              "<Figure size 432x288 with 1 Axes>"
            ]
          },
          "metadata": {
            "tags": [],
            "needs_background": "light"
          }
        }
      ]
    },
    {
      "cell_type": "markdown",
      "metadata": {
        "id": "sO18hEW3mQmL"
      },
      "source": [
        "\n",
        "De acuerdo con esta nueva gráfica, parece que el MAE de validación deja de mejorar tras 50-80 epochs (recuerda, cuanto menor valor, mejor), a partir de entonces empieza a haber sobreajuste.\n",
        "\n",
        "Tras haber ajustado otros parámetros del modelo (por ejemplo, el tamaño de las capas ocultas), podemos entrenar una versión final del modelo sobre todos los datos de entrenamiento y medir el rendimiento sobre los datos de test:"
      ]
    },
    {
      "cell_type": "code",
      "metadata": {
        "colab": {
          "base_uri": "https://localhost:8080/"
        },
        "id": "tBaZ9Z4hmQmL",
        "outputId": "7b051dc2-33dc-4c8b-e13e-cfa1857e2450"
      },
      "source": [
        "# Obtengamos un modelo nuevo y compilado.\n",
        "red = build_model()\n",
        "# Lo entrenamos sobre los datos de entrenamiento al completo (sin partición \n",
        "# para validación)\n",
        "red.fit(train_data, train_targets,\n",
        "          epochs=80, batch_size=16, verbose=0)\n",
        "test_mse_score, test_mae_score = red.evaluate(test_data, test_targets)"
      ],
      "execution_count": 17,
      "outputs": [
        {
          "output_type": "stream",
          "text": [
            "4/4 [==============================] - 0s 2ms/step - loss: 18.0247 - mae: 2.5720\n"
          ],
          "name": "stdout"
        }
      ]
    },
    {
      "cell_type": "code",
      "metadata": {
        "colab": {
          "base_uri": "https://localhost:8080/"
        },
        "id": "IhiG03RsmQmL",
        "outputId": "3e57d5a9-f64e-4f0a-8c4a-3b8915acea15"
      },
      "source": [
        "test_mae_score"
      ],
      "execution_count": 18,
      "outputs": [
        {
          "output_type": "execute_result",
          "data": {
            "text/plain": [
              "2.572026252746582"
            ]
          },
          "metadata": {
            "tags": []
          },
          "execution_count": 18
        }
      ]
    },
    {
      "cell_type": "markdown",
      "metadata": {
        "id": "6x9V4d9WmQmL"
      },
      "source": [
        "Que sigue mostrando un error todavía muy alto, rondando los 2.500\\$.\n"
      ]
    },
    {
      "cell_type": "markdown",
      "metadata": {
        "id": "tMZcyL2DmQmL"
      },
      "source": [
        "## 5. Conclusiones\n",
        "\n",
        "* La regresión hace uso de funciones de pérdida distintas a la clasificación. La más común suele ser la *Mean Squared Error* (MSE).\n",
        "* Además, las métricas de evaluación también suelen ser distintas, por ejemplo, *Mean Absolute Error* (MAE). El término \"accuracy\" aquí no tiene sentido.\n",
        "* Cuando las características de los datos de entrada usan diferentes rangos, cada una de ellas ha de ser normalizada independientemente en la etapa de preprocesamiento.\n",
        "* Cuando tenemos pocos datos, usar K-validación cruzada puede ser un buen método para evaluar el modelo de forma más fiable.\n",
        "* Cuando hay pocos datos, es preferible usar redes pequeñas con pocas capas (normalmente, 1 o 2) con el fin de evitar un sobreajuste exagerado."
      ]
    }
  ]
}
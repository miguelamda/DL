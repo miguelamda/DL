{
  "nbformat": 4,
  "nbformat_minor": 0,
  "metadata": {
    "kernelspec": {
      "display_name": "Python 3",
      "language": "python",
      "name": "python3"
    },
    "language_info": {
      "codemirror_mode": {
        "name": "ipython",
        "version": 3
      },
      "file_extension": ".py",
      "mimetype": "text/x-python",
      "name": "python",
      "nbconvert_exporter": "python",
      "pygments_lexer": "ipython3",
      "version": "3.6.8"
    },
    "colab": {
      "name": "Practica3.4. Keras: clasificacion binaria.ipynb",
      "provenance": [],
      "toc_visible": true,
      "include_colab_link": true
    }
  },
  "cells": [
    {
      "cell_type": "markdown",
      "metadata": {
        "id": "view-in-github",
        "colab_type": "text"
      },
      "source": [
        "<a href=\"https://colab.research.google.com/github/miguelamda/DL/blob/master/3.%20Frameworks%20Software/Practica3.4.%20Keras%3A%20clasificacion%20binaria.ipynb\" target=\"_parent\"><img src=\"https://colab.research.google.com/assets/colab-badge.svg\" alt=\"Open In Colab\"/></a>"
      ]
    },
    {
      "cell_type": "markdown",
      "metadata": {
        "id": "gERN02cprk5K"
      },
      "source": [
        "# Práctica 3.4. Clasificación Binaria"
      ]
    },
    {
      "cell_type": "code",
      "metadata": {
        "colab": {
          "base_uri": "https://localhost:8080/",
          "height": 35
        },
        "id": "hfhw4QYlrk5K",
        "outputId": "1649c6b2-cb0a-4c10-c7d9-c1284efd782e"
      },
      "source": [
        "from tensorflow import keras\n",
        "keras.__version__"
      ],
      "execution_count": 1,
      "outputs": [
        {
          "output_type": "execute_result",
          "data": {
            "application/vnd.google.colaboratory.intrinsic+json": {
              "type": "string"
            },
            "text/plain": [
              "'2.7.0'"
            ]
          },
          "metadata": {},
          "execution_count": 1
        }
      ]
    },
    {
      "cell_type": "markdown",
      "metadata": {
        "id": "DzU7HoRBrk5L"
      },
      "source": [
        "La clasificación binaria es, posiblemente, el tipo de problema con mayor número de aplicaciones en ML. En esta práctica vamos a ver cómo construir un clasificador binario en Keras. Concretamente, construiremos una red neuronal que nos ayude a clasificar opiniones de películas como \"positivas/negativas\" únicamente basándonos en el contenido textual de las mismas. Será un ejemplo de lo que se conoce actualmente como **Análisis de Sentimientos**."
      ]
    },
    {
      "cell_type": "markdown",
      "metadata": {
        "id": "jfVP2Dezfyui"
      },
      "source": [
        "## 1. El Dataset IMDB"
      ]
    },
    {
      "cell_type": "markdown",
      "metadata": {
        "id": "Bg3K4cx9rk5L"
      },
      "source": [
        "### 1.1. Descarga del dataset\n",
        "\n",
        "Usaremos uno de los datasets que proporciona el sitio [IMDB](https://www.imdb.com) (Internet Movie DataBase) formado por 50.000 opiniones altamente polarizadas (lo que simplifica la tarea de aprendizaje). Este conjunto está dividido en 50%/50% para entrenamiento/test, y en cada uno de ellos hay un 50% de opiniones de cada tipo.\n",
        "\n",
        "AL igual que con el dataset anterior (MNIST) este dataset también viene con Keras, y además se proporciona preprocesado: por medio de un diccionario indexado, las opiniones (secuencias de palabras) se han convertido en secuencias de enteros.\n",
        "\n",
        "El código que carga el dataset (unos 80Mb de datos que serán descargados la primera vez que se ejecuta) es:"
      ]
    },
    {
      "cell_type": "code",
      "metadata": {
        "id": "CE75VPlPrk5L"
      },
      "source": [
        "from keras.datasets import imdb\n",
        "\n",
        "(train_data, train_labels), (test_data, test_labels) = imdb.load_data(num_words=10000)"
      ],
      "execution_count": 2,
      "outputs": []
    },
    {
      "cell_type": "markdown",
      "metadata": {
        "id": "VNGbNPlnrk5M"
      },
      "source": [
        "\n",
        "Como el diccionario es tremendamente grande y hay muchas palabras que se usan rara vez, nos quedaremos solo con las 10.000 palabras más frecuentes (algo que conseguimos por medio del argumento `num_words = 10000` en el proceso de carga). \n",
        "\n",
        "Si quieres, puedes explorar el contenido de las variables `train_data` y `test_data`, que son listas de opiniones, donde cada opinión es una lista de enteros (codificando una secuencia de palabras). Las variables `train_labels` y `test_labels` son listas binarias, donde 0 indica que la opinión asociada es _negativa_ y 1 que es _positiva_:"
      ]
    },
    {
      "cell_type": "code",
      "metadata": {
        "colab": {
          "base_uri": "https://localhost:8080/"
        },
        "id": "rlADzE3crk5M",
        "outputId": "e9d00d0b-96dc-4385-8628-ef05b360a15e"
      },
      "source": [
        "train_data[0]"
      ],
      "execution_count": 3,
      "outputs": [
        {
          "output_type": "execute_result",
          "data": {
            "text/plain": [
              "[1,\n",
              " 14,\n",
              " 22,\n",
              " 16,\n",
              " 43,\n",
              " 530,\n",
              " 973,\n",
              " 1622,\n",
              " 1385,\n",
              " 65,\n",
              " 458,\n",
              " 4468,\n",
              " 66,\n",
              " 3941,\n",
              " 4,\n",
              " 173,\n",
              " 36,\n",
              " 256,\n",
              " 5,\n",
              " 25,\n",
              " 100,\n",
              " 43,\n",
              " 838,\n",
              " 112,\n",
              " 50,\n",
              " 670,\n",
              " 2,\n",
              " 9,\n",
              " 35,\n",
              " 480,\n",
              " 284,\n",
              " 5,\n",
              " 150,\n",
              " 4,\n",
              " 172,\n",
              " 112,\n",
              " 167,\n",
              " 2,\n",
              " 336,\n",
              " 385,\n",
              " 39,\n",
              " 4,\n",
              " 172,\n",
              " 4536,\n",
              " 1111,\n",
              " 17,\n",
              " 546,\n",
              " 38,\n",
              " 13,\n",
              " 447,\n",
              " 4,\n",
              " 192,\n",
              " 50,\n",
              " 16,\n",
              " 6,\n",
              " 147,\n",
              " 2025,\n",
              " 19,\n",
              " 14,\n",
              " 22,\n",
              " 4,\n",
              " 1920,\n",
              " 4613,\n",
              " 469,\n",
              " 4,\n",
              " 22,\n",
              " 71,\n",
              " 87,\n",
              " 12,\n",
              " 16,\n",
              " 43,\n",
              " 530,\n",
              " 38,\n",
              " 76,\n",
              " 15,\n",
              " 13,\n",
              " 1247,\n",
              " 4,\n",
              " 22,\n",
              " 17,\n",
              " 515,\n",
              " 17,\n",
              " 12,\n",
              " 16,\n",
              " 626,\n",
              " 18,\n",
              " 2,\n",
              " 5,\n",
              " 62,\n",
              " 386,\n",
              " 12,\n",
              " 8,\n",
              " 316,\n",
              " 8,\n",
              " 106,\n",
              " 5,\n",
              " 4,\n",
              " 2223,\n",
              " 5244,\n",
              " 16,\n",
              " 480,\n",
              " 66,\n",
              " 3785,\n",
              " 33,\n",
              " 4,\n",
              " 130,\n",
              " 12,\n",
              " 16,\n",
              " 38,\n",
              " 619,\n",
              " 5,\n",
              " 25,\n",
              " 124,\n",
              " 51,\n",
              " 36,\n",
              " 135,\n",
              " 48,\n",
              " 25,\n",
              " 1415,\n",
              " 33,\n",
              " 6,\n",
              " 22,\n",
              " 12,\n",
              " 215,\n",
              " 28,\n",
              " 77,\n",
              " 52,\n",
              " 5,\n",
              " 14,\n",
              " 407,\n",
              " 16,\n",
              " 82,\n",
              " 2,\n",
              " 8,\n",
              " 4,\n",
              " 107,\n",
              " 117,\n",
              " 5952,\n",
              " 15,\n",
              " 256,\n",
              " 4,\n",
              " 2,\n",
              " 7,\n",
              " 3766,\n",
              " 5,\n",
              " 723,\n",
              " 36,\n",
              " 71,\n",
              " 43,\n",
              " 530,\n",
              " 476,\n",
              " 26,\n",
              " 400,\n",
              " 317,\n",
              " 46,\n",
              " 7,\n",
              " 4,\n",
              " 2,\n",
              " 1029,\n",
              " 13,\n",
              " 104,\n",
              " 88,\n",
              " 4,\n",
              " 381,\n",
              " 15,\n",
              " 297,\n",
              " 98,\n",
              " 32,\n",
              " 2071,\n",
              " 56,\n",
              " 26,\n",
              " 141,\n",
              " 6,\n",
              " 194,\n",
              " 7486,\n",
              " 18,\n",
              " 4,\n",
              " 226,\n",
              " 22,\n",
              " 21,\n",
              " 134,\n",
              " 476,\n",
              " 26,\n",
              " 480,\n",
              " 5,\n",
              " 144,\n",
              " 30,\n",
              " 5535,\n",
              " 18,\n",
              " 51,\n",
              " 36,\n",
              " 28,\n",
              " 224,\n",
              " 92,\n",
              " 25,\n",
              " 104,\n",
              " 4,\n",
              " 226,\n",
              " 65,\n",
              " 16,\n",
              " 38,\n",
              " 1334,\n",
              " 88,\n",
              " 12,\n",
              " 16,\n",
              " 283,\n",
              " 5,\n",
              " 16,\n",
              " 4472,\n",
              " 113,\n",
              " 103,\n",
              " 32,\n",
              " 15,\n",
              " 16,\n",
              " 5345,\n",
              " 19,\n",
              " 178,\n",
              " 32]"
            ]
          },
          "metadata": {},
          "execution_count": 3
        }
      ]
    },
    {
      "cell_type": "code",
      "metadata": {
        "colab": {
          "base_uri": "https://localhost:8080/"
        },
        "id": "7vPstJiprk5M",
        "outputId": "1c32bda2-ba88-44ae-97d2-9905fa87594b"
      },
      "source": [
        "train_labels[0]"
      ],
      "execution_count": 4,
      "outputs": [
        {
          "output_type": "execute_result",
          "data": {
            "text/plain": [
              "1"
            ]
          },
          "metadata": {},
          "execution_count": 4
        }
      ]
    },
    {
      "cell_type": "markdown",
      "metadata": {
        "id": "puR3cprRrk5N"
      },
      "source": [
        "Puedes observar que los índices de las palabras almacenadas están por debajo de 10.000:"
      ]
    },
    {
      "cell_type": "code",
      "metadata": {
        "colab": {
          "base_uri": "https://localhost:8080/"
        },
        "id": "rLBAiGsirk5N",
        "outputId": "fdf364dc-5099-4cc9-88c0-75cbc481dcf2"
      },
      "source": [
        "max([max(sequence) for sequence in train_data])"
      ],
      "execution_count": 5,
      "outputs": [
        {
          "output_type": "execute_result",
          "data": {
            "text/plain": [
              "9999"
            ]
          },
          "metadata": {},
          "execution_count": 5
        }
      ]
    },
    {
      "cell_type": "markdown",
      "metadata": {
        "id": "EZ2x6C1wrk5N"
      },
      "source": [
        "Aunque no es necesario para el entrenamiento posterior, podemos construir funciones que reconstruyen las opiniones a partir de las secuencias de índices:"
      ]
    },
    {
      "cell_type": "code",
      "metadata": {
        "id": "mf5cCt72rk5N"
      },
      "source": [
        "# word_index es un diccionario que mapea las palabras a un índice entero, lo podemos descargar:\n",
        "word_index = imdb.get_word_index()\n",
        "# Lo invertimos, mapeando índices enteros a palabras\n",
        "reverse_word_index = dict([(value, key) for (key, value) in word_index.items()])\n",
        "# Decodificamos la review; observa que nuestros índices tiene un offset de 3\n",
        "# porque 0, 1 y 2 están reservados para los índices de \"padding\", \"start of sequence\", y \"unknown\".\n",
        "decoded_review = ' '.join([reverse_word_index.get(i - 3, '?') for i in train_data[0]])"
      ],
      "execution_count": 6,
      "outputs": []
    },
    {
      "cell_type": "code",
      "metadata": {
        "colab": {
          "base_uri": "https://localhost:8080/",
          "height": 191
        },
        "id": "N3ExHq0drk5N",
        "outputId": "500409e6-7a58-443a-a71a-0be690fc9fa5"
      },
      "source": [
        "decoded_review"
      ],
      "execution_count": 7,
      "outputs": [
        {
          "output_type": "execute_result",
          "data": {
            "application/vnd.google.colaboratory.intrinsic+json": {
              "type": "string"
            },
            "text/plain": [
              "\"? this film was just brilliant casting location scenery story direction everyone's really suited the part they played and you could just imagine being there robert ? is an amazing actor and now the same being director ? father came from the same scottish island as myself so i loved the fact there was a real connection with this film the witty remarks throughout the film were great it was just brilliant so much that i bought the film as soon as it was released for ? and would recommend it to everyone to watch and the fly fishing was amazing really cried at the end it was so sad and you know what they say if you cry at a film it must have been good and this definitely was also ? to the two little boy's that played the ? of norman and paul they were just brilliant children are often left out of the ? list i think because the stars that play them all grown up are such a big profile for the whole film but these children are amazing and should be praised for what they have done don't you think the whole story was so lovely because it was true and was someone's life after all that was shared with us all\""
            ]
          },
          "metadata": {},
          "execution_count": 7
        }
      ]
    },
    {
      "cell_type": "markdown",
      "metadata": {
        "id": "h3NxOaQIrk5N"
      },
      "source": [
        "### 1.2. Preparación de los datos\n",
        "\n",
        "Como las redes neuronales no admiten listas de enteros como entrada porque son estructuras de datos de longitud variable, hemos de añadir un preprocesado adicional para poder trabajar con ellas. Tenemos dos opciones:\n",
        "\n",
        "* Completar las listas más cortas para que todas tengan la misma longitud y, entonces, convertirlas en tensores que alimentarán la capa de entrada de la red.\n",
        "* Codificar en One-hot las listas para convertirlas en vectores de 0s y 1s. Como tenemos un máximo de 10.000 palabras en nuestro vocabulario, cada opinión se convertirá en una lista binaria de 10.000 posiciones indicando qué palabras aparecen en la opinión. En este caso, la primera capa (densa) de nuestra red se conectaría con vectores de longitud 10.000.\n",
        "\n",
        "Optaremos por esta segunda opción, que más adelante veremos que tiene más ventajas que la primera. \n",
        "\n",
        "El código que permite hacer esta conversión es:"
      ]
    },
    {
      "cell_type": "code",
      "metadata": {
        "id": "DRWkMBaKrk5N"
      },
      "source": [
        "import numpy as np\n",
        "\n",
        "def vectorize_sequences(sequences, dimension=10000):\n",
        "    # Crea una matriz con todo 0 con shape (len(sequences), dimension)\n",
        "    results = np.zeros((len(sequences), dimension))\n",
        "    for i, sequence in enumerate(sequences):\n",
        "        results[i, sequence] = 1.  # Asigna los índices específicos para results[i] con 1s\n",
        "    return results\n",
        "\n",
        "# Vectorizamos training data\n",
        "x_train = vectorize_sequences(train_data)\n",
        "# Vectorizamos test data\n",
        "x_test = vectorize_sequences(test_data)"
      ],
      "execution_count": 8,
      "outputs": []
    },
    {
      "cell_type": "markdown",
      "metadata": {
        "id": "LspMiZXyrk5N"
      },
      "source": [
        "Este es el nuevo aspecto que tendría una opinión:"
      ]
    },
    {
      "cell_type": "code",
      "metadata": {
        "colab": {
          "base_uri": "https://localhost:8080/"
        },
        "id": "S0SlwjGmrk5N",
        "outputId": "b8b6223c-a424-4e11-e8c0-d0dc21a93f2d"
      },
      "source": [
        "x_train[0]"
      ],
      "execution_count": 9,
      "outputs": [
        {
          "output_type": "execute_result",
          "data": {
            "text/plain": [
              "array([0., 1., 1., ..., 0., 0., 0.])"
            ]
          },
          "metadata": {},
          "execution_count": 9
        }
      ]
    },
    {
      "cell_type": "markdown",
      "metadata": {
        "id": "b9c7qW_Qrk5N"
      },
      "source": [
        "También tendríamos que hacer una conversión con las etiquetas, pero como en este caso ya son vectores binarios, basta convertirlos en numéricos:"
      ]
    },
    {
      "cell_type": "code",
      "metadata": {
        "id": "OGPh531Vrk5N"
      },
      "source": [
        "# Vectorizamos las labels\n",
        "y_train = np.asarray(train_labels).astype('float32')\n",
        "y_test = np.asarray(test_labels).astype('float32')"
      ],
      "execution_count": 10,
      "outputs": []
    },
    {
      "cell_type": "markdown",
      "metadata": {
        "id": "lHHdBvxBrk5N"
      },
      "source": [
        "## 2. Definiendo la Red\n",
        "\n",
        "Como hemos visto, los datos de entrada son vectores, y las etiquetas son escalares (1s y 0s), así que estamos ante la configuración más sencilla de las posibles para ser trabajadas con una red neuronal, y un tipo de red que funciona bien con este tipo de problemas es una simple pila de capas densas con activaciones `relu`, que en Keras se construyen con la instrucción: `layers.Dense(16, activation='relu')`.\n",
        "\n",
        "En general, en todo tipo de capas, los argumentos más habituales que tendrás que usar serán el número de neuronas en la capa, y el tipo de activación que usarán estas neuronas. En el caso anterior usamos 16 neuronas, lo que significa que esta capa usará 16 dimensiones para intentar estructurar los patrones que encuentre en los datos de entrada según la función objetivo (loss) que deba optimizar. \n",
        "\n",
        "Se puede interpretar intuitivamente que la dimensión de la capa representa cuánta libertad se permite a la red para aprender representaciones internas. Tener más unidades permite aprender representaciones más complejas, pero también aumenta la carga computacional y facilita la memorización de patrones en los datos de entrenamiento (que quizás no sean relevantes para el problema y que puede llevar a un fenómeno de sobreajuste).\n",
        "\n",
        "Respecto a la arquitectura al trabajar con capas densas, hay dos decisiones claves que considerar:\n",
        "\n",
        "* Cuántas capas usar.\n",
        "* Cuántas unidades colocar en cada capa.\n",
        "\n",
        "Aunque no hay reglas generales para saber cómo tomar estas decisiones, sí que hay algunas razones que se pueden aprender con la experiencia y así poder extraer algún conocimiento implícito útil para el diseño de redes. Para este ejemplo, sin una justificación clara, y solo a modo de demostración de las técnicas vamos a usar dos capas intermedias de 16 neuronas cada una, y una tercera capa que tendrá una única salida escalar (que representará la predicción del modelo). Las capas intermedias usarán `relu` como función de activación, y la capa final usará una sigmoide (que tiene una salida en $[0, 1]$).\n",
        "\n",
        "La implementación en Keras, similar a la que ya hicimos para MNIST, es por tanto:"
      ]
    },
    {
      "cell_type": "code",
      "metadata": {
        "colab": {
          "base_uri": "https://localhost:8080/",
          "height": 422
        },
        "id": "KBtWZw7ork5N",
        "outputId": "b9b8656d-9966-4e48-c279-348efdd1381f"
      },
      "source": [
        "from tensorflow.keras import models\n",
        "from tensorflow.keras import layers\n",
        "from keras.utils.vis_utils import plot_model\n",
        "\n",
        "red = models.Sequential()\n",
        "red.add(layers.Dense(16, activation='relu', input_shape=(10000,)))\n",
        "red.add(layers.Dense(16, activation='relu'))\n",
        "red.add(layers.Dense(1, activation='sigmoid'))\n",
        "plot_model(red, to_file='IMDBModel_plot.png', show_shapes=True, show_layer_names=True)"
      ],
      "execution_count": 11,
      "outputs": [
        {
          "output_type": "execute_result",
          "data": {
            "image/png": "[encoded data removed]",
            "text/plain": [
              "<IPython.core.display.Image object>"
            ]
          },
          "metadata": {},
          "execution_count": 11
        }
      ]
    },
    {
      "cell_type": "markdown",
      "metadata": {
        "id": "S7w0wlkark5N"
      },
      "source": [
        "Si aún no tienes configurada la función para plots, a continuación se muestra la salida esperada:\n",
        "\n",
        "![](https://github.com/miguelamda/DL/blob/master/3.%20Frameworks%20Software/imgs/IMDBModel_plot.png?raw=1)\n",
        "\n",
        "Siguiendo el mismo patrón que vimos en el ejemplo anterior, necesitamos elegir la función de pérdida (que será minimizada) y el método de optimización (que será el que busque minimizar esa función). \n",
        "\n",
        "Como estamos ante un problema de clasificación binaria y la salida de nuestra red es una probabilidad (proporcionada por la sigmoide), usaremos `binary_crossentropy` como función de pérdida. No es la única opción viable, podríamos haber elegido, por ejemplo, `mean_squared_error`, pero en este caso `binary_crossentropy` es la mejor opción por estar trabajando con probabilidades. La entropía cruzada proviene del campo de **Teoría de la Información**, y mide la distancia entre distribuciones de probabilidad (en este caso, la distribución calculada por el predictor y la que representa la distribución _real_ proveniente de los datos de entrenamiento).\n",
        "\n",
        "Como optimizador usaremos `rmsprop`, que suele ser una buena elección. Para monitorear la evolución del aprendizaje usaremos una sola métrica, _accuracy_."
      ]
    },
    {
      "cell_type": "code",
      "metadata": {
        "id": "H44eFIo2rk5N"
      },
      "source": [
        "red.compile(optimizer='rmsprop',\n",
        "              loss='binary_crossentropy',\n",
        "              metrics=['accuracy'])"
      ],
      "execution_count": 12,
      "outputs": []
    },
    {
      "cell_type": "markdown",
      "metadata": {
        "id": "6z3kWRH9rk5N"
      },
      "source": [
        "En este caso estamos pasando todos los datos como cadenas que vienen predefinidas en Keras y trabajan con parámetros fijos, pero también es posible ajustar con más flexibilidad cada una de ellas y configurar los parámetros de los que depende, e incluso pasarle funciones, ya sean las que trae Keras o completamente personalizadas. De esta manera ahora por ejemplo podemos ajustar el **learning rate**. Por ejemplo:"
      ]
    },
    {
      "cell_type": "code",
      "metadata": {
        "id": "hiHEo3kBrk5N",
        "outputId": "8a87f2ce-b49e-4b21-a4fd-ebf79eb5cd9b",
        "colab": {
          "base_uri": "https://localhost:8080/"
        }
      },
      "source": [
        "from tensorflow.keras import optimizers\n",
        "\n",
        "red.compile(optimizer=optimizers.RMSprop(lr=0.001),\n",
        "              loss='binary_crossentropy',\n",
        "              metrics=['accuracy'])"
      ],
      "execution_count": 13,
      "outputs": [
        {
          "output_type": "stream",
          "name": "stderr",
          "text": [
            "/usr/local/lib/python3.7/dist-packages/keras/optimizer_v2/rmsprop.py:130: UserWarning: The `lr` argument is deprecated, use `learning_rate` instead.\n",
            "  super(RMSprop, self).__init__(name, **kwargs)\n"
          ]
        }
      ]
    },
    {
      "cell_type": "markdown",
      "metadata": {
        "id": "ONR4_cl8rk5N"
      },
      "source": [
        "O incluso de forma más detallada como:"
      ]
    },
    {
      "cell_type": "code",
      "metadata": {
        "id": "-CRbXYvArk5N",
        "outputId": "312ed797-79a5-4876-f482-16d88770bbd2",
        "colab": {
          "base_uri": "https://localhost:8080/"
        }
      },
      "source": [
        "from tensorflow.keras import losses\n",
        "from tensorflow.keras import metrics\n",
        "\n",
        "red.compile(optimizer=optimizers.RMSprop(lr=0.001),\n",
        "              loss=losses.binary_crossentropy,\n",
        "              metrics=[metrics.binary_accuracy])"
      ],
      "execution_count": 14,
      "outputs": [
        {
          "output_type": "stream",
          "name": "stderr",
          "text": [
            "/usr/local/lib/python3.7/dist-packages/keras/optimizer_v2/rmsprop.py:130: UserWarning: The `lr` argument is deprecated, use `learning_rate` instead.\n",
            "  super(RMSprop, self).__init__(name, **kwargs)\n"
          ]
        }
      ]
    },
    {
      "cell_type": "markdown",
      "metadata": {
        "id": "ppR-AhZTrk5N"
      },
      "source": [
        "## 3. Validando el modelo\n",
        "\n",
        "Con el fin de monitorizar la métrica (_accuracy_) mientras se produce el entrenamiento necesitamos tener más datos que el modelo no use durante el proceso. Crearemos para ello un *conjunto de validación* separando otras 10.000 muestras del conjunto original. Así pues la situación queda como:\n",
        "\n",
        "* _Conjunto de entrenamiento_: con el que intentaremos optimizar los pesos de la red para que minimice la función de pérdida. En este proceso se usa un modelo que depende de ciertos parámetros que quizás deban ser ajustados para conseguir mejorar el rendimiento.\n",
        "\n",
        "* _Conjunto de validación_: con el que se medirá cómo de bueno es el modelo concreto que estamos entrenando (con unos parámetros fijos). Es algo así como un conjunto de test temporal. Permite ajustar estos parámetros para mejorar el rendimiento.\n",
        "\n",
        "* _Conjunto de test_: que no se ha usado en ningún momento de las iteraciones anteriores y que permite medir de forma objetiva la bondad del modelo final obtenido."
      ]
    },
    {
      "cell_type": "code",
      "metadata": {
        "id": "aVMcqLHhrk5N"
      },
      "source": [
        "x_val = x_train[:10000]\n",
        "partial_x_train = x_train[10000:]\n",
        "\n",
        "y_val = y_train[:10000]\n",
        "partial_y_train = y_train[10000:]"
      ],
      "execution_count": 15,
      "outputs": []
    },
    {
      "cell_type": "markdown",
      "metadata": {
        "id": "v_-7x6H3rk5N"
      },
      "source": [
        "A continuación, entrenaremos el modelo realizando 20 iteraciones (_epochs_) sobre el conjunto completo de entrenamiento, ni validación, ni test), en mini-batches de 512 muestras (es decir, cada 512 muestras analizadas, se actualizan los pesos de la red). Monitorearemos _loss_ y _accuracy_ sobre las 10.000 muestras que dejamos en el conjunto de validación. Para ello, usamos el argumento `validation_data` de la función `fit`, que no usamos en el ejemplo anterior:"
      ]
    },
    {
      "cell_type": "code",
      "metadata": {
        "colab": {
          "base_uri": "https://localhost:8080/"
        },
        "id": "VyxkKMSurk5O",
        "outputId": "46c213d2-1bcc-4ee9-fe67-0e2b43a376c6"
      },
      "source": [
        "entrenamiento = red.fit(partial_x_train,\n",
        "                    partial_y_train,\n",
        "                    epochs=20,\n",
        "                    batch_size=512,\n",
        "                    validation_data=(x_val, y_val))"
      ],
      "execution_count": 16,
      "outputs": [
        {
          "output_type": "stream",
          "name": "stdout",
          "text": [
            "Epoch 1/20\n",
            "30/30 [==============================] - 4s 72ms/step - loss: 0.5678 - binary_accuracy: 0.7735 - val_loss: 0.4510 - val_binary_accuracy: 0.8649\n",
            "Epoch 2/20\n",
            "30/30 [==============================] - 1s 50ms/step - loss: 0.3625 - binary_accuracy: 0.8938 - val_loss: 0.3475 - val_binary_accuracy: 0.8700\n",
            "Epoch 3/20\n",
            "30/30 [==============================] - 2s 52ms/step - loss: 0.2578 - binary_accuracy: 0.9184 - val_loss: 0.3096 - val_binary_accuracy: 0.8776\n",
            "Epoch 4/20\n",
            "30/30 [==============================] - 2s 57ms/step - loss: 0.1987 - binary_accuracy: 0.9362 - val_loss: 0.2765 - val_binary_accuracy: 0.8894\n",
            "Epoch 5/20\n",
            "30/30 [==============================] - 2s 61ms/step - loss: 0.1606 - binary_accuracy: 0.9483 - val_loss: 0.2835 - val_binary_accuracy: 0.8869\n",
            "Epoch 6/20\n",
            "30/30 [==============================] - 1s 34ms/step - loss: 0.1301 - binary_accuracy: 0.9590 - val_loss: 0.2954 - val_binary_accuracy: 0.8828\n",
            "Epoch 7/20\n",
            "30/30 [==============================] - 1s 35ms/step - loss: 0.1099 - binary_accuracy: 0.9675 - val_loss: 0.3004 - val_binary_accuracy: 0.8865\n",
            "Epoch 8/20\n",
            "30/30 [==============================] - 1s 37ms/step - loss: 0.0899 - binary_accuracy: 0.9756 - val_loss: 0.3415 - val_binary_accuracy: 0.8797\n",
            "Epoch 9/20\n",
            "30/30 [==============================] - 1s 33ms/step - loss: 0.0718 - binary_accuracy: 0.9814 - val_loss: 0.3366 - val_binary_accuracy: 0.8809\n",
            "Epoch 10/20\n",
            "30/30 [==============================] - 1s 34ms/step - loss: 0.0592 - binary_accuracy: 0.9852 - val_loss: 0.3788 - val_binary_accuracy: 0.8809\n",
            "Epoch 11/20\n",
            "30/30 [==============================] - 1s 41ms/step - loss: 0.0459 - binary_accuracy: 0.9897 - val_loss: 0.3976 - val_binary_accuracy: 0.8760\n",
            "Epoch 12/20\n",
            "30/30 [==============================] - 2s 53ms/step - loss: 0.0361 - binary_accuracy: 0.9923 - val_loss: 0.4488 - val_binary_accuracy: 0.8674\n",
            "Epoch 13/20\n",
            "30/30 [==============================] - 2s 54ms/step - loss: 0.0309 - binary_accuracy: 0.9934 - val_loss: 0.4631 - val_binary_accuracy: 0.8773\n",
            "Epoch 14/20\n",
            "30/30 [==============================] - 2s 55ms/step - loss: 0.0215 - binary_accuracy: 0.9968 - val_loss: 0.5025 - val_binary_accuracy: 0.8675\n",
            "Epoch 15/20\n",
            "30/30 [==============================] - 1s 39ms/step - loss: 0.0196 - binary_accuracy: 0.9965 - val_loss: 0.5260 - val_binary_accuracy: 0.8737\n",
            "Epoch 16/20\n",
            "30/30 [==============================] - 2s 61ms/step - loss: 0.0122 - binary_accuracy: 0.9987 - val_loss: 0.5697 - val_binary_accuracy: 0.8750\n",
            "Epoch 17/20\n",
            "30/30 [==============================] - 2s 53ms/step - loss: 0.0112 - binary_accuracy: 0.9982 - val_loss: 0.5995 - val_binary_accuracy: 0.8682\n",
            "Epoch 18/20\n",
            "30/30 [==============================] - 2s 57ms/step - loss: 0.0072 - binary_accuracy: 0.9997 - val_loss: 0.6400 - val_binary_accuracy: 0.8690\n",
            "Epoch 19/20\n",
            "30/30 [==============================] - 2s 53ms/step - loss: 0.0053 - binary_accuracy: 0.9997 - val_loss: 0.7683 - val_binary_accuracy: 0.8636\n",
            "Epoch 20/20\n",
            "30/30 [==============================] - 2s 55ms/step - loss: 0.0038 - binary_accuracy: 0.9998 - val_loss: 0.7290 - val_binary_accuracy: 0.8678\n"
          ]
        }
      ]
    },
    {
      "cell_type": "markdown",
      "metadata": {
        "id": "m7RzGlc-rk5O"
      },
      "source": [
        "Aunque no lo usamos en el ejemplo anterior, y tampoco pasamos el resultado a una variable para poder hacerlo, la llamada a `fit()` devuelve un objeto `history`, que tiene la siguiente estructura:\n"
      ]
    },
    {
      "cell_type": "code",
      "metadata": {
        "colab": {
          "base_uri": "https://localhost:8080/"
        },
        "id": "D0udIz1erk5O",
        "outputId": "b2ec5c1c-36e9-46e3-9926-0593255eb714"
      },
      "source": [
        "entrenamiento_dict = entrenamiento.history\n",
        "entrenamiento_dict.keys()"
      ],
      "execution_count": 17,
      "outputs": [
        {
          "output_type": "execute_result",
          "data": {
            "text/plain": [
              "dict_keys(['loss', 'binary_accuracy', 'val_loss', 'val_binary_accuracy'])"
            ]
          },
          "metadata": {},
          "execution_count": 17
        }
      ]
    },
    {
      "cell_type": "markdown",
      "metadata": {
        "id": "RL13CDOArk5O"
      },
      "source": [
        "En este caso, este objeto contiene 4 entradas, una por cada métrica que está siendo monitorizada durante el entrenamiento y durante la validación. Podemos usar `Matplotlib` para representar las pérdidas/precisión de entrenamiento y validación simultáneamente:"
      ]
    },
    {
      "cell_type": "code",
      "metadata": {
        "colab": {
          "base_uri": "https://localhost:8080/",
          "height": 297
        },
        "id": "tTKvMprLrk5O",
        "outputId": "0c7f3318-450c-4b16-d9c3-7da52326e4ee"
      },
      "source": [
        "import matplotlib.pyplot as plt\n",
        "\n",
        "# extraemos los valores de la función de pérdida sobre entrenamiento y validación\n",
        "ent_loss = entrenamiento.history['loss']\n",
        "val_loss = entrenamiento.history['val_loss']\n",
        "\n",
        "epochs = range(1, len(ent_loss) + 1)\n",
        "\n",
        "# \"bo\" es para \"blue dot\" (punto azul)\n",
        "plt.plot(epochs, ent_loss, 'bo', label='Entrenamiento')\n",
        "# b es para \"solid blue line\" (línea azul sólida)\n",
        "plt.plot(epochs, val_loss, 'b', label='Validación')\n",
        "plt.title('Pérdida en Entrenamiento y Validación')\n",
        "plt.xlabel('Épocas')\n",
        "plt.ylabel('Pérdida')\n",
        "plt.legend()\n",
        "\n",
        "plt.show()"
      ],
      "execution_count": 19,
      "outputs": [
        {
          "output_type": "display_data",
          "data": {
            "image/png": "[encoded data removed]",
            "text/plain": [
              "<Figure size 432x288 with 1 Axes>"
            ]
          },
          "metadata": {
            "needs_background": "light"
          }
        }
      ]
    },
    {
      "cell_type": "code",
      "metadata": {
        "colab": {
          "base_uri": "https://localhost:8080/",
          "height": 297
        },
        "id": "R7FUqrYark5O",
        "outputId": "2075fcc6-2798-4f9e-8e8b-8210d0ecaddf"
      },
      "source": [
        "plt.clf()   # Limpiamos la figura\n",
        "# extraemos el rendimiento obtenido con entrenamiento según la métrica escogida, binary_accuracy\n",
        "ent_acc = entrenamiento.history['binary_accuracy']\n",
        "# extraemos el rendimiento obtenido con validación según la métrica escogida, binary_accuracy\n",
        "val_acc = entrenamiento.history['val_binary_accuracy']\n",
        "\n",
        "plt.plot(epochs, ent_acc, 'bo', label='Entrenamiento')\n",
        "plt.plot(epochs, val_acc, 'b', label='Validación')\n",
        "plt.title('Accuracy en Entrenamiento y Validación')\n",
        "plt.xlabel('Épocas')\n",
        "plt.ylabel('Accuracy')\n",
        "plt.legend()\n",
        "\n",
        "plt.show()"
      ],
      "execution_count": 20,
      "outputs": [
        {
          "output_type": "display_data",
          "data": {
            "image/png": "[encoded data removed]",
            "text/plain": [
              "<Figure size 432x288 with 1 Axes>"
            ]
          },
          "metadata": {
            "needs_background": "light"
          }
        }
      ]
    },
    {
      "cell_type": "markdown",
      "metadata": {
        "id": "hGD1veAgrk5O"
      },
      "source": [
        "\n",
        "Estas gráficas muestras que la _pérdida_ de entrenamiento decrece en cada epoch, y que el _accuracy_ en entrenamiento crece, algo que indica que el procedimiento de optimización está funcionando adecuadamente (sobre todo respecto a la función de pérdida). Pero en este caso observamos que no ocurre lo mismo con la validación, que empiezan a empeorar a partir de la época 4. Estamos ante un claro caso de *sobreajuste* (u *overfitting*): tras unos pocos pasos el sistema se sobreajusta a los datos de entrenamiento, y aprende una representación que es específica a estos datos y que no puede generalizarse a otros datos.\n",
        "\n",
        "En este caso, para prevenir el overfitting podríamos parar el entrenamiento tras las 3 primeras iteraciones. Más adelante veremos algunas otras técnicas para mitigar este efecto, pero por ahora nos contentaremos con este procedimiento que, aún lejos de ser el mejor, evita este problema ahora mismo.\n",
        "\n",
        "Vamos a entrenar una nueva red desde el principio pero solo durante 4 epochs y después evaluaremos el modelo sobre los datos de test (observa que estos datos no los hemos usado en ningún momento hasta ahora):"
      ]
    },
    {
      "cell_type": "code",
      "metadata": {
        "colab": {
          "base_uri": "https://localhost:8080/"
        },
        "id": "ipxCM3FIrk5O",
        "outputId": "28bbb45e-a965-4e64-ed31-2d4636757aad"
      },
      "source": [
        "# para entrenar de nuevo volvemos a crear el modelo\n",
        "red2 = models.Sequential()\n",
        "red2.add(layers.Dense(16, activation='relu', input_shape=(10000,)))\n",
        "red2.add(layers.Dense(16, activation='relu'))\n",
        "red2.add(layers.Dense(1, activation='sigmoid'))\n",
        "\n",
        "red2.compile(optimizer='rmsprop',\n",
        "              loss='binary_crossentropy',\n",
        "              metrics=['accuracy'])\n",
        "\n",
        "red2.fit(x_train, y_train, epochs=4, batch_size=512)\n",
        "results = red2.evaluate(x_test, y_test)"
      ],
      "execution_count": 21,
      "outputs": [
        {
          "output_type": "stream",
          "name": "stdout",
          "text": [
            "Epoch 1/4\n",
            "49/49 [==============================] - 2s 26ms/step - loss: 0.4903 - accuracy: 0.8119\n",
            "Epoch 2/4\n",
            "49/49 [==============================] - 1s 27ms/step - loss: 0.2784 - accuracy: 0.9060\n",
            "Epoch 3/4\n",
            "49/49 [==============================] - 1s 26ms/step - loss: 0.2061 - accuracy: 0.9270\n",
            "Epoch 4/4\n",
            "49/49 [==============================] - 1s 26ms/step - loss: 0.1718 - accuracy: 0.9391\n",
            "782/782 [==============================] - 2s 2ms/step - loss: 0.2924 - accuracy: 0.8850\n"
          ]
        }
      ]
    },
    {
      "cell_type": "code",
      "metadata": {
        "colab": {
          "base_uri": "https://localhost:8080/"
        },
        "id": "5E-Tmtxark5O",
        "outputId": "6285e5bb-1ccc-4fb8-fde0-29fd3940ec02"
      },
      "source": [
        "results"
      ],
      "execution_count": 22,
      "outputs": [
        {
          "output_type": "execute_result",
          "data": {
            "text/plain": [
              "[0.29238229990005493, 0.8850399851799011]"
            ]
          },
          "metadata": {},
          "execution_count": 22
        }
      ]
    },
    {
      "cell_type": "markdown",
      "metadata": {
        "id": "48EPipNprk5O"
      },
      "source": [
        "Vemos que la aproximación tan simple que hemos hecho consigue un accuracy del 88% (el estado del arte actual para este problema ronda del 95%, pero trabajando sobre redes mucho más elaboradas)."
      ]
    },
    {
      "cell_type": "markdown",
      "metadata": {
        "id": "tZlQ92Q4rk5O"
      },
      "source": [
        "## 4. Predicciones sobre datos nuevos\n",
        "\n",
        "Tras haber entrenado la red, el paso natural es usar el modelo para algo práctico. Puedes generar nuevas predicciones sobre opiniones para analizar si son positivas o no usando  el método `predict` asociado al modelo:"
      ]
    },
    {
      "cell_type": "code",
      "metadata": {
        "colab": {
          "base_uri": "https://localhost:8080/"
        },
        "id": "CVDHj-Sjrk5O",
        "outputId": "ea6e5b88-2543-4bb9-a4b4-8b07b3e14d39"
      },
      "source": [
        "red2.predict(x_test)"
      ],
      "execution_count": 23,
      "outputs": [
        {
          "output_type": "execute_result",
          "data": {
            "text/plain": [
              "array([[0.21402693],\n",
              "       [0.9999603 ],\n",
              "       [0.9390079 ],\n",
              "       ...,\n",
              "       [0.09875163],\n",
              "       [0.07413131],\n",
              "       [0.58967245]], dtype=float32)"
            ]
          },
          "metadata": {},
          "execution_count": 23
        }
      ]
    },
    {
      "cell_type": "markdown",
      "metadata": {
        "id": "zXbrISPGrk5O"
      },
      "source": [
        "Verás que el modelo es muy determinante en algunos casos (alcanzando valores como 0,99 o 0,01) pero no tanto en otros (como 0,46)."
      ]
    },
    {
      "cell_type": "markdown",
      "metadata": {
        "id": "TpQQrvkErk5O"
      },
      "source": [
        "## 5. Trabajo Opcional Propuesto\n",
        "\n",
        "* En los modelos anteriores hemos usado 2 capas ocultas... comprueba el efecto de ampliar o reducir este número sobre la accuracy de validación y de test.\n",
        "* Cambia el número de unidades en las capas ocultas (8, 32, 64,...) y mide su efecto.\n",
        "* Mira qué ocurre al usar `mse` como función de pérdida, en vez de `binary_crossentropy`.\n",
        "* Mira qué ocurre al usar la activación `tanh` en vez de `relu`."
      ]
    },
    {
      "cell_type": "markdown",
      "metadata": {
        "id": "gw6XgxCprk5P"
      },
      "source": [
        "## 6. Conclusiones\n",
        "\n",
        "A pesar de haber analizado únicamente un ejemplo de introducción sin llegar a profundizar en detalles ni experimentar profundamente con los parámetros, podemos ir ya apuntando algunas conclusiones importantes que pueden ayudarnos en casos posteriores:\n",
        "\n",
        "* El trabajo de preprocesamiento sobre los datos es una etapa esencial para que puedas alimentar a las redes (no olvides que se alimentan de tensores).\n",
        "* Las secuencias de palabras se pueden codificar como vectores binarios, aunque hay otras opciones.\n",
        "* Las pilas de capas densas con activaciones `relu` pueden resolver una amplia variedad de problemas... así que no las olvides.\n",
        "* En los problemas de clasificación binaria, la red debería acabar en una capa densa con una sola neurona que haga uso de la activación `sigmoid`. De esta forma, la salida será un único escalar en $[0,1]$ que se puede interpretar como una probabilidad.\n",
        "* En este caso (salida sigmoide en un problema de clasificación binario) una función de pérdida adecuada es `binary_crossentropy`.\n",
        "* El optimizador `rmsprop` es normalmente una buena opción.\n",
        "* Cuidado con el *overfitting*. Asegúrate de monitorear la evolución del entrenamiento (acuérdate de preparar un conjunto de validación adicional)."
      ]
    }
  ]
}
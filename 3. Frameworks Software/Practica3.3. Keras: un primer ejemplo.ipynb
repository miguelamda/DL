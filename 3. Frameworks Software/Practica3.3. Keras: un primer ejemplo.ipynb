{
  "nbformat": 4,
  "nbformat_minor": 0,
  "metadata": {
    "kernelspec": {
      "display_name": "Python 3",
      "language": "python",
      "name": "python3"
    },
    "language_info": {
      "codemirror_mode": {
        "name": "ipython",
        "version": 3
      },
      "file_extension": ".py",
      "mimetype": "text/x-python",
      "name": "python",
      "nbconvert_exporter": "python",
      "pygments_lexer": "ipython3",
      "version": "3.6.8"
    },
    "colab": {
      "name": "Practica3.3. Keras: un primer ejemplo.ipynb",
      "provenance": [],
      "toc_visible": true,
      "include_colab_link": true
    }
  },
  "cells": [
    {
      "cell_type": "markdown",
      "metadata": {
        "id": "view-in-github",
        "colab_type": "text"
      },
      "source": [
        "<a href=\"https://colab.research.google.com/github/miguelamda/DL/blob/master/3.%20Frameworks%20Software/Practica3.3.%20Keras%3A%20un%20primer%20ejemplo.ipynb\" target=\"_parent\"><img src=\"https://colab.research.google.com/assets/colab-badge.svg\" alt=\"Open In Colab\"/></a>"
      ]
    },
    {
      "cell_type": "markdown",
      "metadata": {
        "id": "WLqQD-DPhtsF"
      },
      "source": [
        "# Práctica 3.3. Primer ejemplo con Keras\n",
        "\n",
        "A continuación tendremos nuestro primer [Jupyter Notebook](http://jupyter.org) completo de Deep Learning con [Keras](https://keras.io) (y Python usando de fondo TensorFlow). Podemos obeservar en la figura las capas en las que consiste Keras, desde el hardware soportado (abajo) hasta modelos completos (arriba). Tensorflow es el motor principal de Keras, aunque también hay cierto soporte con CNTK y Theano (lamentablemente, ya sin soporte). Desde Tensorflow 2, Keras forma parte de la API como medio de dar un nivel mayor de abstracción.\n",
        "\n",
        "<!--<img src=\"./imgs/env.png\" width=500px/>\n",
        "![](https://github.com/miguelamda/DL/raw/master/3.%20Frameworks%20Software/imgs/Env.png)-->\n",
        "\n",
        "Construiremos un ejemplo de red neuronal muy simple, con apenas un par de capas, para abordar el famoso problema [MNIST](https://en.wikipedia.org/wiki/MNIST_database). Nuestro objetivo es ver el flujo de trabajo habitual para describir un modelo en Keras, pero sin profundizar en los detalles, que veremos en temas posteriores.\n",
        "\n",
        "<img src=\"https://upload.wikimedia.org/wikipedia/commons/2/27/MnistExamples.png\" width=\"300px\" />\n",
        "\n",
        "<!--Además, también usaremos este notebook para familiarizarnos con el uso de Jupyter como entorno de desarrollo y experimentación. Para ejecutar los diversos chunks (así se llaman las únidades de código que conforman un notebook) de este notebook puedes pulsar en el botón *Run* (que hay a la izquierda de cada uno de ellos), o bien situando el cursor dentro del chunk y presionando la combinación de teclas *Shift+Enter*. También tienes la opción de usar las opciones de ejecución en el menú *Run* de la barra del navegador Jupyter. Ten en cuenta que algunas opciones pueden cambiar dependiendo del entorno en el que estés trabajando con este notebook (Jupyter Notebook, Jupyter Lab, o Collab de Google.. cualquiera de los tres funcionan de forma similar, pero con ligeras diferencias). -->"
      ]
    },
    {
      "cell_type": "markdown",
      "metadata": {
        "id": "8uzLCQSOhtsF"
      },
      "source": [
        "El primer paso es cargar la librería keras que permitirá interactuar a Python con la librería de Deep Learning que usemos (en nuestro caso, [Tensorflow](https://www.tensorflow.org)). \n",
        "\n",
        "En la celda también mostramos la versión de keras que estamos usando e información de los dispositivos que usará Tensorflow para los cálculos siguientes."
      ]
    },
    {
      "cell_type": "code",
      "metadata": {
        "colab": {
          "base_uri": "https://localhost:8080/"
        },
        "id": "Nxo-Fcn4htsF",
        "outputId": "7aca70a1-dce6-414d-fc3a-f240c432efb9"
      },
      "source": [
        "import tensorflow \n",
        "print(tensorflow.keras.__version__)\n",
        "from tensorflow.python.client import device_lib\n",
        "print(device_lib.list_local_devices())"
      ],
      "execution_count": 1,
      "outputs": [
        {
          "output_type": "stream",
          "name": "stdout",
          "text": [
            "2.7.0\n",
            "[name: \"/device:CPU:0\"\n",
            "device_type: \"CPU\"\n",
            "memory_limit: 268435456\n",
            "locality {\n",
            "}\n",
            "incarnation: 5915764348668612227\n",
            "xla_global_id: -1\n",
            "]\n"
          ]
        }
      ]
    },
    {
      "cell_type": "markdown",
      "metadata": {
        "id": "CiaeYdKShtsH"
      },
      "source": [
        "## 1. Preparación de los datos\n",
        "\n",
        "El primer paso de todo modelado es la preparación y carga de los datos. En nuestro caso, del problema [MNIST](http://yann.lecun.com/exdb/mnist/), que consta de una gran base de datos de dígitos escritos a mano y que es tan habitual que se ha convertido en un ejemplo paradigmático dentro de Machine Learning.\n",
        "\n",
        "El trabajo de preprocesamiento necesario para poder aplicar un modelo a este problema puede ser considerable pero, afortunadamente, Keras proporciona una instrucción directa para descargar las imágenes que representan los miles de dígitos escritos a mano (ya con formato unificado de 28x28 pixels en escala de grises, es decir, un solo canal de color).\n",
        "\n",
        "Para poder cargar los datos que trae de ejemplo Keras hay que seguir dos pasos:\n",
        " * primero, cargar la librería de Keras que porporciona las herramientas para trabajar con el dataset concreto (que suelen estar en el paquete `keras.datasets`, en este caso llamado `mnist`); y,\n",
        " * segundo, ejecutar el proceso de carga de los datos (la librería proporciona la función `load_data()`). Ha de tenerse en cuenta que la primera vez que se realiza este proceso los datos se descargan desde un repositorio que viene por defecto predefinido en ese paquete, ya que, debido a su tamaño, no se instalan junto con la librería, sino únicamente cuando el usuario los necesita:"
      ]
    },
    {
      "cell_type": "code",
      "metadata": {
        "id": "E72OkBzIhtsH"
      },
      "source": [
        "from tensorflow.keras.datasets import mnist\n",
        "\n",
        "(train_data, train_labels), (test_data, test_labels) = mnist.load_data()"
      ],
      "execution_count": 2,
      "outputs": []
    },
    {
      "cell_type": "markdown",
      "metadata": {
        "id": "dzfThvqDhtsH"
      },
      "source": [
        "Observa que el proceso de carga de datos separa adecuadamente las diversas partes de que consta este dataset:  (_conjunto de entrenamiento_, _conjunto de test_), y cada uno de estos conjuntos está formado por un conjunto de datos (imágenes, en este caso concreto), con sus respectivas etiquetas de clasificación (_labels_). Además, aprovechamos la capacidad sintáctica de Python para realizar la carga de todos estos conjuntos en un solo paso (haciendo una \n",
        "asignación múltiple).\n",
        "\n",
        "Podemos explorar un poco cómo son cada una de estas variables haciendo uso de instrucciones específicas de Python que nos dan información acerca de su estructura y muestra los primeros valores:"
      ]
    },
    {
      "cell_type": "code",
      "metadata": {
        "colab": {
          "base_uri": "https://localhost:8080/"
        },
        "id": "fSLMtxuZhtsH",
        "outputId": "88b04f20-83c4-4142-80f4-e6c07ad4e750"
      },
      "source": [
        "train_data.shape"
      ],
      "execution_count": 3,
      "outputs": [
        {
          "output_type": "execute_result",
          "data": {
            "text/plain": [
              "(60000, 28, 28)"
            ]
          },
          "metadata": {},
          "execution_count": 3
        }
      ]
    },
    {
      "cell_type": "code",
      "metadata": {
        "colab": {
          "base_uri": "https://localhost:8080/"
        },
        "id": "IpIRifZghtsH",
        "outputId": "5d3624f5-11df-4405-f73c-4aeda9e52c9b"
      },
      "source": [
        "len(train_labels)"
      ],
      "execution_count": 4,
      "outputs": [
        {
          "output_type": "execute_result",
          "data": {
            "text/plain": [
              "60000"
            ]
          },
          "metadata": {},
          "execution_count": 4
        }
      ]
    },
    {
      "cell_type": "code",
      "metadata": {
        "colab": {
          "base_uri": "https://localhost:8080/"
        },
        "id": "ggDsNm-phtsH",
        "outputId": "445b3598-250d-4024-a162-739e10344695"
      },
      "source": [
        "train_labels"
      ],
      "execution_count": 5,
      "outputs": [
        {
          "output_type": "execute_result",
          "data": {
            "text/plain": [
              "array([5, 0, 4, ..., 5, 6, 8], dtype=uint8)"
            ]
          },
          "metadata": {},
          "execution_count": 5
        }
      ]
    },
    {
      "cell_type": "code",
      "metadata": {
        "colab": {
          "base_uri": "https://localhost:8080/"
        },
        "id": "84bEyAZBhtsH",
        "outputId": "95bd1aa4-7f99-41a6-dcaa-74cf978cbed2"
      },
      "source": [
        "test_data.shape"
      ],
      "execution_count": 6,
      "outputs": [
        {
          "output_type": "execute_result",
          "data": {
            "text/plain": [
              "(10000, 28, 28)"
            ]
          },
          "metadata": {},
          "execution_count": 6
        }
      ]
    },
    {
      "cell_type": "code",
      "metadata": {
        "colab": {
          "base_uri": "https://localhost:8080/"
        },
        "id": "7pqsTMQlhtsH",
        "outputId": "6120c248-ffe7-4ee4-89ee-8c314cf6d890"
      },
      "source": [
        "len(test_labels)"
      ],
      "execution_count": 7,
      "outputs": [
        {
          "output_type": "execute_result",
          "data": {
            "text/plain": [
              "10000"
            ]
          },
          "metadata": {},
          "execution_count": 7
        }
      ]
    },
    {
      "cell_type": "code",
      "metadata": {
        "colab": {
          "base_uri": "https://localhost:8080/"
        },
        "id": "rG5emsM8htsH",
        "outputId": "641a3960-8fcb-4d10-9770-ac0f9d0423e7"
      },
      "source": [
        "test_labels"
      ],
      "execution_count": 8,
      "outputs": [
        {
          "output_type": "execute_result",
          "data": {
            "text/plain": [
              "array([7, 2, 1, ..., 4, 5, 6], dtype=uint8)"
            ]
          },
          "metadata": {},
          "execution_count": 8
        }
      ]
    },
    {
      "cell_type": "markdown",
      "metadata": {
        "id": "nhZf3chbhtsH"
      },
      "source": [
        "Para visualizar alguna de las imágenes que hay en el dataset, podemos definirnos una función que haga uso de la instrucción adecuada de, por ejemplo, la librería `matplotlib`:"
      ]
    },
    {
      "cell_type": "code",
      "metadata": {
        "colab": {
          "base_uri": "https://localhost:8080/",
          "height": 265
        },
        "id": "ctNqLhNqhtsH",
        "outputId": "e1c5bfa4-f19a-41bf-faa5-78d84f2216ee"
      },
      "source": [
        "from matplotlib import pyplot as plt\n",
        "import numpy as np\n",
        "\n",
        "def gen_image(arr):\n",
        "    conv = (np.reshape(arr, (28, 28)) * 255).astype(np.uint8)\n",
        "    plt.imshow(conv, interpolation='nearest')\n",
        "    return plt\n",
        "\n",
        "gen_image(test_data[0]).show()"
      ],
      "execution_count": 9,
      "outputs": [
        {
          "output_type": "display_data",
          "data": {
            "image/png": "[encoded data removed]",
            "text/plain": [
              "<Figure size 432x288 with 1 Axes>"
            ]
          },
          "metadata": {
            "needs_background": "light"
          }
        }
      ]
    },
    {
      "cell_type": "markdown",
      "metadata": {
        "id": "kQs2ERcihtsH"
      },
      "source": [
        "El flujo de trabajo es similar al que se sigue siempre en los procesos de ML Supervisado, y que hemos analizado en el tema anterior: \n",
        "  1. Mostramos al modelo (una red neuronal, en nuestro caso) los datos de *entrenamiento*, `train_data` y `train_labels`.\n",
        "  2. El modelo debe *aprender* a asociar las imágenes con las etiquetas asociadas.\n",
        "  3. Por último, verificamos el aprendizaje realizado comprobando sobre `test_data` que las respuestas dadas por el modelo (*predicciones*) coinciden con las almacenadas en `test_labels`.\n",
        "\n",
        "<img src=\"https://thumbs.gfycat.com/FickleHorribleBlackfootedferret-small.gif\" />"
      ]
    },
    {
      "cell_type": "markdown",
      "metadata": {
        "id": "FnQsXl8vhtsH"
      },
      "source": [
        "## 2. Definición del modelo\n",
        "\n",
        "Ya estamos en condiciones de definir una red neuronal que consumirá los datos anteriores para ver si somos capaces de dar una primera solución al problema del reconocimiento de dígitos manuscritos. Como solo estamos haciendo una primera aproximación a Keras, la red definida será muy básica, con solo una capa de entrada y una de salida:\n",
        "\n",
        "  1. Vamos a situar una capa de entrada con 784 (= 28 * 28) neuronas (que recibirán cada uno de los 784 pixels de cada imagen), con función de activación ReLU, y \n",
        "  2. una capa de salida con 10 neuronas (una neurona para cada una de las posibles etiquetas de salida), y con activación softmax (por lo que se podrá interpretar como una probabilidad de salida que indica lo probable que es que la imagen de entrada tenga cada una de las etiquetas como salida):"
      ]
    },
    {
      "cell_type": "code",
      "metadata": {
        "colab": {
          "base_uri": "https://localhost:8080/",
          "height": 312
        },
        "id": "gsarTxyGhtsH",
        "outputId": "d5fbe529-cde7-43c7-f50f-13b7641011f2"
      },
      "source": [
        "from tensorflow.keras import models\n",
        "from tensorflow.keras import layers\n",
        "from keras.utils.vis_utils import plot_model\n",
        "\n",
        "red = models.Sequential()\n",
        "red.add(layers.Dense(512, activation='relu', input_shape=(28 * 28,)))\n",
        "red.add(layers.Dense(10, activation='softmax'))\n",
        "plot_model(red, to_file='model_plot.png', show_shapes=True, show_layer_names=True)"
      ],
      "execution_count": 12,
      "outputs": [
        {
          "output_type": "execute_result",
          "data": {
            "image/png": "[encoded data removed]",
            "text/plain": [
              "<IPython.core.display.Image object>"
            ]
          },
          "metadata": {},
          "execution_count": 12
        }
      ]
    },
    {
      "cell_type": "markdown",
      "metadata": {
        "id": "TP-H6kc6htsH"
      },
      "source": [
        "Para facilitar la comprensión de esta introducción, hemos hecho uso de las utilidades de Keras para dar una representación visual de la estructura de la red. Ha de tenerse en cuenta que para ello es necesario instalar [Graphviz](http://www.graphviz.org) y la librería `pydot` de Python que se comunica con ella. Si no lo tienes configurado todavía, aquí tienes la salida esperada:\n",
        "\n",
        "<img src=\"https://github.com/miguelamda/DL/blob/master/3.%20Frameworks%20Software/imgs/model_plot.png?raw=1\" />\n",
        "\n",
        "Además de las neuronas, que son las unidades atómicas que componen una red neuronal, desde un punto de vista funcional, el elemento básico de las redes neuronales es lo que se conoce como *capa* (*layer*), un módulo de procesamiento  formado por un conjunto de neuronas iguales que puede ver interpretarse como un \"filtro\" de datos. Como veremos a lo largo del curso, las capas son las encargadas de generar *representaciones* útiles de los datos que reciben, y que ayuden a resolver el problema para el que se ha construido la red. La mayor parte del Deep Learning, y donde esta demostrando un valor añadido respecto de los otros modelos de ML existentes, consiste en concatenar capas simples (y, posiblemente, con funcionalidades específicas diferenciadas) para obtener un dispositivo de cálculo que procesa datos de forma progresiva.\n",
        "\n",
        "En el caso de la red que hemos definido, este dispositivo consta de una secuencia de dos capas densas, que son capas neurales totalmente conectadas. La segunda (y última) capa es una capa \"softmax\" de 10 salidas, lo que significa que devolverá un vector probabilístico de 10 valores (es decir, 10 valores en $[0,1]$ que suman 1). Cada uno de estos valores se interpretará la probabilidad de que la imagen actual pertenezca a una de las 10 clases (los dígitos del 0 al 9).\n",
        "\n",
        "Hasta ahora solo hemos definido la estructura de la red, pero no hemos dado ninguna información acerca de cómo se llevará a cabo el entrenamiento. Para ello, hemos de indicarle a Keras algunas características adicionales, tales como el optimizador que permitirá modificar los pesos de la red, qué función objetivo (de error) se usará para dirigir esta optimización, y la métrica que usaremos para medir cómo se va comportando la red a medida que se entrena. \n",
        "\n",
        "Keras proporciona la función `compile` que permite establecer estas (y otras) propiedades sobre una red ya definida:\n"
      ]
    },
    {
      "cell_type": "code",
      "metadata": {
        "id": "SxhVu6HrhtsH"
      },
      "source": [
        "red.compile(optimizer='rmsprop',\n",
        "                loss='categorical_crossentropy',\n",
        "                metrics=['categorical_accuracy'])"
      ],
      "execution_count": 13,
      "outputs": []
    },
    {
      "cell_type": "markdown",
      "metadata": {
        "id": "5JjLbJsjhtsH"
      },
      "source": [
        "\n",
        "Como se puede observar, muchas de las celdas de código no proporcionan una salida imprimible, sino que crean nuevas variables o modifican el contenido de algunas de ellas para su reutilización posterior.\n",
        "\n",
        "Debido a que la red neuronal que vamos a usar debe recibir como dato de entrada cada imagen de forma aplanada (es decir, no como una matriz de 28x28, sino como un vector de 28x28=784 posiciones), nuestro primer paso es hacer uso de las instrucciones que proporciona Keras para transformar la forma de los datos de entrada. Además, aprovecharemos para normalizar el contenido de estas imágenes (están en escalas de grises con valores `uint8` entre 0 y 255, y las pasaremos a valores `float32` en $[0,1]$), algo aconsejable cuando se trabaja con este tipo de modelos:\n",
        "\n",
        "<img src=\"https://s3.amazonaws.com/media-p.slid.es/uploads/970798/images/5546082/ezgif.com-video-to-gif__1_.gif\" />\n"
      ]
    },
    {
      "cell_type": "code",
      "metadata": {
        "id": "veXmQmKchtsI"
      },
      "source": [
        "train_data = train_data.reshape((60000, 28 * 28))\n",
        "train_data = train_data.astype('float32') / 255\n",
        "\n",
        "test_data = test_data.reshape((10000, 28 * 28))\n",
        "test_data = test_data.astype('float32') / 255"
      ],
      "execution_count": 14,
      "outputs": []
    },
    {
      "cell_type": "markdown",
      "metadata": {
        "id": "DnELt23RhtsI"
      },
      "source": [
        "Además, vamos a convertir las etiquetas (que vienen en el dataset como valores enteros), en vectores binarios con one-hot encoding para que se correspondan con la salida que nuestra red puede proporcionar:"
      ]
    },
    {
      "cell_type": "code",
      "metadata": {
        "id": "LIESWD_8htsI"
      },
      "source": [
        "from tensorflow.keras.utils import to_categorical\n",
        "\n",
        "train_labels = to_categorical(train_labels)\n",
        "test_labels = to_categorical(test_labels)"
      ],
      "execution_count": 15,
      "outputs": []
    },
    {
      "cell_type": "markdown",
      "metadata": {
        "id": "_OHUOeCGhtsI"
      },
      "source": [
        "## 3. Proceso de entrenamiento\n",
        "\n",
        "Preparados los datos y definida la red (estructura y funcionalidad), podemos hacer uso de la instrucción `fit` para comenzar el proceso de entrenamiento sobre los datos que tenemos. Esencialmente, hemos de indicar sobre qué datos entrenar (entrada y salidas), cuántas iteraciones (epochs) y con qué tamaño de batch (cada cuántos ejemplos el algoritmos actualiza los pesos).\n",
        "\n",
        "Durante el proceso de entrenamiento, Keras informa de los valores que toma la función objetivo, así como de la/s métrica/s que hemos fijado en la compilación."
      ]
    },
    {
      "cell_type": "code",
      "metadata": {
        "colab": {
          "base_uri": "https://localhost:8080/"
        },
        "id": "4bRg4XDthtsI",
        "outputId": "d06885fb-7bbd-4df9-b414-8fbf4478c89f"
      },
      "source": [
        "red.fit(train_data, train_labels, epochs=5, batch_size=128)"
      ],
      "execution_count": 16,
      "outputs": [
        {
          "output_type": "stream",
          "name": "stdout",
          "text": [
            "Epoch 1/5\n",
            "469/469 [==============================] - 6s 11ms/step - loss: 0.2549 - categorical_accuracy: 0.9270\n",
            "Epoch 2/5\n",
            "469/469 [==============================] - 5s 11ms/step - loss: 0.1025 - categorical_accuracy: 0.9696\n",
            "Epoch 3/5\n",
            "469/469 [==============================] - 5s 11ms/step - loss: 0.0680 - categorical_accuracy: 0.9795\n",
            "Epoch 4/5\n",
            "469/469 [==============================] - 5s 11ms/step - loss: 0.0494 - categorical_accuracy: 0.9847\n",
            "Epoch 5/5\n",
            "469/469 [==============================] - 5s 11ms/step - loss: 0.0377 - categorical_accuracy: 0.9891\n"
          ]
        },
        {
          "output_type": "execute_result",
          "data": {
            "text/plain": [
              "<keras.callbacks.History at 0x7f286f76d850>"
            ]
          },
          "metadata": {},
          "execution_count": 16
        }
      ]
    },
    {
      "cell_type": "markdown",
      "metadata": {
        "id": "NPTG253FhtsI"
      },
      "source": [
        "Debemos tener en cuenta que los valores mostrados son el error y métricas calculados sobre los propios datos de entrenamiento. Sin embargo, como el objetivo de un modelo de aprendizaje es generalizar bien sobre datos que el proceso de entrenamiento no ha visto anteriormente, necesitamos el conjunto de test para evaluar cómo se comporta la red sobre ejemplos que no ha usado para ajustarse.\n",
        "\n",
        "Sobre los datos de entrenamiento alcanzamos rápidamente una precisión de 0.989 (i.e. 98.9%), pero veamos cómo de bien se comporta con los datos de test (que no se han usado para aprender):"
      ]
    },
    {
      "cell_type": "code",
      "metadata": {
        "colab": {
          "base_uri": "https://localhost:8080/"
        },
        "id": "JGrA2B_ihtsI",
        "outputId": "300ee5e2-b4d2-42c5-f3f9-11780e24b529"
      },
      "source": [
        "test_loss, test_acc = red.evaluate(test_data, test_labels)"
      ],
      "execution_count": 17,
      "outputs": [
        {
          "output_type": "stream",
          "name": "stdout",
          "text": [
            "313/313 [==============================] - 1s 3ms/step - loss: 0.0598 - categorical_accuracy: 0.9818\n"
          ]
        }
      ]
    },
    {
      "cell_type": "code",
      "metadata": {
        "colab": {
          "base_uri": "https://localhost:8080/"
        },
        "id": "CN5s82qwhtsI",
        "outputId": "37ced712-d892-47a7-be95-4a6a1566d87e"
      },
      "source": [
        "print('test_acc:', test_acc)"
      ],
      "execution_count": 18,
      "outputs": [
        {
          "output_type": "stream",
          "name": "stdout",
          "text": [
            "test_acc: 0.9818000197410583\n"
          ]
        }
      ]
    },
    {
      "cell_type": "markdown",
      "metadata": {
        "id": "-p3HioushtsI"
      },
      "source": [
        "\n",
        "Lo normal es que la red se comporte peor en los datos de test que en los datos de entrenamiento, ya que el proceso de entrenamiento consiste precisamente en ajustar los pesos para que el error cometido en estos últimos se minimice. Esta diferencia de comportamiento entre entrenamiento y test se denomina **overfitting** (o **sobreajuste**). En todo caso, con una red tan simple como la que hemos usado se alcanzan cotas de casi el 98% de aciertos.\n",
        "\n",
        "Finalmente, podemos ver las predicciones que hace la red sobre algunos datos del conjunto de test (mostramos también las etiquetas aaociadas a los datos usados, pero ten en cuenta que están en formato binarizado, y el índice 1 corresponde a la etiqueta 0, el índice 2 a la etiqueta 1, etc...):"
      ]
    },
    {
      "cell_type": "code",
      "metadata": {
        "colab": {
          "base_uri": "https://localhost:8080/"
        },
        "id": "b-k1ptxshtsI",
        "outputId": "f5e765bb-8b50-4e9b-db0c-c299b3ebe8b4"
      },
      "source": [
        "np.argmax(red.predict(test_data[2:3]))"
      ],
      "execution_count": 19,
      "outputs": [
        {
          "output_type": "execute_result",
          "data": {
            "text/plain": [
              "1"
            ]
          },
          "metadata": {},
          "execution_count": 19
        }
      ]
    },
    {
      "cell_type": "code",
      "metadata": {
        "colab": {
          "base_uri": "https://localhost:8080/"
        },
        "id": "4H2tZjFVhtsI",
        "outputId": "4ab93674-44f0-4ecf-93de-2fb7f98cd5fa"
      },
      "source": [
        "test_labels[2:3]"
      ],
      "execution_count": 20,
      "outputs": [
        {
          "output_type": "execute_result",
          "data": {
            "text/plain": [
              "array([[0., 1., 0., 0., 0., 0., 0., 0., 0., 0.]], dtype=float32)"
            ]
          },
          "metadata": {},
          "execution_count": 20
        }
      ]
    },
    {
      "cell_type": "markdown",
      "metadata": {
        "id": "tSCiDNG7nZyc"
      },
      "source": [
        "Veamos mejor qué hemos obtenido. Puedes jugar con `x` para ver el resultado con otro ejemplo del conjunto de test."
      ]
    },
    {
      "cell_type": "code",
      "metadata": {
        "colab": {
          "base_uri": "https://localhost:8080/",
          "height": 317
        },
        "id": "kT1aR5WMnR8c",
        "outputId": "b53de6fd-26c3-4a3c-d2d9-a2ea4665b0e4"
      },
      "source": [
        "def muestra_imagen_prediccion(i):\n",
        "    # mostrar imagen\n",
        "    gen_image(test_data[i]*255).show()\n",
        "    # mostrar la etiqueta en modo categórico\n",
        "    print(\"Etiqueta numérica:   \",test_labels[i:(i+1)])\n",
        "    # mostrar la etiqueta en numérico\n",
        "    print(\"Etiqueta categórica: \",np.argmax(test_labels[i:(i+1)]))\n",
        "    # mostrar la predicción de la red\n",
        "    print(\"Predicción:          \",np.argmax(red.predict(test_data[i:(i+1)])))\n",
        "\n",
        "\n",
        "x = 60 # prueba aquí otro número para ver otro ejemplo\n",
        "muestra_imagen_prediccion(x)"
      ],
      "execution_count": 21,
      "outputs": [
        {
          "output_type": "display_data",
          "data": {
            "image/png": "[encoded data removed]",
            "text/plain": [
              "<Figure size 432x288 with 1 Axes>"
            ]
          },
          "metadata": {
            "needs_background": "light"
          }
        },
        {
          "output_type": "stream",
          "name": "stdout",
          "text": [
            "Etiqueta numérica:    [[0. 0. 0. 0. 0. 0. 0. 1. 0. 0.]]\n",
            "Etiqueta categórica:  7\n",
            "Predicción:           7\n"
          ]
        }
      ]
    },
    {
      "cell_type": "markdown",
      "metadata": {
        "id": "ZStMoAx8nrk1"
      },
      "source": [
        "Puedes usar el siguiente código para ver `k` ejemplos mal predichos."
      ]
    },
    {
      "cell_type": "code",
      "metadata": {
        "colab": {
          "base_uri": "https://localhost:8080/",
          "height": 1000
        },
        "id": "XjovP4YvnpXq",
        "outputId": "3f5b7dda-1826-4ed1-83e5-5f189784ee1f"
      },
      "source": [
        "k=4\n",
        "for i in range(0,len(test_data)):\n",
        "    if np.argmax(red.predict(test_data[i:(i+1)])) != np.argmax(test_labels[i:(i+1)]):\n",
        "        k=k-1\n",
        "        if k<0:\n",
        "            break;\n",
        "        muestra_imagen_prediccion(i)"
      ],
      "execution_count": 22,
      "outputs": [
        {
          "output_type": "display_data",
          "data": {
            "image/png": "[encoded data removed]",
            "text/plain": [
              "<Figure size 432x288 with 1 Axes>"
            ]
          },
          "metadata": {
            "needs_background": "light"
          }
        },
        {
          "output_type": "stream",
          "name": "stdout",
          "text": [
            "Etiqueta numérica:    [[0. 0. 0. 0. 1. 0. 0. 0. 0. 0.]]\n",
            "Etiqueta categórica:  4\n",
            "Predicción:           9\n"
          ]
        },
        {
          "output_type": "display_data",
          "data": {
            "image/png": "[encoded data removed]",
            "text/plain": [
              "<Figure size 432x288 with 1 Axes>"
            ]
          },
          "metadata": {
            "needs_background": "light"
          }
        },
        {
          "output_type": "stream",
          "name": "stdout",
          "text": [
            "Etiqueta numérica:    [[0. 0. 0. 0. 1. 0. 0. 0. 0. 0.]]\n",
            "Etiqueta categórica:  4\n",
            "Predicción:           2\n"
          ]
        },
        {
          "output_type": "display_data",
          "data": {
            "image/png": "[encoded data removed]",
            "text/plain": [
              "<Figure size 432x288 with 1 Axes>"
            ]
          },
          "metadata": {
            "needs_background": "light"
          }
        },
        {
          "output_type": "stream",
          "name": "stdout",
          "text": [
            "Etiqueta numérica:    [[0. 0. 1. 0. 0. 0. 0. 0. 0. 0.]]\n",
            "Etiqueta categórica:  2\n",
            "Predicción:           7\n"
          ]
        },
        {
          "output_type": "display_data",
          "data": {
            "image/png": "[encoded data removed]",
            "text/plain": [
              "<Figure size 432x288 with 1 Axes>"
            ]
          },
          "metadata": {
            "needs_background": "light"
          }
        },
        {
          "output_type": "stream",
          "name": "stdout",
          "text": [
            "Etiqueta numérica:    [[0. 0. 0. 0. 0. 1. 0. 0. 0. 0.]]\n",
            "Etiqueta categórica:  5\n",
            "Predicción:           3\n"
          ]
        }
      ]
    },
    {
      "cell_type": "markdown",
      "metadata": {
        "id": "coWuEWgSn7CA"
      },
      "source": [
        "## 4. Ejercicio Opcional Propuesto\n",
        "\n",
        "Juega con el entrenamiento del modelo para ver qué resultados obtienes y si consigues mejorar (o por el contrario se empeora el resultado): \n",
        "* cambia el método de [optimización](https://keras.io/api/optimizers/), \n",
        "* amplía el número de epochs, \n",
        "* añade o quita capas, \n",
        "* cambia las [funciones de activación](https://keras.io/api/layers/), \n",
        "* cambia la métrica a accuracy,\n",
        "* etc"
      ]
    }
  ]
}
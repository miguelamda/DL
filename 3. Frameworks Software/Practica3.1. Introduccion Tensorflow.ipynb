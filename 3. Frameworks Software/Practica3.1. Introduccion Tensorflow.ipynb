{
  "nbformat": 4,
  "nbformat_minor": 0,
  "metadata": {
    "kernelspec": {
      "display_name": "Python 3",
      "language": "python",
      "name": "python3"
    },
    "language_info": {
      "codemirror_mode": {
        "name": "ipython",
        "version": 3
      },
      "file_extension": ".py",
      "mimetype": "text/x-python",
      "name": "python",
      "nbconvert_exporter": "python",
      "pygments_lexer": "ipython3",
      "version": "3.7.3"
    },
    "colab": {
      "name": "Practica3.1. Introduccion Tensorflow.ipynb",
      "provenance": [],
      "toc_visible": true,
      "include_colab_link": true
    }
  },
  "cells": [
    {
      "cell_type": "markdown",
      "metadata": {
        "id": "view-in-github",
        "colab_type": "text"
      },
      "source": [
        "<a href=\"https://colab.research.google.com/github/miguelamda/DL/blob/master/3.%20Frameworks%20Software/Practica3.1.%20Introduccion%20Tensorflow.ipynb\" target=\"_parent\"><img src=\"https://colab.research.google.com/assets/colab-badge.svg\" alt=\"Open In Colab\"/></a>"
      ]
    },
    {
      "cell_type": "markdown",
      "metadata": {
        "id": "jWZUwW2GfIS8"
      },
      "source": [
        "<img src=\"https://github.com/miguelamda/DL/blob/master/3.%20Frameworks%20Software/imgs/tensorflow_head.png?raw=1\" />"
      ]
    },
    {
      "cell_type": "markdown",
      "metadata": {
        "id": "9XC1RWTyfIS-"
      },
      "source": [
        "# Práctica 3.1. Introducción a TensorFlow (sin Keras)\n",
        "\n",
        "**TensorFlow** (https://www.tensorflow.org/, a veces llamado simplemente *TF*) es una librería de software desarrollada por Google Brain con el propósito de realizar investigación en Machine Learning y Deep Neural Networks. Esta librería provee un entorno para *diferenciación automática*, siendo por tanto potente para implementación de algoritmos basados en propagación de gradientes. Esta plataforma fue introducida en 2015, por lo que ha pasado un proceso de maduración intensivo. De hecho, hay un gran cambio sustancial en la API en el paso de la versión 1 y la versión 2, por lo que es posible que muchos códigos viejos no funcionen. Para dar retrocompatibilidad, TensorFlow provee el módulo ``tf.compat.v1``. Si lanzamos el código en Google Colab, también es posible hacer uso de la versión 1.0 de TensorFlow con el siguiente comando mágico (se debe colocar justo antes de cargar la librería tensorflow):\n",
        "\n",
        "\n",
        "```\n",
        "%tensorflow_version 1.x\n",
        "```\n",
        "\n",
        "Por otro lado, **Keras** es una API de abstracción de alto nivel basada en TensorFlow. Desde la versión 2 de TF, Keras es parte de la API y es lo más usado para crear redes neuronales. En resumen, la nueva versión TensorFlow 2.0 se basa en las siguientes ideas:\n",
        "\n",
        "- Permitir a los usuario lanzar la computación de forma estricta (eager computation, es decir, como en cualquier lenguaje de programación imperativo). Esto hace que sea más intuitivo ya que se asemeja a Numpy.\n",
        "- Preserva las ventajas considerable de compilar grafos (para rendimiento, distribución y desplegado). Esto hace que TensorFlow sea rápido, escalable y listo para producción.\n",
        "- Usa Keras como API de algo nivel para Deep Learning, haciendo que TensorFlow sea sencill y altamente productivo.\n",
        "- Extiende Kears a un espectro de workflows desde el más alto nivel (más fácil de usar, menos flexible) al más bajo nivel (para expertos, pero con gran flexibilidad).\n",
        "\n",
        "Por tanto, antes de pasar a centrarnos en Keras, es interesante tener una pequeña idea de qué sucede \"detrás de las cámaras\" en TensorFlow de más bajo nivel. De esta forma también seremos capaces de entener los tipos de datos que se emplean (*tensores*). "
      ]
    },
    {
      "cell_type": "markdown",
      "metadata": {
        "id": "rzgPGShtfIS-"
      },
      "source": [
        "## 1. Principales características de Tensorflow"
      ]
    },
    {
      "cell_type": "markdown",
      "metadata": {
        "id": "m-vDjJtBfIS_"
      },
      "source": [
        "Se puede resumir las siguientes características de TensorFlow:\n",
        "\n",
        "* Definir, optimizar, y calcular de forma eficiente expresiones matemáticas que involucran arrays multidimensionales (**tensores**).\n",
        "\n",
        "* Soporte para la programación de ML y Deep Neural Networks.\n",
        "\n",
        "* Uso transparente de computación con GPU y TPU, proporcionando gestión automática y optimización de la memoria y de los datos usados. Se puede ejecutar el mismo código en CPUs o GPUs. Más específicamente, TF decide qué partes de la computación deben ser trasladadas a la GPU.\n",
        "\n",
        "* Alta escalabilidad de la computación tanto a nivel de máquina como de conjuntos de datos."
      ]
    },
    {
      "cell_type": "markdown",
      "metadata": {
        "id": "in1qy0WlfITA"
      },
      "source": [
        "TensorFlow está disponible para uso directo desde Python y C++, aunque la API para Python está mejor documentada y es más sencilla."
      ]
    },
    {
      "cell_type": "markdown",
      "metadata": {
        "id": "Y778oCsFfITA"
      },
      "source": [
        "## 2. Un ejemplo preliminar"
      ]
    },
    {
      "cell_type": "code",
      "metadata": {
        "id": "DXEQOsK4fITB",
        "colab": {
          "base_uri": "https://localhost:8080/"
        },
        "outputId": "9afb3529-f2fc-42af-9d01-2635cb36cddc"
      },
      "source": [
        "# Un ejemplo de cálculo en Python\n",
        "x = 1\n",
        "y = x + 10\n",
        "print(y)"
      ],
      "execution_count": 1,
      "outputs": [
        {
          "output_type": "stream",
          "text": [
            "11\n"
          ],
          "name": "stdout"
        }
      ]
    },
    {
      "cell_type": "code",
      "metadata": {
        "id": "fhENK8fjfITF"
      },
      "source": [
        "# Previamente, tensorflow debe estar instalado: pip install tensorflow (requiere python en 64 bits)\n",
        "import tensorflow as tf"
      ],
      "execution_count": 2,
      "outputs": []
    },
    {
      "cell_type": "code",
      "metadata": {
        "id": "mi0bUiDEfITI",
        "colab": {
          "base_uri": "https://localhost:8080/"
        },
        "outputId": "e4a4eec4-b191-4f3d-96e4-c74827041591"
      },
      "source": [
        "# El \"mismo\" cálculo en TF\n",
        "x = tf.constant(1, name='x')\n",
        "y = tf.Variable(x+10, name='y')\n",
        "print(y)"
      ],
      "execution_count": 3,
      "outputs": [
        {
          "output_type": "stream",
          "text": [
            "<tf.Variable 'y:0' shape=() dtype=int32, numpy=11>\n"
          ],
          "name": "stdout"
        }
      ]
    },
    {
      "cell_type": "markdown",
      "metadata": {
        "id": "1DaUHN91fITM"
      },
      "source": [
        "Puedes ver que las variables en TF son objetos más abstractos. Estos son conocidos simplemente como *tensores*. Un tensor se puede convertir fácilmente a un Numpy array con la llamada ``.numpy()``."
      ]
    },
    {
      "cell_type": "code",
      "metadata": {
        "colab": {
          "base_uri": "https://localhost:8080/"
        },
        "id": "HsZnnvsR5_bZ",
        "outputId": "1639a270-b9ba-4f68-928a-1c6600f6190c"
      },
      "source": [
        "print(x.numpy())\n",
        "\n",
        "print(y.numpy())"
      ],
      "execution_count": 7,
      "outputs": [
        {
          "output_type": "stream",
          "text": [
            "1\n",
            "11\n"
          ],
          "name": "stdout"
        }
      ]
    },
    {
      "cell_type": "markdown",
      "metadata": {
        "id": "_-0AY0W96vQB"
      },
      "source": [
        "Como en los Numpy array, los tensores también tienen los atributos dtype y shape."
      ]
    },
    {
      "cell_type": "code",
      "metadata": {
        "colab": {
          "base_uri": "https://localhost:8080/"
        },
        "id": "URhWOYOL6uhe",
        "outputId": "8e9a33aa-c893-4b0d-c4e5-5cd436ebea82"
      },
      "source": [
        "print('dtype:', x.dtype)\n",
        "print('shape:', x.shape)"
      ],
      "execution_count": 9,
      "outputs": [
        {
          "output_type": "stream",
          "text": [
            "dtype: <dtype: 'int32'>\n",
            "shape: ()\n",
            "dtype: <dtype: 'int32'>\n",
            "shape: ()\n"
          ],
          "name": "stdout"
        }
      ]
    },
    {
      "cell_type": "markdown",
      "metadata": {
        "id": "gT0bjKQPfITc"
      },
      "source": [
        "## 3. Tipos de Datos (Tensores)\n",
        "\n",
        "Veamos con más detenimiento el concepto de tensor. Un tensor es un contenedor de datos, usualmente números. Por ejemplo, una matriz es un tensor de 2 dimensiones. Los tensores son generalizaciones de las matrices a un número arbitrario de dimensiones (el nombre de tensor viene en realidad de la física). En el contexto de tensores, una dimensión se denomina eje (axis).\n",
        "\n",
        "Un tensor se define por 3 atributos principales:\n",
        "* Número de ejes (rank). Por ejemplo, una matriz o tensor 2D itene 2 ejes.\n",
        "* Forma (shape). Una tupla de enteros que describen cuantas dimensiones tiene el tensor en cada eje. Un escalar tiene un shape igual a (). Una matriz de 3x4 tiene un shape (3, 4).\n",
        "* Tipo de dato (dtype). Es el tipo de dato contenido en el tensor, por ejemplo `float32`, `uint8`, `float64`, etc. Normalmente no hay tensores de cadenas de texto, ya que los tensores viven en segmentos de memoria pre-reservados y contiguos."
      ]
    },
    {
      "cell_type": "markdown",
      "metadata": {
        "id": "7NqcsYtofITc"
      },
      "source": [
        "### Tensores 0D (Escalares)"
      ]
    },
    {
      "cell_type": "code",
      "metadata": {
        "id": "y79v546-fITd",
        "colab": {
          "base_uri": "https://localhost:8080/"
        },
        "outputId": "227c8376-a9a1-4ff1-e9a0-77e53589f05b"
      },
      "source": [
        "x = tf.constant(4, name='x')\n",
        "print(x)"
      ],
      "execution_count": 13,
      "outputs": [
        {
          "output_type": "stream",
          "text": [
            "tf.Tensor(4, shape=(), dtype=int32)\n"
          ],
          "name": "stdout"
        }
      ]
    },
    {
      "cell_type": "markdown",
      "metadata": {
        "id": "prFoiscdfITg"
      },
      "source": [
        "### Tensores 1D (Vectores)"
      ]
    },
    {
      "cell_type": "code",
      "metadata": {
        "id": "vhK75I9QfITh",
        "colab": {
          "base_uri": "https://localhost:8080/"
        },
        "outputId": "e43ad926-c37f-4bce-f7bd-462aa6a143ce"
      },
      "source": [
        "x = tf.constant([1, 4, 2, 3])\n",
        "print(x)"
      ],
      "execution_count": 14,
      "outputs": [
        {
          "output_type": "stream",
          "text": [
            "tf.Tensor([1 4 2 3], shape=(4,), dtype=int32)\n"
          ],
          "name": "stdout"
        }
      ]
    },
    {
      "cell_type": "markdown",
      "metadata": {
        "id": "Ju-bgzVPfITn"
      },
      "source": [
        "### Tensores 2D (Matrices)"
      ]
    },
    {
      "cell_type": "code",
      "metadata": {
        "id": "WnHTbEfufITo",
        "colab": {
          "base_uri": "https://localhost:8080/"
        },
        "outputId": "e2c13f3f-23d8-4a7f-f042-e8e4f37227a8"
      },
      "source": [
        "x = tf.constant([[5, 2], [1, 3]])\n",
        "print(x)\n",
        "\n",
        "x.numpy()"
      ],
      "execution_count": 16,
      "outputs": [
        {
          "output_type": "stream",
          "text": [
            "tf.Tensor(\n",
            "[[5 2]\n",
            " [1 3]], shape=(2, 2), dtype=int32)\n"
          ],
          "name": "stdout"
        },
        {
          "output_type": "execute_result",
          "data": {
            "text/plain": [
              "array([[5, 2],\n",
              "       [1, 3]], dtype=int32)"
            ]
          },
          "metadata": {
            "tags": []
          },
          "execution_count": 16
        }
      ]
    },
    {
      "cell_type": "markdown",
      "metadata": {
        "id": "lJwWxzpT82rk"
      },
      "source": [
        "### Formas de inicializar tensores\n",
        "Algunas formas usuales de inicializar tensores es con funciones como ``tf.ones`` y ``tf.zeros``, que son parecidas a las que hay en Numpy."
      ]
    },
    {
      "cell_type": "code",
      "metadata": {
        "colab": {
          "base_uri": "https://localhost:8080/"
        },
        "id": "sWlU9Ofv8_H4",
        "outputId": "ea2ddfef-3853-415b-e31c-71855254f612"
      },
      "source": [
        "print(tf.ones(shape=(2, 1)))  # parecido a np.ones\n",
        "print(tf.zeros(shape=(2, 1))) # parecido a np.zeros"
      ],
      "execution_count": 17,
      "outputs": [
        {
          "output_type": "stream",
          "text": [
            "tf.Tensor(\n",
            "[[1.]\n",
            " [1.]], shape=(2, 1), dtype=float32)\n",
            "tf.Tensor(\n",
            "[[0.]\n",
            " [0.]], shape=(2, 1), dtype=float32)\n"
          ],
          "name": "stdout"
        }
      ]
    },
    {
      "cell_type": "markdown",
      "metadata": {
        "id": "QORp5fnb9Q4H"
      },
      "source": [
        "También, y lo más usual, se pueden inicializar tensores de forma aleatoria."
      ]
    },
    {
      "cell_type": "code",
      "metadata": {
        "colab": {
          "base_uri": "https://localhost:8080/"
        },
        "id": "BPrHcFm99XNX",
        "outputId": "58ec8c03-b9ed-4715-b97a-2c8af5e46fc4"
      },
      "source": [
        "# Creando un tensor de dimensiones (2,2) y usando una distribución uniforme de enteros entre 0 y 10\n",
        "\n",
        "tf.random.uniform(shape=(2, 2), minval=0, maxval=10, dtype='int32')"
      ],
      "execution_count": 18,
      "outputs": [
        {
          "output_type": "execute_result",
          "data": {
            "text/plain": [
              "<tf.Tensor: shape=(2, 2), dtype=int32, numpy=\n",
              "array([[6, 8],\n",
              "       [9, 0]], dtype=int32)>"
            ]
          },
          "metadata": {
            "tags": []
          },
          "execution_count": 18
        }
      ]
    },
    {
      "cell_type": "code",
      "metadata": {
        "colab": {
          "base_uri": "https://localhost:8080/"
        },
        "id": "kxDNsjPK9kxi",
        "outputId": "9cbe46e9-be20-4492-c875-e941327670c0"
      },
      "source": [
        "# Creando un tensor de dimensiones (2,2) y usando una distribución normal (media 0 y desviación 1)\n",
        "\n",
        "tf.random.normal(shape=(2, 2), mean=0., stddev=1.)"
      ],
      "execution_count": 19,
      "outputs": [
        {
          "output_type": "execute_result",
          "data": {
            "text/plain": [
              "<tf.Tensor: shape=(2, 2), dtype=float32, numpy=\n",
              "array([[ 1.0966113 ,  1.0678525 ],\n",
              "       [-0.12178493, -2.4440207 ]], dtype=float32)>"
            ]
          },
          "metadata": {
            "tags": []
          },
          "execution_count": 19
        }
      ]
    },
    {
      "cell_type": "markdown",
      "metadata": {
        "id": "XXiBCOnNALW-"
      },
      "source": [
        "### Variables\n",
        "\n",
        "Las variables son un tipo de tensor especial cuyo estado es mutable (como los pesos de una red neuronal). Se pueden crear variables a partir de un valor inicial."
      ]
    },
    {
      "cell_type": "code",
      "metadata": {
        "colab": {
          "base_uri": "https://localhost:8080/"
        },
        "id": "9CsEe7dEAVGM",
        "outputId": "182be1ff-66af-44c4-97c3-da785c3621fa"
      },
      "source": [
        "valor_inicial = tf.random.normal(shape=(2, 2))\n",
        "a = tf.Variable(valor_inicial)\n",
        "print(a)"
      ],
      "execution_count": 36,
      "outputs": [
        {
          "output_type": "stream",
          "text": [
            "<tf.Variable 'Variable:0' shape=(2, 2) dtype=float32, numpy=\n",
            "array([[-0.9341961 , -0.67727065],\n",
            "       [-1.3522539 ,  0.9269897 ]], dtype=float32)>\n"
          ],
          "name": "stdout"
        }
      ]
    },
    {
      "cell_type": "markdown",
      "metadata": {
        "id": "qeHdwmW-Ahqn"
      },
      "source": [
        "Se puede actualizar el valor de una variable usando los métodos `.assign(valor)`, o `.assign_add(incremento)` o `.assign_sub(decremento)`:"
      ]
    },
    {
      "cell_type": "code",
      "metadata": {
        "colab": {
          "base_uri": "https://localhost:8080/"
        },
        "id": "_510IPS9Aver",
        "outputId": "f186e156-b30b-4326-b5c9-630e868dd9ad"
      },
      "source": [
        "nuevo_valor = tf.random.normal(shape=(2, 2))\n",
        "\n",
        "a.assign(nuevo_valor) # reemplaza el valor por otro\n",
        "\n",
        "print (a)"
      ],
      "execution_count": 39,
      "outputs": [
        {
          "output_type": "stream",
          "text": [
            "<tf.Variable 'Variable:0' shape=(2, 2) dtype=float32, numpy=\n",
            "array([[-1.0017436 ,  0.00630436],\n",
            "       [-2.5787752 ,  0.0756517 ]], dtype=float32)>\n"
          ],
          "name": "stdout"
        }
      ]
    },
    {
      "cell_type": "code",
      "metadata": {
        "colab": {
          "base_uri": "https://localhost:8080/"
        },
        "id": "17vcLELrBEy_",
        "outputId": "1f45c602-0589-4845-89d8-d75008f75acb"
      },
      "source": [
        "added_value = tf.ones(shape=(2, 2))\n",
        "\n",
        "a.assign_add(added_value)  # sumemos 1 a todos los valores en la variable\n",
        "\n",
        "print (a)"
      ],
      "execution_count": 40,
      "outputs": [
        {
          "output_type": "stream",
          "text": [
            "<tf.Variable 'Variable:0' shape=(2, 2) dtype=float32, numpy=\n",
            "array([[-0.00174356,  1.0063044 ],\n",
            "       [-1.5787752 ,  1.0756516 ]], dtype=float32)>\n"
          ],
          "name": "stdout"
        }
      ]
    },
    {
      "cell_type": "markdown",
      "metadata": {
        "id": "tTtMMql3fITq"
      },
      "source": [
        "### Operaciones Básicas (Con Ejemplos)"
      ]
    },
    {
      "cell_type": "code",
      "metadata": {
        "id": "DMmk87D8fITr"
      },
      "source": [
        "import numpy as np\n",
        "# Creación de matrices con numpy\n",
        "matrix1 = np.array([(2,2,2),(2,2,2),(2,2,2)],dtype='float32') \n",
        "matrix2 = np.array([(1,1,1),(1,1,1),(1,1,1)],dtype='float32')"
      ],
      "execution_count": 21,
      "outputs": []
    },
    {
      "cell_type": "code",
      "metadata": {
        "id": "kxl9DLMdfITu"
      },
      "source": [
        "# Inicialización de constantes desde arrays numpy\n",
        "tf_mat1 = tf.constant(matrix1) \n",
        "tf_mat2 = tf.constant(matrix2)"
      ],
      "execution_count": 23,
      "outputs": []
    },
    {
      "cell_type": "code",
      "metadata": {
        "id": "QVK3q2mJfITx",
        "colab": {
          "base_uri": "https://localhost:8080/"
        },
        "outputId": "17ae42c7-c183-41d7-97e1-8c19a264f075"
      },
      "source": [
        "# Multiplicación de matrices\n",
        "matrix_product = tf.matmul(tf_mat1, tf_mat2)\n",
        "print ('producto:\\n', matrix_product.numpy())\n",
        "# Suma de matrices\n",
        "matrix_sum = tf.add(tf_mat1, tf_mat2)\n",
        "print ('suma:\\n', matrix_sum.numpy())"
      ],
      "execution_count": 33,
      "outputs": [
        {
          "output_type": "stream",
          "text": [
            "producto:\n",
            " [[6. 6. 6.]\n",
            " [6. 6. 6.]\n",
            " [6. 6. 6.]]\n",
            "suma:\n",
            " [[3. 3. 3.]\n",
            " [3. 3. 3.]\n",
            " [3. 3. 3.]]\n"
          ],
          "name": "stdout"
        }
      ]
    },
    {
      "cell_type": "code",
      "metadata": {
        "id": "y1tDSIoNfIT0",
        "colab": {
          "base_uri": "https://localhost:8080/"
        },
        "outputId": "f0d35418-68b7-439f-a5cb-1d845334cf32"
      },
      "source": [
        "# Determinante de una matriz\n",
        "matrix_det = tf.linalg.det(matrix_sum)\n",
        "print ('determinante:\\n', matrix_det.numpy())"
      ],
      "execution_count": 35,
      "outputs": [
        {
          "output_type": "stream",
          "text": [
            "determinante:\n",
            " 0.0\n"
          ],
          "name": "stdout"
        }
      ]
    },
    {
      "cell_type": "code",
      "metadata": {
        "colab": {
          "base_uri": "https://localhost:8080/"
        },
        "id": "imyab4hum2Dh",
        "outputId": "4f4c4181-d320-4d6f-cf32-dfd672c805be"
      },
      "source": [
        "# También podemos usar TensorFlow como usaríamos Numpy. La diferencia es que TF puede lanzarse en GPUs y en TPUs\n",
        "a = tf.random.normal(shape=(2, 2))\n",
        "b = tf.random.normal(shape=(2, 2))\n",
        "\n",
        "c = a + b\n",
        "d = tf.square(c)\n",
        "e = tf.exp(d)\n",
        "print(e)"
      ],
      "execution_count": 62,
      "outputs": [
        {
          "output_type": "stream",
          "text": [
            "tf.Tensor(\n",
            "[[8.079205  1.0011758]\n",
            " [2.5328631 1.2404824]], shape=(2, 2), dtype=float32)\n"
          ],
          "name": "stdout"
        }
      ]
    },
    {
      "cell_type": "markdown",
      "metadata": {
        "id": "i4uqbBTtfIT7"
      },
      "source": [
        "### Manipulando Tensores\n",
        "\n",
        "Vamos a ver algunas operaciones que se pueden realizar con TensorFlow utilizando una imagen, como el logo de Keras."
      ]
    },
    {
      "cell_type": "code",
      "metadata": {
        "id": "ultujUOpfIT8"
      },
      "source": [
        "# Requiere tener instalados matplotlib y pillow\n",
        "%matplotlib inline"
      ],
      "execution_count": 41,
      "outputs": []
    },
    {
      "cell_type": "code",
      "metadata": {
        "id": "J_ET2WyJfIT-"
      },
      "source": [
        "import matplotlib.image as mp_image\n",
        "filename = \"imgs/keras-logo-small.jpg\"   # descarga previamente esta imagen\n",
        "input_image = mp_image.imread(filename)"
      ],
      "execution_count": 50,
      "outputs": []
    },
    {
      "cell_type": "code",
      "metadata": {
        "id": "Mk9YI52ofIUB",
        "colab": {
          "base_uri": "https://localhost:8080/"
        },
        "outputId": "d961bd7b-689e-4829-83e6-0b22b3c28780"
      },
      "source": [
        "#dimension\n",
        "print('input dim = {}'.format(input_image.ndim))\n",
        "#shape\n",
        "print('input shape = {}'.format(input_image.shape))"
      ],
      "execution_count": 43,
      "outputs": [
        {
          "output_type": "stream",
          "text": [
            "input dim = 3\n",
            "input shape = (300, 300, 3)\n"
          ],
          "name": "stdout"
        }
      ]
    },
    {
      "cell_type": "code",
      "metadata": {
        "id": "zRxelBW0fIUD",
        "colab": {
          "base_uri": "https://localhost:8080/",
          "height": 269
        },
        "outputId": "cb9da51c-379f-4579-8822-b6af88ad5808"
      },
      "source": [
        "import matplotlib.pyplot as plt\n",
        "plt.imshow(input_image)\n",
        "plt.show()"
      ],
      "execution_count": 44,
      "outputs": [
        {
          "output_type": "display_data",
          "data": {
            "image/png": "[encoded data removed]",
            "text/plain": [
              "<Figure size 432x288 with 1 Axes>"
            ]
          },
          "metadata": {
            "tags": [],
            "needs_background": "light"
          }
        }
      ]
    },
    {
      "cell_type": "code",
      "metadata": {
        "colab": {
          "base_uri": "https://localhost:8080/",
          "height": 248
        },
        "id": "3oUz-XUiEpNw",
        "outputId": "ef826887-c79a-4453-f054-d41899ca41ec"
      },
      "source": [
        "# Los ejes los pone matplotlib, podemos quitarlos de la siguiente forma\n",
        "plt.axis('off')\n",
        "plt.imshow(input_image)\n",
        "plt.show()"
      ],
      "execution_count": 57,
      "outputs": [
        {
          "output_type": "display_data",
          "data": {
            "image/png": "[encoded data removed]",
            "text/plain": [
              "<Figure size 432x288 with 1 Axes>"
            ]
          },
          "metadata": {
            "tags": [],
            "needs_background": "light"
          }
        }
      ]
    },
    {
      "cell_type": "markdown",
      "metadata": {
        "id": "J8g_4IYDfIUG"
      },
      "source": [
        "#### Recorte (Slicing)\n",
        "\n",
        "Hemos visto que hemos cargado una imagen de 300x300 con 3 canales (RGB) en un numpy array, gracias a matplotlib.\n",
        "\n",
        "Podemos convertir en numpy array a un tensor de las mismas dimensiones: (300,300,3). Una vez lo tengamos, con la función slice de TF podemos quedarnos con una parte del tensor, según le digamos en cada dimensión."
      ]
    },
    {
      "cell_type": "code",
      "metadata": {
        "id": "k7XnHhwBfIUG",
        "colab": {
          "base_uri": "https://localhost:8080/"
        },
        "outputId": "33bb3c02-9bbe-4905-efe2-d008d86b6dc8"
      },
      "source": [
        "# convertimos a tensor\n",
        "my_image = tf.constant(input_image,dtype='uint8')\n",
        "\n",
        "# obtenemos un recorte en la primera dimensión, desde la posición 100, tomando 16\n",
        "# elementos. El resto de dimensiones no se recortan (-1 es para incluir todo)\n",
        "slice = tf.slice(my_image,begin=[100,0,0],size=[16,-1,-1]) \n",
        "slice.shape"
      ],
      "execution_count": 58,
      "outputs": [
        {
          "output_type": "execute_result",
          "data": {
            "text/plain": [
              "TensorShape([16, 300, 3])"
            ]
          },
          "metadata": {
            "tags": []
          },
          "execution_count": 58
        }
      ]
    },
    {
      "cell_type": "code",
      "metadata": {
        "id": "jcvenUwqfIUM",
        "colab": {
          "base_uri": "https://localhost:8080/",
          "height": 69
        },
        "outputId": "4d66ec8c-2ca8-45b9-c78c-60770281b2e5"
      },
      "source": [
        "plt.imshow(slice)  # la conversión a numpy también es automática desde un tensor\n",
        "plt.show()  # veamos qué hemos recortado"
      ],
      "execution_count": 60,
      "outputs": [
        {
          "output_type": "display_data",
          "data": {
            "image/png": "[encoded data removed]",
            "text/plain": [
              "<Figure size 432x288 with 1 Axes>"
            ]
          },
          "metadata": {
            "tags": [],
            "needs_background": "light"
          }
        }
      ]
    },
    {
      "cell_type": "markdown",
      "metadata": {
        "id": "LlZePThdfIUO"
      },
      "source": [
        "#### Transponer (Transpose)"
      ]
    },
    {
      "cell_type": "code",
      "metadata": {
        "id": "S9tSJXPafIUP",
        "colab": {
          "base_uri": "https://localhost:8080/",
          "height": 269
        },
        "outputId": "90608f60-466e-47cc-976d-cca1b93524ea"
      },
      "source": [
        "# acabamos de cambiar la primera dimensión por la segunda y viceversa\n",
        "transp = tf.transpose(my_image, perm=[1,0,2]) # perm indica como se permutan las dimensiones\n",
        "\n",
        "plt.imshow(transp)\n",
        "plt.show()"
      ],
      "execution_count": 61,
      "outputs": [
        {
          "output_type": "display_data",
          "data": {
            "image/png": "[encoded data removed]",
            "text/plain": [
              "<Figure size 432x288 with 1 Axes>"
            ]
          },
          "metadata": {
            "tags": [],
            "needs_background": "light"
          }
        }
      ]
    },
    {
      "cell_type": "markdown",
      "metadata": {
        "id": "zF6RZP_YfITV"
      },
      "source": [
        "## 4. Grafo de Flujo de Datos"
      ]
    },
    {
      "cell_type": "markdown",
      "metadata": {
        "id": "bQ1X0iCKfITV"
      },
      "source": [
        "Como hemos visto en los temas de teoría, una red neuronal se puede representar mediante un grafo de computación, o un **Grafo de Flujo de Datos**."
      ]
    },
    {
      "cell_type": "markdown",
      "metadata": {
        "id": "5CL9xvarfITW"
      },
      "source": [
        "Un **Grafo de Flujo de Datos** es un grafo donde:\n",
        "  * cada Nodo representa la *instancia* de una operación matemática básica: *multiplicar*, *sumar*, *dividir*\n",
        "  * cada Arista es un dato multi-dimensional (`tensor`) sobre el que se ejecuta la operación."
      ]
    },
    {
      "cell_type": "markdown",
      "metadata": {
        "id": "tPV0bsCZfITX"
      },
      "source": [
        "<img src=\"https://github.com/miguelamda/DL/blob/master/3.%20Frameworks%20Software/imgs/dfg.gif?raw=1\" />"
      ]
    },
    {
      "cell_type": "markdown",
      "metadata": {
        "id": "OJ-WVKmlfITX"
      },
      "source": [
        "### Modelo de Grafo de Tensorflow\n",
        "\n",
        "Estos son lso elementos de los grafos de computación de TensorFlow. En la versión 1, el grafo era estático y requería lanzar sesiones sobre él para obtener resultados. A partir de la versión 2, los grafos son dinámicas y se pueden obtener los resultados directamente (eager computation)."
      ]
    },
    {
      "cell_type": "markdown",
      "metadata": {
        "id": "_8YKbgdFfITY"
      },
      "source": [
        "* **Nodo**: En TensorFlow cada nodo representa la instanciación de una operación. \n",
        "    - Cada operación tiene entradas (`>= 2`) y salidas `>= 0`.\n",
        "    \n",
        "* **Aristas**: En TensorFlow hay dos tipos de aristas:\n",
        "    - **Aristas de Datos**: son transportadores de estructuras de datos (`tensores`), donde una salida de una operación (que sale de un nodo) se convierte en la entrada de otra operación.\n",
        "    - **Aristas de dependencia**: indican un *dependencia* entre dos nodos (es decir, una relación del tipo \"sucede antes\"). \n",
        "        + Si `A` y `B` son nodos y hay una dependencia de `A` a `B`, entonces `B` comenzará su operación solo cuando la de `A` haya acabado. \n",
        "        \n",
        "* **Operación**: representa una computación abstracta, como sumar o multiplicar matrices. Manipula tensores, y puede ser polimórfica, es decir, puede manipular tensores de distinto tipo. \n",
        "  + Por ejemplo, la suma de dos tensores int32, la suma de dos tensores float, etc.\n",
        "\n",
        "* **Kernel**: representa la implementación concreta de una operación. \n",
        "  + Por ejemplo, una operación `add matrix` puede tener una implementación CPU y otra GPU."
      ]
    },
    {
      "cell_type": "markdown",
      "metadata": {
        "id": "iUs8HEN-mn2-"
      },
      "source": [
        "### Cálculo de gradientes\n",
        "\n",
        "Con TF se pueden calcular los gradientes de forma automática de cualquier expresión que sea diferenciable (como hemos visto en temas anteriores).\n",
        "\n",
        "Se puede hacer de forma manual con [`GradientTape`](https://www.tensorflow.org/api_docs/python/tf/GradientTape). Primero comenzamos a vigilar (\"watching\") un tensor con `tape.watch()`, y posteriormente componemos una expresión diferenciable usando este tensor como entrada. Por ejemplo:"
      ]
    },
    {
      "cell_type": "code",
      "metadata": {
        "colab": {
          "base_uri": "https://localhost:8080/"
        },
        "id": "vsTNVCQ0no-d",
        "outputId": "ab67d592-fe0c-4555-9860-18baf49c87e3"
      },
      "source": [
        "a = tf.random.normal(shape=(2, 2))  # un tensor aleatorio, `a` (será la entrada, es decir, vamos a diferenciar respecto de `a`)\n",
        "b = tf.random.normal(shape=(2, 2))  # un tensor aleatorio, `b` \n",
        "\n",
        "with tf.GradientTape() as tape:     # donde ponemos tape, decimos tf.GradientTape()\n",
        "  tape.watch(a)  # Indicamos que queremos guardar la historia de operaciones aplicados a `a`\n",
        "  c = tf.sqrt(tf.square(a) + tf.square(b))  # Hacemos algo de matemáticas usando `a`\n",
        "  # Finalmente, si queremos saber el gradiente de `c` con respecto a `a`, usamos\n",
        "  dc_da = tape.gradient(c, a) # este es el gradiente (derivada) de `c` respecto de `a`\n",
        "  print(dc_da)"
      ],
      "execution_count": 63,
      "outputs": [
        {
          "output_type": "stream",
          "text": [
            "tf.Tensor(\n",
            "[[-0.79998416  0.2532157 ]\n",
            " [-0.97626734  0.04038463]], shape=(2, 2), dtype=float32)\n"
          ],
          "name": "stdout"
        }
      ]
    },
    {
      "cell_type": "markdown",
      "metadata": {
        "id": "qoZQjif-oZT_"
      },
      "source": [
        "Sin embargo, por defecto todas las variables son vigiladas (\"watched\") automáticamente, por lo que no necesitamos hacer un `watch` sobre ellas. El ejemplo anterior, si convertimos a `a` en una variable, quedaría tan simple como:"
      ]
    },
    {
      "cell_type": "code",
      "metadata": {
        "colab": {
          "base_uri": "https://localhost:8080/"
        },
        "id": "CXAjEekNom_j",
        "outputId": "780eb914-3a70-4e5d-f924-af355e058d0c"
      },
      "source": [
        "a = tf.Variable(a)\n",
        "\n",
        "with tf.GradientTape() as tape:\n",
        "  # no es necesario hacer un watch sobre a, aunque necesitamos que sea una variable\n",
        "  c = tf.sqrt(tf.square(a) + tf.square(b))\n",
        "  dc_da = tape.gradient(c, a)\n",
        "  print(dc_da)"
      ],
      "execution_count": 64,
      "outputs": [
        {
          "output_type": "stream",
          "text": [
            "tf.Tensor(\n",
            "[[-0.79998416  0.2532157 ]\n",
            " [-0.97626734  0.04038463]], shape=(2, 2), dtype=float32)\n"
          ],
          "name": "stdout"
        }
      ]
    },
    {
      "cell_type": "markdown",
      "metadata": {
        "id": "eSJ8UtOmfIUX"
      },
      "source": [
        "## 5. Dispositivos de Computación"
      ]
    },
    {
      "cell_type": "markdown",
      "metadata": {
        "id": "KAb2lleZfIUY"
      },
      "source": [
        "En un sistema habitual hay múltiples dispositivos de computación:\n",
        "* El procesador del sistema, o CPU. Suelen tener varios núcleos de computación (del orden de 2 a 16). Se les denomina procesadores multicore.\n",
        "* El procesador gráfico, o GPU. Suelen tener de cientos a miles de núcleos de computación (pero son menos \"potentes\" que los núcleos de una CPU). Se les denomina procesadores manycore.\n",
        "* Procesador específico para tensores, o TPU. Es un hardware que se vende aparte y es específico para Deep Learning y tareas con tensores.\n",
        "\n",
        "TF soporta **CPU**, **GPU**, y **TPU**. Vienen representados como cadenas, por ejemplo:\n",
        "\n",
        "* `\"/cpu:0\"`: La CPU de tu máquina.\n",
        "* `\"/gpu:0\"`: La GPU de tu máquina, si tienes una.\n",
        "* `\"/gpu:1\"`: Una segunda GPU."
      ]
    },
    {
      "cell_type": "markdown",
      "metadata": {
        "id": "3cOYYbSNfIUY"
      },
      "source": [
        "Si una operación TF tiene implementaciones para **CPU** y **GPU**, los dispositivos GPU tendrán prioridad en la asignación de tareas. Por ejemplo, `matmul` tiene ambas implementaciones, por lo que en un sistema con dispositivos `cpu:0` y `gpu:0`, `gpu:0` será el seleccionado para ejecutar `matmul`."
      ]
    },
    {
      "cell_type": "markdown",
      "metadata": {
        "id": "ilzbydmXfIUZ"
      },
      "source": [
        "### Un ejemplo ejecutado en una máquina con una Tesla T4"
      ]
    },
    {
      "cell_type": "markdown",
      "metadata": {
        "id": "qGeNcTU5ryqj"
      },
      "source": [
        "Si estás en Google Colab u otro entorno en la nube, o bien tienes instalado el ecosistema de CUDA en tu equipo (con las variables PATH correctas), puedes preguntar qué GPUs tienes en el sistema con:"
      ]
    },
    {
      "cell_type": "code",
      "metadata": {
        "colab": {
          "base_uri": "https://localhost:8080/"
        },
        "id": "4A7cKW3Tr_Ka",
        "outputId": "bb60f230-e334-499f-f97d-e43d4a678f0c"
      },
      "source": [
        "!nvidia-smi"
      ],
      "execution_count": 4,
      "outputs": [
        {
          "output_type": "stream",
          "text": [
            "Thu Nov 26 13:13:36 2020       \n",
            "+-----------------------------------------------------------------------------+\n",
            "| NVIDIA-SMI 455.38       Driver Version: 418.67       CUDA Version: 10.1     |\n",
            "|-------------------------------+----------------------+----------------------+\n",
            "| GPU  Name        Persistence-M| Bus-Id        Disp.A | Volatile Uncorr. ECC |\n",
            "| Fan  Temp  Perf  Pwr:Usage/Cap|         Memory-Usage | GPU-Util  Compute M. |\n",
            "|                               |                      |               MIG M. |\n",
            "|===============================+======================+======================|\n",
            "|   0  Tesla T4            Off  | 00000000:00:04.0 Off |                    0 |\n",
            "| N/A   72C    P0    32W /  70W |    289MiB / 15079MiB |      0%      Default |\n",
            "|                               |                      |                 ERR! |\n",
            "+-------------------------------+----------------------+----------------------+\n",
            "                                                                               \n",
            "+-----------------------------------------------------------------------------+\n",
            "| Processes:                                                                  |\n",
            "|  GPU   GI   CI        PID   Type   Process name                  GPU Memory |\n",
            "|        ID   ID                                                   Usage      |\n",
            "|=============================================================================|\n",
            "|  No running processes found                                                 |\n",
            "+-----------------------------------------------------------------------------+\n"
          ],
          "name": "stdout"
        }
      ]
    },
    {
      "cell_type": "markdown",
      "metadata": {
        "id": "4A4Kripetx6Y"
      },
      "source": [
        "Vemos que tenemos una T4 (esto se cambiará a tu GPU, si la tienes, cuando evalúes la celda anterior). Por defecto siempre se usará la GPU con número 0, pero puedes restringir qué GPU usar cambiando la variable de entorno `CUDA_VISIBLE_DEVICES` (puedes elegir más de una poniendo sus identificadores separados por comas). Más adelante veremos en otra práctica cómo hacerlo."
      ]
    },
    {
      "cell_type": "code",
      "metadata": {
        "id": "NLE6Ml7tuXMl"
      },
      "source": [
        "import os\n",
        "os.environ[\"CUDA_VISIBLE_DEVICES\"]=\"0\"  # selecciona la primera GPU\n",
        "os.environ[\"CUDA_VISIBLE_DEVICES\"]=\"1\"  # selecciona la segunda GPU\n",
        "os.environ[\"CUDA_VISIBLE_DEVICES\"]=\"1,2\"  # selecciona la segunda y tercera GPU\n",
        "\n",
        "# dejemos nuestra selección en la primera GPU\n",
        "os.environ[\"CUDA_VISIBLE_DEVICES\"]=\"0\" "
      ],
      "execution_count": null,
      "outputs": []
    },
    {
      "cell_type": "markdown",
      "metadata": {
        "id": "I13GMd-SsIFz"
      },
      "source": [
        "Si quieres que una operación en particular se ejecute en un dispositivo concreto en lugar de lo que se selecciona automáticamente, puedes usar `tf.device` para crear un contexto de dispositivo, y todas las operaciones dentro de ese contexto se ejecutarán en el mismo dispositivo designado. Por ejemplo, a continuación forzamos a crear unos tensores en CPU. Veamos cómo existe una transferencia a GPU una vez salgamos el contexto de CPU:"
      ]
    },
    {
      "cell_type": "code",
      "metadata": {
        "colab": {
          "base_uri": "https://localhost:8080/"
        },
        "id": "yLeSeNl_rc4b",
        "outputId": "91d555ca-40ea-4748-846a-0bd66809ca13"
      },
      "source": [
        "# Obtenemos mensajes de log con log_device_placement igual a True.\n",
        "tf.debugging.set_log_device_placement(True)\n",
        "\n",
        "# Place tensors on the CPU\n",
        "with tf.device('/CPU:0'):\n",
        "  a = tf.constant([[1.0, 2.0, 3.0], [4.0, 5.0, 6.0]])\n",
        "  b = tf.constant([[1.0, 2.0], [3.0, 4.0], [5.0, 6.0]])\n",
        "\n",
        "# Run on the GPU\n",
        "c = tf.matmul(a, b)\n",
        "print(c)"
      ],
      "execution_count": 3,
      "outputs": [
        {
          "output_type": "stream",
          "text": [
            "Executing op MatMul in device /job:localhost/replica:0/task:0/device:GPU:0\n",
            "tf.Tensor(\n",
            "[[22. 28.]\n",
            " [49. 64.]], shape=(2, 2), dtype=float32)\n"
          ],
          "name": "stdout"
        }
      ]
    },
    {
      "cell_type": "markdown",
      "metadata": {
        "id": "6tNcIN_9fIUa"
      },
      "source": [
        "### Un ejemplo ejecutado en una máquina con dos GeForce GTX 760"
      ]
    },
    {
      "cell_type": "markdown",
      "metadata": {
        "id": "KtLpLVd5fIUb"
      },
      "source": [
        "A continuación se muestra un código que carga un tensor en una GPU distinta, y finalmente realiza la operación en la CPU. No se pone como celda de código porque vamos a asumir que estamos en Google Colab, pero si tienes un equipo con varias GPUs, o una instancia de por ejemplo AWS con varias GPUs, puedes probar a copiar y pegar lo siguiente en una celda de código. La salida es posible que cambie ya que fue ejecutado con TensorFlow 1.\n",
        "\n",
        "```python\n",
        "# Obtenemos mensajes de log con log_device_placement igual a True.\n",
        "tf.debugging.set_log_device_placement(True)\n",
        "\n",
        "# Crea un grafo\n",
        "c = []\n",
        "for d in ['/gpu:0', '/gpu:1']:\n",
        "  with tf.device(d):\n",
        "    a = tf.constant([1.0, 2.0, 3.0, 4.0, 5.0, 6.0], shape=[2, 3])\n",
        "    b = tf.constant([1.0, 2.0, 3.0, 4.0, 5.0, 6.0], shape=[3, 2])\n",
        "    c.append(tf.matmul(a, b))\n",
        "with tf.device('/cpu:0'):\n",
        "  sum = tf.add_n(c)\n",
        "\n",
        "print (sum)\n",
        "```"
      ]
    },
    {
      "cell_type": "markdown",
      "metadata": {
        "id": "bCSxoxT-fIUb"
      },
      "source": [
        "```\n",
        "Device mapping:\n",
        "/job:localhost/replica:0/task:0/gpu:0 -> device: 0, name: GeForce GTX 760, pci bus\n",
        "id: 0000:02:00.0\n",
        "/job:localhost/replica:0/task:0/gpu:1 -> device: 1, name: GeForce GTX 760, pci bus\n",
        "id: 0000:03:00.0\n",
        "Const_3: /job:localhost/replica:0/task:0/gpu:0\n",
        "Const_2: /job:localhost/replica:0/task:0/gpu:0\n",
        "MatMul_1: /job:localhost/replica:0/task:0/gpu:0\n",
        "Const_1: /job:localhost/replica:0/task:0/gpu:1\n",
        "Const: /job:localhost/replica:0/task:0/gpu:1\n",
        "MatMul: /job:localhost/replica:0/task:0/gpu:1\n",
        "AddN: /job:localhost/replica:0/task:0/cpu:0\n",
        "[[  44.   56.]\n",
        " [  98.  128.]]\n",
        "```"
      ]
    },
    {
      "cell_type": "markdown",
      "metadata": {
        "id": "m_4K54v8tTnG"
      },
      "source": [
        "En resumen, con TensorFlow [podemos](https://www.tensorflow.org/guide/gpu):\n",
        "\n",
        "* Usar una sola GPU de un sistema multiGPU\n",
        "* Usar varias o todas las GPUs de un sistema multiGPU\n",
        "* Forzar a cambiar de dispositivo a nuestro antojo con `tf.device`\n",
        "* Restringir la cantidad de memoria reservada en GPU"
      ]
    },
    {
      "cell_type": "markdown",
      "metadata": {
        "id": "Kx40y4Urv9y3"
      },
      "source": [
        "Puedes ver una introducción más exhaustiva en este [tutorial de F. Chollet sobre TensorFlow 2](https://colab.research.google.com/drive/1UCJt8EYjlzCs1H1d1X0iDGYJsHKwu-NO#scrollTo=Owbx4mlEErNN), el cual ha sido usado para dar el salto de versión en esta primera práctica."
      ]
    }
  ]
}
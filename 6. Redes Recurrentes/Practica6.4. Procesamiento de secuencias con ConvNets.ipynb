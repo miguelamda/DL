{
  "nbformat": 4,
  "nbformat_minor": 0,
  "metadata": {
    "kernelspec": {
      "display_name": "Python 3",
      "language": "python",
      "name": "python3"
    },
    "language_info": {
      "codemirror_mode": {
        "name": "ipython",
        "version": 3
      },
      "file_extension": ".py",
      "mimetype": "text/x-python",
      "name": "python",
      "nbconvert_exporter": "python",
      "pygments_lexer": "ipython3",
      "version": "3.6.8"
    },
    "colab": {
      "name": "Practica6.4. Procesamiento de secuencias con ConvNets.ipynb",
      "provenance": [],
      "include_colab_link": true
    }
  },
  "cells": [
    {
      "cell_type": "markdown",
      "metadata": {
        "id": "view-in-github",
        "colab_type": "text"
      },
      "source": [
        "<a href=\"https://colab.research.google.com/github/miguelamda/DL/blob/master/6.%20Redes%20Recurrentes/Practica6.4.%20Procesamiento%20de%20secuencias%20con%20ConvNets.ipynb\" target=\"_parent\"><img src=\"https://colab.research.google.com/assets/colab-badge.svg\" alt=\"Open In Colab\"/></a>"
      ]
    },
    {
      "cell_type": "markdown",
      "metadata": {
        "id": "UKHnLrnF3Xo6"
      },
      "source": [
        "# Práctica 6.4. Procesamiento de secuencias con CNNs"
      ]
    },
    {
      "cell_type": "code",
      "metadata": {
        "collapsed": true,
        "id": "kF3HxHH_3XpA",
        "outputId": "ce1e25fc-ad5a-47df-ef4f-91794ece2d8d",
        "colab": {
          "base_uri": "https://localhost:8080/",
          "height": 35
        }
      },
      "source": [
        "from tensorflow import keras\n",
        "keras.__version__"
      ],
      "execution_count": 1,
      "outputs": [
        {
          "output_type": "execute_result",
          "data": {
            "application/vnd.google.colaboratory.intrinsic+json": {
              "type": "string"
            },
            "text/plain": [
              "'2.4.0'"
            ]
          },
          "metadata": {
            "tags": []
          },
          "execution_count": 1
        }
      ]
    },
    {
      "cell_type": "markdown",
      "metadata": {
        "id": "p8N8O5oH3XpC"
      },
      "source": [
        "Vamos a comprobar como las redes convolucionales de una dimensión (1D) son también útiles para procesar secuencias. Si vemos una secuencia como un vector de una dimensión, una convolución aplicada sobre ese vector debería ser capaz de detectar patrones interesantes de forma similar a como lo haría una red recurrente. Veamos cómo funciona, y cuándo utilizarlo."
      ]
    },
    {
      "cell_type": "markdown",
      "metadata": {
        "id": "R0MaqtNm3XpD"
      },
      "source": [
        "## 1. Implementando una convnet 1D\n",
        "\n",
        "En Keras, usaríamos una convnet 1D a través de la capa `Conv1D`, que tiene una interfaz muy similar a `Conv2D`. Toma como entrada tensores 3D con forma `(samples, time, features)` y también devuelve tensores 3D de forma similar. La ventana de convolución es una ventana 1D en el eje temporal, eje 1 en el tensor de entrada.\n",
        "\n",
        "Construyamos una convnet 1D de 2 capas y apliquémosla a la tarea de clasificación de sentimientos IMDB.\n",
        "\n",
        "A modo de recordatorio, este es el código para obtener y preprocesar los datos:"
      ]
    },
    {
      "cell_type": "code",
      "metadata": {
        "id": "U83BqZWK3XpD",
        "outputId": "6b9c5a28-a72c-4e0b-d1f3-adb7140ce305",
        "colab": {
          "base_uri": "https://localhost:8080/"
        }
      },
      "source": [
        "from keras.datasets import imdb\n",
        "from keras.preprocessing import sequence\n",
        "\n",
        "max_features = 10000  # número de palabras a considerar como características\n",
        "max_len = 500  # cortar textos después de este número de palabras (entre las características máximas más comunes)\n",
        "\n",
        "print('Cargando datos...')\n",
        "(x_train, y_train), (x_test, y_test) = imdb.load_data(num_words=max_features)\n",
        "print(len(x_train), 'secuencias de entrenamiento')\n",
        "print(len(x_test), 'secuencias de test')\n",
        "\n",
        "print('Pad sequences (samples x tiempo)')\n",
        "x_train = sequence.pad_sequences(x_train, maxlen=max_len)\n",
        "x_test = sequence.pad_sequences(x_test, maxlen=max_len)\n",
        "print('x_train shape:', x_train.shape)\n",
        "print('x_test shape:', x_test.shape)"
      ],
      "execution_count": 2,
      "outputs": [
        {
          "output_type": "stream",
          "text": [
            "Cargando datos...\n",
            "Downloading data from https://storage.googleapis.com/tensorflow/tf-keras-datasets/imdb.npz\n",
            "17465344/17464789 [==============================] - 0s 0us/step\n"
          ],
          "name": "stdout"
        },
        {
          "output_type": "stream",
          "text": [
            "<string>:6: VisibleDeprecationWarning: Creating an ndarray from ragged nested sequences (which is a list-or-tuple of lists-or-tuples-or ndarrays with different lengths or shapes) is deprecated. If you meant to do this, you must specify 'dtype=object' when creating the ndarray\n",
            "/usr/local/lib/python3.6/dist-packages/tensorflow/python/keras/datasets/imdb.py:159: VisibleDeprecationWarning: Creating an ndarray from ragged nested sequences (which is a list-or-tuple of lists-or-tuples-or ndarrays with different lengths or shapes) is deprecated. If you meant to do this, you must specify 'dtype=object' when creating the ndarray\n",
            "  x_train, y_train = np.array(xs[:idx]), np.array(labels[:idx])\n",
            "/usr/local/lib/python3.6/dist-packages/tensorflow/python/keras/datasets/imdb.py:160: VisibleDeprecationWarning: Creating an ndarray from ragged nested sequences (which is a list-or-tuple of lists-or-tuples-or ndarrays with different lengths or shapes) is deprecated. If you meant to do this, you must specify 'dtype=object' when creating the ndarray\n",
            "  x_test, y_test = np.array(xs[idx:]), np.array(labels[idx:])\n"
          ],
          "name": "stderr"
        },
        {
          "output_type": "stream",
          "text": [
            "25000 secuencias de entrenamiento\n",
            "25000 secuencias de test\n",
            "Pad sequences (samples x tiempo)\n",
            "x_train shape: (25000, 500)\n",
            "x_test shape: (25000, 500)\n"
          ],
          "name": "stdout"
        }
      ]
    },
    {
      "cell_type": "markdown",
      "metadata": {
        "id": "GoR7YSNh3XpE"
      },
      "source": [
        "Las convnets 1D están estructuradas de la misma manera que sus versiones 2D que se ya hemos utilizado en módulo 5: consisten en una pila de capas `Conv1D` y `MaxPooling1D`, terminando eventualmente en una capa de pooling global o una capa `Flatten`, convirtiendo las salidas 3D en salidas 2D, permitiendo añadir una o más capas `Dense` al modelo, para clasificación o regresión.\n",
        "\n",
        "Una diferencia, sin embargo, es el hecho de que podemos permitirnos el lujo de usar ventanas de convolución más grandes con convnets 1D. De hecho, con una capa de convolución 2D, una ventana de convolución 3x3 contiene `3*3 = 9` vectores de características, pero con una capa de convolución 1D, una ventana de convolución de tamaño 3 sólo contendría 3 vectores de características. De esta manera podemos permitirnos fácilmente ventanas de convolución 1D de tamaño 7 o 9.\n",
        "\n",
        "Este es nuestro ejemplo de convneto 1D para el conjunto de datos IMDB:"
      ]
    },
    {
      "cell_type": "code",
      "metadata": {
        "id": "o184vPN43XpE",
        "outputId": "f2687f4f-3def-494b-8d7f-fcf435e32b31",
        "colab": {
          "base_uri": "https://localhost:8080/"
        }
      },
      "source": [
        "from keras.models import Sequential\n",
        "from keras import layers\n",
        "from keras.optimizers import RMSprop\n",
        "\n",
        "model = Sequential()\n",
        "model.add(layers.Embedding(max_features, 128, input_length=max_len))\n",
        "model.add(layers.Conv1D(32, 7, activation='relu'))\n",
        "model.add(layers.MaxPooling1D(5))\n",
        "model.add(layers.Conv1D(32, 7, activation='relu'))\n",
        "model.add(layers.GlobalMaxPooling1D())\n",
        "model.add(layers.Dense(1))\n",
        "\n",
        "model.summary()\n",
        "\n",
        "model.compile(optimizer=RMSprop(lr=1e-4),\n",
        "              loss='binary_crossentropy',\n",
        "              metrics=['acc'])\n",
        "history = model.fit(x_train, y_train,\n",
        "                    epochs=10,\n",
        "                    batch_size=128,\n",
        "                    validation_split=0.2)"
      ],
      "execution_count": 3,
      "outputs": [
        {
          "output_type": "stream",
          "text": [
            "Model: \"sequential\"\n",
            "_________________________________________________________________\n",
            "Layer (type)                 Output Shape              Param #   \n",
            "=================================================================\n",
            "embedding (Embedding)        (None, 500, 128)          1280000   \n",
            "_________________________________________________________________\n",
            "conv1d (Conv1D)              (None, 494, 32)           28704     \n",
            "_________________________________________________________________\n",
            "max_pooling1d (MaxPooling1D) (None, 98, 32)            0         \n",
            "_________________________________________________________________\n",
            "conv1d_1 (Conv1D)            (None, 92, 32)            7200      \n",
            "_________________________________________________________________\n",
            "global_max_pooling1d (Global (None, 32)                0         \n",
            "_________________________________________________________________\n",
            "dense (Dense)                (None, 1)                 33        \n",
            "=================================================================\n",
            "Total params: 1,315,937\n",
            "Trainable params: 1,315,937\n",
            "Non-trainable params: 0\n",
            "_________________________________________________________________\n",
            "Epoch 1/10\n",
            "157/157 [==============================] - 72s 451ms/step - loss: 0.7572 - acc: 0.5158 - val_loss: 0.6840 - val_acc: 0.5690\n",
            "Epoch 2/10\n",
            "157/157 [==============================] - 76s 485ms/step - loss: 0.6670 - acc: 0.6682 - val_loss: 0.6615 - val_acc: 0.6558\n",
            "Epoch 3/10\n",
            "157/157 [==============================] - 72s 459ms/step - loss: 0.6278 - acc: 0.7608 - val_loss: 0.6049 - val_acc: 0.7204\n",
            "Epoch 4/10\n",
            "157/157 [==============================] - 71s 454ms/step - loss: 0.5444 - acc: 0.8098 - val_loss: 0.4880 - val_acc: 0.7954\n",
            "Epoch 5/10\n",
            "157/157 [==============================] - 71s 452ms/step - loss: 0.4231 - acc: 0.8397 - val_loss: 0.4294 - val_acc: 0.8336\n",
            "Epoch 6/10\n",
            "157/157 [==============================] - 72s 459ms/step - loss: 0.3465 - acc: 0.8773 - val_loss: 0.4274 - val_acc: 0.8518\n",
            "Epoch 7/10\n",
            "157/157 [==============================] - 73s 463ms/step - loss: 0.2964 - acc: 0.8944 - val_loss: 0.4081 - val_acc: 0.8602\n",
            "Epoch 8/10\n",
            "157/157 [==============================] - 73s 465ms/step - loss: 0.2658 - acc: 0.9092 - val_loss: 0.4147 - val_acc: 0.8624\n",
            "Epoch 9/10\n",
            "157/157 [==============================] - 72s 458ms/step - loss: 0.2286 - acc: 0.9188 - val_loss: 0.4403 - val_acc: 0.8672\n",
            "Epoch 10/10\n",
            "157/157 [==============================] - 73s 464ms/step - loss: 0.2022 - acc: 0.9306 - val_loss: 0.4621 - val_acc: 0.8672\n"
          ],
          "name": "stdout"
        }
      ]
    },
    {
      "cell_type": "markdown",
      "metadata": {
        "id": "JhFFcDNY3XpF"
      },
      "source": [
        "Aquí están nuestros resultados con los conjuntos de entrenamiento y validación: la precisión de la validación es algo inferior a la del LSTM que utilizamos hace dos prácticas, pero el tiempo de ejecución es más rápido, tanto en la CPU como en la GPU (aunque la velocidad exacta variará mucho dependiendo de la configuración exacta). En este punto, podríamos volver a entrenar este modelo para el número correcto de épocas (8), y ejecutarlo con el conjunto de prueba. Esta es una demostración convincente de que una convnet 1D puede ofrecer una alternativa rápida y barata a una red recurrente en una tarea de clasificación de sentimientos a nivel de palabra."
      ]
    },
    {
      "cell_type": "code",
      "metadata": {
        "id": "jdFOTCbX3XpF",
        "outputId": "0ec72a53-dda7-4f91-fd47-3c5b6037b7fa",
        "colab": {
          "base_uri": "https://localhost:8080/",
          "height": 545
        }
      },
      "source": [
        "import matplotlib.pyplot as plt\n",
        "\n",
        "acc = history.history['acc']\n",
        "val_acc = history.history['val_acc']\n",
        "loss = history.history['loss']\n",
        "val_loss = history.history['val_loss']\n",
        "\n",
        "epochs = range(len(acc))\n",
        "\n",
        "plt.plot(epochs, acc, 'bo', label='Training acc')\n",
        "plt.plot(epochs, val_acc, 'b', label='Validation acc')\n",
        "plt.title('Training and validation accuracy')\n",
        "plt.legend()\n",
        "\n",
        "plt.figure()\n",
        "\n",
        "plt.plot(epochs, loss, 'bo', label='Training loss')\n",
        "plt.plot(epochs, val_loss, 'b', label='Validation loss')\n",
        "plt.title('Training and validation loss')\n",
        "plt.legend()\n",
        "\n",
        "plt.show()"
      ],
      "execution_count": 4,
      "outputs": [
        {
          "output_type": "display_data",
          "data": {
            "image/png": "[encoded data removed]",
            "text/plain": [
              "<Figure size 432x288 with 1 Axes>"
            ]
          },
          "metadata": {
            "tags": [],
            "needs_background": "light"
          }
        },
        {
          "output_type": "display_data",
          "data": {
            "image/png": "[encoded data removed]",
            "text/plain": [
              "<Figure size 432x288 with 1 Axes>"
            ]
          },
          "metadata": {
            "tags": [],
            "needs_background": "light"
          }
        }
      ]
    },
    {
      "cell_type": "markdown",
      "metadata": {
        "id": "vR1iIdVj3XpG"
      },
      "source": [
        "## 2. Combinando CNNs y RNNs para procesar secuencias largas\n",
        "\n",
        "Debido a que las convnets 1D procesan los parches de entrada de forma independiente, no son sensibles al orden de los pasos temporales (más allá de una escala local, el tamaño de las ventanas de convolución), a diferencia de las RNNs. Por supuesto, para poder reconocer patrones a más largo plazo, uno podría apilar muchas capas de convolución y acumular capas, resultando en capas superiores que \"verían\" pedazos largos de las entradas originales -- pero esa es todavía una manera bastante débil de inducir la sensibilidad al orden. Una forma de evidenciar esta debilidad es probar las convnets 1D sobre el problema del pronóstico de temperatura de la práctica anterior, donde la sensibilidad al orden fue clave para producir buenas predicciones. Veamos:"
      ]
    },
    {
      "cell_type": "code",
      "metadata": {
        "id": "O4LZwvaZ3XpG",
        "outputId": "7166dfbd-1532-4d6b-e2e4-7fcabde62eb6",
        "colab": {
          "base_uri": "https://localhost:8080/"
        }
      },
      "source": [
        "# Reutilizamos las siguientes variables definidas en la práctica anterior:\n",
        "# float_data, train_gen, val_gen, val_steps\n",
        "\n",
        "import os\n",
        "import numpy as np\n",
        "\n",
        "# descarga los datos si no estaban\n",
        "!wget https://s3.amazonaws.com/keras-datasets/jena_climate_2009_2016.csv.zip\n",
        "!unzip jena_climate_2009_2016.csv.zip\n",
        "\n",
        "data_dir = './'\n",
        "fname = os.path.join(data_dir, 'jena_climate_2009_2016.csv')\n",
        "\n",
        "f = open(fname)\n",
        "data = f.read()\n",
        "f.close()\n",
        "\n",
        "lines = data.split('\\n')\n",
        "header = lines[0].split(',')\n",
        "lines = lines[1:]\n",
        "\n",
        "float_data = np.zeros((len(lines), len(header) - 1))\n",
        "for i, line in enumerate(lines):\n",
        "    values = [float(x) for x in line.split(',')[1:]]\n",
        "    float_data[i, :] = values\n",
        "    \n",
        "mean = float_data[:200000].mean(axis=0)\n",
        "float_data -= mean\n",
        "std = float_data[:200000].std(axis=0)\n",
        "float_data /= std\n",
        "\n",
        "def generator(data, lookback, delay, min_index, max_index,\n",
        "              shuffle=False, batch_size=128, step=6):\n",
        "    if max_index is None:\n",
        "        max_index = len(data) - delay - 1\n",
        "    i = min_index + lookback\n",
        "    while 1:\n",
        "        if shuffle:\n",
        "            rows = np.random.randint(\n",
        "                min_index + lookback, max_index, size=batch_size)\n",
        "        else:\n",
        "            if i + batch_size >= max_index:\n",
        "                i = min_index + lookback\n",
        "            rows = np.arange(i, min(i + batch_size, max_index))\n",
        "            i += len(rows)\n",
        "\n",
        "        samples = np.zeros((len(rows),\n",
        "                           lookback // step,\n",
        "                           data.shape[-1]))\n",
        "        targets = np.zeros((len(rows),))\n",
        "        for j, row in enumerate(rows):\n",
        "            indices = range(rows[j] - lookback, rows[j], step)\n",
        "            samples[j] = data[indices]\n",
        "            targets[j] = data[rows[j] + delay][1]\n",
        "        yield samples, targets\n",
        "        \n",
        "lookback = 1440\n",
        "step = 6\n",
        "delay = 144\n",
        "batch_size = 128\n",
        "\n",
        "train_gen = generator(float_data,\n",
        "                      lookback=lookback,\n",
        "                      delay=delay,\n",
        "                      min_index=0,\n",
        "                      max_index=200000,\n",
        "                      shuffle=True,\n",
        "                      step=step, \n",
        "                      batch_size=batch_size)\n",
        "val_gen = generator(float_data,\n",
        "                    lookback=lookback,\n",
        "                    delay=delay,\n",
        "                    min_index=200001,\n",
        "                    max_index=300000,\n",
        "                    step=step,\n",
        "                    batch_size=batch_size)\n",
        "test_gen = generator(float_data,\n",
        "                     lookback=lookback,\n",
        "                     delay=delay,\n",
        "                     min_index=300001,\n",
        "                     max_index=None,\n",
        "                     step=step,\n",
        "                     batch_size=batch_size)\n",
        "\n",
        "# Esta es la cantidad de pasos que hay que seguir en `val_gen`\n",
        "# para ver todo el conjunto de validación:\n",
        "val_steps = (300000 - 200001 - lookback) // batch_size\n",
        "\n",
        "# Esta es la cantidad de pasos a seguir en `test_gen`\n",
        "# para ver todo el conjunto de pruebas:\n",
        "test_steps = (len(float_data) - 300001 - lookback) // batch_size"
      ],
      "execution_count": 5,
      "outputs": [
        {
          "output_type": "stream",
          "text": [
            "--2020-12-22 10:05:55--  https://s3.amazonaws.com/keras-datasets/jena_climate_2009_2016.csv.zip\n",
            "Resolving s3.amazonaws.com (s3.amazonaws.com)... 52.217.110.190\n",
            "Connecting to s3.amazonaws.com (s3.amazonaws.com)|52.217.110.190|:443... connected.\n",
            "HTTP request sent, awaiting response... 200 OK\n",
            "Length: 13568290 (13M) [application/zip]\n",
            "Saving to: ‘jena_climate_2009_2016.csv.zip’\n",
            "\n",
            "jena_climate_2009_2 100%[===================>]  12.94M  39.8MB/s    in 0.3s    \n",
            "\n",
            "2020-12-22 10:05:56 (39.8 MB/s) - ‘jena_climate_2009_2016.csv.zip’ saved [13568290/13568290]\n",
            "\n",
            "Archive:  jena_climate_2009_2016.csv.zip\n",
            "  inflating: jena_climate_2009_2016.csv  \n"
          ],
          "name": "stdout"
        }
      ]
    },
    {
      "cell_type": "code",
      "metadata": {
        "id": "Cd_8ktjo3XpH",
        "outputId": "8f76b762-9b9e-470b-9a08-20c35fce68d0",
        "colab": {
          "base_uri": "https://localhost:8080/"
        }
      },
      "source": [
        "from keras.models import Sequential\n",
        "from keras import layers\n",
        "from keras.optimizers import RMSprop\n",
        "\n",
        "model = Sequential()\n",
        "model.add(layers.Conv1D(32, 5, activation='relu',\n",
        "                        input_shape=(None, float_data.shape[-1])))\n",
        "model.add(layers.MaxPooling1D(3))\n",
        "model.add(layers.Conv1D(32, 5, activation='relu'))\n",
        "model.add(layers.MaxPooling1D(3))\n",
        "model.add(layers.Conv1D(32, 5, activation='relu'))\n",
        "model.add(layers.GlobalMaxPooling1D())\n",
        "model.add(layers.Dense(1))\n",
        "\n",
        "model.compile(optimizer=RMSprop(), loss='mae')\n",
        "history = model.fit(train_gen,\n",
        "                    steps_per_epoch=500,\n",
        "                    epochs=20,\n",
        "                    validation_data=val_gen,\n",
        "                    validation_steps=val_steps)"
      ],
      "execution_count": 6,
      "outputs": [
        {
          "output_type": "stream",
          "text": [
            "/usr/local/lib/python3.6/dist-packages/tensorflow/python/keras/engine/training.py:1844: UserWarning: `Model.fit_generator` is deprecated and will be removed in a future version. Please use `Model.fit`, which supports generators.\n",
            "  warnings.warn('`Model.fit_generator` is deprecated and '\n"
          ],
          "name": "stderr"
        },
        {
          "output_type": "stream",
          "text": [
            "Epoch 1/20\n",
            "500/500 [==============================] - 50s 99ms/step - loss: 0.4724 - val_loss: 0.4407\n",
            "Epoch 2/20\n",
            "500/500 [==============================] - 43s 86ms/step - loss: 0.3680 - val_loss: 0.4416\n",
            "Epoch 3/20\n",
            "500/500 [==============================] - 44s 88ms/step - loss: 0.3425 - val_loss: 0.4433\n",
            "Epoch 4/20\n",
            "500/500 [==============================] - 43s 86ms/step - loss: 0.3261 - val_loss: 0.4351\n",
            "Epoch 5/20\n",
            "500/500 [==============================] - 43s 85ms/step - loss: 0.3113 - val_loss: 0.4495\n",
            "Epoch 6/20\n",
            "500/500 [==============================] - 42s 85ms/step - loss: 0.3027 - val_loss: 0.4490\n",
            "Epoch 7/20\n",
            "500/500 [==============================] - 43s 86ms/step - loss: 0.2955 - val_loss: 0.4514\n",
            "Epoch 8/20\n",
            "500/500 [==============================] - 43s 87ms/step - loss: 0.2896 - val_loss: 0.4414\n",
            "Epoch 9/20\n",
            "500/500 [==============================] - 44s 87ms/step - loss: 0.2809 - val_loss: 0.4431\n",
            "Epoch 10/20\n",
            "500/500 [==============================] - 45s 90ms/step - loss: 0.2785 - val_loss: 0.4466\n",
            "Epoch 11/20\n",
            "500/500 [==============================] - 42s 85ms/step - loss: 0.2707 - val_loss: 0.4430\n",
            "Epoch 12/20\n",
            "500/500 [==============================] - 42s 85ms/step - loss: 0.2680 - val_loss: 0.4305\n",
            "Epoch 13/20\n",
            "500/500 [==============================] - 43s 86ms/step - loss: 0.2637 - val_loss: 0.4682\n",
            "Epoch 14/20\n",
            "500/500 [==============================] - 43s 86ms/step - loss: 0.2621 - val_loss: 0.4405\n",
            "Epoch 15/20\n",
            "500/500 [==============================] - 48s 97ms/step - loss: 0.2593 - val_loss: 0.4493\n",
            "Epoch 16/20\n",
            "500/500 [==============================] - 44s 88ms/step - loss: 0.2543 - val_loss: 0.4610\n",
            "Epoch 17/20\n",
            "500/500 [==============================] - 43s 86ms/step - loss: 0.2524 - val_loss: 0.4628\n",
            "Epoch 18/20\n",
            "500/500 [==============================] - 44s 89ms/step - loss: 0.2493 - val_loss: 0.4709\n",
            "Epoch 19/20\n",
            "500/500 [==============================] - 43s 86ms/step - loss: 0.2479 - val_loss: 0.4635\n",
            "Epoch 20/20\n",
            "500/500 [==============================] - 43s 85ms/step - loss: 0.2454 - val_loss: 0.4501\n"
          ],
          "name": "stdout"
        }
      ]
    },
    {
      "cell_type": "markdown",
      "metadata": {
        "id": "6-EnbIT63XpI"
      },
      "source": [
        "Aquí están nuestros errores absolutos medios sobre nuestro conjunto de entrenamiento y validación:"
      ]
    },
    {
      "cell_type": "code",
      "metadata": {
        "id": "C2x9hoyy3XpI",
        "outputId": "b64afade-3f01-4800-f4db-0af816518d04",
        "colab": {
          "base_uri": "https://localhost:8080/",
          "height": 281
        }
      },
      "source": [
        "import matplotlib.pyplot as plt\n",
        "\n",
        "loss = history.history['loss']\n",
        "val_loss = history.history['val_loss']\n",
        "\n",
        "epochs = range(len(loss))\n",
        "\n",
        "plt.figure()\n",
        "\n",
        "plt.plot(epochs, loss, 'bo', label='Training loss')\n",
        "plt.plot(epochs, val_loss, 'b', label='Validation loss')\n",
        "plt.title('Training and validation loss')\n",
        "plt.legend()\n",
        "\n",
        "plt.show()"
      ],
      "execution_count": 7,
      "outputs": [
        {
          "output_type": "display_data",
          "data": {
            "image/png": "[encoded data removed]",
            "text/plain": [
              "<Figure size 432x288 with 1 Axes>"
            ]
          },
          "metadata": {
            "tags": [],
            "needs_background": "light"
          }
        }
      ]
    },
    {
      "cell_type": "markdown",
      "metadata": {
        "id": "aNjVvKxt3XpJ"
      },
      "source": [
        "La validación MAE se mantiene en los 0,40: ni siquiera podemos superar nuestra base de sentido común utilizando una convnet pequeña. Una vez más, esto se debe a que nuestro convnet busca patrones en cualquier parte de las series de tiempo de entrada, y no tiene conocimiento de la posición temporal de un patrón que ve (por ejemplo, hacia el principio, hacia el final, etc.). En este caso específico, dado que los puntos de datos más recientes deben interpretarse de forma diferente a los más antiguos, la convnet no consigue producir resultados significativos. Esta limitación de las convnets no fue un problema en IMDB, porque los patrones de palabras clave que se asocian con un sentimiento positivo o negativo serán informativos independientemente de dónde se encuentren en las frases de entrada.\n",
        "\n",
        "Una estrategia para combinar la velocidad y ligereza de las convnets con la sensibilidad al orden de los RNNs es utilizar una convnet 1D como paso de preprocesamiento antes de uan RNN. Esto es especialmente beneficioso cuando se trata de secuencias que son tan largas que no se pueden procesar de forma realista con RNNs, por ejemplo, secuencias con miles de pasos. La convnet convertirá la secuencia de entrada larga en secuencias mucho más cortas (de menor tamaño) de características de nivel superior. Esta secuencia de características extraídas se convierte en la entrada a la parte RNN de la red."
      ]
    },
    {
      "cell_type": "markdown",
      "metadata": {
        "id": "kiRn8vaU3XpJ"
      },
      "source": [
        "Esta técnica no se ve muy a menudo en trabajos de investigación y aplicaciones prácticas, posiblemente porque no es muy conocida. Es muy eficaz y debería ser más común. Probemos esto en el conjunto de datos de pronóstico de temperatura. Debido a que esta estrategia nos permite manipular secuencias mucho más largas, podríamos mirar los datos desde más atrás (aumentando el parámetro `lookback` del generador de datos), o mirar en series de tiempo de alta resolución (disminuyendo el parámetro `step` del generador). Aquí, elegiremos (de forma arbitraria) usar un `step` dos veces más pequeño, resultando en series de tiempo dos veces más largas, donde los datos climáticos están siendo muestreados a una tasa de un punto por 30 minutos."
      ]
    },
    {
      "cell_type": "code",
      "metadata": {
        "id": "TYEzOQjL3XpK"
      },
      "source": [
        "# Esto estaba antes asignado a 6 (un punto por hora)\n",
        "# Ahora 3 (un punto por 30 min).\n",
        "step = 3\n",
        "lookback = 720  # Igual\n",
        "delay = 144 # Igual\n",
        "\n",
        "train_gen = generator(float_data,\n",
        "                      lookback=lookback,\n",
        "                      delay=delay,\n",
        "                      min_index=0,\n",
        "                      max_index=200000,\n",
        "                      shuffle=True,\n",
        "                      step=step)\n",
        "val_gen = generator(float_data,\n",
        "                    lookback=lookback,\n",
        "                    delay=delay,\n",
        "                    min_index=200001,\n",
        "                    max_index=300000,\n",
        "                    step=step)\n",
        "test_gen = generator(float_data,\n",
        "                     lookback=lookback,\n",
        "                     delay=delay,\n",
        "                     min_index=300001,\n",
        "                     max_index=None,\n",
        "                     step=step)\n",
        "val_steps = (300000 - 200001 - lookback) // 128\n",
        "test_steps = (len(float_data) - 300001 - lookback) // 128"
      ],
      "execution_count": 8,
      "outputs": []
    },
    {
      "cell_type": "markdown",
      "metadata": {
        "id": "KW5iCcRR3XpK"
      },
      "source": [
        "Este es nuestro modelo, comenzando con dos capas `Conv1D` y seguidasa con una capa `GRU`:"
      ]
    },
    {
      "cell_type": "code",
      "metadata": {
        "id": "voNi6XRF3XpK",
        "outputId": "d6cfb8de-dfd0-4d85-eafc-37a96d220487",
        "colab": {
          "base_uri": "https://localhost:8080/"
        }
      },
      "source": [
        "model = Sequential()\n",
        "model.add(layers.Conv1D(32, 5, activation='relu',\n",
        "                        input_shape=(None, float_data.shape[-1])))\n",
        "model.add(layers.MaxPooling1D(3))\n",
        "model.add(layers.Conv1D(32, 5, activation='relu'))\n",
        "model.add(layers.GRU(32, dropout=0.1, recurrent_dropout=0.5))\n",
        "model.add(layers.Dense(1))\n",
        "\n",
        "model.summary()\n",
        "\n",
        "model.compile(optimizer=RMSprop(), loss='mae')\n",
        "history = model.fit(train_gen,\n",
        "                    steps_per_epoch=500,\n",
        "                    epochs=20,\n",
        "                    validation_data=val_gen,\n",
        "                    validation_steps=val_steps)"
      ],
      "execution_count": 9,
      "outputs": [
        {
          "output_type": "stream",
          "text": [
            "Model: \"sequential_2\"\n",
            "_________________________________________________________________\n",
            "Layer (type)                 Output Shape              Param #   \n",
            "=================================================================\n",
            "conv1d_5 (Conv1D)            (None, None, 32)          2272      \n",
            "_________________________________________________________________\n",
            "max_pooling1d_3 (MaxPooling1 (None, None, 32)          0         \n",
            "_________________________________________________________________\n",
            "conv1d_6 (Conv1D)            (None, None, 32)          5152      \n",
            "_________________________________________________________________\n",
            "gru (GRU)                    (None, 32)                6336      \n",
            "_________________________________________________________________\n",
            "dense_2 (Dense)              (None, 1)                 33        \n",
            "=================================================================\n",
            "Total params: 13,793\n",
            "Trainable params: 13,793\n",
            "Non-trainable params: 0\n",
            "_________________________________________________________________\n",
            "Epoch 1/20\n"
          ],
          "name": "stdout"
        },
        {
          "output_type": "stream",
          "text": [
            "/usr/local/lib/python3.6/dist-packages/tensorflow/python/keras/engine/training.py:1844: UserWarning: `Model.fit_generator` is deprecated and will be removed in a future version. Please use `Model.fit`, which supports generators.\n",
            "  warnings.warn('`Model.fit_generator` is deprecated and '\n"
          ],
          "name": "stderr"
        },
        {
          "output_type": "stream",
          "text": [
            "500/500 [==============================] - 94s 182ms/step - loss: 0.3685 - val_loss: 0.2888\n",
            "Epoch 2/20\n",
            "500/500 [==============================] - 89s 179ms/step - loss: 0.3033 - val_loss: 0.2783\n",
            "Epoch 3/20\n",
            "500/500 [==============================] - 92s 184ms/step - loss: 0.2907 - val_loss: 0.2762\n",
            "Epoch 4/20\n",
            "500/500 [==============================] - 90s 179ms/step - loss: 0.2784 - val_loss: 0.2798\n",
            "Epoch 5/20\n",
            "500/500 [==============================] - 91s 182ms/step - loss: 0.2704 - val_loss: 0.2837\n",
            "Epoch 6/20\n",
            "500/500 [==============================] - 91s 183ms/step - loss: 0.2630 - val_loss: 0.2795\n",
            "Epoch 7/20\n",
            "500/500 [==============================] - 90s 179ms/step - loss: 0.2559 - val_loss: 0.2829\n",
            "Epoch 8/20\n",
            "500/500 [==============================] - 90s 180ms/step - loss: 0.2510 - val_loss: 0.2842\n",
            "Epoch 9/20\n",
            "500/500 [==============================] - 90s 181ms/step - loss: 0.2427 - val_loss: 0.2956\n",
            "Epoch 10/20\n",
            "500/500 [==============================] - 90s 180ms/step - loss: 0.2409 - val_loss: 0.2889\n",
            "Epoch 11/20\n",
            "500/500 [==============================] - 91s 181ms/step - loss: 0.2350 - val_loss: 0.3031\n",
            "Epoch 12/20\n",
            "500/500 [==============================] - 90s 181ms/step - loss: 0.2298 - val_loss: 0.2964\n",
            "Epoch 13/20\n",
            "500/500 [==============================] - 90s 181ms/step - loss: 0.2255 - val_loss: 0.3101\n",
            "Epoch 14/20\n",
            "500/500 [==============================] - 90s 179ms/step - loss: 0.2240 - val_loss: 0.2993\n",
            "Epoch 15/20\n",
            "500/500 [==============================] - 90s 179ms/step - loss: 0.2215 - val_loss: 0.3021\n",
            "Epoch 16/20\n",
            "500/500 [==============================] - 90s 180ms/step - loss: 0.2160 - val_loss: 0.3054\n",
            "Epoch 17/20\n",
            "500/500 [==============================] - 91s 182ms/step - loss: 0.2144 - val_loss: 0.3144\n",
            "Epoch 18/20\n",
            "500/500 [==============================] - 89s 179ms/step - loss: 0.2089 - val_loss: 0.3052\n",
            "Epoch 19/20\n",
            "500/500 [==============================] - 91s 181ms/step - loss: 0.2057 - val_loss: 0.3123\n",
            "Epoch 20/20\n",
            "500/500 [==============================] - 90s 180ms/step - loss: 0.2052 - val_loss: 0.3140\n"
          ],
          "name": "stdout"
        }
      ]
    },
    {
      "cell_type": "code",
      "metadata": {
        "id": "zIF7K0_E3XpK",
        "outputId": "2e745fb3-86a6-415c-d471-6df99eedc5e9",
        "colab": {
          "base_uri": "https://localhost:8080/",
          "height": 281
        }
      },
      "source": [
        "loss = history.history['loss']\n",
        "val_loss = history.history['val_loss']\n",
        "\n",
        "epochs = range(len(loss))\n",
        "\n",
        "plt.figure()\n",
        "\n",
        "plt.plot(epochs, loss, 'bo', label='Training loss')\n",
        "plt.plot(epochs, val_loss, 'b', label='Validation loss')\n",
        "plt.title('Training and validation loss')\n",
        "plt.legend()\n",
        "\n",
        "plt.show()"
      ],
      "execution_count": 10,
      "outputs": [
        {
          "output_type": "display_data",
          "data": {
            "image/png": "[encoded data removed]",
            "text/plain": [
              "<Figure size 432x288 with 1 Axes>"
            ]
          },
          "metadata": {
            "tags": [],
            "needs_background": "light"
          }
        }
      ]
    },
    {
      "cell_type": "markdown",
      "metadata": {
        "id": "Oixjh65F3XpL"
      },
      "source": [
        "A juzgar por la validation loss, esta configuración no es tan buena como la del GRU regularizado por si solo, pero es significativamente más rápida. Trata de examinar dos veces más datos, lo que en este caso no parece ser de gran ayuda, pero puede ser importante para otros conjuntos de datos."
      ]
    },
    {
      "cell_type": "markdown",
      "metadata": {
        "id": "BOcVHfpL3XpL"
      },
      "source": [
        "## 3. Concluyendo\n",
        "\n",
        "Esto es lo que deberías haber aprendido en esta práctica:\n",
        "\n",
        "* De la misma manera que las convnets 2D funcionan bien para procesar patrones visuales en espacio 2D, las convnets 1D funcionan bien para procesar patrones temporales. Ofrecen una alternativa más rápida a las RNN en algunos problemas, en particular las tareas de PNL.\n",
        "* Típicamente las convnets 1D están estructuradas de forma muy parecida a sus equivalentes 2D del mundo de la visión por ordenador: consisten en pilas de capas `Conv1D` y `MaxPooling1D`, terminando finalmente en una operación global de pooling o de aplanamiento.\n",
        "* Debido a que las RNNs son extremadamente costosas para procesar secuencias muy largas, pero las convnets 1D son baratas, puede ser una buena idea usar una convnet 1D como paso de preprocesamiento antes de una RNN, acortando la secuencia y extrayendo representaciones útiles para que la RNN las procese.\n",
        "\n",
        "Un concepto útil e importante que no trataremos es el de la convolución 1D con kernels dilatados."
      ]
    }
  ]
}
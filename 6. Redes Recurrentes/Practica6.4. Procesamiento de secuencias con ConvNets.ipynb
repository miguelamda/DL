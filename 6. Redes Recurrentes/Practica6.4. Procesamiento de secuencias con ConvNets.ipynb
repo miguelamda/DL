{
 "cells": [
  {
   "cell_type": "markdown",
   "metadata": {},
   "source": [
    "# Práctica 6.4. Procesamiento de secuencias con CNNs"
   ]
  },
  {
   "cell_type": "code",
   "execution_count": 1,
   "metadata": {
    "collapsed": true
   },
   "outputs": [
    {
     "name": "stderr",
     "output_type": "stream",
     "text": [
      "Using TensorFlow backend.\n",
      "/usr/local/lib/python3.6/dist-packages/tensorflow/python/framework/dtypes.py:526: FutureWarning: Passing (type, 1) or '1type' as a synonym of type is deprecated; in a future version of numpy, it will be understood as (type, (1,)) / '(1,)type'.\n",
      "  _np_qint8 = np.dtype([(\"qint8\", np.int8, 1)])\n",
      "/usr/local/lib/python3.6/dist-packages/tensorflow/python/framework/dtypes.py:527: FutureWarning: Passing (type, 1) or '1type' as a synonym of type is deprecated; in a future version of numpy, it will be understood as (type, (1,)) / '(1,)type'.\n",
      "  _np_quint8 = np.dtype([(\"quint8\", np.uint8, 1)])\n",
      "/usr/local/lib/python3.6/dist-packages/tensorflow/python/framework/dtypes.py:528: FutureWarning: Passing (type, 1) or '1type' as a synonym of type is deprecated; in a future version of numpy, it will be understood as (type, (1,)) / '(1,)type'.\n",
      "  _np_qint16 = np.dtype([(\"qint16\", np.int16, 1)])\n",
      "/usr/local/lib/python3.6/dist-packages/tensorflow/python/framework/dtypes.py:529: FutureWarning: Passing (type, 1) or '1type' as a synonym of type is deprecated; in a future version of numpy, it will be understood as (type, (1,)) / '(1,)type'.\n",
      "  _np_quint16 = np.dtype([(\"quint16\", np.uint16, 1)])\n",
      "/usr/local/lib/python3.6/dist-packages/tensorflow/python/framework/dtypes.py:530: FutureWarning: Passing (type, 1) or '1type' as a synonym of type is deprecated; in a future version of numpy, it will be understood as (type, (1,)) / '(1,)type'.\n",
      "  _np_qint32 = np.dtype([(\"qint32\", np.int32, 1)])\n",
      "/usr/local/lib/python3.6/dist-packages/tensorflow/python/framework/dtypes.py:535: FutureWarning: Passing (type, 1) or '1type' as a synonym of type is deprecated; in a future version of numpy, it will be understood as (type, (1,)) / '(1,)type'.\n",
      "  np_resource = np.dtype([(\"resource\", np.ubyte, 1)])\n"
     ]
    },
    {
     "data": {
      "text/plain": [
       "'2.2.4'"
      ]
     },
     "execution_count": 1,
     "metadata": {},
     "output_type": "execute_result"
    }
   ],
   "source": [
    "import keras\n",
    "keras.__version__"
   ]
  },
  {
   "cell_type": "markdown",
   "metadata": {},
   "source": [
    "Vamos a comprobar como las redes convolucionales de una dimensión (1D) son también útiles para procesar secuencias. Si vemos una secuencia como un vector de una dimensión, una convolución aplicada sobre ese vector debería ser capaz de detectar patrones interesantes de forma similar a como lo haría una red recurrente. Veamos cómo funciona, y cuándo utilizarlo."
   ]
  },
  {
   "cell_type": "markdown",
   "metadata": {},
   "source": [
    "## 1. Implementando una convnet 1D\n",
    "\n",
    "En Keras, usaríamos una convnet 1D a través de la capa `Conv1D`, que tiene una interfaz muy similar a `Conv2D`. Toma como entrada tensores 3D con forma `(samples, time, features)` y también devuelve tensores 3D de forma similar. La ventana de convolución es una ventana 1D en el eje temporal, eje 1 en el tensor de entrada.\n",
    "\n",
    "Construyamos una convnet 1D de 2 capas y apliquémosla a la tarea de clasificación de sentimientos IMDB.\n",
    "\n",
    "A modo de recordatorio, este es el código para obtener y preprocesar los datos:"
   ]
  },
  {
   "cell_type": "code",
   "execution_count": 2,
   "metadata": {},
   "outputs": [
    {
     "name": "stdout",
     "output_type": "stream",
     "text": [
      "Loading data...\n",
      "25000 train sequences\n",
      "25000 test sequences\n",
      "Pad sequences (samples x time)\n",
      "x_train shape: (25000, 500)\n",
      "x_test shape: (25000, 500)\n"
     ]
    }
   ],
   "source": [
    "from keras.datasets import imdb\n",
    "from keras.preprocessing import sequence\n",
    "\n",
    "max_features = 10000  # número de palabras a considerar como características\n",
    "max_len = 500  # cortar textos después de este número de palabras (entre las características máximas más comunes)\n",
    "\n",
    "# Descomenta las siguientes líneas y la última de la celda en caso de obtener el error \"Object arrays cannot be loaded when allow_pickle=False\"\n",
    "import numpy as np\n",
    "np_load_old = np.load\n",
    "np.load = lambda *a, **k: np_load_old(*a, allow_pickle=True, **k)\n",
    "\n",
    "print('Loading data...')\n",
    "(x_train, y_train), (x_test, y_test) = imdb.load_data(num_words=max_features)\n",
    "print(len(x_train), 'train sequences')\n",
    "print(len(x_test), 'test sequences')\n",
    "\n",
    "np.load = np_load_old\n",
    "\n",
    "print('Pad sequences (samples x time)')\n",
    "x_train = sequence.pad_sequences(x_train, maxlen=max_len)\n",
    "x_test = sequence.pad_sequences(x_test, maxlen=max_len)\n",
    "print('x_train shape:', x_train.shape)\n",
    "print('x_test shape:', x_test.shape)"
   ]
  },
  {
   "cell_type": "markdown",
   "metadata": {},
   "source": [
    "Las convnets 1D están estructuradas de la misma manera que sus versiones 2D que se ya hemos utilizado en módulo 5: consisten en una pila de capas `Conv1D` y `MaxPooling1D`, terminando eventualmente en una capa de pooling global o una capa `Flatten`, convirtiendo las salidas 3D en salidas 2D, permitiendo añadir una o más capas `Dense` al modelo, para clasificación o regresión.\n",
    "\n",
    "Una diferencia, sin embargo, es el hecho de que podemos permitirnos el lujo de usar ventanas de convolución más grandes con convnets 1D. De hecho, con una capa de convolución 2D, una ventana de convolución 3x3 contiene `3*3 = 9` vectores de características, pero con una capa de convolución 1D, una ventana de convolución de tamaño 3 sólo contendría 3 vectores de características. De esta manera podemos permitirnos fácilmente ventanas de convolución 1D de tamaño 7 o 9.\n",
    "\n",
    "Este es nuestro ejemplo de convneto 1D para el conjunto de datos IMDB:"
   ]
  },
  {
   "cell_type": "code",
   "execution_count": 3,
   "metadata": {},
   "outputs": [
    {
     "name": "stdout",
     "output_type": "stream",
     "text": [
      "WARNING:tensorflow:From /usr/local/lib/python3.6/dist-packages/tensorflow/python/framework/op_def_library.py:263: colocate_with (from tensorflow.python.framework.ops) is deprecated and will be removed in a future version.\n",
      "Instructions for updating:\n",
      "Colocations handled automatically by placer.\n",
      "_________________________________________________________________\n",
      "Layer (type)                 Output Shape              Param #   \n",
      "=================================================================\n",
      "embedding_1 (Embedding)      (None, 500, 128)          1280000   \n",
      "_________________________________________________________________\n",
      "conv1d_1 (Conv1D)            (None, 494, 32)           28704     \n",
      "_________________________________________________________________\n",
      "max_pooling1d_1 (MaxPooling1 (None, 98, 32)            0         \n",
      "_________________________________________________________________\n",
      "conv1d_2 (Conv1D)            (None, 92, 32)            7200      \n",
      "_________________________________________________________________\n",
      "global_max_pooling1d_1 (Glob (None, 32)                0         \n",
      "_________________________________________________________________\n",
      "dense_1 (Dense)              (None, 1)                 33        \n",
      "=================================================================\n",
      "Total params: 1,315,937\n",
      "Trainable params: 1,315,937\n",
      "Non-trainable params: 0\n",
      "_________________________________________________________________\n",
      "WARNING:tensorflow:From /usr/local/lib/python3.6/dist-packages/tensorflow/python/ops/math_ops.py:3066: to_int32 (from tensorflow.python.ops.math_ops) is deprecated and will be removed in a future version.\n",
      "Instructions for updating:\n",
      "Use tf.cast instead.\n",
      "WARNING:tensorflow:From /usr/local/lib/python3.6/dist-packages/tensorflow/python/ops/math_grad.py:102: div (from tensorflow.python.ops.math_ops) is deprecated and will be removed in a future version.\n",
      "Instructions for updating:\n",
      "Deprecated in favor of operator or tf.math.divide.\n",
      "Train on 20000 samples, validate on 5000 samples\n",
      "Epoch 1/10\n",
      "20000/20000 [==============================] - 5s 246us/step - loss: 0.8337 - acc: 0.5091 - val_loss: 0.6873 - val_acc: 0.5658\n",
      "Epoch 2/10\n",
      "20000/20000 [==============================] - 3s 163us/step - loss: 0.6698 - acc: 0.6389 - val_loss: 0.6642 - val_acc: 0.6574\n",
      "Epoch 3/10\n",
      "20000/20000 [==============================] - 3s 169us/step - loss: 0.6233 - acc: 0.7533 - val_loss: 0.6073 - val_acc: 0.7424\n",
      "Epoch 4/10\n",
      "20000/20000 [==============================] - 3s 170us/step - loss: 0.5249 - acc: 0.8084 - val_loss: 0.4837 - val_acc: 0.8066\n",
      "Epoch 5/10\n",
      "20000/20000 [==============================] - 4s 175us/step - loss: 0.4098 - acc: 0.8495 - val_loss: 0.4337 - val_acc: 0.8306\n",
      "Epoch 6/10\n",
      "20000/20000 [==============================] - 3s 170us/step - loss: 0.3487 - acc: 0.8680 - val_loss: 0.4149 - val_acc: 0.8358\n",
      "Epoch 7/10\n",
      "20000/20000 [==============================] - 3s 173us/step - loss: 0.3093 - acc: 0.8652 - val_loss: 0.4517 - val_acc: 0.8180\n",
      "Epoch 8/10\n",
      "20000/20000 [==============================] - 3s 172us/step - loss: 0.2782 - acc: 0.8515 - val_loss: 0.4314 - val_acc: 0.8054\n",
      "Epoch 9/10\n",
      "20000/20000 [==============================] - 3s 170us/step - loss: 0.2539 - acc: 0.8320 - val_loss: 0.4627 - val_acc: 0.7834\n",
      "Epoch 10/10\n",
      "20000/20000 [==============================] - 3s 171us/step - loss: 0.2297 - acc: 0.8145 - val_loss: 0.4995 - val_acc: 0.7556\n"
     ]
    }
   ],
   "source": [
    "from keras.models import Sequential\n",
    "from keras import layers\n",
    "from keras.optimizers import RMSprop\n",
    "\n",
    "model = Sequential()\n",
    "model.add(layers.Embedding(max_features, 128, input_length=max_len))\n",
    "model.add(layers.Conv1D(32, 7, activation='relu'))\n",
    "model.add(layers.MaxPooling1D(5))\n",
    "model.add(layers.Conv1D(32, 7, activation='relu'))\n",
    "model.add(layers.GlobalMaxPooling1D())\n",
    "model.add(layers.Dense(1))\n",
    "\n",
    "model.summary()\n",
    "\n",
    "model.compile(optimizer=RMSprop(lr=1e-4),\n",
    "              loss='binary_crossentropy',\n",
    "              metrics=['acc'])\n",
    "history = model.fit(x_train, y_train,\n",
    "                    epochs=10,\n",
    "                    batch_size=128,\n",
    "                    validation_split=0.2)"
   ]
  },
  {
   "cell_type": "markdown",
   "metadata": {},
   "source": [
    "Aquí están nuestros resultados con los conjuntos de entrenamiento y validación: la precisión de la validación es algo inferior a la del LSTM que utilizamos hace dos prácticas, pero el tiempo de ejecución es más rápido, tanto en la CPU como en la GPU (aunque la velocidad exacta variará mucho dependiendo de la configuración exacta). En este punto, podríamos volver a entrenar este modelo para el número correcto de épocas (8), y ejecutarlo con el conjunto de prueba. Esta es una demostración convincente de que una convnet 1D puede ofrecer una alternativa rápida y barata a una red recurrente en una tarea de clasificación de sentimientos a nivel de palabra."
   ]
  },
  {
   "cell_type": "code",
   "execution_count": 5,
   "metadata": {},
   "outputs": [
    {
     "data": {
      "image/png": "[encoded data removed]",
      "text/plain": [
       "<Figure size 432x288 with 1 Axes>"
      ]
     },
     "metadata": {
      "needs_background": "light"
     },
     "output_type": "display_data"
    },
    {
     "data": {
      "image/png": "[encoded data removed]",
      "text/plain": [
       "<Figure size 432x288 with 1 Axes>"
      ]
     },
     "metadata": {
      "needs_background": "light"
     },
     "output_type": "display_data"
    }
   ],
   "source": [
    "import matplotlib.pyplot as plt\n",
    "\n",
    "acc = history.history['acc']\n",
    "val_acc = history.history['val_acc']\n",
    "loss = history.history['loss']\n",
    "val_loss = history.history['val_loss']\n",
    "\n",
    "epochs = range(len(acc))\n",
    "\n",
    "plt.plot(epochs, acc, 'bo', label='Training acc')\n",
    "plt.plot(epochs, val_acc, 'b', label='Validation acc')\n",
    "plt.title('Training and validation accuracy')\n",
    "plt.legend()\n",
    "\n",
    "plt.figure()\n",
    "\n",
    "plt.plot(epochs, loss, 'bo', label='Training loss')\n",
    "plt.plot(epochs, val_loss, 'b', label='Validation loss')\n",
    "plt.title('Training and validation loss')\n",
    "plt.legend()\n",
    "\n",
    "plt.show()"
   ]
  },
  {
   "cell_type": "markdown",
   "metadata": {},
   "source": [
    "## 2. Combinando CNNs y RNNs para procesar secuencias largas\n",
    "\n",
    "Debido a que las convnets 1D procesan los parches de entrada de forma independiente, no son sensibles al orden de los pasos temporales (más allá de una escala local, el tamaño de las ventanas de convolución), a diferencia de las RNNs. Por supuesto, para poder reconocer patrones a más largo plazo, uno podría apilar muchas capas de convolución y acumular capas, resultando en capas superiores que \"verían\" pedazos largos de las entradas originales -- pero esa es todavía una manera bastante débil de inducir la sensibilidad al orden. Una forma de evidenciar esta debilidad es probar las convnets 1D sobre el problema del pronóstico de temperatura de la práctica anterior, donde la sensibilidad al orden fue clave para producir buenas predicciones. Veamos:"
   ]
  },
  {
   "cell_type": "code",
   "execution_count": 7,
   "metadata": {},
   "outputs": [],
   "source": [
    "# Reutilizamos las siguientes variables definidas en la práctica anterior:\n",
    "# float_data, train_gen, val_gen, val_steps\n",
    "\n",
    "import os\n",
    "import numpy as np\n",
    "\n",
    "data_dir = '../../data/'\n",
    "fname = os.path.join(data_dir, 'jena_climate_2009_2016.csv')\n",
    "\n",
    "f = open(fname)\n",
    "data = f.read()\n",
    "f.close()\n",
    "\n",
    "lines = data.split('\\n')\n",
    "header = lines[0].split(',')\n",
    "lines = lines[1:]\n",
    "\n",
    "float_data = np.zeros((len(lines), len(header) - 1))\n",
    "for i, line in enumerate(lines):\n",
    "    values = [float(x) for x in line.split(',')[1:]]\n",
    "    float_data[i, :] = values\n",
    "    \n",
    "mean = float_data[:200000].mean(axis=0)\n",
    "float_data -= mean\n",
    "std = float_data[:200000].std(axis=0)\n",
    "float_data /= std\n",
    "\n",
    "def generator(data, lookback, delay, min_index, max_index,\n",
    "              shuffle=False, batch_size=128, step=6):\n",
    "    if max_index is None:\n",
    "        max_index = len(data) - delay - 1\n",
    "    i = min_index + lookback\n",
    "    while 1:\n",
    "        if shuffle:\n",
    "            rows = np.random.randint(\n",
    "                min_index + lookback, max_index, size=batch_size)\n",
    "        else:\n",
    "            if i + batch_size >= max_index:\n",
    "                i = min_index + lookback\n",
    "            rows = np.arange(i, min(i + batch_size, max_index))\n",
    "            i += len(rows)\n",
    "\n",
    "        samples = np.zeros((len(rows),\n",
    "                           lookback // step,\n",
    "                           data.shape[-1]))\n",
    "        targets = np.zeros((len(rows),))\n",
    "        for j, row in enumerate(rows):\n",
    "            indices = range(rows[j] - lookback, rows[j], step)\n",
    "            samples[j] = data[indices]\n",
    "            targets[j] = data[rows[j] + delay][1]\n",
    "        yield samples, targets\n",
    "        \n",
    "lookback = 1440\n",
    "step = 6\n",
    "delay = 144\n",
    "batch_size = 128\n",
    "\n",
    "train_gen = generator(float_data,\n",
    "                      lookback=lookback,\n",
    "                      delay=delay,\n",
    "                      min_index=0,\n",
    "                      max_index=200000,\n",
    "                      shuffle=True,\n",
    "                      step=step, \n",
    "                      batch_size=batch_size)\n",
    "val_gen = generator(float_data,\n",
    "                    lookback=lookback,\n",
    "                    delay=delay,\n",
    "                    min_index=200001,\n",
    "                    max_index=300000,\n",
    "                    step=step,\n",
    "                    batch_size=batch_size)\n",
    "test_gen = generator(float_data,\n",
    "                     lookback=lookback,\n",
    "                     delay=delay,\n",
    "                     min_index=300001,\n",
    "                     max_index=None,\n",
    "                     step=step,\n",
    "                     batch_size=batch_size)\n",
    "\n",
    "# Esta es la cantidad de pasos que hay que seguir en `val_gen`\n",
    "# para ver todo el conjunto de validación:\n",
    "val_steps = (300000 - 200001 - lookback) // batch_size\n",
    "\n",
    "# Esta es la cantidad de pasos a seguir en `test_gen`\n",
    "# para ver todo el conjunto de pruebas:\n",
    "test_steps = (len(float_data) - 300001 - lookback) // batch_size"
   ]
  },
  {
   "cell_type": "code",
   "execution_count": 8,
   "metadata": {},
   "outputs": [
    {
     "name": "stdout",
     "output_type": "stream",
     "text": [
      "Epoch 1/20\n",
      "500/500 [==============================] - 7s 14ms/step - loss: 0.4196 - val_loss: 0.4496\n",
      "Epoch 2/20\n",
      "500/500 [==============================] - 6s 13ms/step - loss: 0.3642 - val_loss: 0.4484\n",
      "Epoch 3/20\n",
      "500/500 [==============================] - 6s 13ms/step - loss: 0.3392 - val_loss: 0.4854\n",
      "Epoch 4/20\n",
      "500/500 [==============================] - 6s 13ms/step - loss: 0.3215 - val_loss: 0.4708\n",
      "Epoch 5/20\n",
      "500/500 [==============================] - 6s 13ms/step - loss: 0.3069 - val_loss: 0.4546\n",
      "Epoch 6/20\n",
      "500/500 [==============================] - 6s 13ms/step - loss: 0.2987 - val_loss: 0.4647\n",
      "Epoch 7/20\n",
      "500/500 [==============================] - 6s 13ms/step - loss: 0.2910 - val_loss: 0.4668\n",
      "Epoch 8/20\n",
      "500/500 [==============================] - 6s 13ms/step - loss: 0.2844 - val_loss: 0.4918\n",
      "Epoch 9/20\n",
      "500/500 [==============================] - 6s 13ms/step - loss: 0.2783 - val_loss: 0.4796\n",
      "Epoch 10/20\n",
      "500/500 [==============================] - 6s 13ms/step - loss: 0.2741 - val_loss: 0.4818\n",
      "Epoch 11/20\n",
      "500/500 [==============================] - 6s 13ms/step - loss: 0.2710 - val_loss: 0.4874\n",
      "Epoch 12/20\n",
      "500/500 [==============================] - 6s 13ms/step - loss: 0.2673 - val_loss: 0.4632\n",
      "Epoch 13/20\n",
      "500/500 [==============================] - 6s 13ms/step - loss: 0.2624 - val_loss: 0.4766\n",
      "Epoch 14/20\n",
      "500/500 [==============================] - 6s 13ms/step - loss: 0.2594 - val_loss: 0.4825\n",
      "Epoch 15/20\n",
      "500/500 [==============================] - 6s 13ms/step - loss: 0.2572 - val_loss: 0.4937\n",
      "Epoch 16/20\n",
      "500/500 [==============================] - 6s 13ms/step - loss: 0.2541 - val_loss: 0.4866\n",
      "Epoch 17/20\n",
      "500/500 [==============================] - 6s 13ms/step - loss: 0.2504 - val_loss: 0.4880\n",
      "Epoch 18/20\n",
      "500/500 [==============================] - 6s 13ms/step - loss: 0.2494 - val_loss: 0.4806\n",
      "Epoch 19/20\n",
      "500/500 [==============================] - 6s 12ms/step - loss: 0.2457 - val_loss: 0.4831\n",
      "Epoch 20/20\n",
      "500/500 [==============================] - 6s 12ms/step - loss: 0.2452 - val_loss: 0.4795\n"
     ]
    }
   ],
   "source": [
    "from keras.models import Sequential\n",
    "from keras import layers\n",
    "from keras.optimizers import RMSprop\n",
    "\n",
    "model = Sequential()\n",
    "model.add(layers.Conv1D(32, 5, activation='relu',\n",
    "                        input_shape=(None, float_data.shape[-1])))\n",
    "model.add(layers.MaxPooling1D(3))\n",
    "model.add(layers.Conv1D(32, 5, activation='relu'))\n",
    "model.add(layers.MaxPooling1D(3))\n",
    "model.add(layers.Conv1D(32, 5, activation='relu'))\n",
    "model.add(layers.GlobalMaxPooling1D())\n",
    "model.add(layers.Dense(1))\n",
    "\n",
    "model.compile(optimizer=RMSprop(), loss='mae')\n",
    "history = model.fit_generator(train_gen,\n",
    "                              steps_per_epoch=500,\n",
    "                              epochs=20,\n",
    "                              validation_data=val_gen,\n",
    "                              validation_steps=val_steps)"
   ]
  },
  {
   "cell_type": "markdown",
   "metadata": {},
   "source": [
    "Aquí están nuestros errores absolutos medios sobre nuestro conjunto de entrenamiento y validación:"
   ]
  },
  {
   "cell_type": "code",
   "execution_count": 10,
   "metadata": {},
   "outputs": [
    {
     "data": {
      "image/png": "[encoded data removed]",
      "text/plain": [
       "<Figure size 432x288 with 1 Axes>"
      ]
     },
     "metadata": {
      "needs_background": "light"
     },
     "output_type": "display_data"
    }
   ],
   "source": [
    "import matplotlib.pyplot as plt\n",
    "\n",
    "loss = history.history['loss']\n",
    "val_loss = history.history['val_loss']\n",
    "\n",
    "epochs = range(len(loss))\n",
    "\n",
    "plt.figure()\n",
    "\n",
    "plt.plot(epochs, loss, 'bo', label='Training loss')\n",
    "plt.plot(epochs, val_loss, 'b', label='Validation loss')\n",
    "plt.title('Training and validation loss')\n",
    "plt.legend()\n",
    "\n",
    "plt.show()"
   ]
  },
  {
   "cell_type": "markdown",
   "metadata": {},
   "source": [
    "La validación MAE se mantiene en los 0,40: ni siquiera podemos superar nuestra base de sentido común utilizando una convnet pequeña. Una vez más, esto se debe a que nuestro convnet busca patrones en cualquier parte de las series de tiempo de entrada, y no tiene conocimiento de la posición temporal de un patrón que ve (por ejemplo, hacia el principio, hacia el final, etc.). En este caso específico, dado que los puntos de datos más recientes deben interpretarse de forma diferente a los más antiguos, la convnet no consigue producir resultados significativos. Esta limitación de las convnets no fue un problema en IMDB, porque los patrones de palabras clave que se asocian con un sentimiento positivo o negativo serán informativos independientemente de dónde se encuentren en las frases de entrada.\n",
    "\n",
    "Una estrategia para combinar la velocidad y ligereza de las convnets con la sensibilidad al orden de los RNNs es utilizar una convnet 1D como paso de preprocesamiento antes de uan RNN. Esto es especialmente beneficioso cuando se trata de secuencias que son tan largas que no se pueden procesar de forma realista con RNNs, por ejemplo, secuencias con miles de pasos. La convnet convertirá la secuencia de entrada larga en secuencias mucho más cortas (de menor tamaño) de características de nivel superior. Esta secuencia de características extraídas se convierte en la entrada a la parte RNN de la red."
   ]
  },
  {
   "cell_type": "markdown",
   "metadata": {},
   "source": [
    "Esta técnica no se ve muy a menudo en trabajos de investigación y aplicaciones prácticas, posiblemente porque no es muy conocida. Es muy eficaz y debería ser más común. Probemos esto en el conjunto de datos de pronóstico de temperatura. Debido a que esta estrategia nos permite manipular secuencias mucho más largas, podríamos mirar los datos desde más atrás (aumentando el parámetro `lookback` del generador de datos), o mirar en series de tiempo de alta resolución (disminuyendo el parámetro `step` del generador). Aquí, elegiremos (de forma arbitraria) usar un `step` dos veces más pequeño, resultando en series de tiempo dos veces más largas, donde los datos climáticos están siendo muestreados a una tasa de un punto por 30 minutos."
   ]
  },
  {
   "cell_type": "code",
   "execution_count": 11,
   "metadata": {},
   "outputs": [],
   "source": [
    "# Esto estaba antes asignado a 6 (un punto por hora)\n",
    "# Ahora 3 (un punto por 30 min).\n",
    "step = 3\n",
    "lookback = 720  # Igual\n",
    "delay = 144 # Igual\n",
    "\n",
    "train_gen = generator(float_data,\n",
    "                      lookback=lookback,\n",
    "                      delay=delay,\n",
    "                      min_index=0,\n",
    "                      max_index=200000,\n",
    "                      shuffle=True,\n",
    "                      step=step)\n",
    "val_gen = generator(float_data,\n",
    "                    lookback=lookback,\n",
    "                    delay=delay,\n",
    "                    min_index=200001,\n",
    "                    max_index=300000,\n",
    "                    step=step)\n",
    "test_gen = generator(float_data,\n",
    "                     lookback=lookback,\n",
    "                     delay=delay,\n",
    "                     min_index=300001,\n",
    "                     max_index=None,\n",
    "                     step=step)\n",
    "val_steps = (300000 - 200001 - lookback) // 128\n",
    "test_steps = (len(float_data) - 300001 - lookback) // 128"
   ]
  },
  {
   "cell_type": "markdown",
   "metadata": {},
   "source": [
    "Este es nuestro modelo, comenzando con dos capas `Conv1D` y seguidasa con una capa `GRU`:"
   ]
  },
  {
   "cell_type": "code",
   "execution_count": 12,
   "metadata": {},
   "outputs": [
    {
     "name": "stdout",
     "output_type": "stream",
     "text": [
      "WARNING:tensorflow:From /usr/local/lib/python3.6/dist-packages/keras/backend/tensorflow_backend.py:3445: calling dropout (from tensorflow.python.ops.nn_ops) with keep_prob is deprecated and will be removed in a future version.\n",
      "Instructions for updating:\n",
      "Please use `rate` instead of `keep_prob`. Rate should be set to `rate = 1 - keep_prob`.\n",
      "_________________________________________________________________\n",
      "Layer (type)                 Output Shape              Param #   \n",
      "=================================================================\n",
      "conv1d_6 (Conv1D)            (None, None, 32)          2272      \n",
      "_________________________________________________________________\n",
      "max_pooling1d_4 (MaxPooling1 (None, None, 32)          0         \n",
      "_________________________________________________________________\n",
      "conv1d_7 (Conv1D)            (None, None, 32)          5152      \n",
      "_________________________________________________________________\n",
      "gru_1 (GRU)                  (None, 32)                6240      \n",
      "_________________________________________________________________\n",
      "dense_3 (Dense)              (None, 1)                 33        \n",
      "=================================================================\n",
      "Total params: 13,697\n",
      "Trainable params: 13,697\n",
      "Non-trainable params: 0\n",
      "_________________________________________________________________\n",
      "Epoch 1/20\n",
      "500/500 [==============================] - 34s 69ms/step - loss: 0.3411 - val_loss: 0.2828\n",
      "Epoch 2/20\n",
      "500/500 [==============================] - 34s 68ms/step - loss: 0.3052 - val_loss: 0.2809\n",
      "Epoch 3/20\n",
      "500/500 [==============================] - 34s 68ms/step - loss: 0.2939 - val_loss: 0.2819\n",
      "Epoch 4/20\n",
      "500/500 [==============================] - 34s 68ms/step - loss: 0.2858 - val_loss: 0.2738\n",
      "Epoch 5/20\n",
      "500/500 [==============================] - 34s 68ms/step - loss: 0.2799 - val_loss: 0.2791\n",
      "Epoch 6/20\n",
      "500/500 [==============================] - 34s 68ms/step - loss: 0.2740 - val_loss: 0.2811\n",
      "Epoch 7/20\n",
      "500/500 [==============================] - 34s 68ms/step - loss: 0.2699 - val_loss: 0.2795\n",
      "Epoch 8/20\n",
      "500/500 [==============================] - 34s 68ms/step - loss: 0.2643 - val_loss: 0.2776\n",
      "Epoch 9/20\n",
      "500/500 [==============================] - 34s 68ms/step - loss: 0.2590 - val_loss: 0.2771\n",
      "Epoch 10/20\n",
      "500/500 [==============================] - 34s 68ms/step - loss: 0.2569 - val_loss: 0.2857\n",
      "Epoch 11/20\n",
      "500/500 [==============================] - 34s 68ms/step - loss: 0.2519 - val_loss: 0.2891\n",
      "Epoch 12/20\n",
      "500/500 [==============================] - 34s 68ms/step - loss: 0.2478 - val_loss: 0.2893\n",
      "Epoch 13/20\n",
      "500/500 [==============================] - 34s 68ms/step - loss: 0.2424 - val_loss: 0.2894\n",
      "Epoch 14/20\n",
      "500/500 [==============================] - 34s 68ms/step - loss: 0.2413 - val_loss: 0.2861\n",
      "Epoch 15/20\n",
      "500/500 [==============================] - 34s 68ms/step - loss: 0.2387 - val_loss: 0.2906\n",
      "Epoch 16/20\n",
      "500/500 [==============================] - 34s 68ms/step - loss: 0.2374 - val_loss: 0.2914\n",
      "Epoch 17/20\n",
      "500/500 [==============================] - 34s 68ms/step - loss: 0.2325 - val_loss: 0.2865\n",
      "Epoch 18/20\n",
      "500/500 [==============================] - 34s 68ms/step - loss: 0.2305 - val_loss: 0.2924\n",
      "Epoch 19/20\n",
      "500/500 [==============================] - 34s 68ms/step - loss: 0.2282 - val_loss: 0.2983\n",
      "Epoch 20/20\n",
      "500/500 [==============================] - 34s 68ms/step - loss: 0.2244 - val_loss: 0.2982\n"
     ]
    }
   ],
   "source": [
    "model = Sequential()\n",
    "model.add(layers.Conv1D(32, 5, activation='relu',\n",
    "                        input_shape=(None, float_data.shape[-1])))\n",
    "model.add(layers.MaxPooling1D(3))\n",
    "model.add(layers.Conv1D(32, 5, activation='relu'))\n",
    "model.add(layers.GRU(32, dropout=0.1, recurrent_dropout=0.5))\n",
    "model.add(layers.Dense(1))\n",
    "\n",
    "model.summary()\n",
    "\n",
    "model.compile(optimizer=RMSprop(), loss='mae')\n",
    "history = model.fit_generator(train_gen,\n",
    "                              steps_per_epoch=500,\n",
    "                              epochs=20,\n",
    "                              validation_data=val_gen,\n",
    "                              validation_steps=val_steps)"
   ]
  },
  {
   "cell_type": "code",
   "execution_count": 14,
   "metadata": {},
   "outputs": [
    {
     "data": {
      "image/png": "[encoded data removed]",
      "text/plain": [
       "<Figure size 432x288 with 1 Axes>"
      ]
     },
     "metadata": {
      "needs_background": "light"
     },
     "output_type": "display_data"
    }
   ],
   "source": [
    "loss = history.history['loss']\n",
    "val_loss = history.history['val_loss']\n",
    "\n",
    "epochs = range(len(loss))\n",
    "\n",
    "plt.figure()\n",
    "\n",
    "plt.plot(epochs, loss, 'bo', label='Training loss')\n",
    "plt.plot(epochs, val_loss, 'b', label='Validation loss')\n",
    "plt.title('Training and validation loss')\n",
    "plt.legend()\n",
    "\n",
    "plt.show()"
   ]
  },
  {
   "cell_type": "markdown",
   "metadata": {},
   "source": [
    "A juzgar por la validation loss, esta configuración no es tan buena como la del GRU regularizado por si solo, pero es significativamente más rápida. Trata de examinar dos veces más datos, lo que en este caso no parece ser de gran ayuda, pero puede ser importante para otros conjuntos de datos."
   ]
  },
  {
   "cell_type": "markdown",
   "metadata": {},
   "source": [
    "## 3. Concluyendo\n",
    "\n",
    "Esto es lo que deberías haber aprendido en esta práctica:\n",
    "\n",
    "* De la misma manera que las convnets 2D funcionan bien para procesar patrones visuales en espacio 2D, las convnets 1D funcionan bien para procesar patrones temporales. Ofrecen una alternativa más rápida a las RNN en algunos problemas, en particular las tareas de PNL.\n",
    "* Típicamente las convnets 1D están estructuradas de forma muy parecida a sus equivalentes 2D del mundo de la visión por ordenador: consisten en pilas de capas `Conv1D` y `MaxPooling1D`, terminando finalmente en una operación global de pooling o de aplanamiento.\n",
    "* Debido a que las RNNs son extremadamente costosas para procesar secuencias muy largas, pero las convnets 1D son baratas, puede ser una buena idea usar una convnet 1D como paso de preprocesamiento antes de una RNN, acortando la secuencia y extrayendo representaciones útiles para que la RNN las procese.\n",
    "\n",
    "Un concepto útil e importante que no trataremos es el de la convolución 1D con kernels dilatados."
   ]
  }
 ],
 "metadata": {
  "kernelspec": {
   "display_name": "Python 3",
   "language": "python",
   "name": "python3"
  },
  "language_info": {
   "codemirror_mode": {
    "name": "ipython",
    "version": 3
   },
   "file_extension": ".py",
   "mimetype": "text/x-python",
   "name": "python",
   "nbconvert_exporter": "python",
   "pygments_lexer": "ipython3",
   "version": "3.6.8"
  }
 },
 "nbformat": 4,
 "nbformat_minor": 2
}

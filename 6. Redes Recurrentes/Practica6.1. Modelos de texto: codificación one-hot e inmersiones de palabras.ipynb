{
  "nbformat": 4,
  "nbformat_minor": 0,
  "metadata": {
    "kernelspec": {
      "display_name": "Python 3",
      "language": "python",
      "name": "python3"
    },
    "language_info": {
      "codemirror_mode": {
        "name": "ipython",
        "version": 3
      },
      "file_extension": ".py",
      "mimetype": "text/x-python",
      "name": "python",
      "nbconvert_exporter": "python",
      "pygments_lexer": "ipython3",
      "version": "3.6.8"
    },
    "colab": {
      "name": "Practica6.1. Modelos de texto: codificación one-hot e inmersiones de palabras.ipynb",
      "provenance": [],
      "toc_visible": true,
      "include_colab_link": true
    }
  },
  "cells": [
    {
      "cell_type": "markdown",
      "metadata": {
        "id": "view-in-github",
        "colab_type": "text"
      },
      "source": [
        "<a href=\"https://colab.research.google.com/github/miguelamda/DL/blob/master/6.%20Redes%20Recurrentes/Practica6.1.%20Modelos%20de%20texto%3A%20codificaci%C3%B3n%20one-hot%20e%20inmersiones%20de%20palabras.ipynb\" target=\"_parent\"><img src=\"https://colab.research.google.com/assets/colab-badge.svg\" alt=\"Open In Colab\"/></a>"
      ]
    },
    {
      "cell_type": "markdown",
      "metadata": {
        "id": "lZbMwaaP97Er"
      },
      "source": [
        "# Práctica 6.1. Modelos de texto"
      ]
    },
    {
      "cell_type": "code",
      "metadata": {
        "colab": {
          "base_uri": "https://localhost:8080/",
          "height": 35
        },
        "id": "BdJTef8Y97Ex",
        "outputId": "fb1cf3da-9b9f-44f2-b521-9072fabab0d3"
      },
      "source": [
        "from tensorflow import keras\n",
        "keras.__version__"
      ],
      "execution_count": null,
      "outputs": [
        {
          "output_type": "execute_result",
          "data": {
            "application/vnd.google.colaboratory.intrinsic+json": {
              "type": "string"
            },
            "text/plain": [
              "'2.4.0'"
            ]
          },
          "metadata": {
            "tags": []
          },
          "execution_count": 1
        }
      ]
    },
    {
      "cell_type": "markdown",
      "metadata": {
        "id": "36N76AgD97Ez"
      },
      "source": [
        "## 1. Codificación one-hot de textos\n",
        "\n",
        "La codificación **One-hot**, que ya vimos en nuestros primeros ejemplos con Keras, es la forma más sencilla de transformar texto en vectores numéricos. \n",
        "\n",
        "Consiste, esencialmente, en asociar un índice entero único a cada palabra, y entonces codificar la palabra por medio de un vector de $N$ componentes ($N$ es el tamaño del vocabulario) en el que hay un 1 en la posición del índice de la palabra y 0s en el resto."
      ]
    },
    {
      "cell_type": "markdown",
      "metadata": {
        "id": "Earm5lP397Ez"
      },
      "source": [
        "Un código ilustrativo para codificación one-hot de texto (por palabra) podría ser:"
      ]
    },
    {
      "cell_type": "code",
      "metadata": {
        "colab": {
          "base_uri": "https://localhost:8080/"
        },
        "id": "c8N82tu797E0",
        "outputId": "a586b406-313c-40ea-ba96-a5345c22d075"
      },
      "source": [
        "import numpy as np\n",
        "\n",
        "# Esto es nuestros datos iniciales; una entrada por \"sample\"\n",
        "# (en este ejemplo de juguete, un \"sample\" es tan solo una frase, pero\n",
        "# podría ser un documento entero)\n",
        "samples = ['The cat sat on the mat.', 'The dog ate my homework.']\n",
        "\n",
        "# Primero, construimos un indice para todos los tokens en los datos\n",
        "token_index = {}\n",
        "for sample in samples:\n",
        "    # Simplemente tokenizamos los samples mediante el método `split.\n",
        "    # En la vida real, podríamos también también eliminaríamos la puntuación\n",
        "    # y los caracteres especiales de las muestras\n",
        "    for word in sample.split():\n",
        "        if word not in token_index:\n",
        "            # Asignar un índice único a cada palabar única\n",
        "            token_index[word] = len(token_index) + 1\n",
        "            # Observa que no asigamos el índice 0 a nada\n",
        "\n",
        "# A continuación, vectorizamos nuestras muestras.\n",
        "# Sólo consideraremos las primeras palabras `max_length` en cada muestra.\n",
        "max_length = 10\n",
        "\n",
        "# Aquí es donde almacenamos los resultados\n",
        "results = np.zeros((len(samples), max_length, max(token_index.values()) + 1))\n",
        "for i, sample in enumerate(samples):\n",
        "    for j, word in list(enumerate(sample.split()))[:max_length]:\n",
        "        index = token_index.get(word)\n",
        "        results[i, j, index] = 1.\n",
        "        \n",
        "print(results)"
      ],
      "execution_count": null,
      "outputs": [
        {
          "output_type": "stream",
          "text": [
            "[[[0. 1. 0. 0. 0. 0. 0. 0. 0. 0. 0.]\n",
            "  [0. 0. 1. 0. 0. 0. 0. 0. 0. 0. 0.]\n",
            "  [0. 0. 0. 1. 0. 0. 0. 0. 0. 0. 0.]\n",
            "  [0. 0. 0. 0. 1. 0. 0. 0. 0. 0. 0.]\n",
            "  [0. 0. 0. 0. 0. 1. 0. 0. 0. 0. 0.]\n",
            "  [0. 0. 0. 0. 0. 0. 1. 0. 0. 0. 0.]\n",
            "  [0. 0. 0. 0. 0. 0. 0. 0. 0. 0. 0.]\n",
            "  [0. 0. 0. 0. 0. 0. 0. 0. 0. 0. 0.]\n",
            "  [0. 0. 0. 0. 0. 0. 0. 0. 0. 0. 0.]\n",
            "  [0. 0. 0. 0. 0. 0. 0. 0. 0. 0. 0.]]\n",
            "\n",
            " [[0. 1. 0. 0. 0. 0. 0. 0. 0. 0. 0.]\n",
            "  [0. 0. 0. 0. 0. 0. 0. 1. 0. 0. 0.]\n",
            "  [0. 0. 0. 0. 0. 0. 0. 0. 1. 0. 0.]\n",
            "  [0. 0. 0. 0. 0. 0. 0. 0. 0. 1. 0.]\n",
            "  [0. 0. 0. 0. 0. 0. 0. 0. 0. 0. 1.]\n",
            "  [0. 0. 0. 0. 0. 0. 0. 0. 0. 0. 0.]\n",
            "  [0. 0. 0. 0. 0. 0. 0. 0. 0. 0. 0.]\n",
            "  [0. 0. 0. 0. 0. 0. 0. 0. 0. 0. 0.]\n",
            "  [0. 0. 0. 0. 0. 0. 0. 0. 0. 0. 0.]\n",
            "  [0. 0. 0. 0. 0. 0. 0. 0. 0. 0. 0.]]]\n"
          ],
          "name": "stdout"
        }
      ]
    },
    {
      "cell_type": "markdown",
      "metadata": {
        "id": "J9fAcM_R97E1"
      },
      "source": [
        "Keras proporciona funciones para realizar esta codificación directamente (incluso a nivel de carácter), y es preferible usarlas porque tienen en cuenta una casuística mayor respecto a los caracteres especiales, signos de puntuación, etc. Además, estas funciones permiten definir el tamaño del vocabulario considerando únicamente las $N$ palabras más comunes del dataset e ignorando el resto."
      ]
    },
    {
      "cell_type": "markdown",
      "metadata": {
        "id": "qJ3JFn2m97E1"
      },
      "source": [
        "El siguiente ejemplo muestra cómo se trabaja con las funciones proporcionadas en la librería:"
      ]
    },
    {
      "cell_type": "code",
      "metadata": {
        "colab": {
          "base_uri": "https://localhost:8080/"
        },
        "id": "9HqqiPlV97E2",
        "outputId": "3db5a60f-7c3e-457b-8218-50866ff048f1"
      },
      "source": [
        "from keras.preprocessing.text import Tokenizer\n",
        "\n",
        "samples = ['The cat sat on the mat.', 'The dog ate my homework.']\n",
        "\n",
        "# Creamos un tokenizador, configurado para que sólo tome\n",
        "# en cuenta las 1000 palabras más comunes\n",
        "tokenizer = Tokenizer(num_words=1000)\n",
        "# Esto construye el índice de palabras\n",
        "tokenizer.fit_on_texts(samples)\n",
        "\n",
        "# Esto convierte las cadenas en listas de índices enteros.\n",
        "sequences = tokenizer.texts_to_sequences(samples)\n",
        "\n",
        "# También se pueden obtener directamente las representaciones binarias one-hot.\n",
        "# Ten en cuenta que se admiten otros modos de vectorización además de la codificación one-hot.\n",
        "one_hot_results = tokenizer.texts_to_matrix(samples, mode='binary')\n",
        "\n",
        "# Esto es como puedes recuperar el índice de la palabra que fue computada\n",
        "word_index = tokenizer.word_index\n",
        "print('Hay %s tokens distintos.' % len(word_index))"
      ],
      "execution_count": null,
      "outputs": [
        {
          "output_type": "stream",
          "text": [
            "Hay 9 tokens distintos.\n"
          ],
          "name": "stdout"
        }
      ]
    },
    {
      "cell_type": "markdown",
      "metadata": {
        "id": "9t2QgP8Z97E2"
      },
      "source": [
        "\n",
        "Hay variantes similares para reducir el tamaño del vocabulario por medio de funciones hash, pero como no las usaremos, no las veremos aquí."
      ]
    },
    {
      "cell_type": "markdown",
      "metadata": {
        "id": "pM3eFZkr97E3"
      },
      "source": [
        "## 2. Inmersiones de palabras\n",
        "Otra forma habitual de asociar vectores a palabras es por medio de lo que se conocen como **inmersiones de palabras** o **vectorización densa**. Mientras que los vectores que se obtienen por la codificación one-hot son binarios, muy dispersos (casi todo son 0s) y de dimensión muy alta (el tamaño del vocabulario, que es fácil que alcance las decenas de miles), las inmersiones son de dimensión baja (entre 100 y 1000, aproximadamente), y con vectores de punto flotante. Además, y a difrencia del one-hot, las inmersiones se aprenden a partir de datos.\n",
        "\n",
        "Hay dos formas de obtener estas inmersiones:\n",
        "\n",
        "1. Aprenderlas junto con la tarea en la que se van a utilizar (por ejemplo, clasificación de documentos o análisis de sentimientos). Se sigue un proceso similar al que hemos visto al aprender los pesos de redes neuronales.\n",
        "2. Usando Transfer Learning, reutilizando un modelo de inmersión que ha sido pre-entrenado usando una tarea diferente de ML.\n",
        "\n",
        "Veremos con detalle estos dos métodos. "
      ]
    },
    {
      "cell_type": "markdown",
      "metadata": {
        "id": "rT7jM6fP97E3"
      },
      "source": [
        "### 2.1. Inmersiones aprendidas\n",
        "\n",
        "Como el objetivo es que la información semántica de las palabras se refleje en el vector asociado, la asignación aleatoria de vectores a palabras, aunque posible, no tiene ninguna utilidad.\n",
        "\n",
        "El objetivo que se persigue cuando se aprende una inmersión es que las relaciones semánticas y gramaticales existentes entre las palabras del dataset se reflejen en propiedades geométricas de los vectores. Así, dos palabras que tengan un uso/significado similar deberían asociarse a vectores cercanos.\n",
        "\n",
        "Incluso, más allá de la simple distancia, sería deseable que las direcciones vectoriales también tengan algún significado en la inmersión. Cuando hacemos inmersiones de palabras de datasets del mundo real, resulta que las direcciones se asocian a conceptos como “plural” o “género”. Por ejemplo, si sumamos el vector “femenino” al vector asociado a la palabra “rey”, deberíamos obtener el vector asociado a la palabra “reina”, o si le sumamos el vector “plural”, obtenemos el vector asociado a la palabra “reyes”.\n",
        "\n",
        "<img src=\"https://2.bp.blogspot.com/-yL_425HS2ck/WEDZLk5cq0I/AAAAAAAABcI/kwy4F4Cmfi4jyG_InIiYu6F7y2-BKTXWQCLcB/s640/embedding-mnist.gif\" />\n",
        "\n",
        "Estas características no son extrapolables a todos los problemas, y dependen de la tarea concreta que queremos resolver, así pues tiene sentido entrenar la inmersión dependiendo del tipo de tarea a resolver. Para ello Keras introduce un tipo de capa llamada *embedding*."
      ]
    },
    {
      "cell_type": "code",
      "metadata": {
        "id": "EXsRU5yj97E3"
      },
      "source": [
        "from keras.layers import Embedding\n",
        "\n",
        "# Las capas de tipo Embedding toman al menos dos argumentos:\n",
        "# el número de posibles tokens, y la dimensión de inmersión.\n",
        "embedding_layer = Embedding(1000, 64)"
      ],
      "execution_count": null,
      "outputs": []
    },
    {
      "cell_type": "markdown",
      "metadata": {
        "id": "lzzxhTbd97E4"
      },
      "source": [
        "Una capa *embedding* actúa como un diccionario que asocia índices enteros (palabras) a vectores densos. Formalmente, toma tensores 2D de enteros de tamaño `(samples, sequence_length)`, donde una entrada es una secuencia de enteros, y devuelve un tensor 3D de punto flotante de tamaño `(samples, sequence_length, embedding_dimensionality)`. Este tensor 3D puede ser procesado por las capas adecuadas (por ejemplo, una capa RNN o 1D-convolucional, como veremos más adelante).\n",
        "\n",
        "Cuando se instancia una capa de inmersión, sus pesos (diccionario interno de vectores) se inician aleatoriamente, como en cualquier otra capa. Durante el entrenamiento, estos vectores se ajustan gradualmente por medio de la retropropagación, convirtiendo el espacio de vectores en algo que el modelo puede aprovechar. Una vez entrenado, el espacio de inmersión muestra una esctructura que refleja su especialización para el problema específico para el que ha sido entrenado.\n",
        "\n",
        "Vamos a aplicar esta idea al problema de análisis de sentimientos de las opniones de IMDB que vimos al principio del curso. Vamos a restringirnos solamente a las 10.000 palabras más frecuentes que aparecen en las opiniones, y de cada opinión nos vamos a fijar únicamente en las primeras 20 palabras. La inmersión la haremos sobre un espacio de dimensión muy pequeña, 8D (cada palabra se convierte en un vector denso de 8 posiciones), posteriormente aplanamos esta información, y se la pasamos a una capa densa simple unitaria que realizará la clasificación:"
      ]
    },
    {
      "cell_type": "code",
      "metadata": {
        "id": "LY3dz3lU97E4"
      },
      "source": [
        "from keras.datasets import imdb\n",
        "from keras import preprocessing\n",
        "\n",
        "# Número de palabras a considerar como features\n",
        "max_features = 10000\n",
        "# Cortar textos después de este número de palabras\n",
        "# (entre las características más comunes de max_features palabras)\n",
        "maxlen = 20\n",
        "\n",
        "# Cargar los datos como listas de enteros.\n",
        "(x_train, y_train), (x_test, y_test) = imdb.load_data(num_words=max_features)\n",
        "\n",
        "# Esto convierte nuestras listas de enteros\n",
        "# en un tensor de forma 2D entero `(samples, maxlen)``\n",
        "x_train = preprocessing.sequence.pad_sequences(x_train, maxlen=maxlen)\n",
        "x_test = preprocessing.sequence.pad_sequences(x_test, maxlen=maxlen)"
      ],
      "execution_count": null,
      "outputs": []
    },
    {
      "cell_type": "markdown",
      "metadata": {
        "id": "q_TThvGn97E4"
      },
      "source": [
        "Creamos el modelo con la capa de inmersión, y realizamos el entrenamiento con los datos leídos:\n",
        "![](https://github.com/miguelamda/DL/blob/master/6.%20Redes%20Recurrentes/model1_plot.png?raw=1)"
      ]
    },
    {
      "cell_type": "code",
      "metadata": {
        "colab": {
          "base_uri": "https://localhost:8080/"
        },
        "id": "Jtza5fBE97E5",
        "outputId": "d00a7fac-92c9-4a89-8983-726b3f7eec49"
      },
      "source": [
        "from keras.models import Sequential\n",
        "from keras.layers import Flatten, Dense\n",
        "from keras.utils.vis_utils import plot_model\n",
        "\n",
        "model = Sequential()\n",
        "# Especificamos la longitud máxima de entrada a nuestra capa de embedding\n",
        "# para que luego podamos aplanar las entradas inmersas\n",
        "model.add(Embedding(10000, 8, input_length=maxlen))\n",
        "# Después de la capa de embedding, \n",
        "# nuestras activaciones tienen forma `(samples, maxlen, 8)`.\n",
        "\n",
        "# Aplanamos el tensor 3D de los embeddings\n",
        "# en un tensor de forma 2D `(muestras, maxlen * 8)``\n",
        "model.add(Flatten())\n",
        "\n",
        "# Añadimos el clasificador en la parte superior\n",
        "model.add(Dense(1, activation='sigmoid'))\n",
        "model.compile(optimizer='rmsprop', loss='binary_crossentropy', metrics=['acc'])\n",
        "model.summary()\n",
        "#plot_model(model, to_file='model1_plot.png', show_shapes=True, show_layer_names=True)\n",
        "\n",
        "history = model.fit(x_train, y_train,\n",
        "                    epochs=10,\n",
        "                    batch_size=32,\n",
        "                    validation_split=0.2)"
      ],
      "execution_count": null,
      "outputs": [
        {
          "output_type": "stream",
          "text": [
            "Model: \"sequential\"\n",
            "_________________________________________________________________\n",
            "Layer (type)                 Output Shape              Param #   \n",
            "=================================================================\n",
            "embedding_1 (Embedding)      (None, 20, 8)             80000     \n",
            "_________________________________________________________________\n",
            "flatten (Flatten)            (None, 160)               0         \n",
            "_________________________________________________________________\n",
            "dense (Dense)                (None, 1)                 161       \n",
            "=================================================================\n",
            "Total params: 80,161\n",
            "Trainable params: 80,161\n",
            "Non-trainable params: 0\n",
            "_________________________________________________________________\n",
            "Epoch 1/10\n",
            "625/625 [==============================] - 1s 2ms/step - loss: 0.6703 - acc: 0.6144 - val_loss: 0.6208 - val_acc: 0.6966\n",
            "Epoch 2/10\n",
            "625/625 [==============================] - 1s 1ms/step - loss: 0.5419 - acc: 0.7510 - val_loss: 0.5264 - val_acc: 0.7320\n",
            "Epoch 3/10\n",
            "625/625 [==============================] - 1s 1ms/step - loss: 0.4625 - acc: 0.7853 - val_loss: 0.5010 - val_acc: 0.7444\n",
            "Epoch 4/10\n",
            "625/625 [==============================] - 1s 1ms/step - loss: 0.4244 - acc: 0.8063 - val_loss: 0.4933 - val_acc: 0.7528\n",
            "Epoch 5/10\n",
            "625/625 [==============================] - 1s 1ms/step - loss: 0.3992 - acc: 0.8207 - val_loss: 0.4948 - val_acc: 0.7560\n",
            "Epoch 6/10\n",
            "625/625 [==============================] - 1s 1ms/step - loss: 0.3779 - acc: 0.8311 - val_loss: 0.5003 - val_acc: 0.7576\n",
            "Epoch 7/10\n",
            "625/625 [==============================] - 1s 1ms/step - loss: 0.3600 - acc: 0.8442 - val_loss: 0.5024 - val_acc: 0.7520\n",
            "Epoch 8/10\n",
            "625/625 [==============================] - 1s 1ms/step - loss: 0.3419 - acc: 0.8539 - val_loss: 0.5075 - val_acc: 0.7524\n",
            "Epoch 9/10\n",
            "625/625 [==============================] - 1s 1ms/step - loss: 0.3245 - acc: 0.8622 - val_loss: 0.5152 - val_acc: 0.7536\n",
            "Epoch 10/10\n",
            "625/625 [==============================] - 1s 1ms/step - loss: 0.3074 - acc: 0.8736 - val_loss: 0.5215 - val_acc: 0.7514\n"
          ],
          "name": "stdout"
        }
      ]
    },
    {
      "cell_type": "markdown",
      "metadata": {
        "id": "Nkd-T4ch97E5"
      },
      "source": [
        "Se consigue una precisión de validación que ronda el ~75%, lo que no está nada mal teniendo en cuenta que solo usamos 20 palabras de cada opinión (comprueba que si subes a 50, la validación alcanza el 80%). \n",
        "\n",
        "El modelo que hemos creado no es muy ajustado, ya que al poner una sola capa densa tras aplanar los datos hace que la posición que ocupa cada palabra no tenga ningún peso en el entrenamiento, y al perder la estructura de las frases se pierde la semántica y solo considera la aparición de ellas (por ejemplo, estas frases, que en inglés significan cosas muy distintas, las considera prácticamente iguales _“this movie is shit”_ y _“this movie is the shit”_). Para evitar este problema sería necesario usar una estructura de red que sí considerase la distribución espacial de las palabras, tal y como las convolucionales 2D hacen con las imágenes. Más adelante veremos cómo aplicar a este problema capas recurrentes o 1D convolucionales."
      ]
    },
    {
      "cell_type": "markdown",
      "metadata": {
        "id": "p9q8W9vR97E5"
      },
      "source": [
        "### 2.2. Uso de inmersiones preentrenadas\n",
        "\n",
        "Para obtener buenos resultados en inmersiones es necesario disponer de muchos datos, pero cuando los datos que tenemos no son suficientes podemos reusar el entrenamiento realizado en otras tareas, tal y como vimos en módulos anteriores. \n",
        "\n",
        "Al igual que las primeras capas convolucionales de una CNN preentrenada en clases genéricas reflejan relaciones generales útiles acerca de tareas de visión para muchas otras tareas, cuando tratamos con textos, si la tarea en la que se ha entrenado la inmersión no es muy subjetiva, las relaciones geométricas de los vectores de dicha inmersión reflejarán relaciones semánticas generales entre las palabras, que muy probablemente puedan ser útiles para otras tareas que usan el mismo vocabulario.\n",
        "\n",
        "Este tipo de inmersiones de palabras normalmente se contruyen a partir de estadísticas de ocurrencias de palabras (observaciones acerca de qué palabras co-ocurren en frases y documentos), usando diversas técnicas, algunas relacionadas con redes neuronales y otras que no. \n",
        "\n",
        "La idea de una inmersión de palabras densa y de baja dimensión, calculada de forma no supervisada fue inicialmente explorada por Bengio et al. a principios de los 2000, pero su uso real explotó a raíz del esquema de inmersión [Word2Vec](https://en.wikipedia.org/wiki/Word2vec), desarrollado por Mikolov en Google en 2013, que captura propiedades semánticas tales como el género, número, sinonomia, etc.\n",
        "\n",
        "Hay varias bases de datos de inmersiones preentrenadas que se pueden descargar y usar desde las capas de inmersiones de Keras. Word2Vec es una de ellas, y [GloVe (“Global Vectors for Word Representation”)](https://nlp.stanford.edu/projects/glove/) es otra, desarrollada por investigadores de Stanford en 2014, que hace uso de factorización de matrices sobre estadísticas de co-ocurrencias a partir de millones de tokens extraídos de fuentes como la Wikipedia o Common Crawl. Puedes visualizar la inmersión en un espacio tri-dimensional en esta web https://projector.tensorflow.org.\n",
        "\n",
        "Vamos a mostrar cómo usar GloVe en Keras, pero el procedimiento que seguiremos es extrapolable a Word2Vec y otras inmersiones."
      ]
    },
    {
      "cell_type": "markdown",
      "metadata": {
        "id": "2S-WxZ3n97E6"
      },
      "source": [
        "### 2.3. Del texto en bruto a las inmersiones de palabras\n",
        "\n",
        "Vamos a usar un modelo similar al anterior: \n",
        "* inmersión + \n",
        "* aplanamiento + \n",
        "* capa densa, \n",
        "\n",
        "pero esta vez usaremos una inmersión preentrenada, y en vez de usar un paquete de IMDB pre-tokenizado, haremos todo desde el texto en bruto que proporciona IMDB."
      ]
    },
    {
      "cell_type": "markdown",
      "metadata": {
        "id": "U2QV3dQE97E7"
      },
      "source": [
        "#### Descarga de IMDB como texto\n",
        "\n",
        "El conjunto de datos sobre el que trabajaremos se puede descargar de http://ai.stanford.edu/~amaas/data/sentiment.\n",
        "\n",
        "En primer lugar, vamos a recolectar las opiniones individuales de entrenamiento como una lista de cadenas, una cadena para cada opinión, junto con las etiquetas asociadas (pos / neg) en una lista labels:"
      ]
    },
    {
      "cell_type": "code",
      "metadata": {
        "colab": {
          "base_uri": "https://localhost:8080/"
        },
        "id": "I9DjdDri_QLJ",
        "outputId": "8d28939f-e9e3-454d-8299-e5a2eeef8ea7"
      },
      "source": [
        "!wget http://ai.stanford.edu/~amaas/data/sentiment/aclImdb_v1.tar.gz\r\n",
        "!tar xf aclImdb_v1.tar.gz"
      ],
      "execution_count": null,
      "outputs": [
        {
          "output_type": "stream",
          "text": [
            "--2020-12-09 14:52:30--  http://ai.stanford.edu/~amaas/data/sentiment/aclImdb_v1.tar.gz\n",
            "Resolving ai.stanford.edu (ai.stanford.edu)... 171.64.68.10\n",
            "Connecting to ai.stanford.edu (ai.stanford.edu)|171.64.68.10|:80... connected.\n",
            "HTTP request sent, awaiting response... 200 OK\n",
            "Length: 84125825 (80M) [application/x-gzip]\n",
            "Saving to: ‘aclImdb_v1.tar.gz’\n",
            "\n",
            "aclImdb_v1.tar.gz   100%[===================>]  80.23M  18.2MB/s    in 10s     \n",
            "\n",
            "2020-12-09 14:52:41 (7.72 MB/s) - ‘aclImdb_v1.tar.gz’ saved [84125825/84125825]\n",
            "\n"
          ],
          "name": "stdout"
        }
      ]
    },
    {
      "cell_type": "code",
      "metadata": {
        "id": "_bot8ORc97E7"
      },
      "source": [
        "import os\n",
        "\n",
        "# indica aquí la ruta a la carpeta descargada\n",
        "imdb_dir = './aclImdb/'\n",
        "train_dir = os.path.join(imdb_dir, 'train')\n",
        "\n",
        "labels = []\n",
        "texts = []\n",
        "\n",
        "for label_type in ['neg', 'pos']:\n",
        "    dir_name = os.path.join(train_dir, label_type)\n",
        "    for fname in os.listdir(dir_name):\n",
        "        if fname[-4:] == '.txt':\n",
        "            f = open(os.path.join(dir_name, fname))\n",
        "            texts.append(f.read())\n",
        "            f.close()\n",
        "            if label_type == 'neg':\n",
        "                labels.append(0)\n",
        "            else:\n",
        "                labels.append(1)"
      ],
      "execution_count": null,
      "outputs": []
    },
    {
      "cell_type": "markdown",
      "metadata": {
        "id": "O-Vs-BV-97E7"
      },
      "source": [
        "#### Tokenizar los datos\n",
        "\n",
        "A continuación vamos a vectorizar los textos que hemos recolectado, y los dividiremos en conjunto de entrenamiento y de validación, de forma similar a como hemos hecho en ejemplos anteriores.\n",
        "\n",
        "Para poner a prueba lo buenas que son las inmersiones pre-çentrenadas, vamos a trabajar sobre un conjunto de entrenamiento especialmente pequeño, y consideraremos únicamente 200 muestras."
      ]
    },
    {
      "cell_type": "code",
      "metadata": {
        "colab": {
          "base_uri": "https://localhost:8080/"
        },
        "id": "eRBW5uwy97E8",
        "outputId": "92fb5d62-a82f-449a-d279-d570b241862e"
      },
      "source": [
        "from keras.preprocessing.text import Tokenizer\n",
        "from keras.preprocessing.sequence import pad_sequences\n",
        "import numpy as np\n",
        "\n",
        "maxlen = 100  # Recortaremos las críticas después de 100 palabras\n",
        "training_samples = 200  # Estaremos entrenando con 200 muestras\n",
        "validation_samples = 10000  # Estaremos validando con 10.000 muestras\n",
        "max_words = 10000  # Sólo consideraremos las 10.000 palabras más importantes del conjunto de datos\n",
        "\n",
        "tokenizer = Tokenizer(num_words=max_words)\n",
        "tokenizer.fit_on_texts(texts)\n",
        "sequences = tokenizer.texts_to_sequences(texts)\n",
        "\n",
        "word_index = tokenizer.word_index\n",
        "print('Encontrados %s tokens únicos.' % len(word_index))\n",
        "\n",
        "data = pad_sequences(sequences, maxlen=maxlen)\n",
        "\n",
        "labels = np.asarray(labels)\n",
        "print('Shape of data tensor:', data.shape)\n",
        "print('Shape of label tensor:', labels.shape)\n",
        "\n",
        "# Dividir los datos en un conjunto de entrenamiento y un conjunto de validación\n",
        "# Pero primero, barajar los datos, ya que empezamos a partir de los datos\n",
        "# donde se ordenan las muestras (todas negativas primero, luego todas positivas).\n",
        "indices = np.arange(data.shape[0])\n",
        "np.random.shuffle(indices)\n",
        "data = data[indices]\n",
        "labels = labels[indices]\n",
        "\n",
        "x_train = data[:training_samples]\n",
        "y_train = labels[:training_samples]\n",
        "x_val = data[training_samples: training_samples + validation_samples]\n",
        "y_val = labels[training_samples: training_samples + validation_samples]"
      ],
      "execution_count": null,
      "outputs": [
        {
          "output_type": "stream",
          "text": [
            "Encontrados 88582 tokens únicos.\n",
            "Shape of data tensor: (25000, 100)\n",
            "Shape of label tensor: (25000,)\n"
          ],
          "name": "stdout"
        }
      ]
    },
    {
      "cell_type": "markdown",
      "metadata": {
        "id": "98Af2YpD97E8"
      },
      "source": [
        "#### Descargando GloVe\n",
        "\n",
        "Vamos a utilizar la inmersión preentrenada GloVe que ha sido creada a partir de la Wikipedia en inglés en 2014 https://nlp.stanford.edu/projects/glove/. Es un fichero de 822MB llamado `glove.6B.zip`, y contiene una imersión vectorial de 100D de 400.000 palabras."
      ]
    },
    {
      "cell_type": "markdown",
      "metadata": {
        "id": "daWYMElL97E9"
      },
      "source": [
        "#### Preprocesando la inmersión\n",
        "\n",
        "El fichero anterior es un `txt` que debe ser procesado para construir la asociación entre palabras (cadenas) y vectores."
      ]
    },
    {
      "cell_type": "code",
      "metadata": {
        "colab": {
          "base_uri": "https://localhost:8080/"
        },
        "id": "otlma854_m-_",
        "outputId": "53a8b6ae-b6d1-438a-8480-bcc961c1d5fc"
      },
      "source": [
        "!wget http://nlp.stanford.edu/data/glove.6B.zip\r\n",
        "!unzip glove.6B.zip -d glove.6B"
      ],
      "execution_count": null,
      "outputs": [
        {
          "output_type": "stream",
          "text": [
            "--2020-12-09 14:54:11--  http://nlp.stanford.edu/data/glove.6B.zip\n",
            "Resolving nlp.stanford.edu (nlp.stanford.edu)... 171.64.67.140\n",
            "Connecting to nlp.stanford.edu (nlp.stanford.edu)|171.64.67.140|:80... connected.\n",
            "HTTP request sent, awaiting response... 302 Found\n",
            "Location: https://nlp.stanford.edu/data/glove.6B.zip [following]\n",
            "--2020-12-09 14:54:12--  https://nlp.stanford.edu/data/glove.6B.zip\n",
            "Connecting to nlp.stanford.edu (nlp.stanford.edu)|171.64.67.140|:443... connected.\n",
            "HTTP request sent, awaiting response... 301 Moved Permanently\n",
            "Location: http://downloads.cs.stanford.edu/nlp/data/glove.6B.zip [following]\n",
            "--2020-12-09 14:54:12--  http://downloads.cs.stanford.edu/nlp/data/glove.6B.zip\n",
            "Resolving downloads.cs.stanford.edu (downloads.cs.stanford.edu)... 171.64.64.22\n",
            "Connecting to downloads.cs.stanford.edu (downloads.cs.stanford.edu)|171.64.64.22|:80... connected.\n",
            "HTTP request sent, awaiting response... 200 OK\n",
            "Length: 862182613 (822M) [application/zip]\n",
            "Saving to: ‘glove.6B.zip’\n",
            "\n",
            "glove.6B.zip        100%[===================>] 822.24M  2.02MB/s    in 6m 30s  \n",
            "\n",
            "2020-12-09 15:00:43 (2.11 MB/s) - ‘glove.6B.zip’ saved [862182613/862182613]\n",
            "\n",
            "Archive:  glove.6B.zip\n",
            "  inflating: glove.6B/glove.6B.50d.txt  \n",
            "  inflating: glove.6B/glove.6B.100d.txt  \n",
            "  inflating: glove.6B/glove.6B.200d.txt  \n",
            "  inflating: glove.6B/glove.6B.300d.txt  \n"
          ],
          "name": "stdout"
        }
      ]
    },
    {
      "cell_type": "code",
      "metadata": {
        "colab": {
          "base_uri": "https://localhost:8080/"
        },
        "id": "55I__tHa97E9",
        "outputId": "8b607bde-22bf-453f-f26c-77dd1bc2f6af"
      },
      "source": [
        "# indica aquí la ruta a la carpeta descargada\n",
        "glove_dir = 'glove.6B'\n",
        "\n",
        "embeddings_index = {}\n",
        "f = open(os.path.join(glove_dir, 'glove.6B.100d.txt'))\n",
        "for line in f:\n",
        "    values = line.split()\n",
        "    word = values[0]\n",
        "    coefs = np.asarray(values[1:], dtype='float32')\n",
        "    embeddings_index[word] = coefs\n",
        "f.close()\n",
        "\n",
        "print('Encontrados %s word vectors.' % len(embeddings_index))"
      ],
      "execution_count": null,
      "outputs": [
        {
          "output_type": "stream",
          "text": [
            "Encontrados 400000 word vectors.\n"
          ],
          "name": "stdout"
        }
      ]
    },
    {
      "cell_type": "markdown",
      "metadata": {
        "id": "Bpd09gKr97E9"
      },
      "source": [
        "A continuación, hemos de construir la matriz que cargaremos en la capa de inmersión. Debe tener tamaño `(max_words, embedding_dim)`, donde cada entrada $i$ contiene el vector de tamaño `embedding_dim` para la palabra $i$-ésima en el índice (construido durante la tokenización). El índice 0 no se usa para ninguna palabra."
      ]
    },
    {
      "cell_type": "code",
      "metadata": {
        "id": "X_LmMUuH97E9"
      },
      "source": [
        "embedding_dim = 100\n",
        "\n",
        "embedding_matrix = np.zeros((max_words, embedding_dim))\n",
        "for word, i in word_index.items():\n",
        "    embedding_vector = embeddings_index.get(word)\n",
        "    if i < max_words:\n",
        "        if embedding_vector is not None:\n",
        "            # Las palabras no encontradas en el índice de embedding será todo cero.\n",
        "            embedding_matrix[i] = embedding_vector"
      ],
      "execution_count": null,
      "outputs": []
    },
    {
      "cell_type": "markdown",
      "metadata": {
        "id": "v1SNiWk897E_"
      },
      "source": [
        "#### Definiendo el modelo\n",
        "\n",
        "Usaremos la misma arquitectura que en el modelo anterior:"
      ]
    },
    {
      "cell_type": "code",
      "metadata": {
        "colab": {
          "base_uri": "https://localhost:8080/"
        },
        "id": "dwVS065h97E_",
        "outputId": "414a2128-0139-4b29-d4d7-76864373c3d4"
      },
      "source": [
        "from keras.models import Sequential\n",
        "from keras.layers import Embedding, Flatten, Dense\n",
        "\n",
        "model = Sequential()\n",
        "model.add(Embedding(max_words, embedding_dim, input_length=maxlen))\n",
        "model.add(Flatten())\n",
        "model.add(Dense(32, activation='relu'))\n",
        "model.add(Dense(1, activation='sigmoid'))\n",
        "model.summary()"
      ],
      "execution_count": null,
      "outputs": [
        {
          "output_type": "stream",
          "text": [
            "Model: \"sequential_1\"\n",
            "_________________________________________________________________\n",
            "Layer (type)                 Output Shape              Param #   \n",
            "=================================================================\n",
            "embedding_2 (Embedding)      (None, 100, 100)          1000000   \n",
            "_________________________________________________________________\n",
            "flatten_1 (Flatten)          (None, 10000)             0         \n",
            "_________________________________________________________________\n",
            "dense_1 (Dense)              (None, 32)                320032    \n",
            "_________________________________________________________________\n",
            "dense_2 (Dense)              (None, 1)                 33        \n",
            "=================================================================\n",
            "Total params: 1,320,065\n",
            "Trainable params: 1,320,065\n",
            "Non-trainable params: 0\n",
            "_________________________________________________________________\n"
          ],
          "name": "stdout"
        }
      ]
    },
    {
      "cell_type": "markdown",
      "metadata": {
        "id": "xnI08muo97E_"
      },
      "source": [
        "#### Cargando la inmersión GloVe en el modelo\n",
        "\n",
        "La capa de inmersión tiene una matriz simple, 2D, de coma flotante, en la que cada entrada $i$ es el vector asociado a la $i$-ésima palabra. Basta cargar la matriz GloVe que hemos preparado antes en la capa de inmersión, que es la primera del modelo:"
      ]
    },
    {
      "cell_type": "code",
      "metadata": {
        "id": "1N1RH_3B97E_"
      },
      "source": [
        "model.layers[0].set_weights([embedding_matrix])\n",
        "model.layers[0].trainable = False"
      ],
      "execution_count": null,
      "outputs": []
    },
    {
      "cell_type": "markdown",
      "metadata": {
        "id": "z96b_c4P97FA"
      },
      "source": [
        "Además, hemos de congelar los pesos de esta capa, para que el entrenamiento posterior no modifique los vectores precargados."
      ]
    },
    {
      "cell_type": "markdown",
      "metadata": {
        "id": "h7j2OhJE97FA"
      },
      "source": [
        "#### Entrenamiento y Evaluación\n",
        "\n",
        "Compilemos y entrenemos el modelo (y lo grabamos):"
      ]
    },
    {
      "cell_type": "code",
      "metadata": {
        "colab": {
          "base_uri": "https://localhost:8080/"
        },
        "id": "BzMu1IOR97FA",
        "outputId": "4852fc36-1357-4904-c125-678cdba19f67"
      },
      "source": [
        "model.compile(optimizer='rmsprop',\n",
        "              loss='binary_crossentropy',\n",
        "              metrics=['acc'])\n",
        "history = model.fit(x_train, y_train,\n",
        "                    epochs=10,\n",
        "                    batch_size=32,\n",
        "                    validation_data=(x_val, y_val))\n",
        "model.save_weights('pre_trained_glove_model.h5')"
      ],
      "execution_count": null,
      "outputs": [
        {
          "output_type": "stream",
          "text": [
            "Epoch 1/10\n",
            "7/7 [==============================] - 1s 91ms/step - loss: 1.9221 - acc: 0.5350 - val_loss: 0.7912 - val_acc: 0.4934\n",
            "Epoch 2/10\n",
            "7/7 [==============================] - 1s 74ms/step - loss: 0.5473 - acc: 0.6750 - val_loss: 0.9515 - val_acc: 0.4927\n",
            "Epoch 3/10\n",
            "7/7 [==============================] - 1s 72ms/step - loss: 0.5449 - acc: 0.7100 - val_loss: 0.6803 - val_acc: 0.5710\n",
            "Epoch 4/10\n",
            "7/7 [==============================] - 1s 77ms/step - loss: 0.3503 - acc: 0.8600 - val_loss: 0.6870 - val_acc: 0.5698\n",
            "Epoch 5/10\n",
            "7/7 [==============================] - 1s 74ms/step - loss: 0.2301 - acc: 0.9450 - val_loss: 1.1413 - val_acc: 0.4934\n",
            "Epoch 6/10\n",
            "7/7 [==============================] - 1s 72ms/step - loss: 0.2018 - acc: 0.9450 - val_loss: 0.7608 - val_acc: 0.5636\n",
            "Epoch 7/10\n",
            "7/7 [==============================] - 1s 76ms/step - loss: 0.2050 - acc: 0.9050 - val_loss: 1.6640 - val_acc: 0.4927\n",
            "Epoch 8/10\n",
            "7/7 [==============================] - 1s 74ms/step - loss: 0.1615 - acc: 0.9250 - val_loss: 1.0954 - val_acc: 0.5308\n",
            "Epoch 9/10\n",
            "7/7 [==============================] - 1s 75ms/step - loss: 0.0426 - acc: 0.9950 - val_loss: 0.9954 - val_acc: 0.5417\n",
            "Epoch 10/10\n",
            "7/7 [==============================] - 1s 76ms/step - loss: 0.0438 - acc: 0.9900 - val_loss: 0.8520 - val_acc: 0.5521\n"
          ],
          "name": "stdout"
        }
      ]
    },
    {
      "cell_type": "markdown",
      "metadata": {
        "id": "29I0MS4_97FA"
      },
      "source": [
        "Y mostramos su rendimiento:"
      ]
    },
    {
      "cell_type": "code",
      "metadata": {
        "colab": {
          "base_uri": "https://localhost:8080/",
          "height": 545
        },
        "id": "-NLPa50_97FB",
        "outputId": "cff6de31-e289-4106-a929-00cce7c6a158"
      },
      "source": [
        "import matplotlib.pyplot as plt\n",
        "\n",
        "acc = history.history['acc']\n",
        "val_acc = history.history['val_acc']\n",
        "loss = history.history['loss']\n",
        "val_loss = history.history['val_loss']\n",
        "\n",
        "epochs = range(1, len(acc) + 1)\n",
        "\n",
        "plt.plot(epochs, acc, 'bo', label='Training acc')\n",
        "plt.plot(epochs, val_acc, 'b', label='Validation acc')\n",
        "plt.title('Training and validation accuracy')\n",
        "plt.legend()\n",
        "\n",
        "plt.figure()\n",
        "\n",
        "plt.plot(epochs, loss, 'bo', label='Training loss')\n",
        "plt.plot(epochs, val_loss, 'b', label='Validation loss')\n",
        "plt.title('Training and validation loss')\n",
        "plt.legend()\n",
        "\n",
        "plt.show()"
      ],
      "execution_count": null,
      "outputs": [
        {
          "output_type": "display_data",
          "data": {
            "image/png": "[encoded data removed]",
            "text/plain": [
              "<Figure size 432x288 with 1 Axes>"
            ]
          },
          "metadata": {
            "tags": [],
            "needs_background": "light"
          }
        },
        {
          "output_type": "display_data",
          "data": {
            "image/png": "[encoded data removed]",
            "text/plain": [
              "<Figure size 432x288 with 1 Axes>"
            ]
          },
          "metadata": {
            "tags": [],
            "needs_background": "light"
          }
        }
      ]
    },
    {
      "cell_type": "markdown",
      "metadata": {
        "id": "CaJ8Y2F_97FB"
      },
      "source": [
        "El modelo se sobreajusta muy rápido, algo que no es extraño teniendo en cuenta el tamaño reducido del conjunto de entrenamiento. Consecuentemente, la validación tiene una alta varianza y apenas supera el 55% en el mejor de los casos.\n",
        "\n",
        "Nota que, debido a la selección aleatoria del pequeño conjunto de entrenamiento, los resultados pueden variar mucho si se vuelve a ejecutar el procedimiento.\n",
        "\n",
        "También podemos intentar realizar el entrenamiento sin haber precargado una inmersión y sin congelar la capa de inmersión. Es decir, aprendiendo la inmersión específica de la tarea que estamos llevando a cabo. Esta opción, como comentamos, suele ser mejor si se dispone de los recursos computacionales necesarios y de muchos datos, pero nosotros lo entrenamos únicamente con 200 muestras:"
      ]
    },
    {
      "cell_type": "code",
      "metadata": {
        "colab": {
          "base_uri": "https://localhost:8080/"
        },
        "id": "S9gQlTQ497FB",
        "outputId": "5e9a94c7-74e7-4479-ff1f-8c2f2aebe4b5"
      },
      "source": [
        "from keras.models import Sequential\n",
        "from keras.layers import Embedding, Flatten, Dense\n",
        "\n",
        "model = Sequential()\n",
        "model.add(Embedding(max_words, embedding_dim, input_length=maxlen))\n",
        "model.add(Flatten())\n",
        "model.add(Dense(32, activation='relu'))\n",
        "model.add(Dense(1, activation='sigmoid'))\n",
        "model.summary()\n",
        "\n",
        "model.compile(optimizer='rmsprop',\n",
        "              loss='binary_crossentropy',\n",
        "              metrics=['acc'])\n",
        "history = model.fit(x_train, y_train,\n",
        "                    epochs=10,\n",
        "                    batch_size=32,\n",
        "                    validation_data=(x_val, y_val))"
      ],
      "execution_count": null,
      "outputs": [
        {
          "output_type": "stream",
          "text": [
            "Model: \"sequential_2\"\n",
            "_________________________________________________________________\n",
            "Layer (type)                 Output Shape              Param #   \n",
            "=================================================================\n",
            "embedding_3 (Embedding)      (None, 100, 100)          1000000   \n",
            "_________________________________________________________________\n",
            "flatten_2 (Flatten)          (None, 10000)             0         \n",
            "_________________________________________________________________\n",
            "dense_3 (Dense)              (None, 32)                320032    \n",
            "_________________________________________________________________\n",
            "dense_4 (Dense)              (None, 1)                 33        \n",
            "=================================================================\n",
            "Total params: 1,320,065\n",
            "Trainable params: 1,320,065\n",
            "Non-trainable params: 0\n",
            "_________________________________________________________________\n",
            "Epoch 1/10\n",
            "7/7 [==============================] - 1s 99ms/step - loss: 0.6883 - acc: 0.5450 - val_loss: 0.6932 - val_acc: 0.5162\n",
            "Epoch 2/10\n",
            "7/7 [==============================] - 1s 78ms/step - loss: 0.4814 - acc: 0.9750 - val_loss: 0.7205 - val_acc: 0.5084\n",
            "Epoch 3/10\n",
            "7/7 [==============================] - 1s 77ms/step - loss: 0.2760 - acc: 0.9750 - val_loss: 0.7197 - val_acc: 0.5122\n",
            "Epoch 4/10\n",
            "7/7 [==============================] - 1s 82ms/step - loss: 0.1281 - acc: 1.0000 - val_loss: 0.7127 - val_acc: 0.5235\n",
            "Epoch 5/10\n",
            "7/7 [==============================] - 1s 81ms/step - loss: 0.0592 - acc: 1.0000 - val_loss: 0.7254 - val_acc: 0.5215\n",
            "Epoch 6/10\n",
            "7/7 [==============================] - 1s 80ms/step - loss: 0.0310 - acc: 1.0000 - val_loss: 0.7453 - val_acc: 0.5194\n",
            "Epoch 7/10\n",
            "7/7 [==============================] - 1s 78ms/step - loss: 0.0174 - acc: 1.0000 - val_loss: 0.7468 - val_acc: 0.5279\n",
            "Epoch 8/10\n",
            "7/7 [==============================] - 1s 81ms/step - loss: 0.0100 - acc: 1.0000 - val_loss: 0.7612 - val_acc: 0.5251\n",
            "Epoch 9/10\n",
            "7/7 [==============================] - 1s 77ms/step - loss: 0.0059 - acc: 1.0000 - val_loss: 0.7778 - val_acc: 0.5231\n",
            "Epoch 10/10\n",
            "7/7 [==============================] - 1s 79ms/step - loss: 0.0036 - acc: 1.0000 - val_loss: 0.7750 - val_acc: 0.5279\n"
          ],
          "name": "stdout"
        }
      ]
    },
    {
      "cell_type": "code",
      "metadata": {
        "colab": {
          "base_uri": "https://localhost:8080/",
          "height": 545
        },
        "id": "7x9RntOT97FB",
        "outputId": "60399e26-885c-4cac-8a52-2f550b12eb5b"
      },
      "source": [
        "acc = history.history['acc']\n",
        "val_acc = history.history['val_acc']\n",
        "loss = history.history['loss']\n",
        "val_loss = history.history['val_loss']\n",
        "\n",
        "epochs = range(1, len(acc) + 1)\n",
        "\n",
        "plt.plot(epochs, acc, 'bo', label='Training acc')\n",
        "plt.plot(epochs, val_acc, 'b', label='Validation acc')\n",
        "plt.title('Training and validation accuracy')\n",
        "plt.legend()\n",
        "\n",
        "plt.figure()\n",
        "\n",
        "plt.plot(epochs, loss, 'bo', label='Training loss')\n",
        "plt.plot(epochs, val_loss, 'b', label='Validation loss')\n",
        "plt.title('Training and validation loss')\n",
        "plt.legend()\n",
        "\n",
        "plt.show()"
      ],
      "execution_count": null,
      "outputs": [
        {
          "output_type": "display_data",
          "data": {
            "image/png": "[encoded data removed]",
            "text/plain": [
              "<Figure size 432x288 with 1 Axes>"
            ]
          },
          "metadata": {
            "tags": [],
            "needs_background": "light"
          }
        },
        {
          "output_type": "display_data",
          "data": {
            "image/png": "[encoded data removed]",
            "text/plain": [
              "<Figure size 432x288 with 1 Axes>"
            ]
          },
          "metadata": {
            "tags": [],
            "needs_background": "light"
          }
        }
      ]
    },
    {
      "cell_type": "markdown",
      "metadata": {
        "id": "mV2w8nvm97FB"
      },
      "source": [
        "En este caso, la accuracy en validación se para alrededor del 50%, pero porque el conjunto de entrenamiento es extremadamente pequeño para la tarea. Si aumentáramos el conjunto de entrenamiento considerablemente, veriamos que esta opción es mejor.\n",
        "\n",
        "Finalmente, evaluemos el modelo sobre los datos de test, que también habrá que preprocesar adecuadamente:"
      ]
    },
    {
      "cell_type": "code",
      "metadata": {
        "id": "jYyohjAR97FC"
      },
      "source": [
        "test_dir = os.path.join(imdb_dir, 'test')\n",
        "\n",
        "labels = []\n",
        "texts = []\n",
        "\n",
        "for label_type in ['neg', 'pos']:\n",
        "    dir_name = os.path.join(test_dir, label_type)\n",
        "    for fname in sorted(os.listdir(dir_name)):\n",
        "        if fname[-4:] == '.txt':\n",
        "            f = open(os.path.join(dir_name, fname))\n",
        "            texts.append(f.read())\n",
        "            f.close()\n",
        "            if label_type == 'neg':\n",
        "                labels.append(0)\n",
        "            else:\n",
        "                labels.append(1)\n",
        "\n",
        "sequences = tokenizer.texts_to_sequences(texts)\n",
        "x_test = pad_sequences(sequences, maxlen=maxlen)\n",
        "y_test = np.asarray(labels)"
      ],
      "execution_count": null,
      "outputs": []
    },
    {
      "cell_type": "markdown",
      "metadata": {
        "id": "Gf3jnomF97FC"
      },
      "source": [
        "Recarguemos el modelo (que fue machacado con el entrenamiento de prueba anterior), y evaluemos:"
      ]
    },
    {
      "cell_type": "code",
      "metadata": {
        "colab": {
          "base_uri": "https://localhost:8080/"
        },
        "id": "TXE8059L97FC",
        "outputId": "6e788378-df34-46c5-bdf3-aecd3cad517a"
      },
      "source": [
        "model.load_weights('pre_trained_glove_model.h5')\n",
        "model.evaluate(x_test, y_test)"
      ],
      "execution_count": null,
      "outputs": [
        {
          "output_type": "stream",
          "text": [
            "782/782 [==============================] - 1s 2ms/step - loss: 0.8466 - acc: 0.5521\n"
          ],
          "name": "stdout"
        },
        {
          "output_type": "execute_result",
          "data": {
            "text/plain": [
              "[0.8466022610664368, 0.552079975605011]"
            ]
          },
          "metadata": {
            "tags": []
          },
          "execution_count": 22
        }
      ]
    },
    {
      "cell_type": "markdown",
      "metadata": {
        "id": "x9vQIMw797FC"
      },
      "source": [
        "Apenas conseguimos un 56% de accuracy, un valor muy bajo que nos indica que en efecto trabajar con tan pocos ejemplos de entrenamiento lo convierte en una tarea dura... y quizás la aproximación no es la más adecuada porque ignoramos el orden de las palabras en las muestras."
      ]
    }
  ]
}
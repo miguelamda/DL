{
 "cells": [
  {
   "cell_type": "markdown",
   "metadata": {},
   "source": [
    "# Regularización"
   ]
  },
  {
   "cell_type": "code",
   "execution_count": 1,
   "metadata": {},
   "outputs": [
    {
     "name": "stderr",
     "output_type": "stream",
     "text": [
      "Using TensorFlow backend.\n"
     ]
    },
    {
     "data": {
      "text/plain": [
       "'2.2.2'"
      ]
     },
     "execution_count": 1,
     "metadata": {},
     "output_type": "execute_result"
    }
   ],
   "source": [
    "import keras\n",
    "keras.__version__"
   ]
  },
  {
   "cell_type": "markdown",
   "metadata": {},
   "source": [
    "En los ejemplos presentados en los temas anteriores hemos comprobado que en la validación el rendimiento de todos los modelos presenta un máximo tras unas pocas epochs y entonces comienza a degradarse, es decir, que los modelos comienzan a *sobreajustarse* a los datos de entrenamiento sin que haya dado tiempo a extraer patrones suficientemente útiles de ellos para poder ser aplicados sobre datos no vistos.\n",
    "\n",
    "![](./imgs/TestTraining.png)\n",
    "\n",
    "Como hemos comentado más veces, el sobreajuste es común a todos los problemas de ML, y se hace más patente cuanta menor cantidad de datos tengamos para entrenar. Por ello, saber reconocerlo y dar pautas para mitigar sus efectos se convierten en tareas esenciales para obtener buenos resultados en la aplicación de técnicas de ML/DL.\n",
    "\n",
    "El problema fundamental de ML (y, en general, de muchas otras técnicas de la IA) es la tensión existente entre **optimización** y **generalización**, donde la optimización se considera respecto al proceso de ajustar un modelo para conseguir el mejor rendimiento posible sobre los datos de entrenamiento (es donde se concentra la parte de _aprendizaje_ en el  Aprendizaje Automático), y la generalizacion es respecto a lo bien que el modelo entrenado se comporta sobre datos que no ha visto anteriormente. El objetivo, por supuesto, es conseguir una buena generalización, pero es precisamente la parte que no podemos controlar, ya que solo podemos ajustar el modelo en función los datos de entrenamiento.\n",
    "\n",
    "Cuando el entrenamiento empieza, la optimización y la generalización están correladas (sobre todo, teniendo en cuenta que normalmente se comienza con un modelo cuya asignación de pesos es aleatoria): cuanto menor es el error sobre los datos de entrenamiento, menor es sobre los datos de test. En esta fase se dice que el modelo tiene _under-fitting_, es decir, que todavía  puede mejorar porque la red todavía no ha modelado todos los patrones relevantes existentes en los datos de entrenamiento. Pero tras un cierto número de iteraciones sobre los datos de entrenamiento, la generalización deja de mejorar, y las métricas de validación empiezan a empeorar: el modelo comienza a *sobreajustarse* (*overfitting*), es decir, comienza a aprender patrones que son específicos de los datos de entrenamiento pero que no caracterizan otros datos.\n",
    "\n",
    "Para prevenir que un modelo aprenda este tipo de patrones irrelevantes de los datos de entrenamiento, la mejor solución, por supuesto, es conseguir mayor, y lo más variada posible, cantidad de datos de entrenamiento. Es como cualquier proceso de aprendizaje, automático o natural: un modelo entrenado con más datos tendrá más herramientas para extrapolar su aprendizaje a situaciones nuevas. \n",
    "\n",
    "Pero no siempre es posible conseguir más datos, bien porque el suceso del que se han obtenido está fuera de nuestro alcance, o bien porque sea tremendamente costoso preparar un proceso de adquisición de datos adicional. En este caso, y aunque pueda parecer contradictorio, una buena solución es limitar la capacidad de aprendizaje del modelo, bien sea limitando la cantidad de información que el modelo puede almacenar, o añadiendo restricciones al tipo de información que se puede almacenar. Si una red solo puede memorizar un pequeño número de patrones, el proceso de optimización forzará al modelo a enfocarse en los patrones más importantes, aquellos que tienen más opciones de generalizar bien dentro de los datos de entrenamiento y, en consecuencia, es probable que también funcionen mejor en los datos nuevos.\n",
    "\n",
    "El conjunto de técnicas que se han desarrollado para luchar contra el sobreajuste se conoce de forma genérica como **Regularización**.\n",
    "\n",
    "En este tema vamos a revisar algunas de las técnicas más comunes de regularización y aplicarlas de forma práctica para mejorar el modelo de clasificación de opiniones de películas en IMDB que vimos anteriormente."
   ]
  },
  {
   "cell_type": "markdown",
   "metadata": {},
   "source": [
    "Vamos a preparar los datos usados en el módulo anterior para reutilizarlos ahora:"
   ]
  },
  {
   "cell_type": "code",
   "execution_count": 2,
   "metadata": {},
   "outputs": [],
   "source": [
    "from keras.datasets import imdb\n",
    "import numpy as np\n",
    "\n",
    "(train_data, train_labels), (test_data, test_labels) = imdb.load_data(num_words=10000)\n",
    "\n",
    "def vectorize_sequences(sequences, dimension=10000):\n",
    "    # Create an all-zero matrix of shape (len(sequences), dimension)\n",
    "    results = np.zeros((len(sequences), dimension))\n",
    "    for i, sequence in enumerate(sequences):\n",
    "        results[i, sequence] = 1.  # set specific indices of results[i] to 1s\n",
    "    return results\n",
    "\n",
    "# Our vectorized training data\n",
    "x_train = vectorize_sequences(train_data)\n",
    "# Our vectorized test data\n",
    "x_test = vectorize_sequences(test_data)\n",
    "# Our vectorized labels\n",
    "y_train = np.asarray(train_labels).astype('float32')\n",
    "y_test = np.asarray(test_labels).astype('float32')"
   ]
  },
  {
   "cell_type": "markdown",
   "metadata": {},
   "source": [
    "## Data Augmentation\n",
    "\n",
    "Como hemos comentado, la forma más simple de reducir el sobreajuste es incrementando el tamaño del conjunto de entrenamiento. Sin embargo, en ML no suele ser fácil porque a menudo los datos etiquetados son costosos.\n",
    "\n",
    "En general, esta dificultad es insalvable, pero en casos particulares, como cuando trabajamos con imágenes, hay algunas formas de incrementar el tamaño del conjunto de entrenamiento por medio de operaciones básicas: traslación, rotación, escalado, volteado, etc.\n",
    "\n",
    "![](./imgs/DataAugmentation.png)\n",
    "\n",
    "Como esta técnica es mucho más común en el trabajo con imágenes, dejaremos su análisis más detallado al tema en el que trabajemos con Redes Convolucionales, que son especialmente apropiadas para este tipo de problemas."
   ]
  },
  {
   "cell_type": "markdown",
   "metadata": {},
   "source": [
    "## Parada temprana (early stopping)\n",
    "\n",
    "La parada temprana es un tipo de estrategia basada en validación cruzada de la que hemos hecho uso (manualmente) en ejemplos anteriores: cuando observamos que el rendimiento en validación comienza a empeorar, paramos el entrenamiento del modelo.\n",
    "\n",
    "En keras podemos aplicar esta técnica usando las funciones de callbacks, por ejemplo:"
   ]
  },
  {
   "cell_type": "code",
   "execution_count": null,
   "metadata": {},
   "outputs": [],
   "source": [
    "from keras.callbacks import EarlyStopping\n",
    "\n",
    "EarlyStopping(monitor='val_err', patience=5)"
   ]
  },
  {
   "cell_type": "markdown",
   "metadata": {},
   "source": [
    "En esta función, `monitor` representa la métrica que debe ser monitorizada (`val_err` es el error de validación). `Patience` denota el número de eopchs consecutivas que se pueden dejar pasar sin que se haya registrado una mejoría, si se superan, el entrenamiento para."
   ]
  },
  {
   "cell_type": "markdown",
   "metadata": {},
   "source": [
    "## Reduciendo el tamaño de la red\n",
    "\n",
    "La forma más sencilla de evitar el sobreajuste es reducir el tamaño del modelo, es decir, el número de parámetros ajustables por él (que viene  determinado por el número de capas y el número de unidades por capa). \n",
    "\n",
    "En Deep Learning, el número de parámetros ajustables en un modelo se denomina a menudo **capacidad del modelo**. Intuitivamente, un modelo con más parámetros tendrá más *capacidad de memorización* y, por tanto, podrá usar su aprendizaje para construir un diccionario que asocia perfectamente cada muestra de entrenamiento con su salida esperada. Obviamente, un aprendizaje basado en la memorización no tiene posibilidades de generalizar correctamente. \n",
    "\n",
    "Por ejemplo, un modelo con 500.000 parámetros binarios podría fácilmente aprender la clase de cada dígito en el problema MNIST: sólo necesitaríamos 10 parámetros binarios para cada uno de los 50.000 dígitos. Un modelo de este tipo sería inútil para clasificar nuevas muestras de dígitos si éstas presentan diferencias sustanciales, porque no ha extraido patrones que pueda usar en otros casos, sino solo ha memorizado las características propias de cada dato visto en el entrenamiento. \n",
    "\n",
    "Recordemos un hecho fundamental: los modelos de Deep Learning (debido al número de parámetros que tienen) suelen ser buenos para adaptarse a los datos de entrenamiento, pero el verdadero desafío del aprendizaje es la generalización, no el ajuste perfecto.\n",
    "\n",
    "Sin embargo, si la red tiene recursos limitados para memorizar, no podrá construir ese diccionario de una forma satisfactoria (salvo que haya pocos datos de entrenamiento) y, en consecuencia, para minimizar la pérdida durante el entrenamiento tendrá que recurrir al aprendizaje de patrones (que no son más que representaciones comprimidas) que le permitan ajustarse al mayor número posible de datos vistos. Este es precisamente el tipo de representaciones que interesa. \n",
    "\n",
    "No podemos ser muy extremistas, al mismo tiempo que limitamos la capacidad de almacenamiento del modelo, ha de tenerse en cuenta que se deben utilizar modelos que tengan suficientes parámetros para que la complejidad de la estructura aprendida por el modelo no sea demasiado simple, es decir, hay que llegar a un equilibrio entre un \"modelo memorizante\" y un \"modelo inútil\".\n",
    "\n",
    "Por desgracia, no existe una fórmula mágica para determinar cuál es el número correcto de capas, o cuál es el tamaño correcto para cada capa, por lo que habrá que evaluar una colección de arquitecturas diferentes para encontrar aquella que es más adecuada al problema que se quiere resolver y a los datos que tenemos de él. El flujo de trabajo general para encontrar un tamaño apropiado es comenzar con relativamente pocas capas y aumentar el tamaño de las mismas, o añadir nuevas capas, hasta que se obtenga un rendimiento decreciente en la pérdida en validación (no en entrenamiento, que, salvo casos extraños, siempre tenderá a mejorar).\n",
    "\n",
    "Probemos esto en nuestra red de clasificación de opiniones de películas. La red original era:"
   ]
  },
  {
   "cell_type": "code",
   "execution_count": 5,
   "metadata": {},
   "outputs": [],
   "source": [
    "from keras import models\n",
    "from keras import layers\n",
    "from keras.utils.vis_utils import plot_model\n",
    "\n",
    "\n",
    "red_original = models.Sequential()\n",
    "red_original.add(layers.Dense(16, activation='relu', input_shape=(10000,)))\n",
    "red_original.add(layers.Dense(16, activation='relu'))\n",
    "red_original.add(layers.Dense(1, activation='sigmoid'))\n",
    "\n",
    "red_original.compile(optimizer='rmsprop',\n",
    "                       loss='binary_crossentropy',\n",
    "                       metrics=['acc'])"
   ]
  },
  {
   "cell_type": "markdown",
   "metadata": {},
   "source": [
    "![](./imgs/IMDBModel_plot.png)\n",
    "\n",
    "Como hemos comentado, vamos a comenzar reduciendo el tamaño de la red y comprobando cómo se comporta con la reducción:"
   ]
  },
  {
   "cell_type": "code",
   "execution_count": 6,
   "metadata": {},
   "outputs": [],
   "source": [
    "red_pequena = models.Sequential()\n",
    "red_pequena.add(layers.Dense(4, activation='relu', input_shape=(10000,)))\n",
    "red_pequena.add(layers.Dense(4, activation='relu'))\n",
    "red_pequena.add(layers.Dense(1, activation='sigmoid'))\n",
    "\n",
    "red_pequena.compile(optimizer='rmsprop',\n",
    "                      loss='binary_crossentropy',\n",
    "                      metrics=['acc'])\n",
    "\n",
    "plot_model(red_pequena, to_file='IMDBModelPeq_plot.png', show_shapes=True, show_layer_names=True)"
   ]
  },
  {
   "cell_type": "markdown",
   "metadata": {},
   "source": [
    "![](./imgs/IMDBModelPeq_plot.png)\n",
    "\n",
    "Vamos a comparar los resultados de pérdida en validación de ambas redes (recuerda que cuanto menor es la pérdida en validación, mejor es el modelo)."
   ]
  },
  {
   "cell_type": "code",
   "execution_count": 7,
   "metadata": {},
   "outputs": [
    {
     "name": "stdout",
     "output_type": "stream",
     "text": [
      "Train on 25000 samples, validate on 25000 samples\n",
      "Epoch 1/20\n",
      "25000/25000 [==============================] - 11s 446us/step - loss: 0.4549 - acc: 0.8190 - val_loss: 0.3413 - val_acc: 0.8759\n",
      "Epoch 2/20\n",
      "25000/25000 [==============================] - 6s 232us/step - loss: 0.2597 - acc: 0.9084 - val_loss: 0.3029 - val_acc: 0.8794\n",
      "Epoch 3/20\n",
      "25000/25000 [==============================] - 6s 225us/step - loss: 0.1998 - acc: 0.9272 - val_loss: 0.3055 - val_acc: 0.8753\n",
      "Epoch 4/20\n",
      "25000/25000 [==============================] - 6s 224us/step - loss: 0.1718 - acc: 0.9376 - val_loss: 0.2914 - val_acc: 0.8842\n",
      "Epoch 5/20\n",
      "25000/25000 [==============================] - 6s 253us/step - loss: 0.1449 - acc: 0.9498 - val_loss: 0.3133 - val_acc: 0.8780\n",
      "Epoch 6/20\n",
      "25000/25000 [==============================] - 6s 232us/step - loss: 0.1267 - acc: 0.9563 - val_loss: 0.3269 - val_acc: 0.8764\n",
      "Epoch 7/20\n",
      "25000/25000 [==============================] - 6s 228us/step - loss: 0.1104 - acc: 0.9627 - val_loss: 0.3661 - val_acc: 0.8692\n",
      "Epoch 8/20\n",
      "25000/25000 [==============================] - 6s 246us/step - loss: 0.0989 - acc: 0.9672 - val_loss: 0.3835 - val_acc: 0.8680\n",
      "Epoch 9/20\n",
      "25000/25000 [==============================] - 6s 225us/step - loss: 0.0862 - acc: 0.9716 - val_loss: 0.3983 - val_acc: 0.8674\n",
      "Epoch 10/20\n",
      "25000/25000 [==============================] - 6s 237us/step - loss: 0.0771 - acc: 0.9755 - val_loss: 0.4331 - val_acc: 0.8630\n",
      "Epoch 11/20\n",
      "25000/25000 [==============================] - 6s 258us/step - loss: 0.0653 - acc: 0.9797 - val_loss: 0.4599 - val_acc: 0.8632\n",
      "Epoch 12/20\n",
      "25000/25000 [==============================] - 6s 244us/step - loss: 0.0591 - acc: 0.9820 - val_loss: 0.4837 - val_acc: 0.8616\n",
      "Epoch 13/20\n",
      "25000/25000 [==============================] - 6s 231us/step - loss: 0.0513 - acc: 0.9854 - val_loss: 0.5111 - val_acc: 0.8591\n",
      "Epoch 14/20\n",
      "25000/25000 [==============================] - 6s 231us/step - loss: 0.0425 - acc: 0.9878 - val_loss: 0.6133 - val_acc: 0.8443\n",
      "Epoch 15/20\n",
      "25000/25000 [==============================] - 6s 224us/step - loss: 0.0381 - acc: 0.9901 - val_loss: 0.5793 - val_acc: 0.8573\n",
      "Epoch 16/20\n",
      "25000/25000 [==============================] - 6s 243us/step - loss: 0.0319 - acc: 0.9916 - val_loss: 0.6080 - val_acc: 0.8568\n",
      "Epoch 17/20\n",
      "25000/25000 [==============================] - 6s 232us/step - loss: 0.0286 - acc: 0.9923 - val_loss: 0.6460 - val_acc: 0.8537\n",
      "Epoch 18/20\n",
      "25000/25000 [==============================] - 6s 224us/step - loss: 0.0241 - acc: 0.9936 - val_loss: 0.6876 - val_acc: 0.8516\n",
      "Epoch 19/20\n",
      "25000/25000 [==============================] - 6s 235us/step - loss: 0.0192 - acc: 0.9956 - val_loss: 0.7402 - val_acc: 0.8464\n",
      "Epoch 20/20\n",
      "25000/25000 [==============================] - 7s 273us/step - loss: 0.0157 - acc: 0.9966 - val_loss: 0.7502 - val_acc: 0.8512\n"
     ]
    }
   ],
   "source": [
    "entrenamiento_original = red_original.fit(x_train, y_train,\n",
    "                                   epochs=20,\n",
    "                                   batch_size=512,\n",
    "                                   validation_data=(x_test, y_test))"
   ]
  },
  {
   "cell_type": "code",
   "execution_count": 8,
   "metadata": {},
   "outputs": [
    {
     "name": "stdout",
     "output_type": "stream",
     "text": [
      "Train on 25000 samples, validate on 25000 samples\n",
      "Epoch 1/20\n",
      "25000/25000 [==============================] - 6s 240us/step - loss: 0.5563 - acc: 0.7939 - val_loss: 0.4615 - val_acc: 0.8579\n",
      "Epoch 2/20\n",
      "25000/25000 [==============================] - 6s 235us/step - loss: 0.3753 - acc: 0.8895 - val_loss: 0.3558 - val_acc: 0.8787\n",
      "Epoch 3/20\n",
      "25000/25000 [==============================] - 6s 235us/step - loss: 0.2827 - acc: 0.9113 - val_loss: 0.3054 - val_acc: 0.8870\n",
      "Epoch 4/20\n",
      "25000/25000 [==============================] - 6s 221us/step - loss: 0.2311 - acc: 0.9234 - val_loss: 0.2845 - val_acc: 0.8894\n",
      "Epoch 5/20\n",
      "25000/25000 [==============================] - 7s 271us/step - loss: 0.1985 - acc: 0.9327 - val_loss: 0.2788 - val_acc: 0.8889\n",
      "Epoch 6/20\n",
      "25000/25000 [==============================] - 6s 240us/step - loss: 0.1753 - acc: 0.9400 - val_loss: 0.2816 - val_acc: 0.8879\n",
      "Epoch 7/20\n",
      "25000/25000 [==============================] - 6s 225us/step - loss: 0.1575 - acc: 0.9469 - val_loss: 0.2865 - val_acc: 0.8860\n",
      "Epoch 8/20\n",
      "25000/25000 [==============================] - 6s 225us/step - loss: 0.1442 - acc: 0.9510 - val_loss: 0.2978 - val_acc: 0.8824\n",
      "Epoch 9/20\n",
      "25000/25000 [==============================] - 6s 233us/step - loss: 0.1313 - acc: 0.9568 - val_loss: 0.3074 - val_acc: 0.8799\n",
      "Epoch 10/20\n",
      "25000/25000 [==============================] - 6s 228us/step - loss: 0.1214 - acc: 0.9604 - val_loss: 0.3242 - val_acc: 0.8772\n",
      "Epoch 11/20\n",
      "25000/25000 [==============================] - 7s 264us/step - loss: 0.1112 - acc: 0.9648 - val_loss: 0.3364 - val_acc: 0.8756\n",
      "Epoch 12/20\n",
      "25000/25000 [==============================] - 6s 228us/step - loss: 0.1028 - acc: 0.9670 - val_loss: 0.3575 - val_acc: 0.8730\n",
      "Epoch 13/20\n",
      "25000/25000 [==============================] - 6s 234us/step - loss: 0.0948 - acc: 0.9711 - val_loss: 0.3706 - val_acc: 0.8712\n",
      "Epoch 14/20\n",
      "25000/25000 [==============================] - 6s 245us/step - loss: 0.0878 - acc: 0.9728 - val_loss: 0.3862 - val_acc: 0.8698\n",
      "Epoch 15/20\n",
      "25000/25000 [==============================] - 6s 234us/step - loss: 0.0817 - acc: 0.9753 - val_loss: 0.4058 - val_acc: 0.8661\n",
      "Epoch 16/20\n",
      "25000/25000 [==============================] - 6s 236us/step - loss: 0.0747 - acc: 0.9782 - val_loss: 0.4246 - val_acc: 0.8651\n",
      "Epoch 17/20\n",
      "25000/25000 [==============================] - 6s 250us/step - loss: 0.0698 - acc: 0.9802 - val_loss: 0.4445 - val_acc: 0.8642\n",
      "Epoch 18/20\n",
      "25000/25000 [==============================] - 6s 231us/step - loss: 0.0644 - acc: 0.9823 - val_loss: 0.4696 - val_acc: 0.8600\n",
      "Epoch 19/20\n",
      "25000/25000 [==============================] - 6s 236us/step - loss: 0.0598 - acc: 0.9837 - val_loss: 0.4856 - val_acc: 0.8604\n",
      "Epoch 20/20\n",
      "25000/25000 [==============================] - 7s 263us/step - loss: 0.0551 - acc: 0.9856 - val_loss: 0.5107 - val_acc: 0.8580\n"
     ]
    }
   ],
   "source": [
    "entrenamiento_red_pequena = red_pequena.fit(x_train, y_train,\n",
    "                                       epochs=20,\n",
    "                                       batch_size=512,\n",
    "                                       validation_data=(x_test, y_test))"
   ]
  },
  {
   "cell_type": "code",
   "execution_count": 9,
   "metadata": {},
   "outputs": [],
   "source": [
    "epochs = range(1, 21)\n",
    "original_val_loss = entrenamiento_original.history['val_loss']\n",
    "red_pequena_val_loss = entrenamiento_red_pequena.history['val_loss']"
   ]
  },
  {
   "cell_type": "code",
   "execution_count": 11,
   "metadata": {},
   "outputs": [
    {
     "data": {
      "image/png": "[encoded data removed]",
      "text/plain": [
       "<Figure size 432x288 with 1 Axes>"
      ]
     },
     "metadata": {
      "needs_background": "light"
     },
     "output_type": "display_data"
    }
   ],
   "source": [
    "import matplotlib.pyplot as plt\n",
    "\n",
    "# b+ is for \"blue cross\"\n",
    "plt.plot(epochs, original_val_loss, 'b+', label='Red Original')\n",
    "# \"bo\" is for \"blue dot\"\n",
    "plt.plot(epochs, red_pequena_val_loss, 'bo', label='Red Pequeña')\n",
    "plt.xlabel('Epochs')\n",
    "plt.ylabel('Pérdida Validación')\n",
    "plt.legend()\n",
    "\n",
    "plt.show()"
   ]
  },
  {
   "cell_type": "markdown",
   "metadata": {},
   "source": [
    "\n",
    "Como se puede observar, la red pequeña comienza a sobreajustar más tarde que la original (tras 6 epochs, en vez de 4) y su rendimiento se degrada mucho más lentamente una vez que ha empezado a empeorar.\n",
    "\n",
    "Ahora, por probrar, vamos a añadir una red con mucha más capacidad:"
   ]
  },
  {
   "cell_type": "code",
   "execution_count": 12,
   "metadata": {},
   "outputs": [],
   "source": [
    "red_grande = models.Sequential()\n",
    "red_grande.add(layers.Dense(512, activation='relu', input_shape=(10000,)))\n",
    "red_grande.add(layers.Dense(512, activation='relu'))\n",
    "red_grande.add(layers.Dense(1, activation='sigmoid'))\n",
    "\n",
    "red_grande.compile(optimizer='rmsprop',\n",
    "                     loss='binary_crossentropy',\n",
    "                     metrics=['acc'])"
   ]
  },
  {
   "cell_type": "code",
   "execution_count": 13,
   "metadata": {},
   "outputs": [
    {
     "name": "stdout",
     "output_type": "stream",
     "text": [
      "Train on 25000 samples, validate on 25000 samples\n",
      "Epoch 1/20\n",
      "25000/25000 [==============================] - 10s 386us/step - loss: 0.4630 - acc: 0.7954 - val_loss: 0.2848 - val_acc: 0.8882\n",
      "Epoch 2/20\n",
      "25000/25000 [==============================] - 9s 357us/step - loss: 0.2237 - acc: 0.9120 - val_loss: 0.3084 - val_acc: 0.8730\n",
      "Epoch 3/20\n",
      "25000/25000 [==============================] - 9s 353us/step - loss: 0.1352 - acc: 0.9494 - val_loss: 0.3076 - val_acc: 0.8851\n",
      "Epoch 4/20\n",
      "25000/25000 [==============================] - 9s 363us/step - loss: 0.0763 - acc: 0.9792 - val_loss: 0.4175 - val_acc: 0.8808\n",
      "Epoch 5/20\n",
      "25000/25000 [==============================] - 9s 370us/step - loss: 0.0818 - acc: 0.9856 - val_loss: 0.4809 - val_acc: 0.8818\n",
      "Epoch 6/20\n",
      "25000/25000 [==============================] - 9s 359us/step - loss: 0.0728 - acc: 0.9882 - val_loss: 0.4978 - val_acc: 0.8729\n",
      "Epoch 7/20\n",
      "25000/25000 [==============================] - 9s 379us/step - loss: 0.0017 - acc: 1.0000 - val_loss: 0.6401 - val_acc: 0.8789\n",
      "Epoch 8/20\n",
      "25000/25000 [==============================] - 9s 363us/step - loss: 1.9125e-04 - acc: 1.0000 - val_loss: 0.7594 - val_acc: 0.8787\n",
      "Epoch 9/20\n",
      "25000/25000 [==============================] - 9s 369us/step - loss: 0.1095 - acc: 0.9881 - val_loss: 0.7476 - val_acc: 0.8781\n",
      "Epoch 10/20\n",
      "25000/25000 [==============================] - 9s 364us/step - loss: 5.5737e-04 - acc: 1.0000 - val_loss: 0.7769 - val_acc: 0.8779\n",
      "Epoch 11/20\n",
      "25000/25000 [==============================] - 9s 371us/step - loss: 2.0219e-05 - acc: 1.0000 - val_loss: 0.8623 - val_acc: 0.8781\n",
      "Epoch 12/20\n",
      "25000/25000 [==============================] - 10s 393us/step - loss: 3.3496e-06 - acc: 1.0000 - val_loss: 0.9439 - val_acc: 0.8774\n",
      "Epoch 13/20\n",
      "25000/25000 [==============================] - 9s 369us/step - loss: 5.9520e-07 - acc: 1.0000 - val_loss: 1.0177 - val_acc: 0.8777\n",
      "Epoch 14/20\n",
      "25000/25000 [==============================] - 9s 368us/step - loss: 1.8911e-07 - acc: 1.0000 - val_loss: 1.0676 - val_acc: 0.8779\n",
      "Epoch 15/20\n",
      "25000/25000 [==============================] - 9s 378us/step - loss: 1.2898e-07 - acc: 1.0000 - val_loss: 1.0911 - val_acc: 0.8780\n",
      "Epoch 16/20\n",
      "25000/25000 [==============================] - 9s 366us/step - loss: 1.1806e-07 - acc: 1.0000 - val_loss: 1.1053 - val_acc: 0.8781\n",
      "Epoch 17/20\n",
      "25000/25000 [==============================] - 9s 379us/step - loss: 1.1434e-07 - acc: 1.0000 - val_loss: 1.1139 - val_acc: 0.8780\n",
      "Epoch 18/20\n",
      "25000/25000 [==============================] - 9s 377us/step - loss: 1.1264e-07 - acc: 1.0000 - val_loss: 1.1191 - val_acc: 0.8778\n",
      "Epoch 19/20\n",
      "25000/25000 [==============================] - 9s 373us/step - loss: 1.1174e-07 - acc: 1.0000 - val_loss: 1.1231 - val_acc: 0.8778\n",
      "Epoch 20/20\n",
      "25000/25000 [==============================] - 9s 358us/step - loss: 1.1123e-07 - acc: 1.0000 - val_loss: 1.1267 - val_acc: 0.8778\n"
     ]
    }
   ],
   "source": [
    "entrenamiento_red_grande = red_grande.fit(x_train, y_train,\n",
    "                                     epochs=20,\n",
    "                                     batch_size=512,\n",
    "                                     validation_data=(x_test, y_test))"
   ]
  },
  {
   "cell_type": "markdown",
   "metadata": {},
   "source": [
    "Podemos ponerla también en comparación con la original:"
   ]
  },
  {
   "cell_type": "code",
   "execution_count": 14,
   "metadata": {},
   "outputs": [
    {
     "data": {
      "image/png": "[encoded data removed]",
      "text/plain": [
       "<Figure size 432x288 with 1 Axes>"
      ]
     },
     "metadata": {
      "needs_background": "light"
     },
     "output_type": "display_data"
    }
   ],
   "source": [
    "red_grande_val_loss = entrenamiento_red_grande.history['val_loss']\n",
    "\n",
    "plt.plot(epochs, original_val_loss, 'b+', label='Red Original')\n",
    "plt.plot(epochs, red_grande_val_loss, 'bo', label='Red Grande')\n",
    "plt.xlabel('Epochs')\n",
    "plt.ylabel('Pérdida Validación')\n",
    "plt.legend()\n",
    "\n",
    "plt.show()"
   ]
  },
  {
   "cell_type": "markdown",
   "metadata": {},
   "source": [
    "\n",
    "La red grande comienza a sobreajustar desde el principio, tras la primera iteración, y el sobreajuste es mucho más severo que en la red original. Además, su pérdida de validación presenta también mucho más ruido.\n",
    "\n",
    "Si comparamos las pérdidas de entrenamiento:"
   ]
  },
  {
   "cell_type": "code",
   "execution_count": 15,
   "metadata": {},
   "outputs": [
    {
     "data": {
      "image/png": "[encoded data removed]",
      "text/plain": [
       "<Figure size 432x288 with 1 Axes>"
      ]
     },
     "metadata": {
      "needs_background": "light"
     },
     "output_type": "display_data"
    }
   ],
   "source": [
    "original_train_loss = entrenamiento_original.history['loss']\n",
    "red_grande_train_loss = entrenamiento_red_grande.history['loss']\n",
    "\n",
    "plt.plot(epochs, original_train_loss, 'b+', label='Red Original')\n",
    "plt.plot(epochs, red_grande_train_loss, 'bo', label='Red Grande')\n",
    "plt.xlabel('Epochs')\n",
    "plt.ylabel('Pérdida Entrenamiento')\n",
    "plt.legend()\n",
    "\n",
    "plt.show()"
   ]
  },
  {
   "cell_type": "markdown",
   "metadata": {},
   "source": [
    "Se puede observar que la red grande consigue que su pérdida de entrenamiento sea prácticamente nula muy rápido. Mostrando que, como habíamos dicho anteriormente, cuanto mayor es la capacidad de la red, más rápido modela los datos de entrenamiento a la perfección, pero también más susceptible es al sobreajuste."
   ]
  },
  {
   "cell_type": "markdown",
   "metadata": {},
   "source": [
    "## Regularizando los pesos\n",
    "\n",
    "Principio de _la navaja de Occam_: \"si se dan dos explicaciones distintas para un mismo suceso, la explicación correcta más probable es la más simple, la que hace el menor número de suposiciones adicionales\". \n",
    "\n",
    "Como método que aspira a ser estándar en el avance del conocimiento, este mismo principio también se aplica a los modelos aprendidos por las redes neuronales: si fijamos los datos de entrenamiento y una arquitectura de red, hay múltiples asignaciones de pesos (lo que se traduce en múltiples _modelos_) que podrían explicar los datos, y los modelos más sencillos tienen menos probabilidad de sobreajustar que los más complejos.\n",
    "\n",
    "Un *modelo sencillo* en este contexto es un modelo en el que la distribución de valores de los parámetros que lo definen tiene menos entropía (o un modelo que tiene en total menos parámetros, como vimos en la sección anterior). Por lo tanto, una forma común de mitigar el sobreajuste es poner límites a la complejidad de la red forzando que sus pesos tomen un rango de valores pequeños, lo que hace que la distribución de estos valores sea más _regular_. \n",
    "\n",
    "A este procedimiento, en general, se le llama **regularización de los pesos**, y se consigue añadiendo a la función de pérdida de la red un _coste_ asociado a tener grandes pesos. \n",
    "\n",
    "Este coste aidiconal suele venir dado de dos formas:\n",
    "\n",
    "* **Regularización L1 (Lasso)**: el coste es proporcional al _valor absoluto de los pesos_ (matemáticamente, la norma L1 de los pesos). Suele dar como resultado que muchos pesos tomen el valor 0, por lo que a veces se identifica con un procedimiento de compresión de la red.\n",
    "\n",
    "$$Coste= Loss + \\frac{\\lambda}{2n}\\sum |w|$$\n",
    "\n",
    "* **Regularización L2 (Ridge)**: el coste es proporcional al _cuadrado de los valores de los pesos_ (matemáticamente, la normal L2 de los pesos). En el contexto de las redes neuronales, a esta norma también se le llama _weight decay_, ya que fuerza a que los pesos tiendan a 0.\n",
    "$$Coste= Loss + \\frac{\\lambda}{2n}\\sum |w|^2$$\n",
    "\n",
    "En ambos casos, $\\lambda$ es el factor de regularización aplicado.\n",
    "\n",
    "En Keras, la regularización de los pesos se añade pasando instancias adecuadas de regularizadores a las capas por medio de argumentos específicos. Por ejemplo, si quisiéramos añadir una regularización L2 al modelo anterior:"
   ]
  },
  {
   "cell_type": "code",
   "execution_count": 17,
   "metadata": {},
   "outputs": [],
   "source": [
    "from keras import regularizers\n",
    "\n",
    "red_l2 = models.Sequential()\n",
    "red_l2.add(layers.Dense(16, kernel_regularizer=regularizers.l2(0.001),\n",
    "                          activation='relu', input_shape=(10000,)))\n",
    "red_l2.add(layers.Dense(16, kernel_regularizer=regularizers.l2(0.001),\n",
    "                          activation='relu'))\n",
    "red_l2.add(layers.Dense(1, activation='sigmoid'))\n",
    "\n",
    "red_l2.compile(optimizer='rmsprop',\n",
    "                 loss='binary_crossentropy',\n",
    "                 metrics=['acc'])"
   ]
  },
  {
   "cell_type": "markdown",
   "metadata": {},
   "source": [
    "`l2(0.001)` significa que cada coeficiente de la matriz de pesos de la capa añadirá un total de `0.001 * peso` al valor de pérdida total de la red. Debe tenerse en cuenta que, como esta penalización solo se aplica en tiempo de entrenamiento, la pérdida que se obtiene al regularizar es mucho mayor para el entrenamiento que para el test.\n",
    "\n",
    "El impacto de esta reguarización en nuestro ejemplo sería:"
   ]
  },
  {
   "cell_type": "code",
   "execution_count": 18,
   "metadata": {},
   "outputs": [
    {
     "name": "stdout",
     "output_type": "stream",
     "text": [
      "Train on 25000 samples, validate on 25000 samples\n",
      "Epoch 1/20\n",
      "25000/25000 [==============================] - 7s 261us/step - loss: 0.4864 - acc: 0.8299 - val_loss: 0.3778 - val_acc: 0.8822\n",
      "Epoch 2/20\n",
      "25000/25000 [==============================] - 6s 229us/step - loss: 0.3150 - acc: 0.9044 - val_loss: 0.3368 - val_acc: 0.8859\n",
      "Epoch 3/20\n",
      "25000/25000 [==============================] - 6s 233us/step - loss: 0.2698 - acc: 0.9204 - val_loss: 0.3403 - val_acc: 0.8820\n",
      "Epoch 4/20\n",
      "25000/25000 [==============================] - 6s 243us/step - loss: 0.2518 - acc: 0.9271 - val_loss: 0.3336 - val_acc: 0.8873\n",
      "Epoch 5/20\n",
      "25000/25000 [==============================] - 6s 225us/step - loss: 0.2394 - acc: 0.9314 - val_loss: 0.3926 - val_acc: 0.8636\n",
      "Epoch 6/20\n",
      "25000/25000 [==============================] - 6s 232us/step - loss: 0.2296 - acc: 0.9352 - val_loss: 0.3451 - val_acc: 0.8824\n",
      "Epoch 7/20\n",
      "25000/25000 [==============================] - 6s 232us/step - loss: 0.2248 - acc: 0.9364 - val_loss: 0.3527 - val_acc: 0.8811\n",
      "Epoch 8/20\n",
      "25000/25000 [==============================] - 6s 240us/step - loss: 0.2200 - acc: 0.9410 - val_loss: 0.3724 - val_acc: 0.8750\n",
      "Epoch 9/20\n",
      "25000/25000 [==============================] - 6s 236us/step - loss: 0.2127 - acc: 0.9434 - val_loss: 0.3797 - val_acc: 0.8733\n",
      "Epoch 10/20\n",
      "25000/25000 [==============================] - 6s 226us/step - loss: 0.2105 - acc: 0.9448 - val_loss: 0.3904 - val_acc: 0.8704\n",
      "Epoch 11/20\n",
      "25000/25000 [==============================] - 6s 224us/step - loss: 0.2081 - acc: 0.9456 - val_loss: 0.4028 - val_acc: 0.8672\n",
      "Epoch 12/20\n",
      "25000/25000 [==============================] - 7s 268us/step - loss: 0.2032 - acc: 0.9466 - val_loss: 0.4214 - val_acc: 0.8637\n",
      "Epoch 13/20\n",
      "25000/25000 [==============================] - 7s 296us/step - loss: 0.2004 - acc: 0.9478 - val_loss: 0.4068 - val_acc: 0.8668\n",
      "Epoch 14/20\n",
      "25000/25000 [==============================] - 6s 248us/step - loss: 0.2032 - acc: 0.9460 - val_loss: 0.3980 - val_acc: 0.8706\n",
      "Epoch 15/20\n",
      "25000/25000 [==============================] - 6s 242us/step - loss: 0.1978 - acc: 0.9491 - val_loss: 0.4089 - val_acc: 0.8687\n",
      "Epoch 16/20\n",
      "25000/25000 [==============================] - 7s 280us/step - loss: 0.1950 - acc: 0.9503 - val_loss: 0.3998 - val_acc: 0.8714\n",
      "Epoch 17/20\n",
      "25000/25000 [==============================] - 6s 250us/step - loss: 0.1965 - acc: 0.9490 - val_loss: 0.4028 - val_acc: 0.8696\n",
      "Epoch 18/20\n",
      "25000/25000 [==============================] - 6s 226us/step - loss: 0.1927 - acc: 0.9488 - val_loss: 0.4070 - val_acc: 0.8700\n",
      "Epoch 19/20\n",
      "25000/25000 [==============================] - 6s 227us/step - loss: 0.1909 - acc: 0.9494 - val_loss: 0.4108 - val_acc: 0.8674\n",
      "Epoch 20/20\n",
      "25000/25000 [==============================] - 6s 238us/step - loss: 0.1859 - acc: 0.9523 - val_loss: 0.4147 - val_acc: 0.8690\n"
     ]
    }
   ],
   "source": [
    "entrenamiento_red_l2 = red_l2.fit(x_train, y_train,\n",
    "                             epochs=20,\n",
    "                             batch_size=512,\n",
    "                             validation_data=(x_test, y_test))"
   ]
  },
  {
   "cell_type": "code",
   "execution_count": 19,
   "metadata": {},
   "outputs": [
    {
     "data": {
      "image/png": "[encoded data removed]",
      "text/plain": [
       "<Figure size 432x288 with 1 Axes>"
      ]
     },
     "metadata": {
      "needs_background": "light"
     },
     "output_type": "display_data"
    }
   ],
   "source": [
    "red_l2_val_loss = entrenamiento_red_l2.history['val_loss']\n",
    "\n",
    "plt.plot(epochs, original_val_loss, 'b+', label='Red Original')\n",
    "plt.plot(epochs, red_l2_val_loss, 'bo', label='Red L2-regularizada')\n",
    "plt.xlabel('Epochs')\n",
    "plt.ylabel('Pérdida Validación')\n",
    "plt.legend()\n",
    "\n",
    "plt.show()"
   ]
  },
  {
   "cell_type": "markdown",
   "metadata": {},
   "source": [
    "\n",
    "Como se puede observar, el modelo que hace uso de Regularización L2 se ha hecho mucho más resistente al sobreajuste que el original, incluso teniendo el mismo número de parámetros.\n",
    "\n",
    "En Keras proporciona funciones para usar regularización L2, regularización L1, e incluso una combinación de ambas, como muestra el siguiente chunk:"
   ]
  },
  {
   "cell_type": "code",
   "execution_count": 20,
   "metadata": {},
   "outputs": [
    {
     "data": {
      "text/plain": [
       "<keras.regularizers.L1L2 at 0x2362440c278>"
      ]
     },
     "execution_count": 20,
     "metadata": {},
     "output_type": "execute_result"
    }
   ],
   "source": [
    "from keras import regularizers\n",
    "\n",
    "# Regularización L1\n",
    "regularizers.l1(0.001)\n",
    "\n",
    "# Regularizaciones L1 y L2 simutáneamente\n",
    "regularizers.l1_l2(l1=0.001, l2=0.001)"
   ]
  },
  {
   "cell_type": "markdown",
   "metadata": {},
   "source": [
    "## Dropout\n",
    "\n",
    "**Dropout** es una de las técnicas de regularización más efectivas y más comúnmente utilizadas para las redes neuronales, desarrollada por Hinton y su equipo de estudiantes de la Universidad de Toronto en 2014 (http://jmlr.org/papers/v15/srivastava14a.html). \n",
    "\n",
    "El Dropout, aplicado a una capa, consiste en la _eliminación aleatoria_ (lo que se traduce en poner a 0) de un número de características de salida de la capa durante el entrenamiento:\n",
    "\n",
    "Supongamos que una capa devolviese un vector `[0.2, 0.5, 1.3, 0.8, 1.1]` para una de las muestras de entrada durante el entrenamiento. Tras la aplicación del Dropout, este vector tendrá unas cuantas entradas nulas distribuidas al azar, por ejemplo, `[0, 0.5, 1.3, 0, 1.1]`. \n",
    "\n",
    "![](./imgs/dropout.gif)\n",
    "\n",
    "Esto significa que sus contribuciones a la activación de las neuronas se eliminan temporalmente en la etapa _forwrad_, así como la actualización de cualquiera de sus pesos en la etapa _backward_. Cuando la activación de una neurona se anula, el efecto que pudiera tener en conjunción con otras neuronas con las que está conectada se pierde, por lo que estas otras neuronas han de aprender la misma representación sin considerar su trabajo conjunto, lo que lleva a disponer de representaciones internas más robustas e independientes.\n",
    "\n",
    "La _tasa de dropout_ es la fracción de características que se ponen a 0, y normalmente se ajusta entre 0,2 y 0,5. Y se debe tener en cuenta que, al igual que todas las técnicas de regularización, durante la fase de test no se hace dropout, sino únicamente durante la fase de entrenamiento, que es cuando queremos limitar la capacidad del modelo. Esto conlleva que los valores de salida de la capa durante le test han de reducirse en un factor igual al dropout, con el fin de equilibrar el hecho de que hay más unidades activas que durante el entrenamiento (si no, sería imposible que el modelo respondiese en tiempo de test lo que ha aprendido en el entrenamiento).\n",
    "\n",
    "Es decir, si durante el entrenamiento el resultado es:"
   ]
  },
  {
   "cell_type": "code",
   "execution_count": 21,
   "metadata": {},
   "outputs": [
    {
     "ename": "NameError",
     "evalue": "name 'layer_output' is not defined",
     "output_type": "error",
     "traceback": [
      "\u001b[1;31m---------------------------------------------------------------------------\u001b[0m",
      "\u001b[1;31mNameError\u001b[0m                                 Traceback (most recent call last)",
      "\u001b[1;32m<ipython-input-21-11c4b3245ae1>\u001b[0m in \u001b[0;36m<module>\u001b[1;34m()\u001b[0m\n\u001b[0;32m      1\u001b[0m \u001b[1;31m# Durante el entrenamiento hemos descartado el 50% de las unidades de salida\u001b[0m\u001b[1;33m\u001b[0m\u001b[1;33m\u001b[0m\u001b[0m\n\u001b[1;32m----> 2\u001b[1;33m \u001b[0mlayer_output\u001b[0m \u001b[1;33m*=\u001b[0m \u001b[0mnp\u001b[0m\u001b[1;33m.\u001b[0m\u001b[0mrandint\u001b[0m\u001b[1;33m(\u001b[0m\u001b[1;36m0\u001b[0m\u001b[1;33m,\u001b[0m \u001b[0mhigh\u001b[0m\u001b[1;33m=\u001b[0m\u001b[1;36m2\u001b[0m\u001b[1;33m,\u001b[0m \u001b[0msize\u001b[0m\u001b[1;33m=\u001b[0m\u001b[0mlayer_output\u001b[0m\u001b[1;33m.\u001b[0m\u001b[0mshape\u001b[0m\u001b[1;33m)\u001b[0m\u001b[1;33m\u001b[0m\u001b[0m\n\u001b[0m",
      "\u001b[1;31mNameError\u001b[0m: name 'layer_output' is not defined"
     ]
    }
   ],
   "source": [
    "# Durante el entrenamiento hemos descartado el 50% de las unidades de salida\n",
    "# layer_output *= np.randint(0, high=2, size=layer_output.shape)"
   ]
  },
  {
   "cell_type": "markdown",
   "metadata": {},
   "source": [
    "\n",
    "Entonces en el test hemos de ajustar:"
   ]
  },
  {
   "cell_type": "code",
   "execution_count": null,
   "metadata": {},
   "outputs": [],
   "source": [
    "# En test:\n",
    "# layer_output *= 0.5"
   ]
  },
  {
   "cell_type": "markdown",
   "metadata": {},
   "source": [
    "\n",
    "Como sería incómodo tener que estar considerando este hecho durante el tiempo de test, este proceso se puede implementar haciendo ambas operaciones durante el tiempo de entrenamiento, de forma que no es necesario considerarlo en el momento del test:"
   ]
  },
  {
   "cell_type": "code",
   "execution_count": null,
   "metadata": {},
   "outputs": [],
   "source": [
    "# Durante el entrenamiento:\n",
    "# layer_output *= np.randint(0, high=2, size=layer_output.shape)\n",
    "# Y a continuación escalamos para compensar el efecto del dropout\n",
    "# layer_output /= 0.5"
   ]
  },
  {
   "cell_type": "markdown",
   "metadata": {},
   "source": [
    "\n",
    "Pero, ¿porqué esta técnica reduce el sobreajuste? La idea central es que la introducción de ruido en los valores de salida de una capa puede romper patrones que no son significativos y que la red empezaría a memorizar si no hubiera ruido presente. \n",
    "\n",
    "Para no tener que hacerlo a mano, Keras proporciona este regularizador por medio de capas `Dropout` que se aplican a las salidas de la capa anterior (es decir, que más que un proceso de regularización que se hace dentro de la capa, se convierte en una capa adicional que se encarga de realizar aplicar esta técnica tras ella):"
   ]
  },
  {
   "cell_type": "code",
   "execution_count": null,
   "metadata": {},
   "outputs": [],
   "source": [
    "model.add(layers.Dropout(0.5))"
   ]
  },
  {
   "cell_type": "markdown",
   "metadata": {},
   "source": [
    "Vamos a introducir dos capas `Dropout` en el modelo anterior para ver si reducen el sobreajuste:"
   ]
  },
  {
   "cell_type": "code",
   "execution_count": 22,
   "metadata": {},
   "outputs": [],
   "source": [
    "red_dpt = models.Sequential()\n",
    "red_dpt.add(layers.Dense(16, activation='relu', input_shape=(10000,)))\n",
    "red_dpt.add(layers.Dropout(0.5))\n",
    "red_dpt.add(layers.Dense(16, activation='relu'))\n",
    "red_dpt.add(layers.Dropout(0.5))\n",
    "red_dpt.add(layers.Dense(1, activation='sigmoid'))\n",
    "\n",
    "red_dpt.compile(optimizer='rmsprop',\n",
    "                  loss='binary_crossentropy',\n",
    "                  metrics=['acc'])\n",
    "plot_model(red_dpt, to_file='modelDPT_plot.png', show_shapes=True, show_layer_names=True)"
   ]
  },
  {
   "cell_type": "markdown",
   "metadata": {},
   "source": [
    "![](./imgs/modelDPT_plot.png)"
   ]
  },
  {
   "cell_type": "code",
   "execution_count": 23,
   "metadata": {},
   "outputs": [
    {
     "name": "stdout",
     "output_type": "stream",
     "text": [
      "Train on 25000 samples, validate on 25000 samples\n",
      "Epoch 1/20\n",
      "25000/25000 [==============================] - 7s 272us/step - loss: 0.5906 - acc: 0.6839 - val_loss: 0.4324 - val_acc: 0.8620\n",
      "Epoch 2/20\n",
      "25000/25000 [==============================] - 6s 228us/step - loss: 0.4359 - acc: 0.8186 - val_loss: 0.3475 - val_acc: 0.8706\n",
      "Epoch 3/20\n",
      "25000/25000 [==============================] - 6s 238us/step - loss: 0.3469 - acc: 0.8714 - val_loss: 0.2912 - val_acc: 0.8872\n",
      "Epoch 4/20\n",
      "25000/25000 [==============================] - 6s 229us/step - loss: 0.2881 - acc: 0.8983 - val_loss: 0.2765 - val_acc: 0.8884\n",
      "Epoch 5/20\n",
      "25000/25000 [==============================] - 6s 230us/step - loss: 0.2531 - acc: 0.9136 - val_loss: 0.2802 - val_acc: 0.8884\n",
      "Epoch 6/20\n",
      "25000/25000 [==============================] - 7s 272us/step - loss: 0.2218 - acc: 0.9266 - val_loss: 0.2886 - val_acc: 0.8874\n",
      "Epoch 7/20\n",
      "25000/25000 [==============================] - 6s 232us/step - loss: 0.1967 - acc: 0.9356 - val_loss: 0.3197 - val_acc: 0.8854\n",
      "Epoch 8/20\n",
      "25000/25000 [==============================] - 6s 228us/step - loss: 0.1762 - acc: 0.9428 - val_loss: 0.3310 - val_acc: 0.8854\n",
      "Epoch 9/20\n",
      "25000/25000 [==============================] - 6s 238us/step - loss: 0.1710 - acc: 0.9450 - val_loss: 0.3578 - val_acc: 0.8851\n",
      "Epoch 10/20\n",
      "25000/25000 [==============================] - 6s 240us/step - loss: 0.1509 - acc: 0.9512 - val_loss: 0.3766 - val_acc: 0.8838\n",
      "Epoch 11/20\n",
      "25000/25000 [==============================] - 6s 252us/step - loss: 0.1456 - acc: 0.9532 - val_loss: 0.3937 - val_acc: 0.8817\n",
      "Epoch 12/20\n",
      "25000/25000 [==============================] - 6s 251us/step - loss: 0.1378 - acc: 0.9567 - val_loss: 0.4366 - val_acc: 0.8757\n",
      "Epoch 13/20\n",
      "25000/25000 [==============================] - 6s 230us/step - loss: 0.1241 - acc: 0.9600 - val_loss: 0.4524 - val_acc: 0.8784\n",
      "Epoch 14/20\n",
      "25000/25000 [==============================] - 6s 238us/step - loss: 0.1198 - acc: 0.9606 - val_loss: 0.4472 - val_acc: 0.8766\n",
      "Epoch 15/20\n",
      "25000/25000 [==============================] - 6s 228us/step - loss: 0.1144 - acc: 0.9630 - val_loss: 0.4957 - val_acc: 0.8729\n",
      "Epoch 16/20\n",
      "25000/25000 [==============================] - 6s 228us/step - loss: 0.1138 - acc: 0.9644 - val_loss: 0.5154 - val_acc: 0.8760\n",
      "Epoch 17/20\n",
      "25000/25000 [==============================] - 6s 240us/step - loss: 0.1083 - acc: 0.9658 - val_loss: 0.5371 - val_acc: 0.8746\n",
      "Epoch 18/20\n",
      "25000/25000 [==============================] - 6s 229us/step - loss: 0.1102 - acc: 0.9661 - val_loss: 0.5467 - val_acc: 0.8742\n",
      "Epoch 19/20\n",
      "25000/25000 [==============================] - 6s 248us/step - loss: 0.0974 - acc: 0.9683 - val_loss: 0.5750 - val_acc: 0.8730\n",
      "Epoch 20/20\n",
      "25000/25000 [==============================] - 6s 246us/step - loss: 0.1024 - acc: 0.9696 - val_loss: 0.5727 - val_acc: 0.8710\n"
     ]
    }
   ],
   "source": [
    "entrenamiento_red_dpt = red_dpt.fit(x_train, y_train,\n",
    "                               epochs=20,\n",
    "                               batch_size=512,\n",
    "                               validation_data=(x_test, y_test))"
   ]
  },
  {
   "cell_type": "markdown",
   "metadata": {},
   "source": [
    "Y comparemos los resultados:"
   ]
  },
  {
   "cell_type": "code",
   "execution_count": 24,
   "metadata": {},
   "outputs": [
    {
     "data": {
      "image/png": "[encoded data removed]",
      "text/plain": [
       "<Figure size 432x288 with 1 Axes>"
      ]
     },
     "metadata": {
      "needs_background": "light"
     },
     "output_type": "display_data"
    }
   ],
   "source": [
    "red_dpt_val_loss = entrenamiento_red_dpt.history['val_loss']\n",
    "\n",
    "plt.plot(epochs, original_val_loss, 'b+', label='Red Original')\n",
    "plt.plot(epochs, red_dpt_val_loss, 'bo', label='Red Regularizada Dropout')\n",
    "plt.xlabel('Epochs')\n",
    "plt.ylabel('Pérdida Validación')\n",
    "plt.legend()\n",
    "\n",
    "plt.show()"
   ]
  },
  {
   "cell_type": "markdown",
   "metadata": {},
   "source": [
    "De nuevo, se observa una clara mejoría respecto de la red original."
   ]
  },
  {
   "cell_type": "markdown",
   "metadata": {},
   "source": [
    "### Algunos trucos para Dropout\n",
    "\n",
    "El trabajo original sobre Dropout proporciona algunos resultados experimentales sobre algunos problemas estándar de Machine Learning. Como resultado de estos experimentos, ofrecen algunas heurísticas que pueden ser útiles a la hora de usar esta técnica en la práctica:\n",
    "\n",
    "* Por norma general, usa un valor de dropout bajo, entre 0,2 y 0,5. Un valor de 0,2 puede ser un buen punto de partida. Un valor demasiado bajo apenas tiene efecto, y demasiado alto lleva a un aprendizaje muy pobre.\n",
    "* Usa una red más grande. Se tienen mejores resultados cuando se usa sobre redes grandes, algo que da al modelo la posibilidad de aprender representaciones independientes.\n",
    "* Puedes usar dropout tanto en la capa visible (la de entrada) como en las capas ocultas. La aplicación de dropout en cada una de las capas de la red ha dado buenos resultados.\n",
    "* Usa una tasa de aprendizaje grande con cadencia (_decay_) y un momento grande, por ejemplo, multiplica la tasa por un factor entre 10 y 100 y usa valores de momento de 0,9 a 0,99.\n",
    "* Restringe el tamaño de los pesos de la red. Una tasa de aprendizaje alta puede dar lugar a redes con pesos muy altos, así que aplicar una regularización L1 adicional (con tamaños acotados por 4 o 5) puede mejorar mucho los resultados."
   ]
  },
  {
   "cell_type": "markdown",
   "metadata": {},
   "source": [
    "## Conclusiones\n",
    "\n",
    "En resumen, las formas más comunes de prevenir el sobreajuste en redes neuronales son:\n",
    "\n",
    "* Conseguir más (y más variados) datos de entrenamiento. Si el problema lo permite, quizás se pueda usar alguna técnica artificial de _Data Augmentation_.\n",
    "* Parar el entrenamiento cuando se observa que comienza el sobreajuste. Keras proporciona funciones de _early stopping_ para monitorizar si sucede así.\n",
    "* Reducir la capacidad de la red (número de parámetros).\n",
    "* Añadir regularización a los pesos (penalizando configuraciones con pesos muy grandes o más irregulares).\n",
    "* Añadir dropout (añadir ruido con ceros)."
   ]
  },
  {
   "cell_type": "code",
   "execution_count": null,
   "metadata": {},
   "outputs": [],
   "source": []
  }
 ],
 "metadata": {
  "kernelspec": {
   "display_name": "Python 3",
   "language": "python",
   "name": "python3"
  },
  "language_info": {
   "codemirror_mode": {
    "name": "ipython",
    "version": 3
   },
   "file_extension": ".py",
   "mimetype": "text/x-python",
   "name": "python",
   "nbconvert_exporter": "python",
   "pygments_lexer": "ipython3",
   "version": "3.6.6"
  }
 },
 "nbformat": 4,
 "nbformat_minor": 2
}

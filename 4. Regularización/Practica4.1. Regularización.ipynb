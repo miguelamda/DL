{
  "nbformat": 4,
  "nbformat_minor": 0,
  "metadata": {
    "kernelspec": {
      "display_name": "Python 3",
      "language": "python",
      "name": "python3"
    },
    "language_info": {
      "codemirror_mode": {
        "name": "ipython",
        "version": 3
      },
      "file_extension": ".py",
      "mimetype": "text/x-python",
      "name": "python",
      "nbconvert_exporter": "python",
      "pygments_lexer": "ipython3",
      "version": "3.7.3"
    },
    "colab": {
      "name": "Practica4.1. Regularización.ipynb",
      "provenance": [],
      "toc_visible": true,
      "include_colab_link": true
    }
  },
  "cells": [
    {
      "cell_type": "markdown",
      "metadata": {
        "id": "view-in-github",
        "colab_type": "text"
      },
      "source": [
        "<a href=\"https://colab.research.google.com/github/miguelamda/DL/blob/master/4.%20Regularizaci%C3%B3n/Practica4.1.%20Regularizaci%C3%B3n.ipynb\" target=\"_parent\"><img src=\"https://colab.research.google.com/assets/colab-badge.svg\" alt=\"Open In Colab\"/></a>"
      ]
    },
    {
      "cell_type": "markdown",
      "metadata": {
        "id": "gru4Z6LX5kMh"
      },
      "source": [
        "# Práctica 4.1. Regularización"
      ]
    },
    {
      "cell_type": "code",
      "metadata": {
        "colab": {
          "base_uri": "https://localhost:8080/",
          "height": 35
        },
        "id": "2vASoWfs5kMh",
        "outputId": "3e418ffc-5271-4ed5-e91c-757e7bfc3485"
      },
      "source": [
        "from tensorflow import keras\n",
        "keras.__version__"
      ],
      "execution_count": 1,
      "outputs": [
        {
          "output_type": "execute_result",
          "data": {
            "application/vnd.google.colaboratory.intrinsic+json": {
              "type": "string"
            },
            "text/plain": [
              "'2.4.0'"
            ]
          },
          "metadata": {
            "tags": []
          },
          "execution_count": 1
        }
      ]
    },
    {
      "cell_type": "markdown",
      "metadata": {
        "id": "J6P3Yk8F5kMi"
      },
      "source": [
        "En los ejemplos presentados en los temas anteriores hemos comprobado que en la validación el rendimiento de todos los modelos presenta un máximo tras unas pocas epochs y entonces comienza a degradarse, es decir, que los modelos comienzan a *sobreajustarse* a los datos de entrenamiento sin que haya dado tiempo a extraer patrones suficientemente útiles de ellos para poder ser aplicados sobre datos no vistos.\n",
        "\n",
        "![](https://github.com/miguelamda/DL/blob/master/4.%20Regularizaci%C3%B3n/imgs/TestTraining.png?raw=1)\n",
        "\n",
        "Como hemos comentado más veces, el sobreajuste es común a todos los problemas de ML, y se hace más patente cuanta menor cantidad de datos tengamos para entrenar. Por ello, saber reconocerlo y dar pautas para mitigar sus efectos se convierten en tareas esenciales para obtener buenos resultados en la aplicación de técnicas de ML/DL.\n",
        "\n",
        "El problema fundamental de ML (y, en general, de muchas otras técnicas de la IA) es la tensión existente entre **optimización** y **generalización**, donde la optimización se considera respecto al proceso de ajustar un modelo para conseguir el mejor rendimiento posible sobre los datos de entrenamiento (es donde se concentra la parte de _aprendizaje_ en el  Aprendizaje Automático), y la generalizacion es respecto a lo bien que el modelo entrenado se comporta sobre datos que no ha visto anteriormente. El objetivo, por supuesto, es conseguir una buena generalización, pero es precisamente la parte que no podemos controlar, ya que solo podemos ajustar el modelo en función los datos de entrenamiento.\n",
        "\n",
        "Cuando el entrenamiento empieza, la optimización y la generalización están correlacionadas (sobre todo, teniendo en cuenta que normalmente se comienza con un modelo cuya asignación de pesos es aleatoria): cuanto menor es el error sobre los datos de entrenamiento, menor es sobre los datos de test. En esta fase se dice que el modelo tiene _under-fitting_, es decir, que todavía  puede mejorar porque la red todavía no ha modelado todos los patrones relevantes existentes en los datos de entrenamiento. Pero tras un cierto número de iteraciones sobre los datos de entrenamiento, la generalización deja de mejorar, y las métricas de validación empiezan a empeorar: el modelo comienza a *sobreajustarse* (*overfitting*), es decir, comienza a aprender patrones que son específicos de los datos de entrenamiento pero que no caracterizan otros datos.\n",
        "\n",
        "Para prevenir que un modelo aprenda este tipo de patrones irrelevantes de los datos de entrenamiento, la mejor solución, por supuesto, es conseguir mayor, y lo más variada posible, cantidad de datos de entrenamiento. Es como cualquier proceso de aprendizaje, automático o natural: un modelo entrenado con más datos tendrá más herramientas para extrapolar su aprendizaje a situaciones nuevas. \n",
        "\n",
        "Pero no siempre es posible conseguir más datos, bien porque el suceso del que se han obtenido está fuera de nuestro alcance, o bien porque sea tremendamente costoso preparar un proceso de adquisición de datos adicional. En este caso, y aunque pueda parecer contradictorio, una buena solución es limitar la capacidad de aprendizaje del modelo, bien sea limitando la cantidad de información que el modelo puede almacenar, o añadiendo restricciones al tipo de información que se puede almacenar. Si una red solo puede memorizar un pequeño número de patrones, el proceso de optimización forzará al modelo a enfocarse en los patrones más importantes, aquellos que tienen más opciones de generalizar bien dentro de los datos de entrenamiento y, en consecuencia, es probable que también funcionen mejor en los datos nuevos.\n",
        "\n",
        "El conjunto de técnicas que se han desarrollado para luchar contra el sobreajuste se conoce de forma genérica como **Regularización**.\n",
        "\n",
        "En este tema vamos a revisar algunas de las técnicas más comunes de regularización y aplicarlas de forma práctica para mejorar el modelo de clasificación de opiniones de películas en IMDB que vimos anteriormente."
      ]
    },
    {
      "cell_type": "markdown",
      "metadata": {
        "id": "sccJNXZZ5kMi"
      },
      "source": [
        "Vamos a preparar los datos usados en el módulo anterior para reutilizarlos ahora:"
      ]
    },
    {
      "cell_type": "code",
      "metadata": {
        "id": "XsIot5oR5kMi"
      },
      "source": [
        "from keras.datasets import imdb\n",
        "import numpy as np\n",
        "\n",
        "(train_data, train_labels), (test_data, test_labels) = imdb.load_data(num_words=10000)\n",
        "\n",
        "def vectorize_sequences(sequences, dimension=10000):\n",
        "    # Crea una matriz con todo 0 con shape (len(sequences), dimension)\n",
        "    results = np.zeros((len(sequences), dimension))\n",
        "    for i, sequence in enumerate(sequences):\n",
        "        results[i, sequence] = 1.  # asigna a 1 los índices específicos de results[i]\n",
        "    return results\n",
        "\n",
        "# Vectorizamos training data\n",
        "x_train = vectorize_sequences(train_data)\n",
        "# Vectorizamos test data\n",
        "x_test = vectorize_sequences(test_data)\n",
        "# Vectorizamos labels\n",
        "y_train = np.asarray(train_labels).astype('float32')\n",
        "y_test = np.asarray(test_labels).astype('float32')"
      ],
      "execution_count": 2,
      "outputs": []
    },
    {
      "cell_type": "markdown",
      "metadata": {
        "id": "obarvofZ5kMi"
      },
      "source": [
        "## 1. Data Augmentation\n",
        "\n",
        "Como hemos comentado, la forma más simple de reducir el sobreajuste es incrementando el tamaño del conjunto de entrenamiento. Sin embargo, en ML no suele ser fácil porque a menudo los datos etiquetados son costosos.\n",
        "\n",
        "En general, esta dificultad es insalvable, pero en casos particulares, como cuando trabajamos con imágenes, hay algunas formas de incrementar el tamaño del conjunto de entrenamiento por medio de operaciones básicas: traslación, rotación, escalado, volteado, etc.\n",
        "\n",
        "![](https://github.com/miguelamda/DL/blob/master/4.%20Regularizaci%C3%B3n/imgs/DataAugmentation.png?raw=1)\n",
        "\n",
        "Como esta técnica es mucho más común en el trabajo con imágenes, dejaremos su análisis más detallado al tema en el que trabajemos con Redes Convolucionales, que son especialmente apropiadas para este tipo de problemas."
      ]
    },
    {
      "cell_type": "markdown",
      "metadata": {
        "id": "fJPXqz935kMi"
      },
      "source": [
        "## 2. Parada temprana (early stopping)\n",
        "\n",
        "La parada temprana es un tipo de estrategia basada en validación cruzada de la que hemos hecho uso (manualmente) en ejemplos anteriores: cuando observamos que el rendimiento en validación comienza a empeorar, paramos el entrenamiento del modelo.\n",
        "\n",
        "En keras podemos aplicar esta técnica de forma automática usando funciones  callbacks (es decir, funciones que se pasan a un proceso, como el entrenamiento de un modelo en este caso, y que se llamará internamente). Keras ya provee funciones para ello, como por ejemplo:"
      ]
    },
    {
      "cell_type": "code",
      "metadata": {
        "id": "wQG4dHED5kMi"
      },
      "source": [
        "from keras.callbacks import EarlyStopping\n",
        "\n",
        "early_stopping = EarlyStopping(monitor='val_loss', patience=5)"
      ],
      "execution_count": 3,
      "outputs": []
    },
    {
      "cell_type": "markdown",
      "metadata": {
        "id": "wJhhaFFW5kMi"
      },
      "source": [
        "En esta función, `monitor` representa la métrica que debe ser monitorizada (`val_err` es el error de validación). `Patience` denota el número de epochs consecutivas que se pueden dejar pasar sin que se haya registrado una mejoría, si se superan, el entrenamiento se detiene. Probemos esto con la red que usamos en la práctica anterior:"
      ]
    },
    {
      "cell_type": "code",
      "metadata": {
        "colab": {
          "base_uri": "https://localhost:8080/"
        },
        "id": "rLa45KRwBkLv",
        "outputId": "c64309a0-a56b-45f5-b311-f4284e9d25e3"
      },
      "source": [
        "from keras import models\n",
        "from keras import layers\n",
        "\n",
        "red_original = models.Sequential()\n",
        "red_original.add(layers.Dense(16, activation='relu', input_shape=(10000,)))\n",
        "red_original.add(layers.Dense(16, activation='relu'))\n",
        "red_original.add(layers.Dense(1, activation='sigmoid'))\n",
        "\n",
        "red_original.compile(optimizer='rmsprop',\n",
        "                       loss='binary_crossentropy',\n",
        "                       metrics=['acc'])\n",
        "\n",
        "# le pasamos al método fit el callback para hacer earlystopping\n",
        "red_original.fit(x_train, y_train,\n",
        "                 epochs=20, batch_size=512,\n",
        "                 validation_data=(x_test, y_test),\n",
        "                 callbacks=[early_stopping],  #se le puede pasar más de un callback\n",
        "                 verbose=1) "
      ],
      "execution_count": 4,
      "outputs": [
        {
          "output_type": "stream",
          "text": [
            "Epoch 1/20\n",
            "49/49 [==============================] - 2s 37ms/step - loss: 0.4397 - acc: 0.8222 - val_loss: 0.3441 - val_acc: 0.8692\n",
            "Epoch 2/20\n",
            "49/49 [==============================] - 1s 22ms/step - loss: 0.2525 - acc: 0.9100 - val_loss: 0.2980 - val_acc: 0.8825\n",
            "Epoch 3/20\n",
            "49/49 [==============================] - 1s 23ms/step - loss: 0.1948 - acc: 0.9311 - val_loss: 0.2831 - val_acc: 0.8876\n",
            "Epoch 4/20\n",
            "49/49 [==============================] - 1s 23ms/step - loss: 0.1658 - acc: 0.9417 - val_loss: 0.3180 - val_acc: 0.8752\n",
            "Epoch 5/20\n",
            "49/49 [==============================] - 1s 23ms/step - loss: 0.1442 - acc: 0.9499 - val_loss: 0.3330 - val_acc: 0.8727\n",
            "Epoch 6/20\n",
            "49/49 [==============================] - 1s 24ms/step - loss: 0.1243 - acc: 0.9563 - val_loss: 0.3662 - val_acc: 0.8690\n",
            "Epoch 7/20\n",
            "49/49 [==============================] - 1s 23ms/step - loss: 0.1084 - acc: 0.9627 - val_loss: 0.3677 - val_acc: 0.8728\n",
            "Epoch 8/20\n",
            "49/49 [==============================] - 1s 22ms/step - loss: 0.0941 - acc: 0.9682 - val_loss: 0.4003 - val_acc: 0.8660\n"
          ],
          "name": "stdout"
        },
        {
          "output_type": "execute_result",
          "data": {
            "text/plain": [
              "<tensorflow.python.keras.callbacks.History at 0x7f93ba7ce828>"
            ]
          },
          "metadata": {
            "tags": []
          },
          "execution_count": 4
        }
      ]
    },
    {
      "cell_type": "markdown",
      "metadata": {
        "id": "JjTY6ROjEKWU"
      },
      "source": [
        "Puedes observar que se ha detenido el entrenamiento de forma automática en la época 8, ya que el error cometido sobre el conjunto de validación se iba incrementando desde la época 4."
      ]
    },
    {
      "cell_type": "markdown",
      "metadata": {
        "id": "7V4jFDaI5kMi"
      },
      "source": [
        "## 3. Reduciendo el tamaño de la red\n",
        "\n",
        "La forma más sencilla de evitar el sobreajuste es reducir el tamaño del modelo, es decir, el número de parámetros ajustables por él (que viene  determinado por el número de capas y el número de unidades por capa). \n",
        "\n",
        "En Deep Learning, el número de parámetros ajustables en un modelo se denomina a menudo **capacidad del modelo**. Intuitivamente, un modelo con más parámetros tendrá más *capacidad de memorización* y, por tanto, podrá usar su aprendizaje para construir un diccionario que asocia perfectamente cada muestra de entrenamiento con su salida esperada. Obviamente, un aprendizaje basado en la memorización no tiene posibilidades de generalizar correctamente. \n",
        "\n",
        "Por ejemplo, un modelo con 500.000 parámetros binarios podría fácilmente aprender la clase de cada dígito en el problema MNIST: sólo necesitaríamos 10 parámetros binarios para cada uno de los 50.000 dígitos. Un modelo de este tipo sería inútil para clasificar nuevas muestras de dígitos si éstas presentan diferencias sustanciales, porque no ha extraido patrones que pueda usar en otros casos, sino solo ha memorizado las características propias de cada dato visto en el entrenamiento. \n",
        "\n",
        "Recordemos un hecho fundamental: los modelos de Deep Learning (debido al número de parámetros que tienen) suelen ser buenos para adaptarse a los datos de entrenamiento, pero el verdadero desafío del aprendizaje es la generalización, no el ajuste perfecto.\n",
        "\n",
        "Sin embargo, si la red tiene recursos limitados para memorizar, no podrá construir ese diccionario de una forma satisfactoria (salvo que haya pocos datos de entrenamiento) y, en consecuencia, para minimizar la pérdida durante el entrenamiento tendrá que recurrir al aprendizaje de patrones (que no son más que representaciones comprimidas) que le permitan ajustarse al mayor número posible de datos vistos. Este es precisamente el tipo de representaciones que interesa. \n",
        "\n",
        "No podemos ser muy extremistas, al mismo tiempo que limitamos la capacidad de almacenamiento del modelo, ha de tenerse en cuenta que se deben utilizar modelos que tengan suficientes parámetros para que la complejidad de la estructura aprendida por el modelo no sea demasiado simple, es decir, hay que llegar a un equilibrio entre un \"modelo memorizante\" y un \"modelo inútil\".\n",
        "\n",
        "Por desgracia, no existe una fórmula mágica para determinar cuál es el número correcto de capas, o cuál es el tamaño correcto para cada capa, por lo que habrá que evaluar una colección de arquitecturas diferentes para encontrar aquella que es más adecuada al problema que se quiere resolver y a los datos que tenemos de él. El flujo de trabajo general para encontrar un tamaño apropiado es comenzar con relativamente pocas capas y aumentar el tamaño de las mismas, o añadir nuevas capas, hasta que se obtenga un rendimiento decreciente en la pérdida en validación (no en entrenamiento, que, salvo casos extraños, siempre tenderá a mejorar).\n",
        "\n",
        "Probemos esto en nuestra red de clasificación de opiniones de películas. De nuevo, la red original era:"
      ]
    },
    {
      "cell_type": "code",
      "metadata": {
        "colab": {
          "base_uri": "https://localhost:8080/",
          "height": 422
        },
        "id": "Myziwo055kMi",
        "outputId": "c14da6d5-6731-44c7-cced-087f2ee3627d"
      },
      "source": [
        "from keras import models\n",
        "from keras import layers\n",
        "from keras.utils.vis_utils import plot_model\n",
        "\n",
        "red_original = models.Sequential()\n",
        "red_original.add(layers.Dense(16, activation='relu', input_shape=(10000,)))\n",
        "red_original.add(layers.Dense(16, activation='relu'))\n",
        "red_original.add(layers.Dense(1, activation='sigmoid'))\n",
        "\n",
        "red_original.compile(optimizer='rmsprop',\n",
        "                       loss='binary_crossentropy',\n",
        "                       metrics=['acc'])\n",
        "\n",
        "plot_model(red_original, to_file='IMDBModel_plot.png', show_shapes=True, show_layer_names=True)\n"
      ],
      "execution_count": 5,
      "outputs": [
        {
          "output_type": "execute_result",
          "data": {
            "image/png": "[encoded data removed]",
            "text/plain": [
              "<IPython.core.display.Image object>"
            ]
          },
          "metadata": {
            "tags": []
          },
          "execution_count": 5
        }
      ]
    },
    {
      "cell_type": "markdown",
      "metadata": {
        "id": "792lNuh_5kMi"
      },
      "source": [
        "<!-- ya deberías tener configurado el sistema para imprimir el modelo desde keras. Si aún no, puedes descomentar esta línea:\n",
        "![](./imgs/IMDBModel_plot.png)-->\n",
        "\n",
        "Como hemos comentado, vamos a comenzar reduciendo el tamaño de la red y comprobando cómo se comporta con la reducción:"
      ]
    },
    {
      "cell_type": "code",
      "metadata": {
        "colab": {
          "base_uri": "https://localhost:8080/",
          "height": 422
        },
        "id": "-nxMjAFu5kMi",
        "outputId": "eddfc19e-f30c-4faf-9a02-89ec3bbd3c95"
      },
      "source": [
        "red_pequena = models.Sequential()\n",
        "red_pequena.add(layers.Dense(4, activation='relu', input_shape=(10000,)))\n",
        "red_pequena.add(layers.Dense(4, activation='relu'))\n",
        "red_pequena.add(layers.Dense(1, activation='sigmoid'))\n",
        "\n",
        "red_pequena.compile(optimizer='rmsprop',\n",
        "                      loss='binary_crossentropy',\n",
        "                      metrics=['acc'])\n",
        "\n",
        "plot_model(red_pequena, to_file='IMDBModelPeq_plot.png', show_shapes=True, show_layer_names=True)"
      ],
      "execution_count": 6,
      "outputs": [
        {
          "output_type": "execute_result",
          "data": {
            "image/png": "[encoded data removed]",
            "text/plain": [
              "<IPython.core.display.Image object>"
            ]
          },
          "metadata": {
            "tags": []
          },
          "execution_count": 6
        }
      ]
    },
    {
      "cell_type": "markdown",
      "metadata": {
        "id": "P8k2UmDcGovq"
      },
      "source": [
        "Podemos observar, con el método summary, que el número de parámetros en cada capa se ve drásticamente reducido:"
      ]
    },
    {
      "cell_type": "code",
      "metadata": {
        "colab": {
          "base_uri": "https://localhost:8080/"
        },
        "id": "kHdj4qQdGtsI",
        "outputId": "a8496e88-b740-49c9-a8e9-b23951e17f55"
      },
      "source": [
        "red_original.summary()"
      ],
      "execution_count": 7,
      "outputs": [
        {
          "output_type": "stream",
          "text": [
            "Model: \"sequential_1\"\n",
            "_________________________________________________________________\n",
            "Layer (type)                 Output Shape              Param #   \n",
            "=================================================================\n",
            "dense_3 (Dense)              (None, 16)                160016    \n",
            "_________________________________________________________________\n",
            "dense_4 (Dense)              (None, 16)                272       \n",
            "_________________________________________________________________\n",
            "dense_5 (Dense)              (None, 1)                 17        \n",
            "=================================================================\n",
            "Total params: 160,305\n",
            "Trainable params: 160,305\n",
            "Non-trainable params: 0\n",
            "_________________________________________________________________\n"
          ],
          "name": "stdout"
        }
      ]
    },
    {
      "cell_type": "code",
      "metadata": {
        "colab": {
          "base_uri": "https://localhost:8080/"
        },
        "id": "E13mibYXGwkJ",
        "outputId": "fd367a92-825a-42a0-afe7-aa5eeadc7506"
      },
      "source": [
        "red_pequena.summary()"
      ],
      "execution_count": 8,
      "outputs": [
        {
          "output_type": "stream",
          "text": [
            "Model: \"sequential_2\"\n",
            "_________________________________________________________________\n",
            "Layer (type)                 Output Shape              Param #   \n",
            "=================================================================\n",
            "dense_6 (Dense)              (None, 4)                 40004     \n",
            "_________________________________________________________________\n",
            "dense_7 (Dense)              (None, 4)                 20        \n",
            "_________________________________________________________________\n",
            "dense_8 (Dense)              (None, 1)                 5         \n",
            "=================================================================\n",
            "Total params: 40,029\n",
            "Trainable params: 40,029\n",
            "Non-trainable params: 0\n",
            "_________________________________________________________________\n"
          ],
          "name": "stdout"
        }
      ]
    },
    {
      "cell_type": "markdown",
      "metadata": {
        "id": "DXKsRg0Q5kMi"
      },
      "source": [
        "<!-- ya deberías tener configurado el sistema para imprimir el modelo desde keras. Si aún no, puedes descomentar esta línea:\n",
        "![](./imgs/IMDBModelPeq_plot.png)-->\n",
        "\n",
        "Vamos a comparar los resultados de pérdida en validación de ambas redes (recuerda que cuanto menor es la pérdida en validación, mejor es el modelo)."
      ]
    },
    {
      "cell_type": "code",
      "metadata": {
        "colab": {
          "base_uri": "https://localhost:8080/"
        },
        "id": "JiAYca6W5kMi",
        "outputId": "156ab66f-095e-42bc-fc89-5b4265b2144d"
      },
      "source": [
        "entrenamiento_original = red_original.fit(x_train, y_train,\n",
        "                                   epochs=20,\n",
        "                                   batch_size=512,\n",
        "                                   validation_data=(x_test, y_test))"
      ],
      "execution_count": 9,
      "outputs": [
        {
          "output_type": "stream",
          "text": [
            "Epoch 1/20\n",
            "49/49 [==============================] - 2s 34ms/step - loss: 0.4617 - acc: 0.8180 - val_loss: 0.3375 - val_acc: 0.8816\n",
            "Epoch 2/20\n",
            "49/49 [==============================] - 1s 22ms/step - loss: 0.2603 - acc: 0.9097 - val_loss: 0.2873 - val_acc: 0.8862\n",
            "Epoch 3/20\n",
            "49/49 [==============================] - 1s 22ms/step - loss: 0.2004 - acc: 0.9280 - val_loss: 0.3081 - val_acc: 0.8748\n",
            "Epoch 4/20\n",
            "49/49 [==============================] - 1s 23ms/step - loss: 0.1675 - acc: 0.9404 - val_loss: 0.2909 - val_acc: 0.8843\n",
            "Epoch 5/20\n",
            "49/49 [==============================] - 1s 23ms/step - loss: 0.1443 - acc: 0.9490 - val_loss: 0.3085 - val_acc: 0.8812\n",
            "Epoch 6/20\n",
            "49/49 [==============================] - 1s 23ms/step - loss: 0.1276 - acc: 0.9556 - val_loss: 0.3314 - val_acc: 0.8767\n",
            "Epoch 7/20\n",
            "49/49 [==============================] - 1s 23ms/step - loss: 0.1125 - acc: 0.9623 - val_loss: 0.3585 - val_acc: 0.8716\n",
            "Epoch 8/20\n",
            "49/49 [==============================] - 1s 22ms/step - loss: 0.0996 - acc: 0.9663 - val_loss: 0.4080 - val_acc: 0.8621\n",
            "Epoch 9/20\n",
            "49/49 [==============================] - 1s 22ms/step - loss: 0.0868 - acc: 0.9714 - val_loss: 0.4171 - val_acc: 0.8661\n",
            "Epoch 10/20\n",
            "49/49 [==============================] - 1s 22ms/step - loss: 0.0786 - acc: 0.9741 - val_loss: 0.4398 - val_acc: 0.8640\n",
            "Epoch 11/20\n",
            "49/49 [==============================] - 1s 22ms/step - loss: 0.0691 - acc: 0.9780 - val_loss: 0.4715 - val_acc: 0.8624\n",
            "Epoch 12/20\n",
            "49/49 [==============================] - 1s 22ms/step - loss: 0.0593 - acc: 0.9819 - val_loss: 0.5034 - val_acc: 0.8597\n",
            "Epoch 13/20\n",
            "49/49 [==============================] - 1s 21ms/step - loss: 0.0521 - acc: 0.9835 - val_loss: 0.6513 - val_acc: 0.8400\n",
            "Epoch 14/20\n",
            "49/49 [==============================] - 1s 23ms/step - loss: 0.0457 - acc: 0.9863 - val_loss: 0.5750 - val_acc: 0.8555\n",
            "Epoch 15/20\n",
            "49/49 [==============================] - 1s 23ms/step - loss: 0.0394 - acc: 0.9887 - val_loss: 0.7645 - val_acc: 0.8342\n",
            "Epoch 16/20\n",
            "49/49 [==============================] - 1s 22ms/step - loss: 0.0345 - acc: 0.9905 - val_loss: 0.6412 - val_acc: 0.8521\n",
            "Epoch 17/20\n",
            "49/49 [==============================] - 1s 23ms/step - loss: 0.0295 - acc: 0.9917 - val_loss: 0.7013 - val_acc: 0.8484\n",
            "Epoch 18/20\n",
            "49/49 [==============================] - 1s 22ms/step - loss: 0.0262 - acc: 0.9932 - val_loss: 0.7146 - val_acc: 0.8507\n",
            "Epoch 19/20\n",
            "49/49 [==============================] - 1s 23ms/step - loss: 0.0232 - acc: 0.9938 - val_loss: 0.7605 - val_acc: 0.8486\n",
            "Epoch 20/20\n",
            "49/49 [==============================] - 1s 22ms/step - loss: 0.0181 - acc: 0.9956 - val_loss: 0.8051 - val_acc: 0.8473\n"
          ],
          "name": "stdout"
        }
      ]
    },
    {
      "cell_type": "code",
      "metadata": {
        "colab": {
          "base_uri": "https://localhost:8080/"
        },
        "id": "4-ypUoFN5kMj",
        "outputId": "166b3caf-586d-4d18-da5a-0579c8b50ccb"
      },
      "source": [
        "entrenamiento_red_pequena = red_pequena.fit(x_train, y_train,\n",
        "                                       epochs=20,\n",
        "                                       batch_size=512,\n",
        "                                       validation_data=(x_test, y_test))"
      ],
      "execution_count": 10,
      "outputs": [
        {
          "output_type": "stream",
          "text": [
            "Epoch 1/20\n",
            "49/49 [==============================] - 3s 52ms/step - loss: 0.5466 - acc: 0.8086 - val_loss: 0.4467 - val_acc: 0.8662\n",
            "Epoch 2/20\n",
            "49/49 [==============================] - 1s 21ms/step - loss: 0.3618 - acc: 0.8934 - val_loss: 0.3468 - val_acc: 0.8798\n",
            "Epoch 3/20\n",
            "49/49 [==============================] - 1s 20ms/step - loss: 0.2700 - acc: 0.9131 - val_loss: 0.2957 - val_acc: 0.8892\n",
            "Epoch 4/20\n",
            "49/49 [==============================] - 1s 20ms/step - loss: 0.2184 - acc: 0.9253 - val_loss: 0.2827 - val_acc: 0.8876\n",
            "Epoch 5/20\n",
            "49/49 [==============================] - 1s 20ms/step - loss: 0.1870 - acc: 0.9366 - val_loss: 0.2779 - val_acc: 0.8897\n",
            "Epoch 6/20\n",
            "49/49 [==============================] - 1s 20ms/step - loss: 0.1658 - acc: 0.9436 - val_loss: 0.2832 - val_acc: 0.8875\n",
            "Epoch 7/20\n",
            "49/49 [==============================] - 1s 20ms/step - loss: 0.1502 - acc: 0.9500 - val_loss: 0.2921 - val_acc: 0.8850\n",
            "Epoch 8/20\n",
            "49/49 [==============================] - 1s 20ms/step - loss: 0.1368 - acc: 0.9544 - val_loss: 0.3020 - val_acc: 0.8834\n",
            "Epoch 9/20\n",
            "49/49 [==============================] - 1s 20ms/step - loss: 0.1249 - acc: 0.9591 - val_loss: 0.3216 - val_acc: 0.8783\n",
            "Epoch 10/20\n",
            "49/49 [==============================] - 1s 20ms/step - loss: 0.1151 - acc: 0.9632 - val_loss: 0.3329 - val_acc: 0.8770\n",
            "Epoch 11/20\n",
            "49/49 [==============================] - 1s 20ms/step - loss: 0.1067 - acc: 0.9658 - val_loss: 0.3443 - val_acc: 0.8757\n",
            "Epoch 12/20\n",
            "49/49 [==============================] - 1s 20ms/step - loss: 0.0992 - acc: 0.9689 - val_loss: 0.3680 - val_acc: 0.8711\n",
            "Epoch 13/20\n",
            "49/49 [==============================] - 1s 19ms/step - loss: 0.0924 - acc: 0.9712 - val_loss: 0.3795 - val_acc: 0.8696\n",
            "Epoch 14/20\n",
            "49/49 [==============================] - 1s 20ms/step - loss: 0.0868 - acc: 0.9738 - val_loss: 0.4078 - val_acc: 0.8641\n",
            "Epoch 15/20\n",
            "49/49 [==============================] - 1s 20ms/step - loss: 0.0808 - acc: 0.9758 - val_loss: 0.4105 - val_acc: 0.8673\n",
            "Epoch 16/20\n",
            "49/49 [==============================] - 1s 20ms/step - loss: 0.0751 - acc: 0.9792 - val_loss: 0.4303 - val_acc: 0.8653\n",
            "Epoch 17/20\n",
            "49/49 [==============================] - 1s 20ms/step - loss: 0.0695 - acc: 0.9808 - val_loss: 0.4715 - val_acc: 0.8574\n",
            "Epoch 18/20\n",
            "49/49 [==============================] - 1s 21ms/step - loss: 0.0655 - acc: 0.9822 - val_loss: 0.4712 - val_acc: 0.8612\n",
            "Epoch 19/20\n",
            "49/49 [==============================] - 1s 20ms/step - loss: 0.0611 - acc: 0.9837 - val_loss: 0.5001 - val_acc: 0.8574\n",
            "Epoch 20/20\n",
            "49/49 [==============================] - 1s 20ms/step - loss: 0.0568 - acc: 0.9860 - val_loss: 0.5143 - val_acc: 0.8583\n"
          ],
          "name": "stdout"
        }
      ]
    },
    {
      "cell_type": "code",
      "metadata": {
        "id": "0Bfbp-Aq5kMj"
      },
      "source": [
        "epochs = range(1, 21)\n",
        "original_val_loss = entrenamiento_original.history['val_loss']\n",
        "red_pequena_val_loss = entrenamiento_red_pequena.history['val_loss']"
      ],
      "execution_count": 11,
      "outputs": []
    },
    {
      "cell_type": "code",
      "metadata": {
        "colab": {
          "base_uri": "https://localhost:8080/",
          "height": 279
        },
        "id": "GmQyQxqm5kMj",
        "outputId": "dac70ce8-ad8d-4796-9d66-c6f56fd15a18"
      },
      "source": [
        "import matplotlib.pyplot as plt\n",
        "\n",
        "# b+ es para \"blue cross\" (cruz azul)\n",
        "plt.plot(epochs, original_val_loss, 'b+', label='Red Original')\n",
        "# \"bo\" es pra \"blue dot\" (punto azul)\n",
        "plt.plot(epochs, red_pequena_val_loss, 'bo', label='Red Pequeña')\n",
        "plt.xlabel('Epochs')\n",
        "plt.ylabel('Pérdida Validación')\n",
        "plt.legend()\n",
        "\n",
        "plt.show()"
      ],
      "execution_count": 12,
      "outputs": [
        {
          "output_type": "display_data",
          "data": {
            "image/png": "[encoded data removed]",
            "text/plain": [
              "<Figure size 432x288 with 1 Axes>"
            ]
          },
          "metadata": {
            "tags": [],
            "needs_background": "light"
          }
        }
      ]
    },
    {
      "cell_type": "markdown",
      "metadata": {
        "id": "tlEQAV905kMj"
      },
      "source": [
        "\n",
        "Como se puede observar, la red pequeña comienza a sobreajustar más tarde que la original (tras 6 epochs, en vez de 4) y su rendimiento se degrada mucho más lentamente una vez que ha empezado a empeorar.\n",
        "\n",
        "Ahora, por probrar, vamos a añadir una red con mucha más capacidad:"
      ]
    },
    {
      "cell_type": "code",
      "metadata": {
        "colab": {
          "base_uri": "https://localhost:8080/"
        },
        "id": "UPxwcCcq5kMj",
        "outputId": "524a852d-93db-4934-f33c-5d7789dac0ab"
      },
      "source": [
        "red_grande = models.Sequential()\n",
        "red_grande.add(layers.Dense(512, activation='relu', input_shape=(10000,)))\n",
        "red_grande.add(layers.Dense(512, activation='relu'))\n",
        "red_grande.add(layers.Dense(1, activation='sigmoid'))\n",
        "\n",
        "red_grande.compile(optimizer='rmsprop',\n",
        "                     loss='binary_crossentropy',\n",
        "                     metrics=['acc'])\n",
        "\n",
        "red_grande.summary()"
      ],
      "execution_count": 13,
      "outputs": [
        {
          "output_type": "stream",
          "text": [
            "Model: \"sequential_3\"\n",
            "_________________________________________________________________\n",
            "Layer (type)                 Output Shape              Param #   \n",
            "=================================================================\n",
            "dense_9 (Dense)              (None, 512)               5120512   \n",
            "_________________________________________________________________\n",
            "dense_10 (Dense)             (None, 512)               262656    \n",
            "_________________________________________________________________\n",
            "dense_11 (Dense)             (None, 1)                 513       \n",
            "=================================================================\n",
            "Total params: 5,383,681\n",
            "Trainable params: 5,383,681\n",
            "Non-trainable params: 0\n",
            "_________________________________________________________________\n"
          ],
          "name": "stdout"
        }
      ]
    },
    {
      "cell_type": "code",
      "metadata": {
        "colab": {
          "base_uri": "https://localhost:8080/"
        },
        "id": "ME_G1BLa5kMj",
        "outputId": "95422c15-2877-4f5f-d394-234c19c7b423"
      },
      "source": [
        "entrenamiento_red_grande = red_grande.fit(x_train, y_train,\n",
        "                                     epochs=20,\n",
        "                                     batch_size=512,\n",
        "                                     validation_data=(x_test, y_test))"
      ],
      "execution_count": 14,
      "outputs": [
        {
          "output_type": "stream",
          "text": [
            "Epoch 1/20\n",
            "49/49 [==============================] - 14s 281ms/step - loss: 0.4615 - acc: 0.8045 - val_loss: 0.3558 - val_acc: 0.8495\n",
            "Epoch 2/20\n",
            "49/49 [==============================] - 14s 278ms/step - loss: 0.2315 - acc: 0.9093 - val_loss: 0.2800 - val_acc: 0.8847\n",
            "Epoch 3/20\n",
            "49/49 [==============================] - 14s 276ms/step - loss: 0.1356 - acc: 0.9488 - val_loss: 0.3168 - val_acc: 0.8796\n",
            "Epoch 4/20\n",
            "49/49 [==============================] - 13s 269ms/step - loss: 0.0700 - acc: 0.9761 - val_loss: 0.4637 - val_acc: 0.8447\n",
            "Epoch 5/20\n",
            "49/49 [==============================] - 13s 269ms/step - loss: 0.0711 - acc: 0.9882 - val_loss: 0.3942 - val_acc: 0.8786\n",
            "Epoch 6/20\n",
            "49/49 [==============================] - 13s 271ms/step - loss: 0.0035 - acc: 0.9997 - val_loss: 0.6945 - val_acc: 0.8803\n",
            "Epoch 7/20\n",
            "49/49 [==============================] - 14s 276ms/step - loss: 0.1176 - acc: 0.9873 - val_loss: 0.6045 - val_acc: 0.8728\n",
            "Epoch 8/20\n",
            "49/49 [==============================] - 13s 270ms/step - loss: 6.4852e-04 - acc: 0.9999 - val_loss: 0.7318 - val_acc: 0.8807\n",
            "Epoch 9/20\n",
            "49/49 [==============================] - 14s 276ms/step - loss: 1.0682e-04 - acc: 1.0000 - val_loss: 0.9019 - val_acc: 0.8791\n",
            "Epoch 10/20\n",
            "49/49 [==============================] - 17s 355ms/step - loss: 0.1580 - acc: 0.9900 - val_loss: 0.8452 - val_acc: 0.8747\n",
            "Epoch 11/20\n",
            "49/49 [==============================] - 13s 274ms/step - loss: 5.2682e-05 - acc: 1.0000 - val_loss: 0.8361 - val_acc: 0.8771\n",
            "Epoch 12/20\n",
            "49/49 [==============================] - 13s 272ms/step - loss: 1.5469e-05 - acc: 1.0000 - val_loss: 0.9240 - val_acc: 0.8775\n",
            "Epoch 13/20\n",
            "49/49 [==============================] - 14s 278ms/step - loss: 4.8118e-06 - acc: 1.0000 - val_loss: 1.0570 - val_acc: 0.8772\n",
            "Epoch 14/20\n",
            "49/49 [==============================] - 14s 280ms/step - loss: 1.0150e-06 - acc: 1.0000 - val_loss: 1.2089 - val_acc: 0.8768\n",
            "Epoch 15/20\n",
            "49/49 [==============================] - 13s 273ms/step - loss: 2.0326e-07 - acc: 1.0000 - val_loss: 1.3455 - val_acc: 0.8765\n",
            "Epoch 16/20\n",
            "49/49 [==============================] - 13s 275ms/step - loss: 4.8428e-08 - acc: 1.0000 - val_loss: 1.4541 - val_acc: 0.8771\n",
            "Epoch 17/20\n",
            "49/49 [==============================] - 14s 280ms/step - loss: 2.0713e-08 - acc: 1.0000 - val_loss: 1.5039 - val_acc: 0.8764\n",
            "Epoch 18/20\n",
            "49/49 [==============================] - 14s 279ms/step - loss: 1.2877e-08 - acc: 1.0000 - val_loss: 1.5356 - val_acc: 0.8768\n",
            "Epoch 19/20\n",
            "49/49 [==============================] - 14s 280ms/step - loss: 9.3448e-09 - acc: 1.0000 - val_loss: 1.5574 - val_acc: 0.8770\n",
            "Epoch 20/20\n",
            "49/49 [==============================] - 13s 271ms/step - loss: 7.3523e-09 - acc: 1.0000 - val_loss: 1.5748 - val_acc: 0.8769\n"
          ],
          "name": "stdout"
        }
      ]
    },
    {
      "cell_type": "markdown",
      "metadata": {
        "id": "Ojz-WfcG5kMj"
      },
      "source": [
        "Podemos ponerla también en comparación con la original:"
      ]
    },
    {
      "cell_type": "code",
      "metadata": {
        "colab": {
          "base_uri": "https://localhost:8080/",
          "height": 279
        },
        "id": "LJyKjG1R5kMj",
        "outputId": "a028884e-780c-455d-e49c-a1911116e7e8"
      },
      "source": [
        "red_grande_val_loss = entrenamiento_red_grande.history['val_loss']\n",
        "\n",
        "plt.plot(epochs, original_val_loss, 'b+', label='Red Original')\n",
        "plt.plot(epochs, red_grande_val_loss, 'bo', label='Red Grande')\n",
        "plt.xlabel('Epochs')\n",
        "plt.ylabel('Pérdida Validación')\n",
        "plt.legend()\n",
        "\n",
        "plt.show()"
      ],
      "execution_count": 15,
      "outputs": [
        {
          "output_type": "display_data",
          "data": {
            "image/png": "[encoded data removed]",
            "text/plain": [
              "<Figure size 432x288 with 1 Axes>"
            ]
          },
          "metadata": {
            "tags": [],
            "needs_background": "light"
          }
        }
      ]
    },
    {
      "cell_type": "markdown",
      "metadata": {
        "id": "I2XbZu5v5kMj"
      },
      "source": [
        "\n",
        "La red grande comienza a sobreajustar desde el principio, tras la primera iteración, y el sobreajuste es mucho más severo que en la red original. Además, su pérdida de validación presenta también mucho más ruido.\n",
        "\n",
        "Si comparamos las pérdidas de entrenamiento:"
      ]
    },
    {
      "cell_type": "code",
      "metadata": {
        "colab": {
          "base_uri": "https://localhost:8080/",
          "height": 279
        },
        "id": "qYJnSBI95kMj",
        "outputId": "fbcf839c-af5d-42b8-dc77-8fbbe9c77755"
      },
      "source": [
        "original_train_loss = entrenamiento_original.history['loss']\n",
        "red_grande_train_loss = entrenamiento_red_grande.history['loss']\n",
        "\n",
        "plt.plot(epochs, original_train_loss, 'b+', label='Red Original')\n",
        "plt.plot(epochs, red_grande_train_loss, 'bo', label='Red Grande')\n",
        "plt.xlabel('Epochs')\n",
        "plt.ylabel('Pérdida Entrenamiento')\n",
        "plt.legend()\n",
        "\n",
        "plt.show()"
      ],
      "execution_count": 16,
      "outputs": [
        {
          "output_type": "display_data",
          "data": {
            "image/png": "[encoded data removed]",
            "text/plain": [
              "<Figure size 432x288 with 1 Axes>"
            ]
          },
          "metadata": {
            "tags": [],
            "needs_background": "light"
          }
        }
      ]
    },
    {
      "cell_type": "markdown",
      "metadata": {
        "id": "Wyox4U1S5kMj"
      },
      "source": [
        "Se puede observar que la red grande consigue muy rápido que su pérdida de entrenamiento sea prácticamente nula. Mostrando que, como habíamos dicho anteriormente, cuanto mayor es la capacidad de la red, más rápido modela los datos de entrenamiento a la perfección, pero también más susceptible es al sobreajuste."
      ]
    },
    {
      "cell_type": "markdown",
      "metadata": {
        "id": "Z-cndN9Q5kMj"
      },
      "source": [
        "## 5. Regularizando los pesos\n",
        "\n",
        "Principio de _la navaja de Occam_: \"si se dan dos explicaciones distintas para un mismo suceso, la explicación correcta más probable es la más simple, la que hace el menor número de suposiciones adicionales\". \n",
        "\n",
        "Como método que aspira a ser estándar en el avance del conocimiento, este mismo principio también se aplica a los modelos aprendidos por las redes neuronales: si fijamos los datos de entrenamiento y una arquitectura de red, hay múltiples asignaciones de pesos (lo que se traduce en múltiples _modelos_) que podrían explicar los datos, y los modelos más sencillos tienen menos probabilidad de sobreajustar que los más complejos.\n",
        "\n",
        "Un *modelo sencillo* en este contexto es un modelo en el que la distribución de valores de los parámetros que lo definen tiene menos entropía (o un modelo que tiene en total menos parámetros, como vimos en la sección anterior). Por lo tanto, una forma común de mitigar el sobreajuste es poner límites a la complejidad de la red forzando que sus pesos tomen un rango de valores pequeños, lo que hace que la distribución de estos valores sea más _regular_. \n",
        "\n",
        "A este procedimiento, en general, se le llama **regularización de los pesos**, y se consigue añadiendo a la función de pérdida de la red un _coste_ asociado a tener grandes pesos. \n",
        "\n",
        "Este coste aidiconal suele venir dado de dos formas:\n",
        "\n",
        "* **Regularización L1 (Lasso)**: el coste es proporcional al _valor absoluto de los pesos_ (matemáticamente, la norma L1 de los pesos). Suele dar como resultado que muchos pesos tomen el valor 0, por lo que a veces se identifica con un procedimiento de compresión de la red.\n",
        "\n",
        "$$Coste= Loss + \\frac{\\lambda}{2n}\\sum |w|$$\n",
        "\n",
        "* **Regularización L2 (Ridge)**: el coste es proporcional al _cuadrado de los valores de los pesos_ (matemáticamente, la normal L2 de los pesos). En el contexto de las redes neuronales, a esta norma también se le llama _weight decay_, ya que fuerza a que los pesos tiendan a 0.\n",
        "$$Coste= Loss + \\frac{\\lambda}{2n}\\sum |w|^2$$\n",
        "\n",
        "En ambos casos, $\\lambda$ es el factor de regularización aplicado.\n",
        "\n",
        "En Keras, la regularización de los pesos se añade pasando instancias adecuadas de regularizadores a las capas por medio de argumentos específicos. Por ejemplo, si quisiéramos añadir una regularización L2 al modelo anterior:"
      ]
    },
    {
      "cell_type": "code",
      "metadata": {
        "id": "HvFLkE9_5kMj"
      },
      "source": [
        "from keras import regularizers\n",
        "\n",
        "red_l2 = models.Sequential()\n",
        "red_l2.add(layers.Dense(16, kernel_regularizer=regularizers.l2(0.001),\n",
        "                          activation='relu', input_shape=(10000,)))\n",
        "red_l2.add(layers.Dense(16, kernel_regularizer=regularizers.l2(0.001),\n",
        "                          activation='relu'))\n",
        "red_l2.add(layers.Dense(1, activation='sigmoid'))\n",
        "\n",
        "red_l2.compile(optimizer='rmsprop',\n",
        "                 loss='binary_crossentropy',\n",
        "                 metrics=['acc'])"
      ],
      "execution_count": 17,
      "outputs": []
    },
    {
      "cell_type": "markdown",
      "metadata": {
        "id": "-mfXKvHm5kMj"
      },
      "source": [
        "`l2(0.001)` significa que cada coeficiente de la matriz de pesos de la capa añadirá un total de `0.001 * peso` al valor de pérdida total de la red. Debe tenerse en cuenta que, como esta penalización solo se aplica en tiempo de entrenamiento, la pérdida que se obtiene al regularizar es mucho mayor para el entrenamiento que para el test.\n",
        "\n",
        "El impacto de esta reguarización en nuestro ejemplo sería:"
      ]
    },
    {
      "cell_type": "code",
      "metadata": {
        "colab": {
          "base_uri": "https://localhost:8080/"
        },
        "id": "yKjAcScN5kMj",
        "outputId": "24c5a292-48a3-4f36-f990-9b89bef8d945"
      },
      "source": [
        "entrenamiento_red_l2 = red_l2.fit(x_train, y_train,\n",
        "                             epochs=20,\n",
        "                             batch_size=512,\n",
        "                             validation_data=(x_test, y_test))"
      ],
      "execution_count": 18,
      "outputs": [
        {
          "output_type": "stream",
          "text": [
            "Epoch 1/20\n",
            "49/49 [==============================] - 2s 42ms/step - loss: 0.5069 - acc: 0.8236 - val_loss: 0.3890 - val_acc: 0.8806\n",
            "Epoch 2/20\n",
            "49/49 [==============================] - 1s 23ms/step - loss: 0.3256 - acc: 0.9024 - val_loss: 0.3397 - val_acc: 0.8868\n",
            "Epoch 3/20\n",
            "49/49 [==============================] - 1s 23ms/step - loss: 0.2783 - acc: 0.9175 - val_loss: 0.3516 - val_acc: 0.8779\n",
            "Epoch 4/20\n",
            "49/49 [==============================] - 1s 23ms/step - loss: 0.2606 - acc: 0.9234 - val_loss: 0.3334 - val_acc: 0.8876\n",
            "Epoch 5/20\n",
            "49/49 [==============================] - 1s 23ms/step - loss: 0.2459 - acc: 0.9305 - val_loss: 0.3771 - val_acc: 0.8680\n",
            "Epoch 6/20\n",
            "49/49 [==============================] - 1s 23ms/step - loss: 0.2379 - acc: 0.9329 - val_loss: 0.3965 - val_acc: 0.8638\n",
            "Epoch 7/20\n",
            "49/49 [==============================] - 1s 23ms/step - loss: 0.2345 - acc: 0.9367 - val_loss: 0.3494 - val_acc: 0.8815\n",
            "Epoch 8/20\n",
            "49/49 [==============================] - 1s 23ms/step - loss: 0.2282 - acc: 0.9366 - val_loss: 0.3628 - val_acc: 0.8781\n",
            "Epoch 9/20\n",
            "49/49 [==============================] - 1s 23ms/step - loss: 0.2228 - acc: 0.9396 - val_loss: 0.3862 - val_acc: 0.8704\n",
            "Epoch 10/20\n",
            "49/49 [==============================] - 1s 23ms/step - loss: 0.2208 - acc: 0.9402 - val_loss: 0.3917 - val_acc: 0.8692\n",
            "Epoch 11/20\n",
            "49/49 [==============================] - 1s 23ms/step - loss: 0.2167 - acc: 0.9424 - val_loss: 0.3719 - val_acc: 0.8768\n",
            "Epoch 12/20\n",
            "49/49 [==============================] - 1s 22ms/step - loss: 0.2146 - acc: 0.9418 - val_loss: 0.4043 - val_acc: 0.8660\n",
            "Epoch 13/20\n",
            "49/49 [==============================] - 1s 23ms/step - loss: 0.2065 - acc: 0.9471 - val_loss: 0.4103 - val_acc: 0.8658\n",
            "Epoch 14/20\n",
            "49/49 [==============================] - 1s 23ms/step - loss: 0.2101 - acc: 0.9435 - val_loss: 0.3861 - val_acc: 0.8730\n",
            "Epoch 15/20\n",
            "49/49 [==============================] - 1s 23ms/step - loss: 0.2070 - acc: 0.9432 - val_loss: 0.3905 - val_acc: 0.8732\n",
            "Epoch 16/20\n",
            "49/49 [==============================] - 1s 23ms/step - loss: 0.2020 - acc: 0.9454 - val_loss: 0.4066 - val_acc: 0.8708\n",
            "Epoch 17/20\n",
            "49/49 [==============================] - 1s 23ms/step - loss: 0.2009 - acc: 0.9470 - val_loss: 0.4371 - val_acc: 0.8630\n",
            "Epoch 18/20\n",
            "49/49 [==============================] - 1s 22ms/step - loss: 0.2002 - acc: 0.9469 - val_loss: 0.4188 - val_acc: 0.8690\n",
            "Epoch 19/20\n",
            "49/49 [==============================] - 1s 22ms/step - loss: 0.1922 - acc: 0.9508 - val_loss: 0.4138 - val_acc: 0.8683\n",
            "Epoch 20/20\n",
            "49/49 [==============================] - 1s 21ms/step - loss: 0.1951 - acc: 0.9477 - val_loss: 0.4496 - val_acc: 0.8585\n"
          ],
          "name": "stdout"
        }
      ]
    },
    {
      "cell_type": "code",
      "metadata": {
        "colab": {
          "base_uri": "https://localhost:8080/",
          "height": 279
        },
        "id": "TYWjDts95kMj",
        "outputId": "9d4220f3-66c9-47ee-a994-e0ee7eaf8ee7"
      },
      "source": [
        "red_l2_val_loss = entrenamiento_red_l2.history['val_loss']\n",
        "\n",
        "plt.plot(epochs, original_val_loss, 'b+', label='Red Original')\n",
        "plt.plot(epochs, red_l2_val_loss, 'bo', label='Red L2-regularizada')\n",
        "plt.xlabel('Epochs')\n",
        "plt.ylabel('Pérdida Validación')\n",
        "plt.legend()\n",
        "\n",
        "plt.show()"
      ],
      "execution_count": 19,
      "outputs": [
        {
          "output_type": "display_data",
          "data": {
            "image/png": "[encoded data removed]",
            "text/plain": [
              "<Figure size 432x288 with 1 Axes>"
            ]
          },
          "metadata": {
            "tags": [],
            "needs_background": "light"
          }
        }
      ]
    },
    {
      "cell_type": "markdown",
      "metadata": {
        "id": "zAII8RbI5kMj"
      },
      "source": [
        "\n",
        "Como se puede observar, el modelo que hace uso de Regularización L2 se ha hecho mucho más resistente al sobreajuste que el original, incluso teniendo el mismo número de parámetros.\n",
        "\n",
        "Keras proporciona funciones para usar regularización L2, regularización L1, e incluso una combinación de ambas, como muestra el siguiente código:"
      ]
    },
    {
      "cell_type": "code",
      "metadata": {
        "colab": {
          "base_uri": "https://localhost:8080/"
        },
        "id": "UVup0Ovn5kMj",
        "outputId": "180fbc54-92ca-46c7-d321-c7c524f71c82"
      },
      "source": [
        "from keras import regularizers\n",
        "\n",
        "# Regularización L1\n",
        "regularizers.l1(0.001)\n",
        "\n",
        "# Regularizaciones L1 y L2 simultáneamente\n",
        "regularizers.l1_l2(l1=0.001, l2=0.001)"
      ],
      "execution_count": 20,
      "outputs": [
        {
          "output_type": "execute_result",
          "data": {
            "text/plain": [
              "<tensorflow.python.keras.regularizers.L1L2 at 0x7f93b0d58ba8>"
            ]
          },
          "metadata": {
            "tags": []
          },
          "execution_count": 20
        }
      ]
    },
    {
      "cell_type": "markdown",
      "metadata": {
        "id": "fqt9zX2A5kMk"
      },
      "source": [
        "## 6. Dropout\n",
        "\n",
        "**Dropout** es una de las técnicas de regularización más efectivas y más comúnmente utilizadas para las redes neuronales, desarrollada por Hinton y su equipo de estudiantes de la Universidad de Toronto en 2014 (http://jmlr.org/papers/v15/srivastava14a.html). \n",
        "\n",
        "El Dropout, aplicado a una capa, consiste en la _eliminación aleatoria_ (lo que se traduce en poner a 0) de un número de características de salida de la capa durante el entrenamiento:\n",
        "\n",
        "Supongamos que una capa devolviese un vector `[0.2, 0.5, 1.3, 0.8, 1.1]` para una de las muestras de entrada durante el entrenamiento. Tras la aplicación del Dropout, este vector tendrá unas cuantas entradas nulas distribuidas al azar, por ejemplo, `[0, 0.5, 1.3, 0, 1.1]`. \n",
        "\n",
        "![](https://github.com/miguelamda/DL/blob/master/4.%20Regularizaci%C3%B3n/imgs/dropout.gif?raw=1)\n",
        "\n",
        "Esto significa que sus contribuciones a la activación de las neuronas se eliminan temporalmente en la etapa _forward_, así como la actualización de cualquiera de sus pesos en la etapa _backward_. Cuando la activación de una neurona se anula, el efecto que pudiera tener en conjunción con otras neuronas con las que está conectada se pierde, por lo que estas otras neuronas han de aprender la misma representación sin considerar su trabajo conjunto, lo que lleva a disponer de representaciones internas más robustas e independientes.\n",
        "\n",
        "La _tasa de dropout_ es la fracción de características que se ponen a 0, y normalmente se ajusta entre 0,2 y 0,5. Y se debe tener en cuenta que, al igual que todas las técnicas de regularización, durante la fase de test no se hace dropout, sino únicamente durante la fase de entrenamiento, que es cuando queremos limitar la capacidad del modelo. Esto conlleva que los valores de salida de la capa durante le test han de reducirse en un factor igual al dropout, con el fin de equilibrar el hecho de que hay más unidades activas que durante el entrenamiento (si no, sería imposible que el modelo respondiese en tiempo de test lo que ha aprendido en el entrenamiento).\n",
        "\n",
        "Es decir, si durante el entrenamiento el resultado es:"
      ]
    },
    {
      "cell_type": "code",
      "metadata": {
        "id": "TXcfSAP-5kMk"
      },
      "source": [
        "# Durante el entrenamiento hemos descartado el 50% de las unidades de salida\n",
        "# layer_output *= np.randint(0, high=2, size=layer_output.shape)"
      ],
      "execution_count": 21,
      "outputs": []
    },
    {
      "cell_type": "markdown",
      "metadata": {
        "id": "vaBH5mpd5kMk"
      },
      "source": [
        "\n",
        "Entonces en el test hemos de ajustar:"
      ]
    },
    {
      "cell_type": "code",
      "metadata": {
        "id": "VsjqzX2B5kMk"
      },
      "source": [
        "# En test:\n",
        "# layer_output *= 0.5"
      ],
      "execution_count": 22,
      "outputs": []
    },
    {
      "cell_type": "markdown",
      "metadata": {
        "id": "mG-lBLso5kMk"
      },
      "source": [
        "\n",
        "Como sería incómodo tener que estar considerando este hecho durante el tiempo de test, este proceso se puede implementar haciendo ambas operaciones durante el tiempo de entrenamiento, de forma que no es necesario considerarlo en el a la hora de hacer test:"
      ]
    },
    {
      "cell_type": "code",
      "metadata": {
        "id": "F9DGxcpc5kMk"
      },
      "source": [
        "# Durante el entrenamiento:\n",
        "# layer_output *= np.randint(0, high=2, size=layer_output.shape)\n",
        "# Y a continuación escalamos para compensar el efecto del dropout\n",
        "# layer_output /= 0.5"
      ],
      "execution_count": 23,
      "outputs": []
    },
    {
      "cell_type": "markdown",
      "metadata": {
        "id": "XvCsgGk-5kMk"
      },
      "source": [
        "\n",
        "Pero, ¿porqué esta técnica reduce el sobreajuste? La idea central es que la introducción de ruido en los valores de salida de una capa puede romper patrones que no son significativos y que la red empezaría a memorizar si no hubiera ruido presente. \n",
        "\n",
        "Para no tener que hacerlo a mano, Keras proporciona este regularizador por medio de capas `Dropout` que se aplican a las salidas de la capa anterior (es decir, que más que un proceso de regularización que se hace dentro de la capa, se convierte en una capa adicional que se encarga de realizar esta técnica tras ella):"
      ]
    },
    {
      "cell_type": "code",
      "metadata": {
        "id": "-Vbn1EdI5kMk"
      },
      "source": [
        "model.add(layers.Dropout(0.5))"
      ],
      "execution_count": null,
      "outputs": []
    },
    {
      "cell_type": "markdown",
      "metadata": {
        "id": "QHHiWL_95kMk"
      },
      "source": [
        "Vamos a introducir dos capas `Dropout` en el modelo anterior para ver si reducen el sobreajuste:"
      ]
    },
    {
      "cell_type": "code",
      "metadata": {
        "colab": {
          "base_uri": "https://localhost:8080/",
          "height": 644
        },
        "id": "2a0xTS5U5kMk",
        "outputId": "3f4a4a99-025c-4a70-9f64-62dd471e1dda"
      },
      "source": [
        "red_dpt = models.Sequential()\n",
        "red_dpt.add(layers.Dense(16, activation='relu', input_shape=(10000,)))\n",
        "red_dpt.add(layers.Dropout(0.5))\n",
        "red_dpt.add(layers.Dense(16, activation='relu'))\n",
        "red_dpt.add(layers.Dropout(0.5))\n",
        "red_dpt.add(layers.Dense(1, activation='sigmoid'))\n",
        "\n",
        "red_dpt.compile(optimizer='rmsprop',\n",
        "                  loss='binary_crossentropy',\n",
        "                  metrics=['acc'])\n",
        "plot_model(red_dpt, to_file='modelDPT_plot.png', show_shapes=True, show_layer_names=True)"
      ],
      "execution_count": 25,
      "outputs": [
        {
          "output_type": "execute_result",
          "data": {
            "image/png": "[encoded data removed]",
            "text/plain": [
              "<IPython.core.display.Image object>"
            ]
          },
          "metadata": {
            "tags": []
          },
          "execution_count": 25
        }
      ]
    },
    {
      "cell_type": "markdown",
      "metadata": {
        "id": "BXdnfg8l5kMk"
      },
      "source": [
        "<!--![](./imgs/modelDPT_plot.png)-->"
      ]
    },
    {
      "cell_type": "code",
      "metadata": {
        "colab": {
          "base_uri": "https://localhost:8080/"
        },
        "id": "2x1za2FK5kMk",
        "outputId": "5ec9a72d-33da-46a9-b7ea-940948115c5b"
      },
      "source": [
        "entrenamiento_red_dpt = red_dpt.fit(x_train, y_train,\n",
        "                               epochs=20,\n",
        "                               batch_size=512,\n",
        "                               validation_data=(x_test, y_test))"
      ],
      "execution_count": 26,
      "outputs": [
        {
          "output_type": "stream",
          "text": [
            "Epoch 1/20\n",
            "49/49 [==============================] - 2s 37ms/step - loss: 0.5785 - acc: 0.7034 - val_loss: 0.4178 - val_acc: 0.8674\n",
            "Epoch 2/20\n",
            "49/49 [==============================] - 1s 23ms/step - loss: 0.4082 - acc: 0.8351 - val_loss: 0.3140 - val_acc: 0.8831\n",
            "Epoch 3/20\n",
            "49/49 [==============================] - 1s 23ms/step - loss: 0.3298 - acc: 0.8802 - val_loss: 0.2808 - val_acc: 0.8879\n",
            "Epoch 4/20\n",
            "49/49 [==============================] - 1s 23ms/step - loss: 0.2741 - acc: 0.9048 - val_loss: 0.2835 - val_acc: 0.8841\n",
            "Epoch 5/20\n",
            "49/49 [==============================] - 1s 23ms/step - loss: 0.2411 - acc: 0.9158 - val_loss: 0.2883 - val_acc: 0.8886\n",
            "Epoch 6/20\n",
            "49/49 [==============================] - 1s 23ms/step - loss: 0.2108 - acc: 0.9291 - val_loss: 0.2979 - val_acc: 0.8862\n",
            "Epoch 7/20\n",
            "49/49 [==============================] - 1s 23ms/step - loss: 0.1894 - acc: 0.9370 - val_loss: 0.3225 - val_acc: 0.8826\n",
            "Epoch 8/20\n",
            "49/49 [==============================] - 1s 22ms/step - loss: 0.1784 - acc: 0.9418 - val_loss: 0.3453 - val_acc: 0.8830\n",
            "Epoch 9/20\n",
            "49/49 [==============================] - 1s 23ms/step - loss: 0.1633 - acc: 0.9449 - val_loss: 0.3690 - val_acc: 0.8801\n",
            "Epoch 10/20\n",
            "49/49 [==============================] - 1s 23ms/step - loss: 0.1518 - acc: 0.9501 - val_loss: 0.3823 - val_acc: 0.8803\n",
            "Epoch 11/20\n",
            "49/49 [==============================] - 1s 22ms/step - loss: 0.1421 - acc: 0.9518 - val_loss: 0.3999 - val_acc: 0.8786\n",
            "Epoch 12/20\n",
            "49/49 [==============================] - 1s 23ms/step - loss: 0.1351 - acc: 0.9543 - val_loss: 0.4145 - val_acc: 0.8755\n",
            "Epoch 13/20\n",
            "49/49 [==============================] - 1s 23ms/step - loss: 0.1247 - acc: 0.9572 - val_loss: 0.4614 - val_acc: 0.8766\n",
            "Epoch 14/20\n",
            "49/49 [==============================] - 1s 21ms/step - loss: 0.1193 - acc: 0.9594 - val_loss: 0.4770 - val_acc: 0.8761\n",
            "Epoch 15/20\n",
            "49/49 [==============================] - 1s 22ms/step - loss: 0.1149 - acc: 0.9599 - val_loss: 0.4923 - val_acc: 0.8760\n",
            "Epoch 16/20\n",
            "49/49 [==============================] - 1s 23ms/step - loss: 0.1126 - acc: 0.9614 - val_loss: 0.5327 - val_acc: 0.8757\n",
            "Epoch 17/20\n",
            "49/49 [==============================] - 1s 23ms/step - loss: 0.1121 - acc: 0.9614 - val_loss: 0.5321 - val_acc: 0.8739\n",
            "Epoch 18/20\n",
            "49/49 [==============================] - 1s 23ms/step - loss: 0.1037 - acc: 0.9623 - val_loss: 0.5673 - val_acc: 0.8750\n",
            "Epoch 19/20\n",
            "49/49 [==============================] - 1s 23ms/step - loss: 0.1042 - acc: 0.9638 - val_loss: 0.5937 - val_acc: 0.8747\n",
            "Epoch 20/20\n",
            "49/49 [==============================] - 1s 22ms/step - loss: 0.1089 - acc: 0.9630 - val_loss: 0.5924 - val_acc: 0.8731\n"
          ],
          "name": "stdout"
        }
      ]
    },
    {
      "cell_type": "markdown",
      "metadata": {
        "id": "V5wNrh8L5kMk"
      },
      "source": [
        "Y comparemos los resultados:"
      ]
    },
    {
      "cell_type": "code",
      "metadata": {
        "colab": {
          "base_uri": "https://localhost:8080/",
          "height": 279
        },
        "id": "3A4enUuA5kMk",
        "outputId": "50fa173b-d818-41f8-965d-70a555323abe"
      },
      "source": [
        "red_dpt_val_loss = entrenamiento_red_dpt.history['val_loss']\n",
        "\n",
        "plt.plot(epochs, original_val_loss, 'b+', label='Red Original')\n",
        "plt.plot(epochs, red_dpt_val_loss, 'bo', label='Red Regularizada Dropout')\n",
        "plt.xlabel('Epochs')\n",
        "plt.ylabel('Pérdida Validación')\n",
        "plt.legend()\n",
        "\n",
        "plt.show()"
      ],
      "execution_count": 27,
      "outputs": [
        {
          "output_type": "display_data",
          "data": {
            "image/png": "[encoded data removed]",
            "text/plain": [
              "<Figure size 432x288 with 1 Axes>"
            ]
          },
          "metadata": {
            "tags": [],
            "needs_background": "light"
          }
        }
      ]
    },
    {
      "cell_type": "markdown",
      "metadata": {
        "id": "oK40v9Rr5kMk"
      },
      "source": [
        "De nuevo, se observa una clara mejoría respecto de la red original."
      ]
    },
    {
      "cell_type": "markdown",
      "metadata": {
        "id": "-WaK5Fp_5kMk"
      },
      "source": [
        "### Algunos trucos para usar Dropout\n",
        "\n",
        "El trabajo original sobre Dropout proporciona algunos resultados experimentales sobre algunos problemas estándar de Machine Learning. Como resultado de estos experimentos, se ofrecen algunas heurísticas que pueden ser útiles a la hora de usar esta técnica en la práctica:\n",
        "\n",
        "* Por norma general, usa un valor de dropout bajo, entre 0,2 y 0,5. Un valor de 0,2 puede ser un buen punto de partida. Un valor demasiado bajo apenas tiene efecto, y demasiado alto lleva a un aprendizaje muy pobre.\n",
        "* Usa una red más grande. Se tienen mejores resultados cuando se usa sobre redes grandes, algo que da al modelo la posibilidad de aprender representaciones independientes.\n",
        "* Puedes usar dropout tanto en la capa visible (la de entrada) como en las capas ocultas. La aplicación de dropout en cada una de las capas de la red ha dado buenos resultados.\n",
        "* Permite usar una tasa de aprendizaje grande con cadencia (_decay_) y un momento grande, por ejemplo, multiplica la tasa por un factor entre 10 y 100 y usa valores de momento de 0,9 a 0,99.\n",
        "* Restringe el tamaño de los pesos de la red. Una tasa de aprendizaje alta puede dar lugar a redes con pesos muy altos, así que aplicar una regularización L1 adicional (con tamaños acotados por 4 o 5) puede mejorar mucho los resultados."
      ]
    },
    {
      "cell_type": "markdown",
      "metadata": {
        "id": "ls_nTatN5kMk"
      },
      "source": [
        "## 7. Conclusiones\n",
        "\n",
        "En resumen, las formas más comunes de prevenir el sobreajuste en redes neuronales son:\n",
        "\n",
        "* Conseguir más (y más variados) datos de entrenamiento. Si el problema lo permite, quizás se pueda usar alguna técnica artificial de _Data Augmentation_.\n",
        "* Parar el entrenamiento cuando se observa que comienza el sobreajuste. Keras proporciona funciones de _early stopping_ para monitorizar si sucede así.\n",
        "* Reducir la capacidad de la red (número de parámetros).\n",
        "* Añadir regularización a los pesos (penalizando configuraciones con pesos muy grandes o más irregulares).\n",
        "* Añadir dropout (añadir ruido con ceros)."
      ]
    }
  ]
}
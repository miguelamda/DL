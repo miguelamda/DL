{
 "cells": [
  {
   "cell_type": "markdown",
   "metadata": {
    "colab_type": "text",
    "id": "vkHEHL9WLDeu"
   },
   "source": [
    "# Ejercicio 1. Red Neuronal en TensorFlow\n",
    "\n",
    "En este primer ejercicio tendrás que trabajar con **TensorFlow** para construir una red neuronal artificial multicapa que se ajuste a los datos en el fichero CSV que se adjunta: *diabetes.csv*\n",
    "\n",
    "Este fichero contiene el diagnostico de diabetes de los indios Pima. Basado en datos personales (edad, número de \n",
    "veces de embarazo) y los resultados de los reconocimientos médicos (por ejemplo,\n",
    "presión sanguínea, índice de masa corporal, resultado de la prueba de tolerancia a la glucosa, etc.), intenta decidir si un indio Pima tiene diabetes o no.\n",
    "\n",
    "![pima](img/pima.jpg)"
   ]
  },
  {
   "cell_type": "markdown",
   "metadata": {
    "colab_type": "text",
    "id": "Ec_TFbA5LAs-"
   },
   "source": [
    "## 1. Enunciado\n",
    "\n",
    "Basándote en la Práctica 3.2 (Red Neuronal con TensorFlow), y usando el dataset adjunto (ver apartado 3), crea **al menos 3** redes neuronales con arquitecturas distintas usando TensorFlow (es decir, **sin Keras**). Como mínimo deben diferir siempre en:\n",
    "* El número de capas y nodos en ellas.\n",
    "* La función de activación en las capas ocultas.\n",
    "* Factor de aprendizaje, número de épocas, función de pérdida ([binary cross entropy](https://mmuratarat.github.io/2018-12-21/cross-entropy))\n",
    "* Método de optimización (SGD, Adam, RMSprop, Adagrad...).\n",
    "\n",
    "Puedes hacer uso de la [referencia de la API de tensorflow](https://www.tensorflow.org/versions/r1.15/api_docs/python/tf).\n",
    "\n",
    "Después, entrénalas con los datos leídos, primero con 10 épocas, y luego con 100 épocas. Analiza los resultados obtenidos. Debes responder a las siguientes preguntas: ¿Qué accuracy obtienes con cada combinación? Si particionas el conjunto en entrenamiento y test, ¿qué accuracy obtienes después del entrenamiento sobre el conjunto de test? ¿Y si varías el número de épocas?"
   ]
  },
  {
   "cell_type": "markdown",
   "metadata": {},
   "source": [
    "## 2. Entrega\n",
    "\n",
    "La entrega de este ejercicio se realiza a través de la tarea creada para tal efecto en Enseñanza Virtual. Tienes que entregar un notebook, y el HTML generado a partir de él, cuyas celdas estén ya evaluadas.\n",
    "\n",
    "La estructura del notebook debe contener los siguientes apartados:\n",
    "\n",
    "0. Cabecera: nombre y apellidos.\n",
    "1. Dataset: descripción y carga.\n",
    "2. Preparación de los datos para ser usados en tensorflow.\n",
    "3. Modelos creados en tensorflow (un sub-apartado para cada uno, explicando de forma razonada, con tus palabras y usando figuras, la arquitectura y su configuración, indicando además cómo los has implementado con tensorflow).\n",
    "4. Entrenamiento y evaluación de cada modelo creado (un sub-apartado para cada uno).\n",
    "5. Análisis de resultados.\n",
    "6. Bibliografía utilizada (enlaces web, material de clase, libros, etc.)."
   ]
  },
  {
   "cell_type": "markdown",
   "metadata": {},
   "source": [
    "### 2.1. Nota importante\n",
    "-----\n",
    "**HONESTIDAD ACADÉMICA Y COPIAS: un trabajo práctico es un examen, por lo que\n",
    "debe realizarse de manera individual. La discusión y el intercambio de\n",
    "información de carácter general con los compañeros se permite (e incluso se\n",
    "recomienda), pero NO AL NIVEL DE CÓDIGO. Igualmente el remitir código de\n",
    "terceros, OBTENIDO A TRAVÉS DE LA RED o cualquier otro medio, se considerará\n",
    "plagio.** \n",
    "\n",
    "**Cualquier plagio o compartición de código que se detecte significará\n",
    "automáticamente la calificación de CERO EN LA ASIGNATURA para TODOS los\n",
    "alumnos involucrados. Por tanto a estos alumnos NO se les conservará, para\n",
    "futuras convocatorias, ninguna nota que hubiesen obtenido hasta el momento.\n",
    "SIN PERJUICIO DE OTRAS MEDIDAS DE CARÁCTER DISCIPLINARIO QUE SE PUDIERAN\n",
    "TOMAR.**\n",
    "\n",
    "-----"
   ]
  },
  {
   "cell_type": "markdown",
   "metadata": {},
   "source": [
    "## 3. El Dataset\n",
    "\n",
    "El siguiente código cargará los datos del fichero CSV adjunto al completo en las variables `X`e `Y`. Deberás hacer una división para conjunto de test y de train, razonando debidamente por qué has elegido el tamaño de cada conjunto."
   ]
  },
  {
   "cell_type": "code",
   "execution_count": 1,
   "metadata": {
    "slideshow": {
     "slide_type": "skip"
    }
   },
   "outputs": [],
   "source": [
    "# Importamos los paquetes necesarios\n",
    "import numpy as np\n",
    "import pandas as pd\n",
    "import matplotlib\n",
    "import matplotlib.pyplot as plt\n",
    "import scipy"
   ]
  },
  {
   "cell_type": "code",
   "execution_count": 17,
   "metadata": {
    "slideshow": {
     "slide_type": "subslide"
    }
   },
   "outputs": [],
   "source": [
    "# Lectura del dataset\n",
    "train = pd.read_csv(\"diabetes.csv\")"
   ]
  },
  {
   "cell_type": "code",
   "execution_count": 18,
   "metadata": {
    "slideshow": {
     "slide_type": "fragment"
    }
   },
   "outputs": [],
   "source": [
    "X, Y = np.array(train.iloc[:,0:8]), np.array(train.iloc[:,9])"
   ]
  },
  {
   "cell_type": "code",
   "execution_count": 19,
   "metadata": {
    "slideshow": {
     "slide_type": "fragment"
    }
   },
   "outputs": [
    {
     "data": {
      "text/plain": [
       "(768, 8)"
      ]
     },
     "execution_count": 19,
     "metadata": {},
     "output_type": "execute_result"
    }
   ],
   "source": [
    "X.shape"
   ]
  },
  {
   "cell_type": "code",
   "execution_count": 20,
   "metadata": {
    "slideshow": {
     "slide_type": "fragment"
    }
   },
   "outputs": [
    {
     "data": {
      "text/plain": [
       "(768,)"
      ]
     },
     "execution_count": 20,
     "metadata": {},
     "output_type": "execute_result"
    }
   ],
   "source": [
    "Y.shape"
   ]
  },
  {
   "cell_type": "code",
   "execution_count": 21,
   "metadata": {},
   "outputs": [
    {
     "name": "stdout",
     "output_type": "stream",
     "text": [
      "[[0.176471  0.605     0.42623   0.        0.        0.536513  0.0209223\n",
      "  0.0666667]\n",
      " [0.352941  0.72      0.590164  0.27      0.269504  0.505216  0.0755764\n",
      "  0.316667 ]\n",
      " [0.117647  0.875     0.721311  0.        0.        0.341282  0.105892\n",
      "  0.0166667]\n",
      " [0.705882  0.605     0.639344  0.17      0.        0.394933  0.0772844\n",
      "  0.683333 ]\n",
      " [0.117647  0.535     0.606557  0.3       0.118203  0.500745  0.139197\n",
      "  0.0333333]\n",
      " [0.882353  0.68      0.57377   0.32      0.130024  0.552906  0.0320239\n",
      "  0.366667 ]\n",
      " [0.470588  0.545     0.622951  0.39      0.134752  0.415797  0.239966\n",
      "  0.166667 ]\n",
      " [0.117647  0.405     0.491803  0.22      0.        0.412817  0.0905209\n",
      "  0.0666667]\n",
      " [0.235294  0.985     0.57377   0.39      0.879433  0.546945  0.961144\n",
      "  0.166667 ]\n",
      " [0.        0.525     0.737705  0.        0.        0.441133  0.0508113\n",
      "  0.416667 ]]\n"
     ]
    }
   ],
   "source": [
    "print(X[0:10])"
   ]
  },
  {
   "cell_type": "code",
   "execution_count": 22,
   "metadata": {},
   "outputs": [
    {
     "name": "stdout",
     "output_type": "stream",
     "text": [
      "[0 1 1 1 1 0 0 1 1 1]\n"
     ]
    }
   ],
   "source": [
    "print(Y[0:10])"
   ]
  }
 ],
 "metadata": {
  "colab": {
   "name": "3 Maneras de Programar a una Red Neuronal.ipynb",
   "provenance": [],
   "version": "0.3.2"
  },
  "kernelspec": {
   "display_name": "Python 3",
   "language": "python",
   "name": "python3"
  },
  "language_info": {
   "codemirror_mode": {
    "name": "ipython",
    "version": 3
   },
   "file_extension": ".py",
   "mimetype": "text/x-python",
   "name": "python",
   "nbconvert_exporter": "python",
   "pygments_lexer": "ipython3",
   "version": "3.7.3"
  }
 },
 "nbformat": 4,
 "nbformat_minor": 1
}

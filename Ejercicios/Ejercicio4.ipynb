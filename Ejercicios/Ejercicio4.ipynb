{
 "cells": [
  {
   "cell_type": "markdown",
   "metadata": {
    "colab_type": "text",
    "id": "view-in-github"
   },
   "source": [
    "<a href=\"https://colab.research.google.com/github/miguelamda/DL/blob/master/Ejercicios/Ejercicio2.ipynb\" target=\"_parent\"><img src=\"https://colab.research.google.com/assets/colab-badge.svg\" alt=\"Open In Colab\"/></a>"
   ]
  },
  {
   "cell_type": "markdown",
   "metadata": {
    "id": "vkHEHL9WLDeu"
   },
   "source": [
    "# Ejercicio 4. Segmentación de Imágenes con U-Net\n",
    "\n",
    "En este ejercicio trabajaremos con un ejemplo de Keras, donde se entrena un modelo para la segmentación de imágenes mediante un modelo de tipo U-Net. Un modelo de este tipo es básicamente un autoencoder, donde cada bloque de capas en el encoder está conectado mediante una conexión residual al bloque de capas simétrico en el decoder. Un ejemplo:\n",
    "\n",
    "![mask](img/u-net-architecture.png)\n",
    "\n",
    "Este tipo de modelos se emplean sobre todo en el tratamiento de imágenes médicas, pero el ejemplo que vamos a trabajar está diseñado para inferir la máscara de segmentación de imágenes de mascotas. El ejemplo en concreto es [este](https://keras.io/examples/vision/oxford_pets_image_segmentation/)."
   ]
  },
  {
   "cell_type": "markdown",
   "metadata": {
    "id": "Ec_TFbA5LAs-"
   },
   "source": [
    "## 1. Enunciado\n",
    "\n",
    "Reproducir el ejemplo de Keras para la [segmentación de imágenes con un modelo de tipo U-Net](https://keras.io/examples/vision/oxford_pets_image_segmentation/), y probar **2 variantes** distintas de modelo, jugando con los *filtros en cada bloque* y con el *número de bloques*. Se hará una comparativa cualitativa, con 5 ejemplos distintos del dataset, y 5 imágenes de mascotas obtenidas de Internet (o propias)."
   ]
  },
  {
   "cell_type": "markdown",
   "metadata": {
    "id": "dFfMGuPz4VDN"
   },
   "source": [
    "## 2. Entrega\n",
    "\n",
    "La entrega de este ejercicio se realiza a través de la tarea creada para tal efecto en Enseñanza Virtual. Tienes que entregar un notebook, y el HTML generado a partir de él, cuyas celdas estén ya evaluadas.\n",
    "\n",
    "La estructura del notebook debe contener los siguientes apartados:\n",
    "\n",
    "0. Cabecera: nombre y apellidos.\n",
    "1. Preparación de los datos para ser usados en Keras.\n",
    "2. Modelos y configuraciones creados en Keras, razonando la modificación hecha al modelo original del ejemplo\n",
    "3. Entrenamiento y evaluación de cada modelo creado (un sub-apartado para cada uno). \n",
    "4. Evaluación de los modelos.\n",
    "5. Bibliografía utilizada (enlaces web, material de clase, libros, etc.)."
   ]
  },
  {
   "cell_type": "markdown",
   "metadata": {
    "id": "hPR7zuh34VDO"
   },
   "source": [
    "### 2.1. Nota importante\n",
    "-----\n",
    "**HONESTIDAD ACADÉMICA Y COPIAS: un trabajo práctico es un examen, por lo que\n",
    "debe realizarse de manera individual. La discusión y el intercambio de\n",
    "información de carácter general con los compañeros se permite (e incluso se\n",
    "recomienda), pero NO AL NIVEL DE CÓDIGO. Igualmente el remitir código de\n",
    "terceros, OBTENIDO A TRAVÉS DE LA RED o cualquier otro medio, se considerará\n",
    "plagio.** \n",
    "\n",
    "**Cualquier plagio o compartición de código que se detecte significará\n",
    "automáticamente la calificación de CERO EN LA ASIGNATURA para TODOS los\n",
    "alumnos involucrados. Por tanto a estos alumnos NO se les conservará, para\n",
    "futuras convocatorias, ninguna nota que hubiesen obtenido hasta el momento.\n",
    "SIN PERJUICIO DE OTRAS MEDIDAS DE CARÁCTER DISCIPLINARIO QUE SE PUDIERAN\n",
    "TOMAR.**\n",
    "\n",
    "-----"
   ]
  },
  {
   "cell_type": "markdown",
   "metadata": {},
   "source": [
    "## 3. Dataset\n",
    "\n",
    "La celda para descargar el dataset en el ejemplo hace uso de `curl`, pero la descarga puede fallar (al menos en Google Colab). La descarga falla porque la descompresión con tar falla. En tal caso, recomiendo sustituir el comando `curl -O` por `wget`, para ambos ficheros del dataset."
   ]
  }
 ],
 "metadata": {
  "colab": {
   "include_colab_link": true,
   "name": "3 Maneras de Programar a una Red Neuronal.ipynb",
   "provenance": []
  },
  "kernelspec": {
   "display_name": "Python 3",
   "language": "python",
   "name": "python3"
  },
  "language_info": {
   "codemirror_mode": {
    "name": "ipython",
    "version": 3
   },
   "file_extension": ".py",
   "mimetype": "text/x-python",
   "name": "python",
   "nbconvert_exporter": "python",
   "pygments_lexer": "ipython3",
   "version": "3.7.3"
  },
  "nbTranslate": {
   "displayLangs": [
    "*"
   ],
   "hotkey": "alt-t",
   "langInMainMenu": true,
   "sourceLang": "en",
   "targetLang": "fr",
   "useGoogleTranslate": true
  }
 },
 "nbformat": 4,
 "nbformat_minor": 1
}

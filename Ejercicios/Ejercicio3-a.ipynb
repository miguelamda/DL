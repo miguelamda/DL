{
 "cells": [
  {
   "cell_type": "markdown",
   "metadata": {
    "colab_type": "text",
    "id": "view-in-github"
   },
   "source": [
    "<a href=\"https://colab.research.google.com/github/miguelamda/DL/blob/master/Ejercicios/Ejercicio2.ipynb\" target=\"_parent\"><img src=\"https://colab.research.google.com/assets/colab-badge.svg\" alt=\"Open In Colab\"/></a>"
   ]
  },
  {
   "cell_type": "markdown",
   "metadata": {
    "id": "vkHEHL9WLDeu"
   },
   "source": [
    "# Ejercicio 3-a. Transfer learning de modelos convolucionales\n",
    "\n",
    "El apartado a del ejercicio 3 es una continuación del ejercicio 2, donde deberás analizar la técnica de transfer learning sobre el dataset de mascarillas. Por tanto, necesitarás hacer uso de lo visto en la práctica 5.3.\n",
    "\n",
    "![mask](https://github.com/miguelamda/DL/blob/master/Ejercicios/img/mask.jpg?raw=1)"
   ]
  },
  {
   "cell_type": "markdown",
   "metadata": {
    "id": "Ec_TFbA5LAs-"
   },
   "source": [
    "## 1. Enunciado\n",
    "\n",
    "Empleando el dataset de mascarillas del ejercicio 2, debes probar lo siguiente:\n",
    "* Utilizar [**3 modelos pre-entrenados**](https://keras.io/api/applications/) para hacer transfer learning mediante extracción de características. Al menos uno de ellos debe de ser un modelo pensado para entornos de poca potencia computacional (pocos parámetros), como por ejemplo MobileNet o EfficientNet.\n",
    "* Seleccionando el mejor modelo del punto anterior, realizar fine-tuning sobre algunas capas (la selección del número de capas es a tu elección). Probar al menos 2 combinaciones (por ejemplo, desbloqueando 2 y 7 capas...).\n",
    "* Evaluar cuantitativamente cada combinación de modelos con el conjunto de validación/test del dataset original, así como con otro dataset distinto sobre detección de mascarillas (face mask detection), como por ejemplo https://www.kaggle.com/datasets/dipuiucse/facemaskdataset2022. Si el dataset es muy grande, como el propuesto, basta con tomar una pequeña muestra suficiente para sacar estadísticas. Usar distintas métricas: accuracy, precision, recall, F1-score, etc.\n",
    "* Evaluar cualitativamente el rendimiento del mejor modelo obtenido con imágenes obtenidas por tu webcam, o bien con imágenes de rostros con/sin mascarillas obtenidas de Internet."
   ]
  },
  {
   "cell_type": "markdown",
   "metadata": {
    "id": "dFfMGuPz4VDN"
   },
   "source": [
    "## 2. Entrega\n",
    "\n",
    "La entrega de este ejercicio se realiza a través de la tarea creada para tal efecto en Enseñanza Virtual. Tienes que entregar un notebook, y el HTML generado a partir de él, cuyas celdas estén ya evaluadas.\n",
    "\n",
    "La estructura del notebook debe contener los siguientes apartados:\n",
    "\n",
    "0. Cabecera: nombre y apellidos.\n",
    "1. Preparación de los datos para ser usados en Keras.\n",
    "2. Modelos y configuraciones creados en Keras basados en 3 modelos pre-entrenados (un sub-apartado para cada uno, explicando de forma razonada, con tus palabras, por qué se elige el modelo y qué clasificador se añade).\n",
    "3. Entrenamiento y evaluación de cada modelo creado (un sub-apartado para cada uno). Análisis de resultados.\n",
    "4. Selección del mejor modelo, y fine-tuning de dos combinaciones de capas (con pocas y muchas capas). Análisis de resultados.\n",
    "5. Evaluación de los modelos sobre conjunto de test, y sobre otro dataset para face mask detection. Evaluación también sobre imágenes de webcam/Internet.\n",
    "6. Bibliografía utilizada (enlaces web, material de clase, libros, etc.)."
   ]
  },
  {
   "cell_type": "markdown",
   "metadata": {
    "id": "hPR7zuh34VDO"
   },
   "source": [
    "### 2.1. Nota importante\n",
    "-----\n",
    "**HONESTIDAD ACADÉMICA Y COPIAS: un trabajo práctico es un examen, por lo que\n",
    "debe realizarse de manera individual. La discusión y el intercambio de\n",
    "información de carácter general con los compañeros se permite (e incluso se\n",
    "recomienda), pero NO AL NIVEL DE CÓDIGO. Igualmente el remitir código de\n",
    "terceros, OBTENIDO A TRAVÉS DE LA RED o cualquier otro medio, se considerará\n",
    "plagio.** \n",
    "\n",
    "**Cualquier plagio o compartición de código que se detecte significará\n",
    "automáticamente la calificación de CERO EN LA ASIGNATURA para TODOS los\n",
    "alumnos involucrados. Por tanto a estos alumnos NO se les conservará, para\n",
    "futuras convocatorias, ninguna nota que hubiesen obtenido hasta el momento.\n",
    "SIN PERJUICIO DE OTRAS MEDIDAS DE CARÁCTER DISCIPLINARIO QUE SE PUDIERAN\n",
    "TOMAR.**\n",
    "\n",
    "-----"
   ]
  }
 ],
 "metadata": {
  "colab": {
   "include_colab_link": true,
   "name": "3 Maneras de Programar a una Red Neuronal.ipynb",
   "provenance": []
  },
  "kernelspec": {
   "display_name": "Python 3",
   "language": "python",
   "name": "python3"
  },
  "language_info": {
   "codemirror_mode": {
    "name": "ipython",
    "version": 3
   },
   "file_extension": ".py",
   "mimetype": "text/x-python",
   "name": "python",
   "nbconvert_exporter": "python",
   "pygments_lexer": "ipython3",
   "version": "3.7.3"
  },
  "nbTranslate": {
   "displayLangs": [
    "*"
   ],
   "hotkey": "alt-t",
   "langInMainMenu": true,
   "sourceLang": "en",
   "targetLang": "fr",
   "useGoogleTranslate": true
  }
 },
 "nbformat": 4,
 "nbformat_minor": 1
}

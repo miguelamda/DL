{
  "nbformat": 4,
  "nbformat_minor": 0,
  "metadata": {
    "accelerator": "GPU",
    "colab": {
      "name": "Practica6.3. Usos Avanzados de RNN.ipynb",
      "provenance": [],
      "toc_visible": true,
      "include_colab_link": true
    },
    "kernelspec": {
      "display_name": "Python 3",
      "language": "python",
      "name": "python3"
    },
    "language_info": {
      "codemirror_mode": {
        "name": "ipython",
        "version": 3
      },
      "file_extension": ".py",
      "mimetype": "text/x-python",
      "name": "python",
      "nbconvert_exporter": "python",
      "pygments_lexer": "ipython3",
      "version": "3.8.5"
    }
  },
  "cells": [
    {
      "cell_type": "markdown",
      "metadata": {
        "id": "view-in-github",
        "colab_type": "text"
      },
      "source": [
        "<a href=\"https://colab.research.google.com/github/miguelamda/DL/blob/master/6.%20Modelos%20de%20Secuencias/Practica6.3.%20Usos%20Avanzados%20de%20RNN.ipynb\" target=\"_parent\"><img src=\"https://colab.research.google.com/assets/colab-badge.svg\" alt=\"Open In Colab\"/></a>"
      ]
    },
    {
      "cell_type": "markdown",
      "metadata": {
        "id": "Ve2kp3IkrHnq"
      },
      "source": [
        "# Práctica 6.3. Uso avanzados de Redes Recurrentes"
      ]
    },
    {
      "cell_type": "code",
      "metadata": {
        "colab": {
          "base_uri": "https://localhost:8080/",
          "height": 35
        },
        "id": "mt49gLuqrHn1",
        "outputId": "1e450a0c-ed17-43b2-de96-e0d346818fb8"
      },
      "source": [
        "from tensorflow import keras\n",
        "keras.__version__"
      ],
      "execution_count": null,
      "outputs": [
        {
          "output_type": "execute_result",
          "data": {
            "application/vnd.google.colaboratory.intrinsic+json": {
              "type": "string"
            },
            "text/plain": [
              "'2.4.0'"
            ]
          },
          "metadata": {
            "tags": []
          },
          "execution_count": 1
        }
      ]
    },
    {
      "cell_type": "markdown",
      "metadata": {
        "id": "SNcovgAOrHn1"
      },
      "source": [
        "## 1. Uso avanzado de redes neuronales recurrentes\n",
        "\n",
        "\n",
        "En esta práctica, revisaremos tres técnicas avanzadas para mejorar el rendimiento y el poder de generalización de las redes de neuronas recurrentes. Al final de la práctica, sabrás la mayor parte de lo que hay que saber sobre el uso de redes recurrentes con Keras. Vamos a mostrar los tres conceptos sobre un problema de pronóstico del tiempo, donde tenemos acceso a una serie de puntos de datos provenientes de los sensores instalados en el techo de un edificio, como la temperatura, la presión del aire y la humedad, que utilizamos para predecir cuál será la temperaturam24 horas después del último punto de datos recogido. Este es un problema bastante difícil que ejemplifica muchas de las dificultades comunes encontradas cuando se trabaja con series temporales.\n",
        "\n",
        "Cubriremos las siguientes técnicas:\n",
        "\n",
        "* *Recurrent dropout*, una forma específica e incorporada de utilizar la función de dropout para luchar contra el sobreajuste en capas recurrentes.\n",
        "* *Stacking recurrent layers*, para aumentar la capacidad de representación de la red (a costa de mayores cargas computacionales).\n",
        "* *Bidirectional recurrent layers*, que presenta la misma información a una red recurrente de diferentes maneras, aumentando la precisión y mitigando los problemas de olvido."
      ]
    },
    {
      "cell_type": "markdown",
      "metadata": {
        "id": "t9i1avJ4rHn2"
      },
      "source": [
        "## 2. Un problema de pronóstico de temperatura\n",
        "\n",
        "Hasta ahora, los únicos datos de secuencia que hemos cubierto han sido los datos de texto, por ejemplo, el conjunto de datos IMDB y el conjunto de datos de Reuters. Pero las secuencias de datos se encuentran en muchos más problemas que sólo el procesamiento del lenguaje. En todos los ejemplos de esta práctica, jugaremos con un tiempo \n",
        "registrado en la Estación Meteorológica del Instituto Max-Planck de Biogeoquímica de Jena, Alemania: \n",
        "http://www.bgc-jena.mpg.de/wetter/.\n",
        "\n",
        "En este conjunto de datos, se registran catorce cantidades diferentes (como la temperatura del aire, la presión atmosférica, la humedad, la dirección del viento, etc.) cada diez minutos, durante varios años. Los datos originales se remontan a 2003, pero nos limitamos a los datos de 2009-2016. Este conjunto de datos es perfecto para aprender a trabajar con series temporales numéricas. Lo usaremos para construir un modelo que tome como entrada algunos datos del pasado reciente (una días de puntos de datos) y predice la temperatura del aire en 24 horas en el futuro."
      ]
    },
    {
      "cell_type": "code",
      "metadata": {
        "id": "bq_mj1usgZUF",
        "outputId": "bdac27a1-98c6-435c-f3af-5f2836a9fb4a"
      },
      "source": [
        "!wget https://s3.amazonaws.com/keras-datasets/jena_climate_2009_2016.csv.zip\n",
        "!unzip jena_climate_2009_2016.csv.zip"
      ],
      "execution_count": null,
      "outputs": [
        {
          "output_type": "stream",
          "text": [
            "--2020-12-22 10:21:11--  https://s3.amazonaws.com/keras-datasets/jena_climate_2009_2016.csv.zip\n",
            "Resolving s3.amazonaws.com (s3.amazonaws.com)... 52.216.144.125\n",
            "Connecting to s3.amazonaws.com (s3.amazonaws.com)|52.216.144.125|:443... connected.\n",
            "HTTP request sent, awaiting response... 200 OK\n",
            "Length: 13568290 (13M) [application/zip]\n",
            "Saving to: 'jena_climate_2009_2016.csv.zip'\n",
            "\n",
            "100%[======================================>] 13,568,290  3.43MB/s   in 3.8s   \n",
            "\n",
            "2020-12-22 10:21:15 (3.43 MB/s) - 'jena_climate_2009_2016.csv.zip' saved [13568290/13568290]\n",
            "\n",
            "Archive:  jena_climate_2009_2016.csv.zip\n",
            "  inflating: jena_climate_2009_2016.csv  \n"
          ],
          "name": "stdout"
        }
      ]
    },
    {
      "cell_type": "markdown",
      "metadata": {
        "id": "J8ka9ymLrHn2"
      },
      "source": [
        "Echemos un vistazo a los datos:"
      ]
    },
    {
      "cell_type": "code",
      "metadata": {
        "colab": {
          "base_uri": "https://localhost:8080/"
        },
        "id": "N9Idamb8rHn3",
        "outputId": "0ac42bfc-34c2-4d0d-cb5f-5386fb94ee8d"
      },
      "source": [
        "import os\n",
        "\n",
        "data_dir = './'\n",
        "fname = os.path.join(data_dir, 'jena_climate_2009_2016.csv')\n",
        "\n",
        "f = open(fname)\n",
        "data = f.read()\n",
        "f.close()\n",
        "\n",
        "lines = data.split('\\n')\n",
        "header = lines[0].split(',')\n",
        "lines = lines[1:]\n",
        "\n",
        "print(header)\n",
        "print(len(lines))"
      ],
      "execution_count": null,
      "outputs": [
        {
          "output_type": "stream",
          "text": [
            "['\"Date Time\"', '\"p (mbar)\"', '\"T (degC)\"', '\"Tpot (K)\"', '\"Tdew (degC)\"', '\"rh (%)\"', '\"VPmax (mbar)\"', '\"VPact (mbar)\"', '\"VPdef (mbar)\"', '\"sh (g/kg)\"', '\"H2OC (mmol/mol)\"', '\"rho (g/m**3)\"', '\"wv (m/s)\"', '\"max. wv (m/s)\"', '\"wd (deg)\"']\n",
            "420551\n"
          ],
          "name": "stdout"
        }
      ]
    },
    {
      "cell_type": "markdown",
      "metadata": {
        "id": "0EFGWXW4rHn4"
      },
      "source": [
        "Convirtamos todas estas 420.551 líneas de datos en una matriz Numpy:"
      ]
    },
    {
      "cell_type": "code",
      "metadata": {
        "id": "T37MW_cxrHn4"
      },
      "source": [
        "import numpy as np\n",
        "\n",
        "float_data = np.zeros((len(lines), len(header) - 1))\n",
        "for i, line in enumerate(lines):\n",
        "    values = [float(x) for x in line.split(',')[1:]]\n",
        "    float_data[i, :] = values"
      ],
      "execution_count": null,
      "outputs": []
    },
    {
      "cell_type": "markdown",
      "metadata": {
        "id": "c0hVWqBTrHn4"
      },
      "source": [
        "Por ejemplo, aquí está el gráfico de la temperatura (en grados centígrados) a lo largo del tiempo:"
      ]
    },
    {
      "cell_type": "code",
      "metadata": {
        "colab": {
          "base_uri": "https://localhost:8080/",
          "height": 268
        },
        "id": "QS1ZX1yNrHn5",
        "outputId": "d982c436-a216-42d1-b841-3d897f501dfe"
      },
      "source": [
        "from matplotlib import pyplot as plt\n",
        "\n",
        "temp = float_data[:, 1]  # temperatura (en grados celsius)\n",
        "plt.plot(range(len(temp)), temp)\n",
        "plt.show()"
      ],
      "execution_count": null,
      "outputs": [
        {
          "output_type": "display_data",
          "data": {
            "image/png": "[encoded data removed]",
            "text/plain": [
              "<Figure size 432x288 with 1 Axes>"
            ]
          },
          "metadata": {
            "tags": [],
            "needs_background": "light"
          }
        }
      ]
    },
    {
      "cell_type": "markdown",
      "metadata": {
        "id": "8axwg5GCrHn5"
      },
      "source": [
        "En este gráfico se puede ver claramente la periodicidad anual de la temperatura.\n",
        "\n",
        "Aquí hay un gráfico más refinado de los primeros diez días de datos de temperatura (ya que los datos se registran cada diez minutos, obtenemos 144 puntos de datos por día):"
      ]
    },
    {
      "cell_type": "code",
      "metadata": {
        "colab": {
          "base_uri": "https://localhost:8080/",
          "height": 265
        },
        "id": "cq8LsizTrHn5",
        "outputId": "5f67418e-d59a-4084-aa6b-6b5bd569f49c"
      },
      "source": [
        "plt.plot(range(1440), temp[:1440])\n",
        "plt.show()"
      ],
      "execution_count": null,
      "outputs": [
        {
          "output_type": "display_data",
          "data": {
            "image/png": "[encoded data removed]",
            "text/plain": [
              "<Figure size 432x288 with 1 Axes>"
            ]
          },
          "metadata": {
            "tags": [],
            "needs_background": "light"
          }
        }
      ]
    },
    {
      "cell_type": "markdown",
      "metadata": {
        "id": "nvBxnD4IrHn6"
      },
      "source": [
        "En esta gráfica se puede ver la periodicidad diaria, especialmente la de los últimos 4 días. También podemos notar que este período de diez días debe venir de un mes de invierno bastante frío.\n",
        "\n",
        "Si estuviéramos tratando de predecir la temperatura media para el mes siguiente dados unos pocos datos del pasado, el problema sería fácil, debido a la periodicidad fiable de los datos a escala anual. Pero mirando los datos en una escala de días, la temperatura parece mucho más caótica. Por tanto, ¿son estas series temporales predecibles a escala diaria? Vamos a averiguarlo."
      ]
    },
    {
      "cell_type": "markdown",
      "metadata": {
        "id": "ezGFGAXbrHn6"
      },
      "source": [
        "## 3. Preparando los datos\n",
        "\n",
        "La formulación exacta de nuestro problema será la siguiente: dados los datos que se remontan a `lookback` pasos de tiempo o timesteps (un timestep es de 10 minutos) y muestreado cada `steps` timesteps, ¿podemos predecir la temperatura en `delay` timesteps?\n",
        "\n",
        "Vamos a usar los siguientes valores de parámetros:\n",
        "\n",
        "* `lookback = 720`, es decir, nuestras observaciones se remontan a 5 días atrás.\n",
        "* `steps = 6`, es decir, nuestras observaciones serán muestreadas en un datapoint por hora.\n",
        "* `delay = 144`, es decir, nuestros objetivos serán de 24 horas en el futuro.\n",
        "\n",
        "Para empezar, necesitamos hacer dos cosas:\n",
        "\n",
        "* Preprocesar los datos en un formato que una red neuronal pueda ingerir. Esto es fácil: los datos ya son numéricos, así que no necesitamos hacer ninguna vectorización. Sin embargo, cada serie temporal de los datos está en una escala diferente (por ejemplo, la temperatura suele estar entre -20 y +30, pero la presión, medida en mbar, es de alrededor de 1000). Así que vamos a normalizar cada serie temporal de forma independiente para que todos ellos tomen pequeños valores en un escala similar.\n",
        "* Escribir un generador Python que tome nuestro conjunto actual de datos de tipo float y produzca batches de datos del pasado reciente, junto con una temperatura objetivo en el futuro. Dado que las muestras en nuestro conjunto de datos son altamente redundantes (por ejemplo, la muestra `N` y la muestra `N + 1` tendrán la mayoría de sus timesteps en común), sería muy derrochador asignar explícitamente cada muestra. En lugar de eso, generaremos las muestras sobre la marcha usando los datos originales.\n",
        "\n",
        "Preprocesamos los datos restando la media de cada serie temporal y dividiéndola por la desviación estándar. Planeamos usar los primeros 200.000 pasos de tiempo como datos de entrenamiento, por lo que calculamos la media y la desviación estándar sólo en esta fracción de los datos:"
      ]
    },
    {
      "cell_type": "code",
      "metadata": {
        "id": "kaQdw9ycrHn6"
      },
      "source": [
        "mean = float_data[:200000].mean(axis=0)\n",
        "float_data -= mean\n",
        "std = float_data[:200000].std(axis=0)\n",
        "float_data /= std"
      ],
      "execution_count": null,
      "outputs": []
    },
    {
      "cell_type": "markdown",
      "metadata": {
        "id": "g9-2gK4srHn7"
      },
      "source": [
        "Hasta ahora hemos usado los generadores de datos predefinidos de Keras, por ejemplo para recorrer carpetas de imágenes. Pero también podemos hacer nuestros generadores personalizados, de tal manera que durante el entrenamiento, se vayan generando ejemplos. A continuación vamos a hacer nuestro generador de datos, que produce una tupla `(samples, targets)` donde `samples` es un lote de datos de entrada y `targets` es el conjunto correspondiente de temperaturas objetivo. Se necesitan los siguientes argumentos:\n",
        "\n",
        "* `data`: La matriz original de datos en coma flotante, que acabamos de normalizar en el fragmento de código anterior.\n",
        "* `lookback`: Cuántos timesteps hacia atrás deben ir nuestros datos de entrada.\n",
        "* `delay`: Cuántos timesteps en el futuro debería ser nuestro objetivo\n",
        "* `min_index` y `max_index`: Índices en la matriz de `datos` que delimitan los timesteps a seguir. Esto es útil para mantener un segmento de los datos para la validación y otro para las pruebas.\n",
        "* `shuffle`: Ya sea para barajar nuestras muestras o dibujarlas en orden cronológico.\n",
        "* `batch_size`: El número de muestras por lote.\n",
        "* `step`: El período, en timesteps, en el que se muestrean los datos. Lo fijaremos en 6 para poder dibujar un punto de datos cada hora."
      ]
    },
    {
      "cell_type": "code",
      "metadata": {
        "id": "D8HopjCZrHn7"
      },
      "source": [
        "def generator(data, lookback, delay, min_index, max_index,\n",
        "              shuffle=False, batch_size=128, step=6):\n",
        "    if max_index is None:\n",
        "        max_index = len(data) - delay - 1\n",
        "    i = min_index + lookback\n",
        "    while 1:\n",
        "        if shuffle:\n",
        "            rows = np.random.randint(\n",
        "                min_index + lookback, max_index, size=batch_size)\n",
        "        else:\n",
        "            if i + batch_size >= max_index:\n",
        "                i = min_index + lookback\n",
        "            rows = np.arange(i, min(i + batch_size, max_index))\n",
        "            i += len(rows)\n",
        "\n",
        "        samples = np.zeros((len(rows),\n",
        "                           lookback // step,\n",
        "                           data.shape[-1]))\n",
        "        targets = np.zeros((len(rows),))\n",
        "        for j, row in enumerate(rows):\n",
        "            indices = range(rows[j] - lookback, rows[j], step)\n",
        "            samples[j] = data[indices]\n",
        "            targets[j] = data[rows[j] + delay][1]\n",
        "        yield samples, targets  #Yield es distinto a return:\n",
        "                                #Devuelve un valor pero la ejecución de la función\n",
        "                                #queda \"suspendida\", en cuanto se llame de nuevo\n",
        "                                #a la función, ésta continúa por donde lo dejó,\n",
        "                                #por tanto es perfecto para generar datos"
      ],
      "execution_count": null,
      "outputs": []
    },
    {
      "cell_type": "markdown",
      "metadata": {
        "id": "zPfYd_K5rHn7"
      },
      "source": [
        "Ahora usemos nuestra función generador abstracta para instanciar tres generadores, uno para entrenamiento, otro para validación y otro para pruebas. \n",
        "Cada uno de ellos examinará diferentes segmentos temporales de los datos originales: el generador para training examina los primeros 200.000 pasos de tiempo, el generador para validation mira a los siguientes 100.000, y el generador para test mira al resto."
      ]
    },
    {
      "cell_type": "code",
      "metadata": {
        "id": "cOzZ10lHrHn8"
      },
      "source": [
        "lookback = 1440\n",
        "step = 6\n",
        "delay = 144\n",
        "batch_size = 128\n",
        "\n",
        "train_gen = generator(float_data,\n",
        "                      lookback=lookback,\n",
        "                      delay=delay,\n",
        "                      min_index=0,\n",
        "                      max_index=200000,\n",
        "                      shuffle=True,\n",
        "                      step=step, \n",
        "                      batch_size=batch_size)\n",
        "val_gen = generator(float_data,\n",
        "                    lookback=lookback,\n",
        "                    delay=delay,\n",
        "                    min_index=200001,\n",
        "                    max_index=300000,\n",
        "                    step=step,\n",
        "                    batch_size=batch_size)\n",
        "test_gen = generator(float_data,\n",
        "                     lookback=lookback,\n",
        "                     delay=delay,\n",
        "                     min_index=300001,\n",
        "                     max_index=None,\n",
        "                     step=step,\n",
        "                     batch_size=batch_size)\n",
        "\n",
        "# Esta es la cantidad de pasos que hay que seguir de `val_gen`\n",
        "# para ver todo el conjunto de validación:\n",
        "val_steps = (300000 - 200001 - lookback) // batch_size\n",
        "\n",
        "# Esta es la cantidad de pasos a seguir de `test_gen`\n",
        "# para ver todo el set de pruebas:\n",
        "test_steps = (len(float_data) - 300001 - lookback) // batch_size"
      ],
      "execution_count": null,
      "outputs": []
    },
    {
      "cell_type": "markdown",
      "metadata": {
        "id": "t0K6EACErHn8"
      },
      "source": [
        "## 4. Una base de sentido común, no de machine learning\n",
        "\n",
        "Antes de que empecemos a aprovechar los modelos de aprendizaje profundo como caja negra para resolver nuestro problema de predicción de temperatura, probemos un enfoque simple de sentido común. Servirá como un sanity check, y establecerá una base que tendremos que batir para demostrar la utilidad de los modelos más avanzados de aprendizaje automático. Estas líneas de base de sentido común pueden ser muy útiles cuando se aborda un nuevo problema para el que no existe una solución conocida (todavía). Un ejemplo clásico es el de las tareas de clasificación desequilibradas, donde algunas clases pueden ser mucho más comunes que otras. Si su conjunto de datos contiene el 90% de las instancias de clase A y el 10% de las instancias de clase B, entonces un enfoque de sentido común para la tarea de clasificación sería predecir siempre \"A\" cuando se presenta con una nueva muestra. Dicho clasificador tendría una precisión general del 90%, y, por lo tanto, cualquier enfoque basado en el aprendizaje automático debería superar esta puntuación del 90% para demostrar su utilidad. A veces una base tan elemental puede resultar sorprendentemente difícil de superar.\n",
        "\n",
        "En nuestro caso, se puede suponer con seguridad que las series de tiempo de temperatura son continuas (las temperaturas de mañana probablemente se aproximen a las temperaturas de hoy), así como periódicos con un período diario. Por lo tanto, un enfoque de sentido común sería predecir siempre que la temperatura 24 horas a partir de ahora será igual a la temperatura actual. Evaluemos este enfoque, utilizando la métrica del error medio absoluto (MAE). \n",
        "\n",
        "El error medio absoluto (MAE) es simplemente igual a `np.mean(np.abs(preds - targets))`"
      ]
    },
    {
      "cell_type": "markdown",
      "metadata": {
        "id": "P9844g-qrHn_"
      },
      "source": [
        "Aquí nuestro bucle de evaluación:"
      ]
    },
    {
      "cell_type": "code",
      "metadata": {
        "colab": {
          "base_uri": "https://localhost:8080/"
        },
        "id": "QGahUs_jrHn_",
        "outputId": "3da11fc1-1fcb-4074-918e-93ba06d2351f"
      },
      "source": [
        "def evaluate_naive_method():\n",
        "    batch_maes = []\n",
        "    for step in range(val_steps):\n",
        "        samples, targets = next(val_gen)\n",
        "        preds = samples[:, -1, 1]\n",
        "        mae = np.mean(np.abs(preds - targets))\n",
        "        batch_maes.append(mae)\n",
        "    print(np.mean(batch_maes))\n",
        "    \n",
        "evaluate_naive_method()"
      ],
      "execution_count": null,
      "outputs": [
        {
          "output_type": "stream",
          "text": [
            "0.2897359729905486\n"
          ],
          "name": "stdout"
        }
      ]
    },
    {
      "cell_type": "markdown",
      "metadata": {
        "id": "Kmwx8v_crHn_"
      },
      "source": [
        "Se obtiene un MAE de 0,29. Dado que nuestros datos de temperatura se han normalizado para que se centren en 0 y tengan una desviación estándar de uno, este número no es inmediatamente interpretable. Esto se traduce en un error absoluto medio de `0,29 * temperature_std` grados centígrados, es decir, 2,57˚C. Ese es un error absoluto promedio bastante grande -- ahora el juego es aprovechar nuestro conocimiento de aprendizaje profundo para hacerlo mejor. "
      ]
    },
    {
      "cell_type": "markdown",
      "metadata": {
        "id": "222hTsAtrHoA"
      },
      "source": [
        "## 5. Una aproximación básica de machine learning\n",
        "\n",
        "De la misma manera que es útil establecer una base de sentido común antes de intentar los enfoques de aprendizaje automático, es útil intentar modelos de machine learning simples y ligeros (como pequeñas redes densamente conectadas) antes de examinar más complicados y computacionalmente costosos, como las RNN. Esta es la mejor manera de asegurarnos de que cualquier complejidad adicional que lancemos al problema más adelante sea legítima y ofrezca beneficios reales.\n",
        "\n",
        "Aquí hay un modelo completamente conectado en el que empezamos aplanando los datos y luego los ejecutamos a través de dos capas `Dense`. Nótese la falta de función de activación en la última capa `Dense`, que es típica de un problema de regresión. Usamos el MAE como pérdida. Ya que estamos evaluando con los mismos datos y con la misma métrica que con nuestro enfoque de sentido común, los resultados serán directamente comparables."
      ]
    },
    {
      "cell_type": "code",
      "metadata": {
        "colab": {
          "base_uri": "https://localhost:8080/"
        },
        "id": "BwPKNoEhrHoA",
        "outputId": "302a1ca1-b25d-45c7-cf5e-982205b5fb14"
      },
      "source": [
        "from keras.models import Sequential\n",
        "from keras import layers\n",
        "from keras.optimizers import RMSprop\n",
        "\n",
        "model = Sequential()\n",
        "model.add(layers.Flatten(input_shape=(lookback // step, float_data.shape[-1])))\n",
        "model.add(layers.Dense(32, activation='relu'))\n",
        "model.add(layers.Dense(1))\n",
        "\n",
        "model.compile(optimizer=RMSprop(), loss='mae')\n",
        "history = model.fit(train_gen,\n",
        "                      steps_per_epoch=500,\n",
        "                      epochs=20,\n",
        "                      validation_data=val_gen,\n",
        "                      validation_steps=val_steps)"
      ],
      "execution_count": null,
      "outputs": [
        {
          "output_type": "stream",
          "text": [
            "Epoch 1/20\n",
            "500/500 [==============================] - 8s 17ms/step - loss: 1.3024 - val_loss: 0.6197\n",
            "Epoch 2/20\n",
            "500/500 [==============================] - 8s 17ms/step - loss: 0.4302 - val_loss: 0.3344\n",
            "Epoch 3/20\n",
            "500/500 [==============================] - 9s 18ms/step - loss: 0.2911 - val_loss: 0.3115\n",
            "Epoch 4/20\n",
            "500/500 [==============================] - 9s 18ms/step - loss: 0.2673 - val_loss: 0.3064\n",
            "Epoch 5/20\n",
            "500/500 [==============================] - 9s 18ms/step - loss: 0.2541 - val_loss: 0.3051\n",
            "Epoch 6/20\n",
            "500/500 [==============================] - 8s 17ms/step - loss: 0.2444 - val_loss: 0.3055\n",
            "Epoch 7/20\n",
            "500/500 [==============================] - 8s 17ms/step - loss: 0.2380 - val_loss: 0.3362\n",
            "Epoch 8/20\n",
            "500/500 [==============================] - 9s 18ms/step - loss: 0.2330 - val_loss: 0.3165\n",
            "Epoch 9/20\n",
            "500/500 [==============================] - 9s 17ms/step - loss: 0.2284 - val_loss: 0.3162\n",
            "Epoch 10/20\n",
            "500/500 [==============================] - 9s 17ms/step - loss: 0.2234 - val_loss: 0.3642\n",
            "Epoch 11/20\n",
            "500/500 [==============================] - 9s 18ms/step - loss: 0.2208 - val_loss: 0.3200\n",
            "Epoch 12/20\n",
            "500/500 [==============================] - 9s 18ms/step - loss: 0.2164 - val_loss: 0.3272\n",
            "Epoch 13/20\n",
            "500/500 [==============================] - 8s 17ms/step - loss: 0.2153 - val_loss: 0.3344\n",
            "Epoch 14/20\n",
            "500/500 [==============================] - 9s 18ms/step - loss: 0.2127 - val_loss: 0.3423\n",
            "Epoch 15/20\n",
            "500/500 [==============================] - 9s 17ms/step - loss: 0.2121 - val_loss: 0.3293\n",
            "Epoch 16/20\n",
            "500/500 [==============================] - 9s 17ms/step - loss: 0.2080 - val_loss: 0.3345\n",
            "Epoch 17/20\n",
            "500/500 [==============================] - 8s 17ms/step - loss: 0.2072 - val_loss: 0.3457\n",
            "Epoch 18/20\n",
            "500/500 [==============================] - 9s 18ms/step - loss: 0.2036 - val_loss: 0.3866\n",
            "Epoch 19/20\n",
            "500/500 [==============================] - 9s 18ms/step - loss: 0.2031 - val_loss: 0.3386\n",
            "Epoch 20/20\n",
            "500/500 [==============================] - 9s 17ms/step - loss: 0.2018 - val_loss: 0.3368\n"
          ],
          "name": "stdout"
        }
      ]
    },
    {
      "cell_type": "markdown",
      "metadata": {
        "id": "ZkD_yA6crHoB"
      },
      "source": [
        "Mostremos las curvas de pérdida para validación y entrenamiento:"
      ]
    },
    {
      "cell_type": "code",
      "metadata": {
        "colab": {
          "base_uri": "https://localhost:8080/",
          "height": 281
        },
        "id": "KIQuTf5irHoB",
        "outputId": "0f6c2ca3-132e-4940-f1b6-ed129cc93999"
      },
      "source": [
        "import matplotlib.pyplot as plt\n",
        "\n",
        "loss = history.history['loss']\n",
        "val_loss = history.history['val_loss']\n",
        "\n",
        "epochs = range(len(loss))\n",
        "\n",
        "plt.figure()\n",
        "\n",
        "plt.plot(epochs, loss, 'bo', label='Training loss')\n",
        "plt.plot(epochs, val_loss, 'b', label='Validation loss')\n",
        "plt.title('Training and validation loss')\n",
        "plt.legend()\n",
        "\n",
        "plt.show()"
      ],
      "execution_count": null,
      "outputs": [
        {
          "output_type": "display_data",
          "data": {
            "image/png": "[encoded data removed]",
            "text/plain": [
              "<Figure size 432x288 with 1 Axes>"
            ]
          },
          "metadata": {
            "tags": [],
            "needs_background": "light"
          }
        }
      ]
    },
    {
      "cell_type": "markdown",
      "metadata": {
        "id": "2WeZxhEKrHoB"
      },
      "source": [
        "Podemos ver que en algunas épocas, la pérdida sobre validación se acerca a la base sin aprendizaje, pero no son muy fiables. Esto demuestra el mérito de haber tenido esta base en primer lugar: resulta no ser tan fácil de superar. Nuestro sentido común ya contiene mucha información valiosa a la que un modelo de machine learning no tiene acceso.\n",
        "\n",
        "Te podrías estar preguntado, si existe un modelo simple y de buen desempeño para pasar de los datos a los objetivos (nuestra base de sentido común), ¿por qué el modelo que estamos entrenando no lo encuentra y lo mejora? En pocas palabras: porque esta sencilla solución no es lo que nuestra configuración de entrenamiento está buscando. El espacio de los modelos en los que buscamos una solución, es decir, nuestro espacio de hipótesis, es el espacio de todas las redes de dos capas posibles. Con la configuración que hemos definido. Estas redes ya son bastante complicadas. En la búsqueda de una solución con un espacio de modelos complicados, la simple base con buen desempeño podría ser inaprendible, incluso si es técnicamente parte del espacio de hipótesis. Esto es una **limitación bastante significativa del aprendizaje automático en general**: *a menos que el algoritmo de aprendizaje esté codificado para buscar una clase específica de un modelo simple, el aprendizaje de parámetros puede a veces no encontrar una solución simple a un problema simple*.\n"
      ]
    },
    {
      "cell_type": "markdown",
      "metadata": {
        "id": "otR2bSN7rHoB"
      },
      "source": [
        "## 6. Una primera base recurrente\n",
        "\n",
        "Nuestro primer enfoque totalmente conectado no funcionó muy bien, pero eso no significa que el aprendizaje automático no sea aplicable a nuestro problema. El enfoque anterior consistió en aplanar primero las series temporales, lo que eliminó la noción de tiempo de los datos de entrada. En su lugar, miremos nuestros datos como lo que son: una secuencia, donde la causalidad y el orden importan. Intentaremos un modelo de procesamiento de secuencias recurrente -- debería ser el modelo perfecto para tales datos secuenciales, precisamente porque explota el ordenamiento temporal de los puntos de datos, a diferencia de nuestro primer enfoque.\n",
        "\n",
        "En lugar de la capa `LSTM` introducida en la práctica anterior, utilizaremos la capa `GRU`, desarrollada por Cho et al. en 2014. Las capas de `GRU` (que significa \"gated recurrent unit\") funcionan aprovechando el mismo principio que LSTM, pero están un poco racionalizadas y por lo tanto son más baratas de ejecutar, aunque puede que no tengan tanto poder de representación como las LSTM. Este compromiso entre la costosidad computacional y el poder de representación se ve en todas partes en el aprendizaje automático."
      ]
    },
    {
      "cell_type": "code",
      "metadata": {
        "colab": {
          "base_uri": "https://localhost:8080/"
        },
        "id": "ee0jevgorHoC",
        "outputId": "9bf1bb28-0c94-43ae-99c1-caafa748f02e"
      },
      "source": [
        "from keras.models import Sequential\n",
        "from keras import layers\n",
        "from keras.optimizers import RMSprop\n",
        "\n",
        "model = Sequential()\n",
        "model.add(layers.GRU(32, input_shape=(None, float_data.shape[-1])))\n",
        "model.add(layers.Dense(1))\n",
        "\n",
        "model.compile(optimizer=RMSprop(), loss='mae')\n",
        "history = model.fit(train_gen,\n",
        "                    steps_per_epoch=500,\n",
        "                    epochs=20,\n",
        "                    validation_data=val_gen,\n",
        "                    validation_steps=val_steps)\n",
        "\n",
        "# Si este código te falla en local, con un error asociado a CuDNN, entonces ve \n",
        "# al final de la práctica, donde verás cómo resolverlo"
      ],
      "execution_count": null,
      "outputs": [
        {
          "output_type": "stream",
          "text": [
            "Epoch 1/20\n",
            "500/500 [==============================] - 9s 17ms/step - loss: 0.3049 - val_loss: 0.2746\n",
            "Epoch 2/20\n",
            "500/500 [==============================] - 8s 17ms/step - loss: 0.2841 - val_loss: 0.2741\n",
            "Epoch 3/20\n",
            "500/500 [==============================] - 9s 17ms/step - loss: 0.2802 - val_loss: 0.2632\n",
            "Epoch 4/20\n",
            "500/500 [==============================] - 9s 17ms/step - loss: 0.2729 - val_loss: 0.2681\n",
            "Epoch 5/20\n",
            "500/500 [==============================] - 9s 17ms/step - loss: 0.2669 - val_loss: 0.2700\n",
            "Epoch 6/20\n",
            "500/500 [==============================] - 9s 17ms/step - loss: 0.2621 - val_loss: 0.2675\n",
            "Epoch 7/20\n",
            "500/500 [==============================] - 9s 18ms/step - loss: 0.2564 - val_loss: 0.2670\n",
            "Epoch 8/20\n",
            "500/500 [==============================] - 9s 17ms/step - loss: 0.2527 - val_loss: 0.2755\n",
            "Epoch 9/20\n",
            "500/500 [==============================] - 8s 17ms/step - loss: 0.2465 - val_loss: 0.2709\n",
            "Epoch 10/20\n",
            "500/500 [==============================] - 9s 17ms/step - loss: 0.2440 - val_loss: 0.2745\n",
            "Epoch 11/20\n",
            "500/500 [==============================] - 8s 17ms/step - loss: 0.2404 - val_loss: 0.2813\n",
            "Epoch 12/20\n",
            "500/500 [==============================] - 9s 18ms/step - loss: 0.2367 - val_loss: 0.2789\n",
            "Epoch 13/20\n",
            "500/500 [==============================] - 8s 17ms/step - loss: 0.2350 - val_loss: 0.2799\n",
            "Epoch 14/20\n",
            "500/500 [==============================] - 8s 17ms/step - loss: 0.2305 - val_loss: 0.2895\n",
            "Epoch 15/20\n",
            "500/500 [==============================] - 9s 17ms/step - loss: 0.2283 - val_loss: 0.2885\n",
            "Epoch 16/20\n",
            "500/500 [==============================] - 9s 17ms/step - loss: 0.2246 - val_loss: 0.2984\n",
            "Epoch 17/20\n",
            "500/500 [==============================] - 9s 17ms/step - loss: 0.2208 - val_loss: 0.2995\n",
            "Epoch 18/20\n",
            "500/500 [==============================] - 9s 17ms/step - loss: 0.2170 - val_loss: 0.3063\n",
            "Epoch 19/20\n",
            "500/500 [==============================] - 9s 17ms/step - loss: 0.2134 - val_loss: 0.3132\n",
            "Epoch 20/20\n",
            "500/500 [==============================] - 8s 17ms/step - loss: 0.2107 - val_loss: 0.3131\n"
          ],
          "name": "stdout"
        }
      ]
    },
    {
      "cell_type": "markdown",
      "metadata": {
        "id": "1Bucnn7rrHoC"
      },
      "source": [
        "Miremos nuestros resultados:"
      ]
    },
    {
      "cell_type": "code",
      "metadata": {
        "colab": {
          "base_uri": "https://localhost:8080/",
          "height": 281
        },
        "id": "DEt39jkZrHoC",
        "outputId": "cbda0e12-8c50-4a78-a63b-a9be5ef8052b"
      },
      "source": [
        "loss = history.history['loss']\n",
        "val_loss = history.history['val_loss']\n",
        "\n",
        "epochs = range(len(loss))\n",
        "\n",
        "plt.figure()\n",
        "\n",
        "plt.plot(epochs, loss, 'bo', label='Training loss')\n",
        "plt.plot(epochs, val_loss, 'b', label='Validation loss')\n",
        "plt.title('Training and validation loss')\n",
        "plt.legend()\n",
        "\n",
        "plt.show()"
      ],
      "execution_count": null,
      "outputs": [
        {
          "output_type": "display_data",
          "data": {
            "image/png": "[encoded data removed]",
            "text/plain": [
              "<Figure size 432x288 with 1 Axes>"
            ]
          },
          "metadata": {
            "tags": [],
            "needs_background": "light"
          }
        }
      ]
    },
    {
      "cell_type": "markdown",
      "metadata": {
        "id": "JoX-sPJArHoC"
      },
      "source": [
        "¡Un poco mejor! Somos capaces de superar la base del sentido común si nos quedamos en el punto donde se sobreajusta (sobre la época 6). Esto demuestra el valor del aprendizaje automático, así como la superioridad de las redes recurrentes en comparación con las redes densas que \"aplastan\" la secuencia en este tipo de tareas.\n",
        "\n",
        "Nuestra nueva validación MAE de ~0,265 (antes de que comencemos a sobreajustar significativamente) se traduce en un error absoluto medio de 2,35˚C después de la desnormalización. Eso es una sólida ganancia sobre nuestro error inicial de 2,57˚C, pero probablemente todavía tenemos un poco de margen para mejorar."
      ]
    },
    {
      "cell_type": "markdown",
      "metadata": {
        "id": "v3zheTMerHoC"
      },
      "source": [
        "## 7. Usando recurrent dropout para contraatacar al sobreajuste\n",
        "\n",
        "De nuestras curvas de entrenamiento y validación se deduce que nuestro modelo está sobredimensionado: las pérdidas en entrenamiento y validación empiezan a divergir considerablemente después de unas pocas épocas. Ya estás familiarizado con una técnica clásica para combatir este fenómeno: el dropout, que consiste en la puesta a cero aleatoria de las unidades de entrada de una capa para romper las correlaciones de casualidad en los datos de entrenamiento a los que está expuesta la capa. \n",
        "\n",
        "Sin embargo, cómo aplicar correctamente el dropout en redes recurrentes no es una cuestión trivial. Se sabe desde hace mucho tiempo que la aplicación del dropout antes de una capa recurrente dificulta el aprendizaje en lugar de ayudar con la regularización. En 2015, Yarin Gal, como parte de su tesis doctoral sobre el aprendizaje profundo bayesiano, determinó la forma correcta de utilizar el dropout con una red recurrente: se debe aplicar la misma máscara de dropout (el mismo patrón de unidades de dropout) en cada paso de tiempo, en lugar de una máscara de dropout que varíe aleatoriamente de un paso de tiempo a otro. Es más: para regularizar las representaciones formadas por las puertas recurrentes de capas como GRU y LSTM, se debe aplicar una máscara de dropout temporal constante a las activaciones internas recurrentes de la capa (una máscara de dropout \"recurrente\"). El uso de la misma máscara de dropout en cada paso del tiempo permite a la red propagar adecuadamente su error de aprendizaje a través del tiempo; en cambio, una máscara de dropout temporal aleatorio interrumpiría esta señal de error y sería perjudicial para el proceso de aprendizaje.\n",
        "\n",
        "Yarin Gal hizo su investigación usando Keras y ayudó a construir este mecanismo directamente en las capas recurrentes de Keras. Cada capa recurrente en Keras tiene dos argumentos relacionados con el dropout: `dropout`, un valor tipo float que especifica la tasa de dropout para las unidades de entrada de la capa, y `recurrent_dropout`, que especifica la tasa de dropout de las unidades recurrentes. Añadamos dropout y recurrent dropouts a nuestra capa GRU y veamos cómo influyen en el sobreajuste. Debido a que las redes que se regularizan con dropout siempre tardan más en converger completamente, entrenamos a nuestra red durante el doble de épocas. Este entrenamiento tardará un buen rato."
      ]
    },
    {
      "cell_type": "code",
      "metadata": {
        "colab": {
          "base_uri": "https://localhost:8080/"
        },
        "id": "Q0QUKKXSrHoD",
        "outputId": "c01fa77e-7958-43de-f45a-8e7eb6e14521"
      },
      "source": [
        "from keras.models import Sequential\n",
        "from keras import layers\n",
        "from keras.optimizers import RMSprop\n",
        "\n",
        "model = Sequential()\n",
        "model.add(layers.GRU(32,\n",
        "                     dropout=0.2,\n",
        "                     recurrent_dropout=0.2,\n",
        "                     input_shape=(None, float_data.shape[-1])))\n",
        "model.add(layers.Dense(1))\n",
        "\n",
        "model.compile(optimizer=RMSprop(), loss='mae')\n",
        "history = model.fit(train_gen,\n",
        "                    steps_per_epoch=500,\n",
        "                    epochs=40,\n",
        "                    validation_data=val_gen,\n",
        "                    validation_steps=val_steps)"
      ],
      "execution_count": null,
      "outputs": [
        {
          "output_type": "stream",
          "text": [
            "WARNING:tensorflow:Layer gru_1 will not use cuDNN kernel since it doesn't meet the cuDNN kernel criteria. It will use generic GPU kernel as fallback when running on GPU\n",
            "Epoch 1/40\n",
            "500/500 [==============================] - 129s 258ms/step - loss: 0.3275 - val_loss: 0.2749\n",
            "Epoch 2/40\n",
            "500/500 [==============================] - 128s 257ms/step - loss: 0.3051 - val_loss: 0.2727\n",
            "Epoch 3/40\n",
            "500/500 [==============================] - 128s 256ms/step - loss: 0.2991 - val_loss: 0.2709\n",
            "Epoch 4/40\n",
            "500/500 [==============================] - 127s 255ms/step - loss: 0.2949 - val_loss: 0.2703\n",
            "Epoch 5/40\n",
            "500/500 [==============================] - 128s 255ms/step - loss: 0.2916 - val_loss: 0.2822\n",
            "Epoch 6/40\n",
            "500/500 [==============================] - 127s 255ms/step - loss: 0.2869 - val_loss: 0.2689\n",
            "Epoch 7/40\n",
            "500/500 [==============================] - 127s 253ms/step - loss: 0.2821 - val_loss: 0.2716\n",
            "Epoch 8/40\n",
            "500/500 [==============================] - 127s 253ms/step - loss: 0.2805 - val_loss: 0.2674\n",
            "Epoch 9/40\n",
            "500/500 [==============================] - 126s 253ms/step - loss: 0.2776 - val_loss: 0.2694\n",
            "Epoch 10/40\n",
            "500/500 [==============================] - 127s 253ms/step - loss: 0.2748 - val_loss: 0.2678\n",
            "Epoch 11/40\n",
            "500/500 [==============================] - 127s 253ms/step - loss: 0.2729 - val_loss: 0.2721\n",
            "Epoch 12/40\n",
            "500/500 [==============================] - 126s 253ms/step - loss: 0.2681 - val_loss: 0.2755\n",
            "Epoch 13/40\n",
            "500/500 [==============================] - 128s 255ms/step - loss: 0.2673 - val_loss: 0.2735\n",
            "Epoch 14/40\n",
            "500/500 [==============================] - 127s 253ms/step - loss: 0.2666 - val_loss: 0.2719\n",
            "Epoch 15/40\n",
            "500/500 [==============================] - 126s 253ms/step - loss: 0.2649 - val_loss: 0.2715\n",
            "Epoch 16/40\n",
            "500/500 [==============================] - 126s 253ms/step - loss: 0.2635 - val_loss: 0.2712\n",
            "Epoch 17/40\n",
            "500/500 [==============================] - 127s 253ms/step - loss: 0.2591 - val_loss: 0.2736\n",
            "Epoch 18/40\n",
            "500/500 [==============================] - 126s 253ms/step - loss: 0.2565 - val_loss: 0.2718\n",
            "Epoch 19/40\n",
            "500/500 [==============================] - 126s 253ms/step - loss: 0.2569 - val_loss: 0.2756\n",
            "Epoch 20/40\n",
            "500/500 [==============================] - 126s 253ms/step - loss: 0.2553 - val_loss: 0.2742\n",
            "Epoch 21/40\n",
            "500/500 [==============================] - 126s 253ms/step - loss: 0.2526 - val_loss: 0.2772\n",
            "Epoch 22/40\n",
            "500/500 [==============================] - 127s 253ms/step - loss: 0.2528 - val_loss: 0.2773\n",
            "Epoch 23/40\n",
            "500/500 [==============================] - 127s 253ms/step - loss: 0.2509 - val_loss: 0.2771\n",
            "Epoch 24/40\n",
            "500/500 [==============================] - 126s 253ms/step - loss: 0.2482 - val_loss: 0.2778\n",
            "Epoch 25/40\n",
            "500/500 [==============================] - 127s 253ms/step - loss: 0.2474 - val_loss: 0.2777\n",
            "Epoch 26/40\n",
            "500/500 [==============================] - 127s 254ms/step - loss: 0.2451 - val_loss: 0.2775\n",
            "Epoch 27/40\n",
            "500/500 [==============================] - 127s 253ms/step - loss: 0.2441 - val_loss: 0.2810\n",
            "Epoch 28/40\n",
            "500/500 [==============================] - 127s 253ms/step - loss: 0.2423 - val_loss: 0.2812\n",
            "Epoch 29/40\n",
            "500/500 [==============================] - 127s 253ms/step - loss: 0.2429 - val_loss: 0.2816\n",
            "Epoch 30/40\n",
            "500/500 [==============================] - 126s 253ms/step - loss: 0.2397 - val_loss: 0.2855\n",
            "Epoch 31/40\n",
            "500/500 [==============================] - 127s 253ms/step - loss: 0.2386 - val_loss: 0.2902\n",
            "Epoch 32/40\n",
            "500/500 [==============================] - 126s 253ms/step - loss: 0.2365 - val_loss: 0.2836\n",
            "Epoch 33/40\n",
            "500/500 [==============================] - 126s 253ms/step - loss: 0.2372 - val_loss: 0.2866\n",
            "Epoch 34/40\n",
            "500/500 [==============================] - 126s 253ms/step - loss: 0.2356 - val_loss: 0.2991\n",
            "Epoch 35/40\n",
            "500/500 [==============================] - 127s 253ms/step - loss: 0.2344 - val_loss: 0.2909\n",
            "Epoch 36/40\n",
            "500/500 [==============================] - 127s 253ms/step - loss: 0.2315 - val_loss: 0.2931\n",
            "Epoch 37/40\n",
            "500/500 [==============================] - 126s 253ms/step - loss: 0.2319 - val_loss: 0.2905\n",
            "Epoch 38/40\n",
            "500/500 [==============================] - 126s 253ms/step - loss: 0.2311 - val_loss: 0.2953\n",
            "Epoch 39/40\n",
            "500/500 [==============================] - 127s 255ms/step - loss: 0.2295 - val_loss: 0.2973\n",
            "Epoch 40/40\n",
            "500/500 [==============================] - 126s 253ms/step - loss: 0.2276 - val_loss: 0.2961\n"
          ],
          "name": "stdout"
        }
      ]
    },
    {
      "cell_type": "code",
      "metadata": {
        "colab": {
          "base_uri": "https://localhost:8080/",
          "height": 281
        },
        "id": "JDH8lGSTrHoD",
        "outputId": "8a3702e2-547e-444b-8e88-ccb0e35f3cd3"
      },
      "source": [
        "loss = history.history['loss']\n",
        "val_loss = history.history['val_loss']\n",
        "\n",
        "epochs = range(len(loss))\n",
        "\n",
        "plt.figure()\n",
        "\n",
        "plt.plot(epochs, loss, 'bo', label='Training loss')\n",
        "plt.plot(epochs, val_loss, 'b', label='Validation loss')\n",
        "plt.title('Training and validation loss')\n",
        "plt.legend()\n",
        "\n",
        "plt.show()"
      ],
      "execution_count": null,
      "outputs": [
        {
          "output_type": "display_data",
          "data": {
            "image/png": "[encoded data removed]",
            "text/plain": [
              "<Figure size 432x288 with 1 Axes>"
            ]
          },
          "metadata": {
            "tags": [],
            "needs_background": "light"
          }
        }
      ]
    },
    {
      "cell_type": "markdown",
      "metadata": {
        "id": "qUB6QGAzrHoD"
      },
      "source": [
        "\n",
        "Gran éxito, ya no estamos sobreajustando durante las primeras 30 épocas. Sin embargo, aunque tenemos puntuaciones de evaluación más estables, nuestras mejores puntuaciones no son mucho más bajas de lo que eran antes.\n"
      ]
    },
    {
      "cell_type": "markdown",
      "metadata": {
        "id": "6LEyXjHvrHoD"
      },
      "source": [
        "## 8. Apilando capas recurrentes\n",
        "\n",
        "Dado que ya no estamos sobreajustando pero parece que hemos encontrado un cuello de botella en el rendimiento, deberíamos empezar a considerar aumentar la capacidad de nuestra red. Si recuerdas la descripción del \"flujo de trabajo de aprendizaje automático universal\": en general, es una buena idea aumentar la capacidad de tu red hasta que el sobreajuste se convierta en tu principal obstáculo (suponiendo que ya estés tomando medidas básicas para mitigar el sobreajuste, como el uso del dropout). Siempre y cuando no estés sobreajustando demasiado, entonces es probable que estés por debajo de capacidad de abstracción.\n",
        "\n",
        "El aumento de la capacidad de la red se realiza normalmente aumentando el número de unidades en las capas o añadiendo más capas. El apilamiento de capas recurrentes es una forma clásica de construir redes recurrentes más potentes: por ejemplo, lo que actualmente impulsa el algoritmo de traducción de Google es una pila de siete capas grandes de LSTM, lo que es enorme.\n",
        "\n",
        "Para poder apilar capas recurrentes una encima de otra en Keras, todas las capas intermedias deben devolver su secuencia completa de salidas (un tensor 3D) en lugar de su salida en el último paso del tiempo. Esto se hace especificando `return_sequences=True`: "
      ]
    },
    {
      "cell_type": "code",
      "metadata": {
        "colab": {
          "base_uri": "https://localhost:8080/"
        },
        "id": "lQrLlXverHoD",
        "outputId": "6e1e7f3c-20a4-4871-a2bc-765d89b02a0f"
      },
      "source": [
        "from keras.models import Sequential\n",
        "from keras import layers\n",
        "from keras.optimizers import RMSprop\n",
        "\n",
        "model = Sequential()\n",
        "model.add(layers.GRU(32,\n",
        "                     dropout=0.1,\n",
        "                     recurrent_dropout=0.5,\n",
        "                     return_sequences=True,\n",
        "                     input_shape=(None, float_data.shape[-1])))\n",
        "model.add(layers.GRU(64, activation='relu',\n",
        "                     dropout=0.1, \n",
        "                     recurrent_dropout=0.5))\n",
        "model.add(layers.Dense(1))\n",
        "\n",
        "model.compile(optimizer=RMSprop(), loss='mae')\n",
        "history = model.fit(train_gen,\n",
        "                    steps_per_epoch=500,\n",
        "                    epochs=40,\n",
        "                    validation_data=val_gen,\n",
        "                    validation_steps=val_steps)"
      ],
      "execution_count": null,
      "outputs": [
        {
          "output_type": "stream",
          "text": [
            "WARNING:tensorflow:Layer gru_2 will not use cuDNN kernel since it doesn't meet the cuDNN kernel criteria. It will use generic GPU kernel as fallback when running on GPU\n",
            "WARNING:tensorflow:Layer gru_3 will not use cuDNN kernel since it doesn't meet the cuDNN kernel criteria. It will use generic GPU kernel as fallback when running on GPU\n",
            "Epoch 1/40\n",
            "500/500 [==============================] - 265s 530ms/step - loss: 0.3183 - val_loss: 0.2734\n",
            "Epoch 2/40\n",
            "500/500 [==============================] - 265s 530ms/step - loss: 0.3008 - val_loss: 0.2760\n",
            "Epoch 3/40\n",
            "500/500 [==============================] - 264s 527ms/step - loss: 0.2935 - val_loss: 0.2709\n",
            "Epoch 4/40\n",
            "500/500 [==============================] - 264s 527ms/step - loss: 0.2854 - val_loss: 0.2658\n",
            "Epoch 5/40\n",
            "500/500 [==============================] - 263s 527ms/step - loss: 0.2786 - val_loss: 0.2691\n",
            "Epoch 6/40\n",
            "500/500 [==============================] - 264s 527ms/step - loss: 0.2744 - val_loss: 0.2674\n",
            "Epoch 7/40\n",
            "500/500 [==============================] - 263s 527ms/step - loss: 0.2689 - val_loss: 0.2864\n",
            "Epoch 8/40\n",
            "500/500 [==============================] - 263s 527ms/step - loss: 0.2644 - val_loss: 0.2787\n",
            "Epoch 9/40\n",
            "500/500 [==============================] - 264s 527ms/step - loss: 0.2602 - val_loss: 0.2760\n",
            "Epoch 10/40\n",
            "500/500 [==============================] - 264s 527ms/step - loss: 0.2551 - val_loss: 0.2881\n",
            "Epoch 11/40\n",
            "500/500 [==============================] - 263s 527ms/step - loss: 0.2502 - val_loss: 0.2913\n",
            "Epoch 12/40\n",
            "500/500 [==============================] - 264s 527ms/step - loss: 0.2462 - val_loss: 0.2979\n",
            "Epoch 13/40\n",
            "500/500 [==============================] - 264s 527ms/step - loss: 0.2425 - val_loss: 0.2974\n",
            "Epoch 14/40\n",
            "500/500 [==============================] - 264s 527ms/step - loss: 0.2395 - val_loss: 0.2972\n",
            "Epoch 15/40\n",
            "500/500 [==============================] - 264s 527ms/step - loss: 0.2343 - val_loss: 0.3040\n",
            "Epoch 16/40\n",
            "500/500 [==============================] - 264s 527ms/step - loss: 0.2306 - val_loss: 0.3127\n",
            "Epoch 17/40\n",
            "500/500 [==============================] - 264s 527ms/step - loss: 0.2283 - val_loss: 0.3086\n",
            "Epoch 18/40\n",
            "500/500 [==============================] - 264s 527ms/step - loss: 0.2243 - val_loss: 0.3040\n",
            "Epoch 19/40\n",
            "500/500 [==============================] - 263s 527ms/step - loss: 0.2225 - val_loss: 0.3166\n",
            "Epoch 20/40\n",
            "500/500 [==============================] - 264s 527ms/step - loss: 0.2201 - val_loss: 0.3157\n",
            "Epoch 21/40\n",
            "500/500 [==============================] - 263s 527ms/step - loss: 0.2165 - val_loss: 0.3204\n",
            "Epoch 22/40\n",
            "500/500 [==============================] - 263s 527ms/step - loss: 0.2143 - val_loss: 0.3146\n",
            "Epoch 23/40\n",
            "500/500 [==============================] - 264s 527ms/step - loss: 0.2113 - val_loss: 0.3348\n",
            "Epoch 24/40\n",
            "500/500 [==============================] - 264s 527ms/step - loss: 0.2085 - val_loss: 0.3172\n",
            "Epoch 25/40\n",
            "500/500 [==============================] - 264s 527ms/step - loss: 0.2067 - val_loss: 0.3213\n",
            "Epoch 26/40\n",
            "500/500 [==============================] - 263s 527ms/step - loss: 0.2049 - val_loss: 0.3198\n",
            "Epoch 27/40\n",
            "500/500 [==============================] - 264s 527ms/step - loss: 0.2021 - val_loss: 0.3247\n",
            "Epoch 28/40\n",
            "500/500 [==============================] - 264s 527ms/step - loss: 0.2002 - val_loss: 0.3310\n",
            "Epoch 29/40\n",
            "500/500 [==============================] - 263s 527ms/step - loss: 0.1999 - val_loss: 0.3187\n",
            "Epoch 30/40\n",
            "500/500 [==============================] - 263s 527ms/step - loss: 0.1965 - val_loss: 0.3181\n",
            "Epoch 31/40\n",
            "500/500 [==============================] - 263s 527ms/step - loss: 0.1963 - val_loss: 0.3296\n",
            "Epoch 32/40\n",
            "500/500 [==============================] - 263s 527ms/step - loss: 0.1946 - val_loss: 0.3254\n",
            "Epoch 33/40\n",
            "500/500 [==============================] - 264s 527ms/step - loss: 0.1936 - val_loss: 0.3371\n",
            "Epoch 34/40\n",
            "500/500 [==============================] - 263s 527ms/step - loss: 0.1910 - val_loss: 0.3356\n",
            "Epoch 35/40\n",
            "500/500 [==============================] - 264s 527ms/step - loss: 0.1899 - val_loss: 0.3326\n",
            "Epoch 36/40\n",
            "500/500 [==============================] - 263s 527ms/step - loss: 0.1896 - val_loss: 0.3350\n",
            "Epoch 37/40\n",
            "500/500 [==============================] - 264s 527ms/step - loss: 0.1880 - val_loss: 0.3386\n",
            "Epoch 38/40\n",
            "500/500 [==============================] - 264s 527ms/step - loss: 0.1863 - val_loss: 0.3374\n",
            "Epoch 39/40\n",
            "500/500 [==============================] - 264s 527ms/step - loss: 0.1861 - val_loss: 0.3342\n",
            "Epoch 40/40\n",
            "500/500 [==============================] - 263s 527ms/step - loss: 0.1850 - val_loss: 0.3292\n"
          ],
          "name": "stdout"
        }
      ]
    },
    {
      "cell_type": "markdown",
      "metadata": {
        "id": "UYtR-ahirHoE"
      },
      "source": [
        "Veamos los resultados:"
      ]
    },
    {
      "cell_type": "code",
      "metadata": {
        "id": "RTUOtOgZrHoE",
        "outputId": "fba36576-7e46-4971-b1af-d2d6a4b28c35"
      },
      "source": [
        "loss = history.history['loss']\n",
        "val_loss = history.history['val_loss']\n",
        "\n",
        "epochs = range(len(loss))\n",
        "\n",
        "plt.figure()\n",
        "\n",
        "plt.plot(epochs, loss, 'bo', label='Training loss')\n",
        "plt.plot(epochs, val_loss, 'b', label='Validation loss')\n",
        "plt.title('Training and validation loss')\n",
        "plt.legend()\n",
        "\n",
        "plt.show()"
      ],
      "execution_count": null,
      "outputs": [
        {
          "output_type": "display_data",
          "data": {
            "image/png": "[encoded data removed]",
            "text/plain": [
              "<Figure size 432x288 with 1 Axes>"
            ]
          },
          "metadata": {
            "tags": [],
            "needs_background": "light"
          }
        }
      ]
    },
    {
      "cell_type": "markdown",
      "metadata": {
        "id": "qlBDnYzwrHoE"
      },
      "source": [
        "Podemos observar que las capas añadidas mejoran nuestros resultados un poco, aunque no muy significativamente. Podemos obtener dos conclusiones de esto:\n",
        "\n",
        "* Dado que aún no estamos sobreajustando demasiado, podemos incrementar con seguridad el tamaño de nuestras capas para buscar un poco de mejora en la pérdida de validación. Sin embargo, esto conyeva un aumento del coste computacional.\n",
        "* Daado que añadir una capa no ayuda significativamente, es posible que en este punto estemos viendo una disminución de los beneficios del aumento de la capacidad de la red. "
      ]
    },
    {
      "cell_type": "markdown",
      "metadata": {
        "id": "Mc2GSilWrHoE"
      },
      "source": [
        "## 9. Usando RNNs bidireccionales\n",
        "\n",
        "\n",
        "La última técnica que introduciremos en esta práctica se llama \"RNNs bidireccionales\". Una RNN bidireccional es una variante común de RNN que puede ofrecer un mayor rendimiento que una RNN normal en determinadas tareas. Se utiliza con frecuencia en el procesamiento del lenguaje natural (PNL) - se podría decir que es la navaja suiza de aprendizaje profundo para el PNL.\n",
        "\n",
        "Los RNNs son notablemente dependientes del orden, o dependientes del tiempo: procesan los pasos de tiempo de sus secuencias de entrada en orden, y barajando o invirtiendo los pasos de tiempo pueden cambiar completamente las representaciones que el RNN extraerá de la secuencia. Esta es precisamente la razón por la que funcionan bien en problemas donde el orden es significativo, como nuestro problema de pronóstico de temperatura. Una RNN bidireccional explota la sensibilidad del orden de las RNNs: simplemente consiste en dos RNNs regulares, como las capas GRU o LSTM con las que ya estás familiarizado, cada una de las cuales procesa la secuencia de entrada en una dirección (cronológica y anticronológicamente), y luego fusiona sus representaciones. Al procesar una secuencia en ambos sentidos, una RNN bidireccional es capaz de captar patrones que pueden haber sido pasados por alto por una RNN unidireccional.\n",
        "\n",
        "Notablemente, el hecho de que las capas de RNN en esta práctica hayan procesado hasta ahora secuencias en orden cronológico (primero los pasos de tiempo más antiguos) puede haber sido una decisión arbitraria. Al menos, es una decisión que no hemos intentado cuestionar hasta ahora. ¿Podría ser que nuestras RNNs pudieran haber funcionado lo suficientemente bien si estuvieran procesando secuencias de entrada en orden anticronológico, por ejemplo (primero los pasos de tiempo más nuevos)? Probemos esto en la práctica y veamos qué conseguimos. Todo lo que tenemos que hacer es escribir una variante de nuestro generador de datos, donde las secuencias de entrada se revierten a lo largo de la dimensión temporal (reemplazar la última línea con `yield samples[:, ::-1, :], targets`). Entrenando la misma red de una sola capa GRU que utilizamos en el primer experimento en esta práctica, obtenemos los siguientes resultados:"
      ]
    },
    {
      "cell_type": "code",
      "metadata": {
        "id": "7PddGxWurHoE"
      },
      "source": [
        "def reverse_order_generator(data, lookback, delay, min_index, max_index,\n",
        "                            shuffle=False, batch_size=128, step=6):\n",
        "    if max_index is None:\n",
        "        max_index = len(data) - delay - 1\n",
        "    i = min_index + lookback\n",
        "    while 1:\n",
        "        if shuffle:\n",
        "            rows = np.random.randint(\n",
        "                min_index + lookback, max_index, size=batch_size)\n",
        "        else:\n",
        "            if i + batch_size >= max_index:\n",
        "                i = min_index + lookback\n",
        "            rows = np.arange(i, min(i + batch_size, max_index))\n",
        "            i += len(rows)\n",
        "\n",
        "        samples = np.zeros((len(rows),\n",
        "                           lookback // step,\n",
        "                           data.shape[-1]))\n",
        "        targets = np.zeros((len(rows),))\n",
        "        for j, row in enumerate(rows):\n",
        "            indices = range(rows[j] - lookback, rows[j], step)\n",
        "            samples[j] = data[indices]\n",
        "            targets[j] = data[rows[j] + delay][1]\n",
        "        yield samples[:, ::-1, :], targets\n",
        "        \n",
        "train_gen_reverse = reverse_order_generator(\n",
        "    float_data,\n",
        "    lookback=lookback,\n",
        "    delay=delay,\n",
        "    min_index=0,\n",
        "    max_index=200000,\n",
        "    shuffle=True,\n",
        "    step=step, \n",
        "    batch_size=batch_size)\n",
        "val_gen_reverse = reverse_order_generator(\n",
        "    float_data,\n",
        "    lookback=lookback,\n",
        "    delay=delay,\n",
        "    min_index=200001,\n",
        "    max_index=300000,\n",
        "    step=step,\n",
        "    batch_size=batch_size)"
      ],
      "execution_count": null,
      "outputs": []
    },
    {
      "cell_type": "code",
      "metadata": {
        "id": "8qFJlKuwrHoF",
        "outputId": "5420a963-3941-4092-b0cc-7e28f947fb95"
      },
      "source": [
        "model = Sequential()\n",
        "model.add(layers.GRU(32, input_shape=(None, float_data.shape[-1])))\n",
        "model.add(layers.Dense(1))\n",
        "\n",
        "model.compile(optimizer=RMSprop(), loss='mae')\n",
        "history = model.fit(train_gen_reverse,\n",
        "                    steps_per_epoch=500,\n",
        "                    epochs=20,\n",
        "                    validation_data=val_gen_reverse,\n",
        "                    validation_steps=val_steps)"
      ],
      "execution_count": null,
      "outputs": [
        {
          "output_type": "stream",
          "text": [
            "Epoch 1/20\n",
            "500/500 [==============================] - 9s 17ms/step - loss: 0.4758 - val_loss: 0.4730\n",
            "Epoch 2/20\n",
            "500/500 [==============================] - 9s 18ms/step - loss: 0.4330 - val_loss: 0.4283\n",
            "Epoch 3/20\n",
            "500/500 [==============================] - 9s 18ms/step - loss: 0.3763 - val_loss: 0.4197\n",
            "Epoch 4/20\n",
            "500/500 [==============================] - 9s 17ms/step - loss: 0.3423 - val_loss: 0.4108\n",
            "Epoch 5/20\n",
            "500/500 [==============================] - 9s 18ms/step - loss: 0.3223 - val_loss: 0.4090\n",
            "Epoch 6/20\n",
            "500/500 [==============================] - 9s 18ms/step - loss: 0.3091 - val_loss: 0.3786\n",
            "Epoch 7/20\n",
            "500/500 [==============================] - 8s 17ms/step - loss: 0.2987 - val_loss: 0.3739\n",
            "Epoch 8/20\n",
            "500/500 [==============================] - 8s 17ms/step - loss: 0.2880 - val_loss: 0.3764\n",
            "Epoch 9/20\n",
            "500/500 [==============================] - 8s 17ms/step - loss: 0.2793 - val_loss: 0.3829\n",
            "Epoch 10/20\n",
            "500/500 [==============================] - 8s 17ms/step - loss: 0.2690 - val_loss: 0.3717\n",
            "Epoch 11/20\n",
            "500/500 [==============================] - 9s 18ms/step - loss: 0.2639 - val_loss: 0.3792\n",
            "Epoch 12/20\n",
            "500/500 [==============================] - 9s 17ms/step - loss: 0.2571 - val_loss: 0.3756\n",
            "Epoch 13/20\n",
            "500/500 [==============================] - 9s 17ms/step - loss: 0.2504 - val_loss: 0.3775\n",
            "Epoch 14/20\n",
            "500/500 [==============================] - 9s 17ms/step - loss: 0.2471 - val_loss: 0.3882\n",
            "Epoch 15/20\n",
            "500/500 [==============================] - 9s 17ms/step - loss: 0.2422 - val_loss: 0.4007\n",
            "Epoch 16/20\n",
            "500/500 [==============================] - 11s 22ms/step - loss: 0.2384 - val_loss: 0.3994\n",
            "Epoch 17/20\n",
            "500/500 [==============================] - 8s 17ms/step - loss: 0.2343 - val_loss: 0.3932\n",
            "Epoch 18/20\n",
            "500/500 [==============================] - 8s 17ms/step - loss: 0.2295 - val_loss: 0.4060\n",
            "Epoch 19/20\n",
            "500/500 [==============================] - 9s 17ms/step - loss: 0.2260 - val_loss: 0.3975\n",
            "Epoch 20/20\n",
            "500/500 [==============================] - 8s 17ms/step - loss: 0.2228 - val_loss: 0.4031\n"
          ],
          "name": "stdout"
        }
      ]
    },
    {
      "cell_type": "code",
      "metadata": {
        "id": "9ZIbLlBcrHoF",
        "outputId": "258f1e2c-953d-4b57-cf17-cf4de6feff5a"
      },
      "source": [
        "loss = history.history['loss']\n",
        "val_loss = history.history['val_loss']\n",
        "\n",
        "epochs = range(len(loss))\n",
        "\n",
        "plt.figure()\n",
        "\n",
        "plt.plot(epochs, loss, 'bo', label='Training loss')\n",
        "plt.plot(epochs, val_loss, 'b', label='Validation loss')\n",
        "plt.title('Training and validation loss')\n",
        "plt.legend()\n",
        "\n",
        "plt.show()"
      ],
      "execution_count": null,
      "outputs": [
        {
          "output_type": "display_data",
          "data": {
            "image/png": "[encoded data removed]",
            "text/plain": [
              "<Figure size 432x288 with 1 Axes>"
            ]
          },
          "metadata": {
            "tags": [],
            "needs_background": "light"
          }
        }
      ]
    },
    {
      "cell_type": "markdown",
      "metadata": {
        "id": "AHHF_iPjrHoF"
      },
      "source": [
        "Así que el GRU de orden inverso tiene un rendimiento muy inferior incluso a la base de sentido común, lo que indica que el procesamiento cronológico en nuestro caso es muy importante para el éxito de nuestro enfoque. Esto tiene mucho sentido: la capa de GRU subyacente normalmente recordará mejor el pasado reciente que el pasado distante, y naturalmente los puntos de datos meteorológicos más recientes son más predictivos que los puntos de datos más antiguos de nuestro problema (eso es precisamente lo que hace que la base de sentido común sea una base bastante fuerte). Por lo tanto, la versión cronológica de la capa está obligada a superar a la versión de orden inverso. Es importante destacar que esto generalmente no es cierto para muchos otros problemas, incluyendo el lenguaje natural: intuitivamente, la importancia de una palabra en la comprensión de una oración no suele depender de su posición en la oración. Intentemos el mismo truco con el ejemplo con la IMDB mediante LSTM de la práctica anterior:"
      ]
    },
    {
      "cell_type": "code",
      "metadata": {
        "id": "MDH1Y3lFrHoF",
        "outputId": "932c2c24-37f0-4101-ceb4-3c5f5a84f38d"
      },
      "source": [
        "from keras.datasets import imdb\n",
        "from keras.preprocessing import sequence\n",
        "from keras import layers\n",
        "from keras.models import Sequential\n",
        "\n",
        "# Número de palabras a considerar como características\n",
        "max_features = 10000\n",
        "# Cortar textos después de este número de palabras (entre las características máximas más comunes)\n",
        "maxlen = 500\n",
        "\n",
        "# Cargar los datos\n",
        "(x_train, y_train), (x_test, y_test) = imdb.load_data(num_words=max_features)\n",
        "\n",
        "# Invertir las secuencias\n",
        "x_train = [x[::-1] for x in x_train]\n",
        "x_test = [x[::-1] for x in x_test]\n",
        "\n",
        "# Ampliar las secuencias\n",
        "x_train = sequence.pad_sequences(x_train, maxlen=maxlen)\n",
        "x_test = sequence.pad_sequences(x_test, maxlen=maxlen)\n",
        "\n",
        "model = Sequential()\n",
        "model.add(layers.Embedding(max_features, 128))\n",
        "model.add(layers.LSTM(32))\n",
        "model.add(layers.Dense(1, activation='sigmoid'))\n",
        "\n",
        "model.compile(optimizer='rmsprop',\n",
        "              loss='binary_crossentropy',\n",
        "              metrics=['acc'])\n",
        "history = model.fit(x_train, y_train,\n",
        "                    epochs=10,\n",
        "                    batch_size=128,\n",
        "                    validation_split=0.2)"
      ],
      "execution_count": null,
      "outputs": [
        {
          "output_type": "stream",
          "text": [
            "Downloading data from https://storage.googleapis.com/tensorflow/tf-keras-datasets/imdb.npz\n",
            "17465344/17464789 [==============================] - 2s 0us/step\n"
          ],
          "name": "stdout"
        },
        {
          "output_type": "stream",
          "text": [
            "/home/miguel/anaconda3/envs/tf-gpu/lib/python3.8/site-packages/tensorflow/python/keras/datasets/imdb.py:155: VisibleDeprecationWarning: Creating an ndarray from ragged nested sequences (which is a list-or-tuple of lists-or-tuples-or ndarrays with different lengths or shapes) is deprecated. If you meant to do this, you must specify 'dtype=object' when creating the ndarray\n",
            "  x_train, y_train = np.array(xs[:idx]), np.array(labels[:idx])\n",
            "/home/miguel/anaconda3/envs/tf-gpu/lib/python3.8/site-packages/tensorflow/python/keras/datasets/imdb.py:156: VisibleDeprecationWarning: Creating an ndarray from ragged nested sequences (which is a list-or-tuple of lists-or-tuples-or ndarrays with different lengths or shapes) is deprecated. If you meant to do this, you must specify 'dtype=object' when creating the ndarray\n",
            "  x_test, y_test = np.array(xs[idx:]), np.array(labels[idx:])\n"
          ],
          "name": "stderr"
        },
        {
          "output_type": "stream",
          "text": [
            "Epoch 1/10\n",
            "157/157 [==============================] - 10s 64ms/step - loss: 0.4930 - acc: 0.7634 - val_loss: 0.4267 - val_acc: 0.8188\n",
            "Epoch 2/10\n",
            "157/157 [==============================] - 10s 63ms/step - loss: 0.3299 - acc: 0.8763 - val_loss: 0.3560 - val_acc: 0.8490\n",
            "Epoch 3/10\n",
            "157/157 [==============================] - 10s 62ms/step - loss: 0.2560 - acc: 0.9039 - val_loss: 0.3231 - val_acc: 0.8780\n",
            "Epoch 4/10\n",
            "157/157 [==============================] - 10s 61ms/step - loss: 0.2219 - acc: 0.9210 - val_loss: 0.3693 - val_acc: 0.8406\n",
            "Epoch 5/10\n",
            "157/157 [==============================] - 10s 61ms/step - loss: 0.1960 - acc: 0.9320 - val_loss: 0.3779 - val_acc: 0.8402\n",
            "Epoch 6/10\n",
            "157/157 [==============================] - 9s 60ms/step - loss: 0.1791 - acc: 0.9372 - val_loss: 0.4344 - val_acc: 0.8650\n",
            "Epoch 7/10\n",
            "157/157 [==============================] - 10s 61ms/step - loss: 0.1611 - acc: 0.9431 - val_loss: 0.3797 - val_acc: 0.8734\n",
            "Epoch 8/10\n",
            "157/157 [==============================] - 10s 64ms/step - loss: 0.1410 - acc: 0.9535 - val_loss: 0.4187 - val_acc: 0.8734\n",
            "Epoch 9/10\n",
            "157/157 [==============================] - 10s 64ms/step - loss: 0.1223 - acc: 0.9595 - val_loss: 0.4062 - val_acc: 0.8470\n",
            "Epoch 10/10\n",
            "157/157 [==============================] - 10s 62ms/step - loss: 0.1185 - acc: 0.9601 - val_loss: 0.4753 - val_acc: 0.8690\n"
          ],
          "name": "stdout"
        }
      ]
    },
    {
      "cell_type": "markdown",
      "metadata": {
        "id": "ZLBtKu3VrHoF"
      },
      "source": [
        "Obtenemos un rendimiento casi idéntico al del LSTM de orden cronológico que probamos en la práctica anterior.\n",
        "\n",
        "Por lo tanto, es notable que en un conjunto de datos de texto de este tipo, el procesamiento de orden inverso funciona tan bien como el procesamiento cronológico, lo que confirma nuestra hipótesis de que, aunque el *orden* de las palabras *importa* en la comprensión del lenguaje, no es crucial *qué orden* se utiliza. Es importante destacar que una RNN entrenada en secuencias invertidas aprenderá diferentes representaciones que una entrenada en las secuencias originales, de la misma manera que tendrías modelos mentales muy diferentes si el tiempo fluyera hacia atrás en el mundo real -- si vivieras una vida en la que murieras en tu primer día y nacieras en tu último día. En el aprendizaje automático, siempre vale la pena explotar las representaciones que son *diferentes* pero *útiles*, y cuanto más difieren, mejor: ofrecen un nuevo ángulo desde el que mirar los datos, capturando aspectos de los datos que no se han tenido en cuenta en otros enfoques, y por lo tanto pueden permitir aumentar el rendimiento en una tarea. Esta es la intuición detrás del \"ensemble\", por ejemplo.\n",
        "\n",
        "Una RNN bidireccional explota esta idea para mejorar el rendimiento de las RNNs de orden cronológico: examina su secuencia de entradas en ambos sentidos, obteniendo representaciones potencialmente más ricas y capturando patrones que pueden haber sido pasados por alto sólo por la versión de orden cronológico."
      ]
    },
    {
      "cell_type": "markdown",
      "metadata": {
        "id": "a1zFYec3rHoG"
      },
      "source": [
        "![bidirectional rnn](https://s3.amazonaws.com/book.keras.io/img/ch6/bidirectional_rnn.png)"
      ]
    },
    {
      "cell_type": "markdown",
      "metadata": {
        "id": "QQDzNo_crHoG"
      },
      "source": [
        "Para instanciar una RNN bidireccional en Keras, se usa la capa `Bidirectional`, que toma como primer argumento una instancia de capa recurrente. `Bidirectional` creará una segunda instancia separada de esta capa recurrente, y utilizará una instancia para procesar las secuencias de entrada en orden cronológico y la otra para procesar las secuencias de entrada en orden inverso. Probémoslo en la tarea de análisis de sentimientos de la IMDB:"
      ]
    },
    {
      "cell_type": "code",
      "metadata": {
        "id": "5SCM0k2-rHoG"
      },
      "source": [
        "from keras import backend as K\n",
        "K.clear_session()"
      ],
      "execution_count": null,
      "outputs": []
    },
    {
      "cell_type": "code",
      "metadata": {
        "id": "SQSmZVWwrHoG",
        "outputId": "96d7561e-5688-4054-c66f-64a3efbbad18"
      },
      "source": [
        "model = Sequential()\n",
        "model.add(layers.Embedding(max_features, 32))\n",
        "model.add(layers.Bidirectional(layers.LSTM(32)))\n",
        "model.add(layers.Dense(1, activation='sigmoid'))\n",
        "\n",
        "model.compile(optimizer='rmsprop', loss='binary_crossentropy', metrics=['acc'])\n",
        "history = model.fit(x_train, y_train, epochs=10, batch_size=128, validation_split=0.2)"
      ],
      "execution_count": null,
      "outputs": [
        {
          "output_type": "stream",
          "text": [
            "Epoch 1/10\n",
            "157/157 [==============================] - 11s 71ms/step - loss: 0.5366 - acc: 0.7394 - val_loss: 0.3677 - val_acc: 0.8570\n",
            "Epoch 2/10\n",
            "157/157 [==============================] - 11s 69ms/step - loss: 0.3297 - acc: 0.8748 - val_loss: 0.3058 - val_acc: 0.8848\n",
            "Epoch 3/10\n",
            "157/157 [==============================] - 11s 71ms/step - loss: 0.2655 - acc: 0.9035 - val_loss: 0.3134 - val_acc: 0.8802\n",
            "Epoch 4/10\n",
            "157/157 [==============================] - 11s 73ms/step - loss: 0.2206 - acc: 0.9199 - val_loss: 0.3308 - val_acc: 0.8702\n",
            "Epoch 5/10\n",
            "157/157 [==============================] - 11s 72ms/step - loss: 0.1961 - acc: 0.9320 - val_loss: 0.4101 - val_acc: 0.8634\n",
            "Epoch 6/10\n",
            "157/157 [==============================] - 11s 71ms/step - loss: 0.1795 - acc: 0.9395 - val_loss: 0.3161 - val_acc: 0.8750\n",
            "Epoch 7/10\n",
            "157/157 [==============================] - 11s 70ms/step - loss: 0.1621 - acc: 0.9456 - val_loss: 0.3387 - val_acc: 0.8816\n",
            "Epoch 8/10\n",
            "157/157 [==============================] - 11s 71ms/step - loss: 0.1452 - acc: 0.9499 - val_loss: 0.4029 - val_acc: 0.8716\n",
            "Epoch 9/10\n",
            "157/157 [==============================] - 11s 71ms/step - loss: 0.1343 - acc: 0.9546 - val_loss: 0.3603 - val_acc: 0.8720\n",
            "Epoch 10/10\n",
            "157/157 [==============================] - 11s 73ms/step - loss: 0.1221 - acc: 0.9582 - val_loss: 0.4305 - val_acc: 0.8764\n"
          ],
          "name": "stdout"
        }
      ]
    },
    {
      "cell_type": "markdown",
      "metadata": {
        "id": "Rjm-ip19rHoG"
      },
      "source": [
        "Funciona ligeramente mejor que la LSTM regular que probamos en la práctica anterior, superando el 88% de precisión de validación. También parece sobreajustar más rápido, lo que no es sorprendente ya que una capa bidireccional tiene dos veces más parámetros que una LSTM cronológica. Con un poco de regularización, la aproximación bidireccional probablemente sería un factor importante en esta tarea.\n",
        "\n",
        "Ahora intentemos el mismo enfoque en la tarea de predicción meteorológica:"
      ]
    },
    {
      "cell_type": "code",
      "metadata": {
        "id": "CqtmZqfQrHoG",
        "outputId": "677f278d-20ea-4c4f-a038-165f605808b2"
      },
      "source": [
        "from keras.models import Sequential\n",
        "from keras import layers\n",
        "from keras.optimizers import RMSprop\n",
        "\n",
        "model = Sequential()\n",
        "model.add(layers.Bidirectional(\n",
        "    layers.GRU(32), input_shape=(None, float_data.shape[-1])))\n",
        "model.add(layers.Dense(1))\n",
        "\n",
        "model.compile(optimizer=RMSprop(), loss='mae')\n",
        "history = model.fit(train_gen,\n",
        "                    steps_per_epoch=500,\n",
        "                    epochs=40,\n",
        "                    validation_data=val_gen,\n",
        "                    validation_steps=val_steps)"
      ],
      "execution_count": null,
      "outputs": [
        {
          "output_type": "stream",
          "text": [
            "Epoch 1/40\n",
            "500/500 [==============================] - 12s 25ms/step - loss: 0.2930 - val_loss: 0.2686\n",
            "Epoch 2/40\n",
            "500/500 [==============================] - 12s 24ms/step - loss: 0.2731 - val_loss: 0.2631\n",
            "Epoch 3/40\n",
            "500/500 [==============================] - 12s 24ms/step - loss: 0.2678 - val_loss: 0.2639\n",
            "Epoch 4/40\n",
            "500/500 [==============================] - 12s 25ms/step - loss: 0.2620 - val_loss: 0.2646\n",
            "Epoch 5/40\n",
            "500/500 [==============================] - 12s 25ms/step - loss: 0.2564 - val_loss: 0.2651\n",
            "Epoch 6/40\n",
            "500/500 [==============================] - 11s 22ms/step - loss: 0.2521 - val_loss: 0.2655\n",
            "Epoch 7/40\n",
            "500/500 [==============================] - 12s 23ms/step - loss: 0.2443 - val_loss: 0.2690\n",
            "Epoch 8/40\n",
            "500/500 [==============================] - 12s 24ms/step - loss: 0.2361 - val_loss: 0.2732\n",
            "Epoch 9/40\n",
            "500/500 [==============================] - 12s 25ms/step - loss: 0.2300 - val_loss: 0.2813\n",
            "Epoch 10/40\n",
            "500/500 [==============================] - 12s 24ms/step - loss: 0.2230 - val_loss: 0.2790\n",
            "Epoch 11/40\n",
            "500/500 [==============================] - 12s 24ms/step - loss: 0.2176 - val_loss: 0.2862\n",
            "Epoch 12/40\n",
            "500/500 [==============================] - 12s 25ms/step - loss: 0.2110 - val_loss: 0.2924\n",
            "Epoch 13/40\n",
            "500/500 [==============================] - 13s 25ms/step - loss: 0.2025 - val_loss: 0.2913\n",
            "Epoch 14/40\n",
            "500/500 [==============================] - 12s 23ms/step - loss: 0.1992 - val_loss: 0.2996\n",
            "Epoch 15/40\n",
            "500/500 [==============================] - 12s 24ms/step - loss: 0.1946 - val_loss: 0.2988\n",
            "Epoch 16/40\n",
            "500/500 [==============================] - 12s 24ms/step - loss: 0.1893 - val_loss: 0.3027\n",
            "Epoch 17/40\n",
            "500/500 [==============================] - 12s 25ms/step - loss: 0.1851 - val_loss: 0.3077\n",
            "Epoch 18/40\n",
            "500/500 [==============================] - 12s 24ms/step - loss: 0.1794 - val_loss: 0.3098\n",
            "Epoch 19/40\n",
            "500/500 [==============================] - 12s 24ms/step - loss: 0.1757 - val_loss: 0.3174\n",
            "Epoch 20/40\n",
            "500/500 [==============================] - 13s 25ms/step - loss: 0.1701 - val_loss: 0.3155\n",
            "Epoch 21/40\n",
            "500/500 [==============================] - 12s 25ms/step - loss: 0.1684 - val_loss: 0.3222\n",
            "Epoch 22/40\n",
            "500/500 [==============================] - 12s 25ms/step - loss: 0.1651 - val_loss: 0.3210\n",
            "Epoch 23/40\n",
            "500/500 [==============================] - 12s 24ms/step - loss: 0.1605 - val_loss: 0.3262\n",
            "Epoch 24/40\n",
            "500/500 [==============================] - 12s 24ms/step - loss: 0.1585 - val_loss: 0.3236\n",
            "Epoch 25/40\n",
            "500/500 [==============================] - 12s 24ms/step - loss: 0.1554 - val_loss: 0.3313\n",
            "Epoch 26/40\n",
            "500/500 [==============================] - 12s 24ms/step - loss: 0.1541 - val_loss: 0.3276\n",
            "Epoch 27/40\n",
            "500/500 [==============================] - 12s 25ms/step - loss: 0.1516 - val_loss: 0.3359\n",
            "Epoch 28/40\n",
            "500/500 [==============================] - 12s 25ms/step - loss: 0.1487 - val_loss: 0.3344\n",
            "Epoch 29/40\n",
            "500/500 [==============================] - 13s 26ms/step - loss: 0.1475 - val_loss: 0.3326\n",
            "Epoch 30/40\n",
            "500/500 [==============================] - 12s 23ms/step - loss: 0.1447 - val_loss: 0.3359\n",
            "Epoch 31/40\n",
            "500/500 [==============================] - 12s 24ms/step - loss: 0.1441 - val_loss: 0.3338\n",
            "Epoch 32/40\n",
            "500/500 [==============================] - 12s 24ms/step - loss: 0.1421 - val_loss: 0.3329\n",
            "Epoch 33/40\n",
            "500/500 [==============================] - 13s 25ms/step - loss: 0.1401 - val_loss: 0.3338\n",
            "Epoch 34/40\n",
            "500/500 [==============================] - 12s 24ms/step - loss: 0.1408 - val_loss: 0.3375\n",
            "Epoch 35/40\n",
            "500/500 [==============================] - 12s 24ms/step - loss: 0.1379 - val_loss: 0.3339\n",
            "Epoch 36/40\n",
            "500/500 [==============================] - 13s 25ms/step - loss: 0.1354 - val_loss: 0.3345\n",
            "Epoch 37/40\n",
            "500/500 [==============================] - 12s 24ms/step - loss: 0.1352 - val_loss: 0.3379\n",
            "Epoch 38/40\n",
            "500/500 [==============================] - 12s 24ms/step - loss: 0.1340 - val_loss: 0.3375\n",
            "Epoch 39/40\n",
            "500/500 [==============================] - 12s 24ms/step - loss: 0.1327 - val_loss: 0.3406\n",
            "Epoch 40/40\n",
            "500/500 [==============================] - 12s 23ms/step - loss: 0.1315 - val_loss: 0.3402\n"
          ],
          "name": "stdout"
        }
      ]
    },
    {
      "cell_type": "markdown",
      "metadata": {
        "id": "YWQdjmJ5rHoH"
      },
      "source": [
        "Funciona tan bien como la capa GRU normal. Es fácil entender por qué: toda la capacidad de predicción debe provenir de la mitad cronológica de la red, ya que se sabe que la mitad anticronológica está muy por debajo de su capacidad en esta tarea (de nuevo, porque el pasado reciente importa mucho más que el pasado lejano en este caso)."
      ]
    },
    {
      "cell_type": "markdown",
      "metadata": {
        "id": "aQoOaxzLrHoH"
      },
      "source": [
        "\n",
        "## 10. Siguientes pasos\n",
        "\n",
        "En este punto, todavía hay muchas otras cosas que podrías intentar para mejorar el rendimiento de nuestro problema de pronóstico del tiempo:\n",
        "\n",
        "* Ajusta el número de unidades en cada capa recurrente en la configuración apilada. Las opciones actuales son en gran medida arbitrarias y, por lo tanto, probablemente subóptimas.\n",
        "* Ajusta la velocidad de aprendizaje utilizando como optimizador `RMSprop`.\n",
        "* Intenta usar capas de `LSTM` en lugar de capas de `GRU`.\n",
        "* Intenta usar un regresor densamente conectado más grande encima de las capas recurrentes, es decir, una capa `Dense` más grande o incluso una pila de capas `Dense`.\n",
        "* No te olvides de ejecutar eventualmente los modelos de mejor rendimiento (en términos de validación MAE) en el conjunto de prueba. Empieza al menos a desarrollar arquitecturas que se sobreajusten al conjunto de validación.   \n",
        "\n",
        "Como de costumbre: el aprendizaje profundo es más un arte que una ciencia, y aunque podemos proporcionar directrices sobre lo que es probable que funcione o no en un problema dado, en última instancia cada problema es único y tendrás que tratar de evaluar diferentes estrategias empíricamente. Actualmente no hay ninguna teoría que nos diga de antemano con precisión lo que debe hacer uno para resolver un problema de forma óptima. Debes probar e iterar.\n",
        "\n",
        "\n",
        "## 11. Concluyendo\n",
        "\n",
        "Esto es lo que deberías haber aprendido en esta práctica:\n",
        "\n",
        "* Al abordar un nuevo problema, es bueno establecer primero bases de sentido común como referencia métrica de tu elección. Si no tienes una base que batir, no puedes decir si estás haciendo algún progreso real.\n",
        "* Prueba modelos sencillos antes que los costosos, para justificar el gasto adicional. A veces un modelo simple resultará ser tu mejor opción.\n",
        "* En los datos en los que el ordenamiento temporal es importante, las redes recurrentes encajan perfectamente y superan fácilmente a los modelos que primero aplastan los datos temporales.\n",
        "* Para utilizar dropout con redes recurrentes, se debe utilizar una máscara de tiempo constante y una máscara de dropout recurrente. Esto está incorporado en las capas recurrentes de Keras, así que todo lo que tienes que hacer es usar los argumentos `dropout` y `recurrent_dropout` de las capas recurrentes.\n",
        "* Las RNNs apiladas proporcionan más poder de representación que una sola capa de RNN. También son mucho más costosos y, por lo tanto, no siempre valen la pena. Si bien ofrecen claras ventajas sobre problemas complejos (por ejemplo, la traducción automática), es posible que no siempre sean relevantes para problemas más pequeños y sencillos.\n",
        "* Los RNNs bidireccionales, que miran una secuencia en ambos sentidos, son muy útiles en problemas de procesamiento de lenguaje natural. Sin embargo, no tendrán un buen desempeño en los datos de secuencias en los que el pasado reciente es mucho más informativo que el comienzo de la secuencia.\n",
        "\n",
        "Hay dos conceptos importantes que no trataremos en detalle aquí: la \"atención\" recurrente y el enmascaramiento de secuencias. Ambos tienden a ser especialmente relevantes para el procesamiento del lenguaje natural, y no son particularmente aplicables a nuestro problema de pronóstico de temperatura."
      ]
    },
    {
      "cell_type": "code",
      "metadata": {
        "id": "a64gwqYQ39nc"
      },
      "source": [
        "# Este código te permitirá lanzar RNN en algunas tarjetas gráficas con TF2,\n",
        "# en el caso de que tengas problemas con CuDNN. Tienes que reiniciar el kernel\n",
        "# antes de evaluarlo y volver al comienzo.\n",
        "#import tensorflow as tf\n",
        "#physical_devices = tf.config.list_physical_devices('GPU')\n",
        "#tf.config.experimental.set_memory_growth(physical_devices[0], enable=True)   # elige tu GPU"
      ],
      "execution_count": null,
      "outputs": []
    }
  ]
}
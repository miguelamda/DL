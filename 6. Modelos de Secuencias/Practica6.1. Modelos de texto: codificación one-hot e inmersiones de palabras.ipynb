{
  "nbformat": 4,
  "nbformat_minor": 0,
  "metadata": {
    "kernelspec": {
      "display_name": "Python 3",
      "language": "python",
      "name": "python3"
    },
    "language_info": {
      "codemirror_mode": {
        "name": "ipython",
        "version": 3
      },
      "file_extension": ".py",
      "mimetype": "text/x-python",
      "name": "python",
      "nbconvert_exporter": "python",
      "pygments_lexer": "ipython3",
      "version": "3.6.8"
    },
    "colab": {
      "name": "Practica6_1_Modelos_de_texto_codificación_one_hot_e_inmersiones_de_palabras.ipynb",
      "provenance": [],
      "toc_visible": true,
      "include_colab_link": true
    },
    "accelerator": "GPU"
  },
  "cells": [
    {
      "cell_type": "markdown",
      "metadata": {
        "id": "view-in-github",
        "colab_type": "text"
      },
      "source": [
        "<a href=\"https://colab.research.google.com/github/miguelamda/DL/blob/master/6.%20Modelos%20de%20Secuencias/Practica6.1.%20Modelos%20de%20texto%3A%20codificaci%C3%B3n%20one-hot%20e%20inmersiones%20de%20palabras.ipynb\" target=\"_parent\"><img src=\"https://colab.research.google.com/assets/colab-badge.svg\" alt=\"Open In Colab\"/></a>"
      ]
    },
    {
      "cell_type": "markdown",
      "metadata": {
        "id": "lZbMwaaP97Er"
      },
      "source": [
        "# Práctica 6.1. Modelos de Texto\n",
        "\n",
        "En esta práctica vamos a trabajar con las nociones básicas de modelos de texto, o también conocidos como modelos del lenguaje). Primero, haremos una introducción a las inmersiones (embeddings) de palabras, y distintas formas de procesar texto en Keras. También haremos uso de Convoluciones 1D para detectar patrones en las secuencias."
      ]
    },
    {
      "cell_type": "code",
      "metadata": {
        "colab": {
          "base_uri": "https://localhost:8080/",
          "height": 35
        },
        "id": "BdJTef8Y97Ex",
        "outputId": "b9a0ef2e-ea87-46c2-c600-9565ad2e2454"
      },
      "source": [
        "from tensorflow import keras\n",
        "keras.__version__"
      ],
      "execution_count": 1,
      "outputs": [
        {
          "output_type": "execute_result",
          "data": {
            "application/vnd.google.colaboratory.intrinsic+json": {
              "type": "string"
            },
            "text/plain": [
              "'2.7.0'"
            ]
          },
          "metadata": {},
          "execution_count": 1
        }
      ]
    },
    {
      "cell_type": "markdown",
      "metadata": {
        "id": "36N76AgD97Ez"
      },
      "source": [
        "## 1. Codificación one-hot de textos\n",
        "\n",
        "La codificación **One-hot**, que ya vimos en nuestros primeros ejemplos con Keras, es la forma más sencilla de transformar texto en vectores numéricos. \n",
        "\n",
        "Consiste, esencialmente, en asociar un índice entero único a cada palabra, y entonces codificar la palabra por medio de un vector de $N$ componentes ($N$ es el tamaño del vocabulario) en el que hay un 1 en la posición del índice de la palabra y 0s en el resto."
      ]
    },
    {
      "cell_type": "markdown",
      "metadata": {
        "id": "Earm5lP397Ez"
      },
      "source": [
        "A continuación se muestra una implementación manual de codificación one-hot de texto (por palabra). Este código es solo ilustrativo, después veremos cómo hacer uso de Keras para que haga ésto por nosotros."
      ]
    },
    {
      "cell_type": "code",
      "metadata": {
        "colab": {
          "base_uri": "https://localhost:8080/"
        },
        "id": "c8N82tu797E0",
        "outputId": "d6fac6c8-3170-4eae-e969-e8c8dca17e48"
      },
      "source": [
        "import numpy as np\n",
        "\n",
        "# Esto es nuestros datos iniciales; una entrada por \"sample\"\n",
        "# (en este ejemplo de juguete, un \"sample\" es tan solo una frase, pero\n",
        "# podría ser un documento entero)\n",
        "samples = ['The cat sat on the mat.', 'The dog ate my homework.']\n",
        "\n",
        "# Primero, construimos un indice para todos los tokens en los datos\n",
        "token_index = {}\n",
        "for sample in samples:\n",
        "    # Tokenizamos los samples mediante el método split.\n",
        "    # En la vida real, podríamos también eliminar la puntuación\n",
        "    # y los caracteres especiales de las muestras\n",
        "    for word in sample.split():\n",
        "        if word not in token_index:\n",
        "            # Asignar un índice único a cada palabra única\n",
        "            token_index[word] = len(token_index) + 1\n",
        "            # Observa que no asigamos el índice 0 a nada\n",
        "\n",
        "# A continuación, vectorizamos nuestras muestras.\n",
        "# Sólo consideraremos las primeras palabras `max_length` en cada muestra.\n",
        "max_length = 10\n",
        "\n",
        "# Aquí es donde almacenamos los resultados\n",
        "results = np.zeros((len(samples), max_length, max(token_index.values()) + 1))\n",
        "for i, sample in enumerate(samples):\n",
        "    for j, word in list(enumerate(sample.split()))[:max_length]:\n",
        "        index = token_index.get(word)\n",
        "        results[i, j, index] = 1.\n",
        "        \n",
        "print(results)"
      ],
      "execution_count": 2,
      "outputs": [
        {
          "output_type": "stream",
          "name": "stdout",
          "text": [
            "[[[0. 1. 0. 0. 0. 0. 0. 0. 0. 0. 0.]\n",
            "  [0. 0. 1. 0. 0. 0. 0. 0. 0. 0. 0.]\n",
            "  [0. 0. 0. 1. 0. 0. 0. 0. 0. 0. 0.]\n",
            "  [0. 0. 0. 0. 1. 0. 0. 0. 0. 0. 0.]\n",
            "  [0. 0. 0. 0. 0. 1. 0. 0. 0. 0. 0.]\n",
            "  [0. 0. 0. 0. 0. 0. 1. 0. 0. 0. 0.]\n",
            "  [0. 0. 0. 0. 0. 0. 0. 0. 0. 0. 0.]\n",
            "  [0. 0. 0. 0. 0. 0. 0. 0. 0. 0. 0.]\n",
            "  [0. 0. 0. 0. 0. 0. 0. 0. 0. 0. 0.]\n",
            "  [0. 0. 0. 0. 0. 0. 0. 0. 0. 0. 0.]]\n",
            "\n",
            " [[0. 1. 0. 0. 0. 0. 0. 0. 0. 0. 0.]\n",
            "  [0. 0. 0. 0. 0. 0. 0. 1. 0. 0. 0.]\n",
            "  [0. 0. 0. 0. 0. 0. 0. 0. 1. 0. 0.]\n",
            "  [0. 0. 0. 0. 0. 0. 0. 0. 0. 1. 0.]\n",
            "  [0. 0. 0. 0. 0. 0. 0. 0. 0. 0. 1.]\n",
            "  [0. 0. 0. 0. 0. 0. 0. 0. 0. 0. 0.]\n",
            "  [0. 0. 0. 0. 0. 0. 0. 0. 0. 0. 0.]\n",
            "  [0. 0. 0. 0. 0. 0. 0. 0. 0. 0. 0.]\n",
            "  [0. 0. 0. 0. 0. 0. 0. 0. 0. 0. 0.]\n",
            "  [0. 0. 0. 0. 0. 0. 0. 0. 0. 0. 0.]]]\n"
          ]
        }
      ]
    },
    {
      "cell_type": "markdown",
      "metadata": {
        "id": "J9fAcM_R97E1"
      },
      "source": [
        "Keras proporciona funciones para realizar esta codificación directamente (incluso a nivel de carácter), y es preferible usarlas porque tienen en cuenta una casuística mayor respecto a los caracteres especiales, signos de puntuación, etc. Además, estas funciones permiten definir el tamaño del vocabulario considerando únicamente las $N$ palabras más comunes del dataset e ignorando el resto."
      ]
    },
    {
      "cell_type": "markdown",
      "metadata": {
        "id": "qJ3JFn2m97E1"
      },
      "source": [
        "El siguiente ejemplo muestra cómo se trabaja con las funciones proporcionadas en la librería:"
      ]
    },
    {
      "cell_type": "code",
      "metadata": {
        "colab": {
          "base_uri": "https://localhost:8080/"
        },
        "id": "9HqqiPlV97E2",
        "outputId": "52a78e84-81b1-4297-b8d3-5aeee983fa59"
      },
      "source": [
        "from keras.preprocessing.text import Tokenizer\n",
        "\n",
        "samples = ['The cat sat on the mat.', 'The dog ate my homework.']\n",
        "\n",
        "# Creamos un tokenizador, configurado para que sólo tome\n",
        "# en cuenta las 1000 palabras más comunes\n",
        "tokenizer = Tokenizer(num_words=1000)\n",
        "# Esto construye el índice de palabras\n",
        "tokenizer.fit_on_texts(samples)\n",
        "\n",
        "# Esto convierte las cadenas en listas de índices enteros.\n",
        "sequences = tokenizer.texts_to_sequences(samples)\n",
        "\n",
        "# También se pueden obtener directamente las representaciones binarias one-hot.\n",
        "# Ten en cuenta que se admiten otros modos de vectorización además de la codificación one-hot.\n",
        "one_hot_results = tokenizer.texts_to_matrix(samples, mode='binary')\n",
        "\n",
        "# Esto es como puedes recuperar el índice de la palabra que fue calculada\n",
        "word_index = tokenizer.word_index\n",
        "print('Hay %s tokens distintos.' % len(word_index))"
      ],
      "execution_count": 3,
      "outputs": [
        {
          "output_type": "stream",
          "name": "stdout",
          "text": [
            "Hay 9 tokens distintos.\n"
          ]
        }
      ]
    },
    {
      "cell_type": "markdown",
      "metadata": {
        "id": "9t2QgP8Z97E2"
      },
      "source": [
        "\n",
        "Hay variantes similares para reducir el tamaño del vocabulario por medio de funciones hash, pero no las veremos aquí."
      ]
    },
    {
      "cell_type": "markdown",
      "metadata": {
        "id": "pM3eFZkr97E3"
      },
      "source": [
        "## 2. Inmersiones de palabras\n",
        "Otra forma habitual de asociar vectores a palabras es por medio de lo que se conocen como **inmersiones de palabras** (word embedding) o **vectorización densa**. Mientras que los vectores que se obtienen por la codificación one-hot son binarios, muy dispersos (casi todo son 0s) y de dimensión muy alta (el tamaño del vocabulario, que es fácil que alcance las decenas de miles), las inmersiones son de dimensión baja (entre 100 y 1000, aproximadamente), y con vectores de punto flotante. Además, y a difrencia del one-hot, las inmersiones se aprenden a partir de datos.\n",
        "\n",
        "Hay dos formas de obtener estas inmersiones:\n",
        "\n",
        "1. Aprenderlas junto con la tarea en la que se van a utilizar (por ejemplo, clasificación de documentos o análisis de sentimientos). Se sigue un proceso similar al que hemos visto al aprender los pesos de redes neuronales.\n",
        "2. Usando Transfer Learning, reutilizando un modelo de inmersión que ha sido pre-entrenado usando una tarea diferente de ML.\n",
        "\n",
        "Veremos con detalle estos dos métodos. "
      ]
    },
    {
      "cell_type": "markdown",
      "metadata": {
        "id": "rT7jM6fP97E3"
      },
      "source": [
        "### 2.1. Aprendizaje de inmersiones\n",
        "\n",
        "Como el objetivo es que la información semántica de las palabras se refleje en el vector asociado, la asignación aleatoria de vectores a palabras, aunque posible, no tiene ninguna utilidad.\n",
        "\n",
        "El objetivo que se persigue cuando se aprende una inmersión es que las relaciones semánticas y gramaticales existentes entre las palabras del dataset se reflejen en propiedades geométricas de los vectores. Así, dos palabras que tengan un uso/significado similar deberían asociarse a vectores cercanos.\n",
        "\n",
        "Incluso, más allá de la simple distancia, sería deseable que las direcciones vectoriales también tengan algún significado en la inmersión. Cuando hacemos inmersiones de palabras de datasets del mundo real, resulta que las direcciones se asocian a conceptos como “plural” o “género”. Por ejemplo, si sumamos el vector “femenino” al vector asociado a la palabra “rey”, deberíamos obtener el vector asociado a la palabra “reina”, o si le sumamos el vector “plural”, obtenemos el vector asociado a la palabra “reyes”.\n",
        "\n",
        "<img src=\"https://2.bp.blogspot.com/-yL_425HS2ck/WEDZLk5cq0I/AAAAAAAABcI/kwy4F4Cmfi4jyG_InIiYu6F7y2-BKTXWQCLcB/s640/embedding-mnist.gif\" />\n",
        "\n",
        "Estas características no son extrapolables a todos los problemas, y dependen de la tarea concreta que queremos resolver, así pues tiene sentido entrenar la inmersión dependiendo del tipo de tarea a resolver. Para ello Keras introduce un tipo de capa llamada *embedding*."
      ]
    },
    {
      "cell_type": "code",
      "metadata": {
        "id": "EXsRU5yj97E3"
      },
      "source": [
        "from keras.layers import Embedding\n",
        "\n",
        "# Las capas de tipo Embedding toman al menos dos argumentos:\n",
        "# el número de posibles tokens, y la dimensión de inmersión.\n",
        "embedding_layer = Embedding(1000, 64)"
      ],
      "execution_count": 4,
      "outputs": []
    },
    {
      "cell_type": "markdown",
      "metadata": {
        "id": "lzzxhTbd97E4"
      },
      "source": [
        "Una capa *embedding* actúa como un diccionario que asocia índices enteros (palabras) a vectores densos. Formalmente, toma tensores 2D de enteros de tamaño `(samples, sequence_length)`, donde una entrada es una secuencia de enteros, y devuelve un tensor 3D de punto flotante de tamaño `(samples, sequence_length, embedding_dimensionality)`. Este tensor 3D puede ser procesado por las capas adecuadas (por ejemplo, una capa RNN o 1D-convolucional, como veremos más adelante).\n",
        "\n",
        "Cuando se instancia una capa de embedding, sus pesos (diccionario interno de vectores) se inician aleatoriamente, como en cualquier otra capa. Durante el entrenamiento, estos vectores se ajustan gradualmente por medio de la retropropagación, convirtiendo el espacio de vectores en algo que el modelo puede aprovechar. Una vez entrenado, el espacio de inmersión muestra una esctructura que refleja su especialización para el problema específico para el que ha sido entrenado.\n",
        "\n",
        "Vamos a aplicar esta idea al problema de análisis de sentimientos de las opiniones de IMDB que vimos al principio del curso. Vamos a restringirnos solamente a las 10.000 palabras más frecuentes que aparecen en las opiniones, y de cada opinión nos vamos a fijar únicamente en las primeras 20 palabras. La inmersión la haremos sobre un espacio de dimensión muy pequeña, 8D (cada palabra se convierte en un vector denso de 8 posiciones), posteriormente aplanamos esta información, y se la pasamos a una capa densa simple unitaria que realizará la clasificación:"
      ]
    },
    {
      "cell_type": "code",
      "metadata": {
        "id": "LY3dz3lU97E4",
        "colab": {
          "base_uri": "https://localhost:8080/"
        },
        "outputId": "d153aeb0-28a3-4f40-d029-701db9c4a49d"
      },
      "source": [
        "from keras.datasets import imdb\n",
        "from keras import preprocessing\n",
        "\n",
        "# Número máximo de palabras a considerar como features\n",
        "max_features = 10000\n",
        "\n",
        "# Cargar los datos como listas de enteros.\n",
        "(x_train, y_train), (x_test, y_test) = imdb.load_data(num_words=max_features)\n",
        "\n",
        "# Truncaremos los textos que tengan más de `maxlen` palabras, o las rellenaremos\n",
        "# con 0s hasta alcanzar este tamaño\n",
        "max_len = 20\n",
        "\n",
        "# x_train y x_test son listas de listas de enteros. Lo siguiente convierte\n",
        "# nuestras listas de enteros en un tensor 2D de enteros `(samples, maxlen)``\n",
        "x_train = preprocessing.sequence.pad_sequences(x_train, maxlen=maxlen)\n",
        "x_test = preprocessing.sequence.pad_sequences(x_test, maxlen=maxlen)"
      ],
      "execution_count": 5,
      "outputs": [
        {
          "output_type": "stream",
          "name": "stdout",
          "text": [
            "Downloading data from https://storage.googleapis.com/tensorflow/tf-keras-datasets/imdb.npz\n",
            "17465344/17464789 [==============================] - 0s 0us/step\n",
            "17473536/17464789 [==============================] - 0s 0us/step\n"
          ]
        }
      ]
    },
    {
      "cell_type": "markdown",
      "metadata": {
        "id": "q_TThvGn97E4"
      },
      "source": [
        "Creamos el modelo con la capa de inmersión, y realizamos el entrenamiento con los datos leídos:\n",
        "![](https://github.com/miguelamda/DL/blob/master/6.%20Redes%20Recurrentes/model1_plot.png?raw=1)"
      ]
    },
    {
      "cell_type": "code",
      "metadata": {
        "colab": {
          "base_uri": "https://localhost:8080/"
        },
        "id": "Jtza5fBE97E5",
        "outputId": "f9c518db-d66a-43f5-a9c2-3c48ce75fa39"
      },
      "source": [
        "from keras.models import Sequential\n",
        "from keras.layers import Flatten, Dense\n",
        "#from keras.utils.vis_utils import plot_model\n",
        "\n",
        "model = Sequential()\n",
        "# Especificamos la longitud máxima de entrada a nuestra capa de embedding\n",
        "# para que luego podamos aplanar las entradas inmersas\n",
        "model.add(Embedding(10000, 8, input_length=max_len))\n",
        "# Después de la capa de embedding, \n",
        "# nuestras activaciones tienen forma `(samples, max_len, 8)`.\n",
        "\n",
        "# Aplanamos el tensor 3D de los embeddings\n",
        "# en un tensor de forma 2D `(muestras, max_len * 8)``\n",
        "model.add(Flatten())\n",
        "\n",
        "# Añadimos el clasificador en la parte superior\n",
        "model.add(Dense(1, activation='sigmoid'))\n",
        "model.compile(optimizer='rmsprop', loss='binary_crossentropy', metrics=['acc'])\n",
        "model.summary()\n",
        "#plot_model(model, to_file='model1_plot.png', show_shapes=True, show_layer_names=True)\n",
        "\n",
        "history = model.fit(x_train, y_train,\n",
        "                    epochs=10,\n",
        "                    batch_size=32,\n",
        "                    validation_split=0.2)"
      ],
      "execution_count": 6,
      "outputs": [
        {
          "output_type": "stream",
          "name": "stdout",
          "text": [
            "Model: \"sequential\"\n",
            "_________________________________________________________________\n",
            " Layer (type)                Output Shape              Param #   \n",
            "=================================================================\n",
            " embedding_1 (Embedding)     (None, 20, 8)             80000     \n",
            "                                                                 \n",
            " flatten (Flatten)           (None, 160)               0         \n",
            "                                                                 \n",
            " dense (Dense)               (None, 1)                 161       \n",
            "                                                                 \n",
            "=================================================================\n",
            "Total params: 80,161\n",
            "Trainable params: 80,161\n",
            "Non-trainable params: 0\n",
            "_________________________________________________________________\n",
            "Epoch 1/10\n",
            "625/625 [==============================] - 4s 4ms/step - loss: 0.6771 - acc: 0.5992 - val_loss: 0.6370 - val_acc: 0.6876\n",
            "Epoch 2/10\n",
            "625/625 [==============================] - 2s 3ms/step - loss: 0.5592 - acc: 0.7447 - val_loss: 0.5339 - val_acc: 0.7270\n",
            "Epoch 3/10\n",
            "625/625 [==============================] - 2s 3ms/step - loss: 0.4690 - acc: 0.7825 - val_loss: 0.5025 - val_acc: 0.7452\n",
            "Epoch 4/10\n",
            "625/625 [==============================] - 2s 3ms/step - loss: 0.4247 - acc: 0.8087 - val_loss: 0.4972 - val_acc: 0.7496\n",
            "Epoch 5/10\n",
            "625/625 [==============================] - 2s 3ms/step - loss: 0.3953 - acc: 0.8242 - val_loss: 0.4952 - val_acc: 0.7516\n",
            "Epoch 6/10\n",
            "625/625 [==============================] - 2s 3ms/step - loss: 0.3711 - acc: 0.8355 - val_loss: 0.4982 - val_acc: 0.7558\n",
            "Epoch 7/10\n",
            "625/625 [==============================] - 2s 3ms/step - loss: 0.3498 - acc: 0.8492 - val_loss: 0.5038 - val_acc: 0.7578\n",
            "Epoch 8/10\n",
            "625/625 [==============================] - 2s 3ms/step - loss: 0.3307 - acc: 0.8583 - val_loss: 0.5119 - val_acc: 0.7564\n",
            "Epoch 9/10\n",
            "625/625 [==============================] - 2s 3ms/step - loss: 0.3124 - acc: 0.8699 - val_loss: 0.5192 - val_acc: 0.7538\n",
            "Epoch 10/10\n",
            "625/625 [==============================] - 2s 3ms/step - loss: 0.2952 - acc: 0.8780 - val_loss: 0.5280 - val_acc: 0.7534\n"
          ]
        }
      ]
    },
    {
      "cell_type": "markdown",
      "metadata": {
        "id": "Nkd-T4ch97E5"
      },
      "source": [
        "Se consigue una precisión de validación que ronda el ~75%, lo que no está nada mal teniendo en cuenta que solo usamos 20 palabras de cada opinión (comprueba que si subes a 50, la validación alcanza el 80%). \n",
        "\n",
        "El modelo que hemos creado no es muy ajustado, ya que al poner una sola capa densa tras aplanar los datos hace que la posición que ocupa cada palabra no tenga ningún peso en el entrenamiento, y al perder la estructura de las frases se pierde la semántica y solo considera la aparición de ellas (por ejemplo, estas frases, que en inglés significan cosas muy distintas, las considera prácticamente iguales _“this movie is shit”_ y _“this movie is the shit”_). Para evitar este problema sería necesario usar una estructura de red que sí considerase la distribución espacial de las palabras, tal y como las convolucionales 2D hacen con las imágenes. Más adelante veremos cómo aplicar a este problema capas recurrentes o 1D convolucionales."
      ]
    },
    {
      "cell_type": "markdown",
      "metadata": {
        "id": "p9q8W9vR97E5"
      },
      "source": [
        "### 2.2. Uso de inmersiones preentrenadas\n",
        "\n",
        "Para obtener buenos resultados en inmersiones es necesario disponer de muchos datos, pero cuando los datos que tenemos no son suficientes podemos reusar el entrenamiento realizado en otras tareas, tal y como vimos en módulos anteriores. \n",
        "\n",
        "Al igual que las primeras capas convolucionales de una CNN preentrenada en clases genéricas reflejan relaciones generales útiles acerca de tareas de visión para muchas otras tareas, cuando tratamos con textos, si la tarea en la que se ha entrenado la inmersión no es muy subjetiva, las relaciones geométricas de los vectores de dicha inmersión reflejarán relaciones semánticas generales entre las palabras, que muy probablemente puedan ser útiles para otras tareas que usan el mismo vocabulario.\n",
        "\n",
        "Este tipo de inmersiones de palabras normalmente se contruyen a partir de estadísticas de ocurrencias de palabras (observaciones acerca de qué palabras co-ocurren en frases y documentos), usando diversas técnicas, algunas relacionadas con redes neuronales y otras que no. \n",
        "\n",
        "La idea de una inmersión de palabras densa y de baja dimensión, calculada de forma no supervisada fue inicialmente explorada por Bengio et al. a principios de los 2000, pero su uso real explotó a raíz del esquema de inmersión [Word2Vec](https://en.wikipedia.org/wiki/Word2vec), desarrollado por Mikolov en Google en 2013, que captura propiedades semánticas tales como el género, número, sinonomia, etc.\n",
        "\n",
        "Hay varias bases de datos de inmersiones preentrenadas que se pueden descargar y usar desde las capas de inmersiones de Keras. Word2Vec es una de ellas, y [GloVe (“Global Vectors for Word Representation”)](https://nlp.stanford.edu/projects/glove/) es otra, desarrollada por investigadores de Stanford en 2014, que hace uso de factorización de matrices sobre estadísticas de co-ocurrencias a partir de millones de tokens extraídos de fuentes como la Wikipedia o Common Crawl. Puedes visualizar la inmersión en un espacio tri-dimensional en esta web https://projector.tensorflow.org.\n",
        "\n",
        "Vamos a mostrar cómo usar GloVe en Keras, pero el procedimiento que seguiremos es extrapolable a Word2Vec y otras inmersiones."
      ]
    },
    {
      "cell_type": "markdown",
      "metadata": {
        "id": "2S-WxZ3n97E6"
      },
      "source": [
        "### 2.3. Del texto en bruto a las inmersiones de palabras\n",
        "\n",
        "Vamos a usar un modelo similar al anterior: \n",
        "* inmersión + \n",
        "* aplanamiento + \n",
        "* capa densa, \n",
        "\n",
        "pero esta vez usaremos una inmersión preentrenada, y en vez de usar el paquete de IMDB pre-tokenizado que proporciona Keras, haremos uso del dataset IMDB con el texto en bruto al completo."
      ]
    },
    {
      "cell_type": "markdown",
      "metadata": {
        "id": "U2QV3dQE97E7"
      },
      "source": [
        "#### Descarga de IMDB como texto\n",
        "\n",
        "El conjunto de datos sobre el que trabajaremos se puede descargar de http://ai.stanford.edu/~amaas/data/sentiment.\n",
        "\n",
        "En primer lugar, vamos a recolectar las opiniones individuales de entrenamiento como una lista de cadenas, una cadena para cada opinión, junto con las etiquetas asociadas (pos / neg) en una lista labels:"
      ]
    },
    {
      "cell_type": "code",
      "metadata": {
        "colab": {
          "base_uri": "https://localhost:8080/"
        },
        "id": "I9DjdDri_QLJ",
        "outputId": "53cfbff3-0b73-4bf3-9340-43b2d9a85db2"
      },
      "source": [
        "!wget http://ai.stanford.edu/~amaas/data/sentiment/aclImdb_v1.tar.gz\n",
        "!tar xf aclImdb_v1.tar.gz"
      ],
      "execution_count": 7,
      "outputs": [
        {
          "output_type": "stream",
          "name": "stdout",
          "text": [
            "--2022-01-24 16:34:59--  http://ai.stanford.edu/~amaas/data/sentiment/aclImdb_v1.tar.gz\n",
            "Resolving ai.stanford.edu (ai.stanford.edu)... 171.64.68.10\n",
            "Connecting to ai.stanford.edu (ai.stanford.edu)|171.64.68.10|:80... connected.\n",
            "HTTP request sent, awaiting response... 200 OK\n",
            "Length: 84125825 (80M) [application/x-gzip]\n",
            "Saving to: ‘aclImdb_v1.tar.gz’\n",
            "\n",
            "aclImdb_v1.tar.gz   100%[===================>]  80.23M  50.5MB/s    in 1.6s    \n",
            "\n",
            "2022-01-24 16:35:01 (50.5 MB/s) - ‘aclImdb_v1.tar.gz’ saved [84125825/84125825]\n",
            "\n"
          ]
        }
      ]
    },
    {
      "cell_type": "code",
      "metadata": {
        "id": "_bot8ORc97E7"
      },
      "source": [
        "import os\n",
        "\n",
        "# indica aquí la ruta a la carpeta descargada\n",
        "imdb_dir = './aclImdb/'\n",
        "train_dir = os.path.join(imdb_dir, 'train')\n",
        "\n",
        "labels = []\n",
        "texts = []\n",
        "\n",
        "for label_type in ['neg', 'pos']:\n",
        "    dir_name = os.path.join(train_dir, label_type)\n",
        "    for fname in os.listdir(dir_name):\n",
        "        if fname[-4:] == '.txt':\n",
        "            f = open(os.path.join(dir_name, fname))\n",
        "            texts.append(f.read())\n",
        "            f.close()\n",
        "            if label_type == 'neg':\n",
        "                labels.append(0)\n",
        "            else:\n",
        "                labels.append(1)"
      ],
      "execution_count": 8,
      "outputs": []
    },
    {
      "cell_type": "markdown",
      "metadata": {
        "id": "O-Vs-BV-97E7"
      },
      "source": [
        "#### Tokenizar los datos\n",
        "\n",
        "A continuación vamos a vectorizar los textos que hemos recolectado, y los dividiremos en conjunto de entrenamiento y de validación, de forma similar a como hemos hecho en ejemplos anteriores.\n",
        "\n",
        "Para poner a prueba lo buenas que son las inmersiones pre-entrenadas, vamos a trabajar sobre un conjunto de entrenamiento especialmente pequeño, y consideraremos únicamente 2000 muestras."
      ]
    },
    {
      "cell_type": "code",
      "metadata": {
        "colab": {
          "base_uri": "https://localhost:8080/"
        },
        "id": "eRBW5uwy97E8",
        "outputId": "4e0d012f-4de2-44dc-fbb4-4cb7395e5c73"
      },
      "source": [
        "from keras.preprocessing.text import Tokenizer\n",
        "from keras.preprocessing.sequence import pad_sequences\n",
        "import numpy as np\n",
        "\n",
        "maxlen = 100  # Recortaremos las críticas después de 100 palabras\n",
        "training_samples = 2000  # Estaremos entrenando con 2000 muestras\n",
        "validation_samples = 10000  # Estaremos validando con 10.000 muestras\n",
        "max_words = 10000  # Sólo consideraremos las 10.000 palabras más importantes del conjunto de datos\n",
        "\n",
        "tokenizer = Tokenizer(num_words=max_words)\n",
        "tokenizer.fit_on_texts(texts)\n",
        "sequences = tokenizer.texts_to_sequences(texts)\n",
        "\n",
        "word_index = tokenizer.word_index\n",
        "print('Encontrados %s tokens únicos.' % len(word_index))\n",
        "\n",
        "data = pad_sequences(sequences, maxlen=maxlen)\n",
        "\n",
        "labels = np.asarray(labels)\n",
        "print('Shape of data tensor:', data.shape)\n",
        "print('Shape of label tensor:', labels.shape)\n",
        "\n",
        "# Dividir los datos en un conjunto de entrenamiento y un conjunto de validación\n",
        "# Pero primero, barajar los datos, ya que empezamos a partir de los datos\n",
        "# donde se ordenan las muestras (todas negativas primero, luego todas positivas).\n",
        "indices = np.arange(data.shape[0])\n",
        "np.random.shuffle(indices)\n",
        "data = data[indices]\n",
        "labels = labels[indices]\n",
        "\n",
        "xl_train = data[:training_samples]\n",
        "yl_train = labels[:training_samples]\n",
        "xl_val = data[training_samples: training_samples + validation_samples]\n",
        "yl_val = labels[training_samples: training_samples + validation_samples]"
      ],
      "execution_count": 9,
      "outputs": [
        {
          "output_type": "stream",
          "name": "stdout",
          "text": [
            "Encontrados 88582 tokens únicos.\n",
            "Shape of data tensor: (25000, 100)\n",
            "Shape of label tensor: (25000,)\n"
          ]
        }
      ]
    },
    {
      "cell_type": "markdown",
      "metadata": {
        "id": "98Af2YpD97E8"
      },
      "source": [
        "#### Descargando GloVe\n",
        "\n",
        "Vamos a utilizar la inmersión preentrenada GloVe que ha sido creada a partir de la Wikipedia en inglés en 2014 https://nlp.stanford.edu/projects/glove/. Es un fichero de 822MB llamado `glove.6B.zip`, y contiene una imersión vectorial de 100D de 400.000 palabras."
      ]
    },
    {
      "cell_type": "markdown",
      "metadata": {
        "id": "daWYMElL97E9"
      },
      "source": [
        "#### Preprocesando la inmersión\n",
        "\n",
        "El fichero anterior es un `txt` que debe ser procesado para construir la asociación entre palabras (cadenas) y vectores."
      ]
    },
    {
      "cell_type": "code",
      "metadata": {
        "colab": {
          "base_uri": "https://localhost:8080/"
        },
        "id": "otlma854_m-_",
        "outputId": "22608d3e-9dd3-4dcf-fe75-3cf294b343c4"
      },
      "source": [
        "!wget http://nlp.stanford.edu/data/glove.6B.zip\n",
        "!unzip glove.6B.zip -d glove.6B"
      ],
      "execution_count": 10,
      "outputs": [
        {
          "output_type": "stream",
          "name": "stdout",
          "text": [
            "--2022-01-24 16:35:16--  http://nlp.stanford.edu/data/glove.6B.zip\n",
            "Resolving nlp.stanford.edu (nlp.stanford.edu)... 171.64.67.140\n",
            "Connecting to nlp.stanford.edu (nlp.stanford.edu)|171.64.67.140|:80... connected.\n",
            "HTTP request sent, awaiting response... 302 Found\n",
            "Location: https://nlp.stanford.edu/data/glove.6B.zip [following]\n",
            "--2022-01-24 16:35:16--  https://nlp.stanford.edu/data/glove.6B.zip\n",
            "Connecting to nlp.stanford.edu (nlp.stanford.edu)|171.64.67.140|:443... connected.\n",
            "HTTP request sent, awaiting response... 301 Moved Permanently\n",
            "Location: http://downloads.cs.stanford.edu/nlp/data/glove.6B.zip [following]\n",
            "--2022-01-24 16:35:17--  http://downloads.cs.stanford.edu/nlp/data/glove.6B.zip\n",
            "Resolving downloads.cs.stanford.edu (downloads.cs.stanford.edu)... 171.64.64.22\n",
            "Connecting to downloads.cs.stanford.edu (downloads.cs.stanford.edu)|171.64.64.22|:80... connected.\n",
            "HTTP request sent, awaiting response... 200 OK\n",
            "Length: 862182613 (822M) [application/zip]\n",
            "Saving to: ‘glove.6B.zip’\n",
            "\n",
            "glove.6B.zip        100%[===================>] 822.24M  5.16MB/s    in 2m 40s  \n",
            "\n",
            "2022-01-24 16:37:57 (5.13 MB/s) - ‘glove.6B.zip’ saved [862182613/862182613]\n",
            "\n",
            "Archive:  glove.6B.zip\n",
            "  inflating: glove.6B/glove.6B.50d.txt  \n",
            "  inflating: glove.6B/glove.6B.100d.txt  \n",
            "  inflating: glove.6B/glove.6B.200d.txt  \n",
            "  inflating: glove.6B/glove.6B.300d.txt  \n"
          ]
        }
      ]
    },
    {
      "cell_type": "code",
      "metadata": {
        "colab": {
          "base_uri": "https://localhost:8080/"
        },
        "id": "55I__tHa97E9",
        "outputId": "f9db5a64-ece6-499e-9d9d-09e6af2814bc"
      },
      "source": [
        "# indica aquí la ruta a la carpeta descargada\n",
        "glove_dir = 'glove.6B'\n",
        "\n",
        "embeddings_index = {}\n",
        "f = open(os.path.join(glove_dir, 'glove.6B.100d.txt'))\n",
        "for line in f:\n",
        "    values = line.split()\n",
        "    word = values[0]\n",
        "    coefs = np.asarray(values[1:], dtype='float32')\n",
        "    embeddings_index[word] = coefs\n",
        "f.close()\n",
        "\n",
        "print('Encontrados %s word vectors.' % len(embeddings_index))"
      ],
      "execution_count": 11,
      "outputs": [
        {
          "output_type": "stream",
          "name": "stdout",
          "text": [
            "Encontrados 400000 word vectors.\n"
          ]
        }
      ]
    },
    {
      "cell_type": "markdown",
      "metadata": {
        "id": "Bpd09gKr97E9"
      },
      "source": [
        "A continuación, hemos de construir la matriz que cargaremos en la capa de inmersión. Debe tener tamaño `(max_words, embedding_dim)`, donde cada entrada $i$ contiene el vector de tamaño `embedding_dim` para la palabra $i$-ésima en el índice (construido durante la tokenización). El índice 0 no se usa para ninguna palabra."
      ]
    },
    {
      "cell_type": "code",
      "metadata": {
        "id": "X_LmMUuH97E9"
      },
      "source": [
        "embedding_dim = 100\n",
        "\n",
        "embedding_matrix = np.zeros((max_words, embedding_dim))\n",
        "for word, i in word_index.items():\n",
        "    embedding_vector = embeddings_index.get(word)\n",
        "    if i < max_words:\n",
        "        if embedding_vector is not None:\n",
        "            # Las palabras no encontradas en el índice de embedding será todo cero.\n",
        "            embedding_matrix[i] = embedding_vector"
      ],
      "execution_count": 12,
      "outputs": []
    },
    {
      "cell_type": "markdown",
      "metadata": {
        "id": "v1SNiWk897E_"
      },
      "source": [
        "#### Definiendo el modelo\n",
        "\n",
        "Usaremos la misma arquitectura que en el modelo anterior:"
      ]
    },
    {
      "cell_type": "code",
      "metadata": {
        "colab": {
          "base_uri": "https://localhost:8080/"
        },
        "id": "dwVS065h97E_",
        "outputId": "f496af8d-6529-4964-8fc5-7f25779ae427"
      },
      "source": [
        "from keras.models import Sequential\n",
        "from keras.layers import Embedding, Flatten, Dense\n",
        "\n",
        "model = Sequential()\n",
        "model.add(Embedding(max_words, embedding_dim, input_length=maxlen))\n",
        "model.add(Flatten())\n",
        "model.add(Dense(32, activation='relu'))\n",
        "model.add(Dense(1, activation='sigmoid'))\n",
        "model.summary()"
      ],
      "execution_count": 13,
      "outputs": [
        {
          "output_type": "stream",
          "name": "stdout",
          "text": [
            "Model: \"sequential_1\"\n",
            "_________________________________________________________________\n",
            " Layer (type)                Output Shape              Param #   \n",
            "=================================================================\n",
            " embedding_2 (Embedding)     (None, 100, 100)          1000000   \n",
            "                                                                 \n",
            " flatten_1 (Flatten)         (None, 10000)             0         \n",
            "                                                                 \n",
            " dense_1 (Dense)             (None, 32)                320032    \n",
            "                                                                 \n",
            " dense_2 (Dense)             (None, 1)                 33        \n",
            "                                                                 \n",
            "=================================================================\n",
            "Total params: 1,320,065\n",
            "Trainable params: 1,320,065\n",
            "Non-trainable params: 0\n",
            "_________________________________________________________________\n"
          ]
        }
      ]
    },
    {
      "cell_type": "markdown",
      "metadata": {
        "id": "xnI08muo97E_"
      },
      "source": [
        "#### Cargando la inmersión GloVe en el modelo\n",
        "\n",
        "La capa de inmersión tiene una matriz simple, 2D, de coma flotante, en la que cada entrada $i$ es el vector asociado a la $i$-ésima palabra. Basta cargar la matriz GloVe que hemos preparado antes en la capa de inmersión, que es la primera del modelo:"
      ]
    },
    {
      "cell_type": "code",
      "metadata": {
        "id": "1N1RH_3B97E_"
      },
      "source": [
        "model.layers[0].set_weights([embedding_matrix])\n",
        "model.layers[0].trainable = False"
      ],
      "execution_count": 14,
      "outputs": []
    },
    {
      "cell_type": "markdown",
      "metadata": {
        "id": "z96b_c4P97FA"
      },
      "source": [
        "Además, hemos de congelar los pesos de esta capa, para que el entrenamiento posterior no modifique los vectores precargados."
      ]
    },
    {
      "cell_type": "markdown",
      "metadata": {
        "id": "h7j2OhJE97FA"
      },
      "source": [
        "#### Entrenamiento y Evaluación\n",
        "\n",
        "Compilemos y entrenemos el modelo (y lo grabamos):"
      ]
    },
    {
      "cell_type": "code",
      "metadata": {
        "colab": {
          "base_uri": "https://localhost:8080/"
        },
        "id": "BzMu1IOR97FA",
        "outputId": "34dbb621-b23c-404e-ec2f-ae02bb7ecca4"
      },
      "source": [
        "model.compile(optimizer='rmsprop',\n",
        "              loss='binary_crossentropy',\n",
        "              metrics=['acc'])\n",
        "history = model.fit(xl_train, yl_train,\n",
        "                    epochs=10,\n",
        "                    batch_size=32,\n",
        "                    validation_data=(xl_val, yl_val))\n",
        "model.save_weights('pre_trained_glove_model.h5')"
      ],
      "execution_count": 15,
      "outputs": [
        {
          "output_type": "stream",
          "name": "stdout",
          "text": [
            "Epoch 1/10\n",
            "63/63 [==============================] - 1s 15ms/step - loss: 0.8540 - acc: 0.5515 - val_loss: 0.6894 - val_acc: 0.5610\n",
            "Epoch 2/10\n",
            "63/63 [==============================] - 1s 12ms/step - loss: 0.5981 - acc: 0.6960 - val_loss: 0.6535 - val_acc: 0.6162\n",
            "Epoch 3/10\n",
            "63/63 [==============================] - 1s 13ms/step - loss: 0.5381 - acc: 0.7480 - val_loss: 0.6614 - val_acc: 0.6309\n",
            "Epoch 4/10\n",
            "63/63 [==============================] - 1s 13ms/step - loss: 0.3889 - acc: 0.8240 - val_loss: 0.8882 - val_acc: 0.5554\n",
            "Epoch 5/10\n",
            "63/63 [==============================] - 1s 14ms/step - loss: 0.3552 - acc: 0.8460 - val_loss: 1.0784 - val_acc: 0.5620\n",
            "Epoch 6/10\n",
            "63/63 [==============================] - 1s 12ms/step - loss: 0.2594 - acc: 0.8965 - val_loss: 0.7041 - val_acc: 0.6480\n",
            "Epoch 7/10\n",
            "63/63 [==============================] - 1s 12ms/step - loss: 0.2067 - acc: 0.9150 - val_loss: 0.7495 - val_acc: 0.6452\n",
            "Epoch 8/10\n",
            "63/63 [==============================] - 1s 12ms/step - loss: 0.1953 - acc: 0.9335 - val_loss: 0.7760 - val_acc: 0.6443\n",
            "Epoch 9/10\n",
            "63/63 [==============================] - 1s 12ms/step - loss: 0.1321 - acc: 0.9615 - val_loss: 0.8979 - val_acc: 0.6344\n",
            "Epoch 10/10\n",
            "63/63 [==============================] - 1s 12ms/step - loss: 0.1008 - acc: 0.9660 - val_loss: 1.4044 - val_acc: 0.5769\n"
          ]
        }
      ]
    },
    {
      "cell_type": "markdown",
      "metadata": {
        "id": "29I0MS4_97FA"
      },
      "source": [
        "Y mostramos su rendimiento:"
      ]
    },
    {
      "cell_type": "code",
      "metadata": {
        "colab": {
          "base_uri": "https://localhost:8080/",
          "height": 545
        },
        "id": "-NLPa50_97FB",
        "outputId": "f9f5a332-a0a0-4d6c-b40c-c7288489dc10"
      },
      "source": [
        "import matplotlib.pyplot as plt\n",
        "\n",
        "acc = history.history['acc']\n",
        "val_acc = history.history['val_acc']\n",
        "loss = history.history['loss']\n",
        "val_loss = history.history['val_loss']\n",
        "\n",
        "epochs = range(1, len(acc) + 1)\n",
        "\n",
        "plt.plot(epochs, acc, 'bo', label='Training acc')\n",
        "plt.plot(epochs, val_acc, 'b', label='Validation acc')\n",
        "plt.title('Training and validation accuracy')\n",
        "plt.legend()\n",
        "\n",
        "plt.figure()\n",
        "\n",
        "plt.plot(epochs, loss, 'bo', label='Training loss')\n",
        "plt.plot(epochs, val_loss, 'b', label='Validation loss')\n",
        "plt.title('Training and validation loss')\n",
        "plt.legend()\n",
        "\n",
        "plt.show()"
      ],
      "execution_count": 16,
      "outputs": [
        {
          "output_type": "display_data",
          "data": {
            "image/png": "[encoded data removed]",
            "text/plain": [
              "<Figure size 432x288 with 1 Axes>"
            ]
          },
          "metadata": {
            "needs_background": "light"
          }
        },
        {
          "output_type": "display_data",
          "data": {
            "image/png": "[encoded data removed]",
            "text/plain": [
              "<Figure size 432x288 with 1 Axes>"
            ]
          },
          "metadata": {
            "needs_background": "light"
          }
        }
      ]
    },
    {
      "cell_type": "markdown",
      "metadata": {
        "id": "CaJ8Y2F_97FB"
      },
      "source": [
        "El modelo se sobreajusta muy rápido, algo que no es extraño teniendo en cuenta el tamaño reducido del conjunto de entrenamiento. Consecuentemente, la validación tiene una alta varianza y apenas supera el 63% en el mejor de los casos.\n",
        "\n",
        "Observa que, debido a la selección aleatoria del pequeño conjunto de entrenamiento, los resultados pueden variar mucho si se vuelve a ejecutar el procedimiento.\n",
        "\n",
        "También podemos intentar realizar el entrenamiento sin haber precargado una inmersión y sin congelar la capa de inmersión. Es decir, aprendiendo la inmersión específica de la tarea que estamos llevando a cabo. Esta opción, como comentamos, suele ser mejor si se dispone de los recursos computacionales necesarios y de muchos datos, pero nosotros lo entrenamos únicamente con 2000 muestras."
      ]
    },
    {
      "cell_type": "markdown",
      "source": [
        "## 3. Usando Convolución 1D\n",
        "\n",
        "En Keras, se puede usar una convnet 1D a través de la capa `Conv1D`, que tiene una interfaz muy similar a `Conv2D`. Toma como entrada tensores 3D con forma `(samples, time, features)` y también devuelve tensores 3D de forma similar. La ventana de convolución es una ventana 1D en el eje temporal (es decir, eje 1, *time*, en el tensor de entrada).\n",
        "\n",
        "Las convnets 1D están estructuradas de la misma manera que sus versiones 2D que ya hemos utilizado en módulo 5: consisten en una pila de capas `Conv1D` y `MaxPooling1D`, terminando eventualmente en una capa de `globalPooling` o una capa `Flatten`, convirtiendo las salidas 3D en salidas 2D, permitiendo añadir una o más capas `Dense` al modelo, para hacer clasificación o regresión.\n",
        "\n",
        "Una diferencia, sin embargo, es el hecho de que podemos permitirnos el lujo de usar ventanas de convolución más grandes con convnets 1D. De hecho, con una capa de convolución 2D, una ventana de convolución 3x3 contiene vectores con `3*3 = 9` características, pero con una capa de convolución 1D, una ventana de convolución de tamaño 3 sólo contendría vectores con 3 características. De esta manera podemos permitirnos fácilmente ventanas de convolución 1D de tamaño 7 o 9.\n",
        "\n",
        "Este es nuestro ejemplo de convneto 1D para el conjunto de datos IMDB:"
      ],
      "metadata": {
        "id": "_MEvVqRFkFQx"
      }
    },
    {
      "cell_type": "code",
      "source": [
        "from keras.models import Sequential\n",
        "from keras import layers\n",
        "from tensorflow.keras import optimizers\n",
        "\n",
        "modelConv1D = Sequential()\n",
        "# Aquí podemos ver que podemos crear una capa de embedding con los pesos\n",
        "# pre-entrenados directamente en la creación de la capa\n",
        "modelConv1D.add(layers.Embedding(max_words, \n",
        "                                 embedding_dim, \n",
        "                                 input_length=maxlen,\n",
        "                                 embeddings_initializer=keras.initializers.Constant(embedding_matrix),\n",
        "                                 trainable=False))\n",
        "modelConv1D.add(layers.Conv1D(32, 7, activation='relu'))\n",
        "modelConv1D.add(layers.MaxPooling1D(5))\n",
        "modelConv1D.add(layers.Conv1D(32, 7, activation='relu'))\n",
        "modelConv1D.add(layers.GlobalMaxPooling1D())\n",
        "modelConv1D.add(layers.Dense(1))\n",
        "\n",
        "modelConv1D.summary()\n",
        "\n",
        "modelConv1D.compile(optimizer=optimizers.RMSprop(lr=1e-4),\n",
        "                    loss='binary_crossentropy',\n",
        "                   metrics=['acc'])\n",
        "history = modelConv1D.fit(xl_train, yl_train,\n",
        "                          epochs=10,\n",
        "                          batch_size=32,\n",
        "                         validation_data=(xl_val, yl_val))"
      ],
      "metadata": {
        "colab": {
          "base_uri": "https://localhost:8080/"
        },
        "id": "K1uLYefbkO4J",
        "outputId": "30707b03-7f62-4a8d-a6d8-496755d97b41"
      },
      "execution_count": 17,
      "outputs": [
        {
          "output_type": "stream",
          "name": "stdout",
          "text": [
            "Model: \"sequential_2\"\n",
            "_________________________________________________________________\n",
            " Layer (type)                Output Shape              Param #   \n",
            "=================================================================\n",
            " embedding_3 (Embedding)     (None, 100, 100)          1000000   \n",
            "                                                                 \n",
            " conv1d (Conv1D)             (None, 94, 32)            22432     \n",
            "                                                                 \n",
            " max_pooling1d (MaxPooling1D  (None, 18, 32)           0         \n",
            " )                                                               \n",
            "                                                                 \n",
            " conv1d_1 (Conv1D)           (None, 12, 32)            7200      \n",
            "                                                                 \n",
            " global_max_pooling1d (Globa  (None, 32)               0         \n",
            " lMaxPooling1D)                                                  \n",
            "                                                                 \n",
            " dense_3 (Dense)             (None, 1)                 33        \n",
            "                                                                 \n",
            "=================================================================\n",
            "Total params: 1,029,665\n",
            "Trainable params: 29,665\n",
            "Non-trainable params: 1,000,000\n",
            "_________________________________________________________________\n",
            "Epoch 1/10\n"
          ]
        },
        {
          "output_type": "stream",
          "name": "stderr",
          "text": [
            "/usr/local/lib/python3.7/dist-packages/keras/optimizer_v2/rmsprop.py:130: UserWarning: The `lr` argument is deprecated, use `learning_rate` instead.\n",
            "  super(RMSprop, self).__init__(name, **kwargs)\n"
          ]
        },
        {
          "output_type": "stream",
          "name": "stdout",
          "text": [
            "63/63 [==============================] - 10s 29ms/step - loss: 1.3167 - acc: 0.5200 - val_loss: 0.9492 - val_acc: 0.5140\n",
            "Epoch 2/10\n",
            "63/63 [==============================] - 2s 25ms/step - loss: 0.8022 - acc: 0.5585 - val_loss: 0.8257 - val_acc: 0.5325\n",
            "Epoch 3/10\n",
            "63/63 [==============================] - 1s 15ms/step - loss: 0.7351 - acc: 0.5975 - val_loss: 0.8375 - val_acc: 0.5381\n",
            "Epoch 4/10\n",
            "63/63 [==============================] - 2s 25ms/step - loss: 0.6593 - acc: 0.6185 - val_loss: 0.8243 - val_acc: 0.5392\n",
            "Epoch 5/10\n",
            "63/63 [==============================] - 1s 15ms/step - loss: 0.6325 - acc: 0.6525 - val_loss: 0.7934 - val_acc: 0.5530\n",
            "Epoch 6/10\n",
            "63/63 [==============================] - 1s 15ms/step - loss: 0.5968 - acc: 0.6965 - val_loss: 0.8237 - val_acc: 0.5632\n",
            "Epoch 7/10\n",
            "63/63 [==============================] - 2s 25ms/step - loss: 0.5579 - acc: 0.7350 - val_loss: 0.7959 - val_acc: 0.5760\n",
            "Epoch 8/10\n",
            "63/63 [==============================] - 2s 25ms/step - loss: 0.5215 - acc: 0.7685 - val_loss: 0.8735 - val_acc: 0.5821\n",
            "Epoch 9/10\n",
            "63/63 [==============================] - 2s 25ms/step - loss: 0.4825 - acc: 0.7960 - val_loss: 0.9651 - val_acc: 0.5880\n",
            "Epoch 10/10\n",
            "63/63 [==============================] - 2s 25ms/step - loss: 0.4499 - acc: 0.8195 - val_loss: 0.8587 - val_acc: 0.5977\n"
          ]
        }
      ]
    },
    {
      "cell_type": "markdown",
      "source": [
        "Veremos, cuando hagamos uso de redes recurrentes como la LSTM, que el tiempo de entrenamiento es muy alto. Sin embargo, el tiempo de ejecución de una Conv1D es más rápido, tanto en la CPU como en la GPU (aunque la velocidad exacta variará mucho dependiendo de la configuración)."
      ],
      "metadata": {
        "id": "0k3_jO_DnC8t"
      }
    },
    {
      "cell_type": "code",
      "metadata": {
        "colab": {
          "base_uri": "https://localhost:8080/",
          "height": 545
        },
        "id": "7x9RntOT97FB",
        "outputId": "6badab66-4646-4da5-87d6-58f68df66e32"
      },
      "source": [
        "acc = history.history['acc']\n",
        "val_acc = history.history['val_acc']\n",
        "loss = history.history['loss']\n",
        "val_loss = history.history['val_loss']\n",
        "\n",
        "epochs = range(1, len(acc) + 1)\n",
        "\n",
        "plt.plot(epochs, acc, 'bo', label='Training acc')\n",
        "plt.plot(epochs, val_acc, 'b', label='Validation acc')\n",
        "plt.title('Training and validation accuracy')\n",
        "plt.legend()\n",
        "\n",
        "plt.figure()\n",
        "\n",
        "plt.plot(epochs, loss, 'bo', label='Training loss')\n",
        "plt.plot(epochs, val_loss, 'b', label='Validation loss')\n",
        "plt.title('Training and validation loss')\n",
        "plt.legend()\n",
        "\n",
        "plt.show()"
      ],
      "execution_count": 18,
      "outputs": [
        {
          "output_type": "display_data",
          "data": {
            "image/png": "[encoded data removed]",
            "text/plain": [
              "<Figure size 432x288 with 1 Axes>"
            ]
          },
          "metadata": {
            "needs_background": "light"
          }
        },
        {
          "output_type": "display_data",
          "data": {
            "image/png": "[encoded data removed]",
            "text/plain": [
              "<Figure size 432x288 with 1 Axes>"
            ]
          },
          "metadata": {
            "needs_background": "light"
          }
        }
      ]
    },
    {
      "cell_type": "markdown",
      "metadata": {
        "id": "x9vQIMw797FC"
      },
      "source": [
        "Apenas conseguimos un 60% de accuracy en validación, un valor muy bajo que nos indica que en efecto trabajar con tan pocos ejemplos de entrenamiento lo convierte en una tarea dura.\n",
        "\n",
        "Vamos a intentarlo de nuevo con más ejemplos, usemos el dataset IMDB que nos provee Keras, ya pre-tokenizado. Pongamos una capa de Embedding vacía."
      ]
    },
    {
      "cell_type": "code",
      "source": [
        "modelConv1D_2 = Sequential()\n",
        "modelConv1D_2.add(layers.Embedding(max_features, output_dim=128, input_length=max_len ))\n",
        "modelConv1D_2.add(layers.Conv1D(32, 11, activation='relu'))\n",
        "modelConv1D_2.add(layers.Conv1D(16, 7, activation='relu'))\n",
        "modelConv1D_2.add(layers.GlobalMaxPooling1D())\n",
        "modelConv1D_2.add(layers.Dense(1))\n",
        "\n",
        "modelConv1D_2.summary()\n",
        "\n",
        "modelConv1D_2.compile(optimizer=optimizers.RMSprop(lr=1e-4),\n",
        "              loss='binary_crossentropy',\n",
        "              metrics=['acc'])\n",
        "history = modelConv1D_2.fit(x_train, y_train,\n",
        "                            epochs=10,\n",
        "                            batch_size=128,\n",
        "                            validation_split=0.2)"
      ],
      "metadata": {
        "colab": {
          "base_uri": "https://localhost:8080/"
        },
        "id": "3TrnHi8L7xzK",
        "outputId": "5caaae5f-3c30-4114-ca53-ce09c0e67f40"
      },
      "execution_count": 39,
      "outputs": [
        {
          "output_type": "stream",
          "name": "stdout",
          "text": [
            "Model: \"sequential_22\"\n",
            "_________________________________________________________________\n",
            " Layer (type)                Output Shape              Param #   \n",
            "=================================================================\n",
            " embedding_21 (Embedding)    (None, 20, 128)           1280000   \n",
            "                                                                 \n",
            " conv1d_31 (Conv1D)          (None, 10, 32)            45088     \n",
            "                                                                 \n",
            " conv1d_32 (Conv1D)          (None, 4, 16)             3600      \n",
            "                                                                 \n",
            " global_max_pooling1d_16 (Gl  (None, 16)               0         \n",
            " obalMaxPooling1D)                                               \n",
            "                                                                 \n",
            " dense_19 (Dense)            (None, 1)                 17        \n",
            "                                                                 \n",
            "=================================================================\n",
            "Total params: 1,328,705\n",
            "Trainable params: 1,328,705\n",
            "Non-trainable params: 0\n",
            "_________________________________________________________________\n",
            "Epoch 1/10\n"
          ]
        },
        {
          "output_type": "stream",
          "name": "stderr",
          "text": [
            "/usr/local/lib/python3.7/dist-packages/keras/optimizer_v2/rmsprop.py:130: UserWarning: The `lr` argument is deprecated, use `learning_rate` instead.\n",
            "  super(RMSprop, self).__init__(name, **kwargs)\n"
          ]
        },
        {
          "output_type": "stream",
          "name": "stdout",
          "text": [
            "157/157 [==============================] - 2s 7ms/step - loss: 0.9863 - acc: 0.5121 - val_loss: 0.6768 - val_acc: 0.5714\n",
            "Epoch 2/10\n",
            "157/157 [==============================] - 1s 6ms/step - loss: 0.6516 - acc: 0.6231 - val_loss: 0.6405 - val_acc: 0.6300\n",
            "Epoch 3/10\n",
            "157/157 [==============================] - 1s 6ms/step - loss: 0.5925 - acc: 0.6926 - val_loss: 0.5995 - val_acc: 0.6730\n",
            "Epoch 4/10\n",
            "157/157 [==============================] - 1s 6ms/step - loss: 0.5337 - acc: 0.7386 - val_loss: 0.5796 - val_acc: 0.6916\n",
            "Epoch 5/10\n",
            "157/157 [==============================] - 1s 6ms/step - loss: 0.4926 - acc: 0.7695 - val_loss: 0.5848 - val_acc: 0.7082\n",
            "Epoch 6/10\n",
            "157/157 [==============================] - 1s 5ms/step - loss: 0.4604 - acc: 0.7894 - val_loss: 0.5980 - val_acc: 0.7158\n",
            "Epoch 7/10\n",
            "157/157 [==============================] - 1s 5ms/step - loss: 0.4365 - acc: 0.8061 - val_loss: 0.6178 - val_acc: 0.7236\n",
            "Epoch 8/10\n",
            "157/157 [==============================] - 1s 6ms/step - loss: 0.4122 - acc: 0.8209 - val_loss: 0.6528 - val_acc: 0.7280\n",
            "Epoch 9/10\n",
            "157/157 [==============================] - 1s 6ms/step - loss: 0.3899 - acc: 0.8332 - val_loss: 0.6748 - val_acc: 0.7282\n",
            "Epoch 10/10\n",
            "157/157 [==============================] - 1s 5ms/step - loss: 0.3702 - acc: 0.8424 - val_loss: 0.6951 - val_acc: 0.7290\n"
          ]
        }
      ]
    },
    {
      "cell_type": "markdown",
      "source": [
        "Ahora mucho mejor. Conseguimos un rendimiento mucho mejor, similar al obtenido al comienzo de la práctica. Jugando con la arquitectura y los hiperparámetros podríamos conseguir una mejora sustancial."
      ],
      "metadata": {
        "id": "XxxFan_iFU-g"
      }
    }
  ]
}